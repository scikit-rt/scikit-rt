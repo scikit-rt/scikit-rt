{
 "cells": [
  {
   "cell_type": "code",
   "execution_count": null,
   "id": "ec921908-b157-4fc0-9a9b-c4e0967cd423",
   "metadata": {},
   "outputs": [],
   "source": [
    "from itertools import chain\n",
    "from pathlib import Path\n",
    "\n",
    "from import_analysis import ImportPatient\n",
    "\n",
    "# Define paths to patient data.\n",
    "data_dir = Path(\"~/data/20220331_import_data_selection\").expanduser()\n",
    "paths = sorted(list(chain(data_dir.glob('import_high/H*'),\n",
    "                          data_dir.glob('import_low/L*'))))"
   ]
  },
  {
   "cell_type": "code",
   "execution_count": null,
   "id": "6e16a774-4070-4a20-b789-86cbabbc0253",
   "metadata": {},
   "outputs": [],
   "source": [
    "# Load data, and calculate dose sums.\n",
    "patients = []\n",
    "for path in paths[0:]:\n",
    "    patients.append(ImportPatient(path, load_dose_sum=False))\n",
    "                \n",
    "    print(f\"{patients[-1].id} - initialisation; {patients[-1]._init_time:.2f} s; \")"
   ]
  },
  {
   "cell_type": "code",
   "execution_count": null,
   "id": "ab924690-8e1e-4809-9af3-5f2fc94d0d5d",
   "metadata": {},
   "outputs": [],
   "source": [
    "# Print information, and optionally display images, structure sets, summed dose.\n",
    "display = False\n",
    "no_ui = False\n",
    "view = \"x-y\"\n",
    "for patient in patients:\n",
    "    vmax = 60 if patient.id.startswith(\"L\") else 60\n",
    "\n",
    "    dose_sum = patient.get_dose_sum()\n",
    "    ct_plan = patient.get_ct_plan()\n",
    "    ct_relapse = patient.get_ct_relapse()\n",
    "    ss_clinical = patient.get_ss_clinical()\n",
    "    ss_plan = patient.get_ss_plan()\n",
    "    ss_relapse = patient.get_ss_relapse()\n",
    "    print(f\"\\n{patient.id} - maximum dose: {dose_sum.get_max():.2f} Gy {patient.get_dose_summation_types()}\")\n",
    "    print(f\"Plan voxel size: {ct_plan.get_voxel_size()}\")\n",
    "    print(f\"Relapse voxel size: {ct_relapse.get_voxel_size()}\")\n",
    "    print(f\"Plan ROIs: {ss_plan.get_roi_names()}\")\n",
    "    print(f\"Relapse ROIs: {ss_relapse.get_roi_names()}\")\n",
    "    print(f\"Clinical ROIs: {ss_clinical.get_roi_names()}\")\n",
    "    \n",
    "    if display:\n",
    "        ct_plan.view(images=ct_relapse, init_view=view,\n",
    "                            annotate_slice=\"yellow\",\n",
    "                            init_idx=dose_sum.get_centroid_idx(view, 0.9),\n",
    "                            dose=dose_sum, intensity=(-300, 100), colorbar=-1,\n",
    "                            colorbar_last_only=False, ytick_labels_first_only=False,\n",
    "                            dose_kwargs={\"vmin\": 0, \"vmax\": vmax},\n",
    "                            rois=[None, ss_relapse], legend=True, no_ui=no_ui)"
   ]
  },
  {
   "cell_type": "code",
   "execution_count": null,
   "id": "6983a24f-79c2-4357-bf3f-9aa85bce2007",
   "metadata": {},
   "outputs": [],
   "source": []
  }
 ],
 "metadata": {
  "kernelspec": {
   "display_name": "Python 3 (ipykernel)",
   "language": "python",
   "name": "python3"
  },
  "language_info": {
   "codemirror_mode": {
    "name": "ipython",
    "version": 3
   },
   "file_extension": ".py",
   "mimetype": "text/x-python",
   "name": "python",
   "nbconvert_exporter": "python",
   "pygments_lexer": "ipython3",
   "version": "3.8.13"
  }
 },
 "nbformat": 4,
 "nbformat_minor": 5
}
