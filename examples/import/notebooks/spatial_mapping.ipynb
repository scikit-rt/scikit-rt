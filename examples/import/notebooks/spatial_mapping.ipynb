{
 "cells": [
  {
   "cell_type": "code",
   "execution_count": null,
   "id": "ec921908-b157-4fc0-9a9b-c4e0967cd423",
   "metadata": {},
   "outputs": [],
   "source": [
    "from itertools import chain\n",
    "from pathlib import Path\n",
    "\n",
    "from import_analysis import ImportPatient\n",
    "\n",
    "# Define paths to patient data.\n",
    "data_dir = Path(\"~/data/20220331_import_data_selection\").expanduser()\n",
    "paths = sorted(list(chain(data_dir.glob('import_high/H*'),\n",
    "                          data_dir.glob('import_low/L*'))))"
   ]
  },
  {
   "cell_type": "code",
   "execution_count": null,
   "id": "6e16a774-4070-4a20-b789-86cbabbc0253",
   "metadata": {},
   "outputs": [],
   "source": [
    "# Load data, and calculate dose sums.\n",
    "patients = []\n",
    "id = None\n",
    "for path in paths[0: 1]:\n",
    "    if id and not path.match(f\"*{id}*\"):\n",
    "        continue\n",
    "    patients.append(ImportPatient(path, load_dose_sum=True, load_masks=False))\n",
    "                \n",
    "    print(f\"{patients[-1].id} - initialisation; {patients[-1]._init_time:.2f} s; \")"
   ]
  },
  {
   "cell_type": "code",
   "execution_count": null,
   "id": "ab924690-8e1e-4809-9af3-5f2fc94d0d5d",
   "metadata": {},
   "outputs": [],
   "source": [
    "# Print information, and optionally display images, structure sets, summed dose.\n",
    "display = True\n",
    "no_ui = False\n",
    "view = \"y-z\"\n",
    "for patient in patients:\n",
    "    vmax = 60 if patient.id.startswith(\"L\") else 60\n",
    "\n",
    "    dose_sum = patient.get_dose_sum()\n",
    "    ct_plan = patient.get_ct_plan()\n",
    "    ct_relapse = patient.get_ct_relapse()\n",
    "    ss_clinical = patient.get_ss_clinical()\n",
    "    ss_plan = patient.get_ss_plan()\n",
    "    ss_recurrence = patient.get_ss_recurrence()\n",
    "    ss_relapse = patient.get_ss_relapse()\n",
    "    \n",
    "    print(f\"\\n{patient.id} - maximum dose: {dose_sum.get_max():.2f} Gy {patient.get_dose_summation_types()}\")\n",
    "    print(f\"Plan voxels: {ct_plan.get_n_voxels()}\")\n",
    "    print(f\"Plan voxel size: {ct_plan.get_voxel_size()}\")\n",
    "    print(f\"Relapse voxels: {ct_relapse.get_n_voxels()}\")\n",
    "    print(f\"Relapse voxel size: {ct_relapse.get_voxel_size()}\")\n",
    "    print(f\"Plan ROIs: {ss_plan.get_roi_names()}\")\n",
    "    print(f\"Relapse ROIs: {ss_relapse.get_roi_names()}\")\n",
    "    print(f\"Recurrence ROIs: {ss_recurrence.get_roi_names()}\")\n",
    "    print(f\"Clinical ROIs: {ss_clinical.get_roi_names()}\")\n",
    "    \n",
    "    if display:\n",
    "        ct_plan.view(images=ct_relapse, init_view=view,\n",
    "                            annotate_slice=\"yellow\",\n",
    "                            init_idx=dose_sum.get_centroid_idx(view, 0.9),\n",
    "                            dose=dose_sum, intensity=(-300, 100), colorbar=-1,\n",
    "                            colorbar_last_only=False, ytick_labels_first_only=False,\n",
    "                            dose_kwargs={\"vmin\": 0, \"vmax\": vmax},\n",
    "                            rois=[None, ss_relapse + ss_recurrence], legend=True, no_ui=no_ui)"
   ]
  }
 ],
 "metadata": {
  "kernelspec": {
   "display_name": "Python 3 (ipykernel)",
   "language": "python",
   "name": "python3"
  },
  "language_info": {
   "codemirror_mode": {
    "name": "ipython",
    "version": 3
   },
   "file_extension": ".py",
   "mimetype": "text/x-python",
   "name": "python",
   "nbconvert_exporter": "python",
   "pygments_lexer": "ipython3",
   "version": "3.8.13"
  },
  "widgets": {
   "application/vnd.jupyter.widget-state+json": {
    "state": {
     "00229c4f4d724f27889b2b153f165a2c": {
      "model_module": "@jupyter-widgets/base",
      "model_module_version": "1.2.0",
      "model_name": "LayoutModel",
      "state": {}
     },
     "012ceccb49c84bdfa97d983617d4eff5": {
      "model_module": "@jupyter-widgets/base",
      "model_module_version": "1.2.0",
      "model_name": "LayoutModel",
      "state": {}
     },
     "019f3145c432498d947e1c4a1b836631": {
      "model_module": "@jupyter-widgets/controls",
      "model_module_version": "1.5.0",
      "model_name": "VBoxModel",
      "state": {
       "children": [
        "IPY_MODEL_5e4aed4f161d43988c2ea2b21abee721"
       ],
       "layout": "IPY_MODEL_3892b2e8ecb64080b23db1b43b053bc7"
      }
     },
     "03ee72aa2eca4bf4bc1723617c0fde06": {
      "model_module": "@jupyter-widgets/controls",
      "model_module_version": "1.5.0",
      "model_name": "DropdownModel",
      "state": {
       "_options_labels": [
        "quiver",
        "grid",
        "x-displacement",
        "y-displacement",
        "z-displacement",
        "3d-displacement",
        "none"
       ],
       "description": "Deformation field",
       "index": 0,
       "layout": "IPY_MODEL_f5ed0f0efef54994b679bb9926284ea5",
       "style": "IPY_MODEL_ff1777a02d334a248ebf0ce3fe04705c"
      }
     },
     "05bee85be96d4cafb16b32a90fc35ce8": {
      "model_module": "@jupyter-widgets/base",
      "model_module_version": "1.2.0",
      "model_name": "LayoutModel",
      "state": {}
     },
     "0932c103314a4745aa8a6aa597cd5b44": {
      "model_module": "@jupyter-widgets/base",
      "model_module_version": "1.2.0",
      "model_name": "LayoutModel",
      "state": {}
     },
     "0ac247078b7048729db377a7ab174895": {
      "model_module": "@jupyter-widgets/controls",
      "model_module_version": "1.5.0",
      "model_name": "SliderStyleModel",
      "state": {
       "description_width": "initial"
      }
     },
     "0c163179ac774ecdb3350ecf0bbd1fe2": {
      "model_module": "@jupyter-widgets/controls",
      "model_module_version": "1.5.0",
      "model_name": "VBoxModel",
      "state": {
       "children": [
        "IPY_MODEL_5b08a9559a534324ad5711c1ec167d99"
       ],
       "layout": "IPY_MODEL_19f3009264794772bb96f4d44b91a47f"
      }
     },
     "0d9102e828fe463fac809ef22c3ef230": {
      "model_module": "@jupyter-widgets/base",
      "model_module_version": "1.2.0",
      "model_name": "LayoutModel",
      "state": {}
     },
     "0e731c39c2574263927f35fcfa72a302": {
      "model_module": "@jupyter-widgets/controls",
      "model_module_version": "1.5.0",
      "model_name": "HBoxModel",
      "state": {
       "children": [
        "IPY_MODEL_2a05d85584fa463f8230b4d4e0b2241d",
        "IPY_MODEL_fed91f2006d6488f8e3b5655a0726896"
       ],
       "layout": "IPY_MODEL_72602382d7d64b50a4df113342e57316"
      }
     },
     "14be6acc45f84061a05fbf400bfccd5d": {
      "model_module": "@jupyter-widgets/controls",
      "model_module_version": "1.5.0",
      "model_name": "VBoxModel",
      "state": {
       "children": [
        "IPY_MODEL_f18c81a8d2194239b346287e60273f9e"
       ],
       "layout": "IPY_MODEL_00229c4f4d724f27889b2b153f165a2c"
      }
     },
     "1781a80a70f64c81a61cbb94735df5ef": {
      "model_module": "@jupyter-widgets/base",
      "model_module_version": "1.2.0",
      "model_name": "LayoutModel",
      "state": {
       "height": "100%"
      }
     },
     "179b3350bd4c47fdaa980715d4158ac1": {
      "model_module": "@jupyter-widgets/base",
      "model_module_version": "1.2.0",
      "model_name": "LayoutModel",
      "state": {}
     },
     "186607bbc7084215b52e6005a81a8eda": {
      "model_module": "@jupyter-widgets/base",
      "model_module_version": "1.2.0",
      "model_name": "LayoutModel",
      "state": {}
     },
     "188c0350d0114bfa930072580094689c": {
      "model_module": "@jupyter-widgets/controls",
      "model_module_version": "1.5.0",
      "model_name": "SliderStyleModel",
      "state": {
       "description_width": "initial"
      }
     },
     "19f3009264794772bb96f4d44b91a47f": {
      "model_module": "@jupyter-widgets/base",
      "model_module_version": "1.2.0",
      "model_name": "LayoutModel",
      "state": {}
     },
     "1bc91c50c24f4967b0b3ed1e1d2b7bbe": {
      "model_module": "@jupyter-widgets/base",
      "model_module_version": "1.2.0",
      "model_name": "LayoutModel",
      "state": {}
     },
     "1eb2fb6c67244cc6b9b90eafd8bbe16d": {
      "model_module": "@jupyter-widgets/controls",
      "model_module_version": "1.5.0",
      "model_name": "FloatSliderModel",
      "state": {
       "continuous_update": false,
       "description": "Deformation-field opacity",
       "layout": "IPY_MODEL_05bee85be96d4cafb16b32a90fc35ce8",
       "max": 1,
       "step": 0.05,
       "style": "IPY_MODEL_4242b540cf554fcabd4c7f14faf1bad4",
       "value": 0.5
      }
     },
     "1f2d7d3889d046a3a9a536b74f24e396": {
      "model_module": "@jupyter-widgets/controls",
      "model_module_version": "1.5.0",
      "model_name": "FloatSliderModel",
      "state": {
       "continuous_update": false,
       "description": "Deformation-field spacing",
       "layout": "IPY_MODEL_d5ff270aa186412295f739c5370ae4ec",
       "max": 30,
       "min": 5,
       "readout_format": ".0f",
       "style": "IPY_MODEL_5929f07bbfdf4d1bbc0868f7d4969fb9",
       "value": 30
      }
     },
     "2517463af7944fc39a2d46a81b5e7da9": {
      "model_module": "@jupyter-widgets/controls",
      "model_module_version": "1.5.0",
      "model_name": "DescriptionStyleModel",
      "state": {
       "description_width": ""
      }
     },
     "251e8cc8b89b4354aa9a64be6c516ed3": {
      "model_module": "@jupyter-widgets/controls",
      "model_module_version": "1.5.0",
      "model_name": "FloatSliderModel",
      "state": {
       "continuous_update": false,
       "description": "Zoom",
       "layout": "IPY_MODEL_3ee70701be864bf196ec307bc2ee1d5d",
       "max": 8,
       "min": 1,
       "readout_format": ".1f",
       "step": 0.1,
       "style": "IPY_MODEL_a803d850e9924625b7e7dc61524f0fe6",
       "value": 1
      }
     },
     "25b7f8522bfe491da113c5a7cf6b8ffe": {
      "model_module": "@jupyter-widgets/controls",
      "model_module_version": "1.5.0",
      "model_name": "DescriptionStyleModel",
      "state": {
       "description_width": ""
      }
     },
     "27006ffab69a4ef58cf985c7de342550": {
      "model_module": "@jupyter-widgets/base",
      "model_module_version": "1.2.0",
      "model_name": "LayoutModel",
      "state": {}
     },
     "2a05d85584fa463f8230b4d4e0b2241d": {
      "model_module": "@jupyter-widgets/controls",
      "model_module_version": "1.5.0",
      "model_name": "VBoxModel",
      "state": {
       "children": [
        "IPY_MODEL_f18c81a8d2194239b346287e60273f9e",
        "IPY_MODEL_33781068cd914cbca560b3a198b22144",
        "IPY_MODEL_e4e7556333784cb393caad84ea56891f"
       ],
       "layout": "IPY_MODEL_553224d003134ae29c56cd7c2fee5a92"
      }
     },
     "2bb809dbb7f649d9b3771399478bd32d": {
      "model_module": "@jupyter-widgets/controls",
      "model_module_version": "1.5.0",
      "model_name": "SliderStyleModel",
      "state": {
       "description_width": "initial"
      }
     },
     "2f4671ef5a5d43dc925d9c298b4b5c22": {
      "model_module": "@jupyter-widgets/base",
      "model_module_version": "1.2.0",
      "model_name": "LayoutModel",
      "state": {}
     },
     "31ca201409ec4f81870bd94f8a1dbcb6": {
      "model_module": "@jupyter-widgets/base",
      "model_module_version": "1.2.0",
      "model_name": "LayoutModel",
      "state": {}
     },
     "31f896c26dca41d2a7c077885c1871af": {
      "model_module": "@jupyter-widgets/controls",
      "model_module_version": "1.5.0",
      "model_name": "DropdownModel",
      "state": {
       "_options_labels": [
        "overlay",
        "chequerboard"
       ],
       "description": "Comparison",
       "index": 0,
       "layout": "IPY_MODEL_b7a472b187ea4588a66af5906a36e010",
       "style": "IPY_MODEL_f09b0411ebce4d079ede39bbba73e7a5"
      }
     },
     "32b12d3beec7401c98397b581429a9e1": {
      "model_module": "@jupyter-widgets/controls",
      "model_module_version": "1.5.0",
      "model_name": "DescriptionStyleModel",
      "state": {
       "description_width": ""
      }
     },
     "3342e35cafe8488bb6b0a3437e72b071": {
      "model_module": "@jupyter-widgets/controls",
      "model_module_version": "1.5.0",
      "model_name": "SliderStyleModel",
      "state": {
       "description_width": "initial"
      }
     },
     "33781068cd914cbca560b3a198b22144": {
      "model_module": "@jupyter-widgets/controls",
      "model_module_version": "1.5.0",
      "model_name": "IntRangeSliderModel",
      "state": {
       "_model_name": "IntRangeSliderModel",
       "_view_name": "IntRangeSliderView",
       "continuous_update": false,
       "description": "Intensity range",
       "layout": "IPY_MODEL_31ca201409ec4f81870bd94f8a1dbcb6",
       "max": 2000,
       "min": -2000,
       "style": "IPY_MODEL_d88bdbaf126f47d59019a57c07ea017b",
       "value": [
        -300,
        100
       ]
      }
     },
     "347e1e24bc924c829fe89c5bd93e92f6": {
      "model_module": "@jupyter-widgets/controls",
      "model_module_version": "1.5.0",
      "model_name": "HBoxModel",
      "state": {
       "children": [
        "IPY_MODEL_49771e8906f14cba8c781c4e26f0745e",
        "IPY_MODEL_e7de36fca0b6411999005e296c76db38"
       ],
       "layout": "IPY_MODEL_0932c103314a4745aa8a6aa597cd5b44"
      }
     },
     "35de05427b794dbe9d25dc040587f5af": {
      "model_module": "@jupyter-widgets/controls",
      "model_module_version": "1.5.0",
      "model_name": "HBoxModel",
      "state": {
       "children": [
        "IPY_MODEL_3b77bb6068bf4b0b9c0c76c05c768e44",
        "IPY_MODEL_e69a9ce6f10f4977bfa3b7464ada02fa"
       ],
       "layout": "IPY_MODEL_e5c99fd253d74d33bd9032720774c264"
      }
     },
     "36f9d1fdb44b4e7ba0fa7f29f6a45693": {
      "model_module": "@jupyter-widgets/controls",
      "model_module_version": "1.5.0",
      "model_name": "FloatSliderModel",
      "state": {
       "continuous_update": false,
       "description": "Opacity",
       "disabled": true,
       "layout": "IPY_MODEL_96329706a5f449c089b34f941262d424",
       "max": 1,
       "step": 0.1,
       "style": "IPY_MODEL_b9f17071b66146e286e2d2dbe1ae44f3"
      }
     },
     "36fefca4b44f46ea9b349230f251e7ae": {
      "model_module": "@jupyter-widgets/base",
      "model_module_version": "1.2.0",
      "model_name": "LayoutModel",
      "state": {}
     },
     "3892b2e8ecb64080b23db1b43b053bc7": {
      "model_module": "@jupyter-widgets/base",
      "model_module_version": "1.2.0",
      "model_name": "LayoutModel",
      "state": {}
     },
     "390d0e661e254447b15bc03a20528d66": {
      "model_module": "@jupyter-widgets/controls",
      "model_module_version": "1.5.0",
      "model_name": "DescriptionStyleModel",
      "state": {
       "description_width": ""
      }
     },
     "393aca05f2fb4c50b3ba9f15b5bc5290": {
      "model_module": "@jupyter-widgets/controls",
      "model_module_version": "1.5.0",
      "model_name": "ToggleButtonModel",
      "state": {
       "description": "Show all ROIs",
       "layout": "IPY_MODEL_959dc0e2b9014a839bbf1ea981f91caf",
       "style": "IPY_MODEL_b17bde2fe4d8413eb64f223ca599febc"
      }
     },
     "39c7f035586348d098c6872e995cabdb": {
      "model_module": "@jupyter-widgets/controls",
      "model_module_version": "1.5.0",
      "model_name": "VBoxModel",
      "state": {
       "layout": "IPY_MODEL_57622ac2040448998b04a8226209a225"
      }
     },
     "3b77bb6068bf4b0b9c0c76c05c768e44": {
      "model_module": "@jupyter-widgets/controls",
      "model_module_version": "1.5.0",
      "model_name": "TextModel",
      "state": {
       "description": "Save plot as:",
       "layout": "IPY_MODEL_a2b17ed7bf46453bb4eabb68f8623e97",
       "style": "IPY_MODEL_f3f83af1ded9440b8edac335ec8401c1"
      }
     },
     "3be5f0b79f29460c830b778abf2499fb": {
      "model_module": "@jupyter-widgets/controls",
      "model_module_version": "1.5.0",
      "model_name": "ButtonModel",
      "state": {
       "description": "Reset zoom",
       "layout": "IPY_MODEL_66a0ebfc89df4df89d88c1e5c9195642",
       "style": "IPY_MODEL_588dffdebdec4512a3e71839ad439261"
      }
     },
     "3c9fba03eba44879bbdfc10c46d0e4ad": {
      "model_module": "@jupyter-widgets/base",
      "model_module_version": "1.2.0",
      "model_name": "LayoutModel",
      "state": {}
     },
     "3ee70701be864bf196ec307bc2ee1d5d": {
      "model_module": "@jupyter-widgets/base",
      "model_module_version": "1.2.0",
      "model_name": "LayoutModel",
      "state": {}
     },
     "4023393667234fc186109a4ba437a1fb": {
      "model_module": "@jupyter-widgets/controls",
      "model_module_version": "1.5.0",
      "model_name": "VBoxModel",
      "state": {
       "children": [
        "IPY_MODEL_42a99a9a4cc94afab9728953522ac65d",
        "IPY_MODEL_652cc0b43a854ae6845a837daf9dd154",
        "IPY_MODEL_6e312640132d4b2e897bfabda96b190c",
        "IPY_MODEL_36f9d1fdb44b4e7ba0fa7f29f6a45693",
        "IPY_MODEL_393aca05f2fb4c50b3ba9f15b5bc5290",
        "IPY_MODEL_84e0f734372c45d4803a70039c44adb6"
       ],
       "layout": "IPY_MODEL_96370dd966ba4ed3a00bb06be3545fbe"
      }
     },
     "4242b540cf554fcabd4c7f14faf1bad4": {
      "model_module": "@jupyter-widgets/controls",
      "model_module_version": "1.5.0",
      "model_name": "SliderStyleModel",
      "state": {
       "description_width": "initial"
      }
     },
     "428d7a66867048db80a62cbf00be0a09": {
      "model_module": "@jupyter-widgets/controls",
      "model_module_version": "1.5.0",
      "model_name": "SliderStyleModel",
      "state": {
       "description_width": ""
      }
     },
     "42a99a9a4cc94afab9728953522ac65d": {
      "model_module": "@jupyter-widgets/controls",
      "model_module_version": "1.5.0",
      "model_name": "FloatSliderModel",
      "state": {
       "continuous_update": false,
       "description": "Dose opacity",
       "layout": "IPY_MODEL_b80074ff7aa74884bd50acc7b3dd1131",
       "max": 1,
       "step": 0.05,
       "style": "IPY_MODEL_b4645e26d97144a59448ad4bb92206b2",
       "value": 0.5
      }
     },
     "43c5bc00bbec4721874a8dbf883b84c8": {
      "model_module": "@jupyter-widgets/controls",
      "model_module_version": "1.5.0",
      "model_name": "DropdownModel",
      "state": {
       "_options_labels": [
        "",
        "relapse_carina",
        "relapse_spinal_canal",
        "relapse_sternum",
        "recurrence"
       ],
       "description": "Jump to",
       "index": 0,
       "layout": "IPY_MODEL_ca4b37bedda043f598deb0c27e25f4c3",
       "style": "IPY_MODEL_8a6611611d1a4ec289a138f168b668f7"
      }
     },
     "4403d3eec29844238c52f7bfd36261c1": {
      "model_module": "@jupyter-widgets/controls",
      "model_module_version": "1.5.0",
      "model_name": "CheckboxModel",
      "state": {
       "description": "Plot consensus",
       "disabled": false,
       "layout": "IPY_MODEL_f76cb646e12248d0aa128f49b778e19c",
       "style": "IPY_MODEL_663eb34512044e7dbcffbde18a5205b1",
       "value": true
      }
     },
     "457075d505de415da0ddcaeb8ac68580": {
      "model_module": "@jupyter-widgets/controls",
      "model_module_version": "1.5.0",
      "model_name": "VBoxModel",
      "state": {
       "children": [
        "IPY_MODEL_fed52acc95b740af922d29564b70769f"
       ],
       "layout": "IPY_MODEL_826899a2dd2e4b4c81d8ce617a99350a"
      }
     },
     "4619ca55f4014be6975a81f7a502daa8": {
      "model_module": "@jupyter-widgets/controls",
      "model_module_version": "1.5.0",
      "model_name": "DescriptionStyleModel",
      "state": {
       "description_width": ""
      }
     },
     "46c648f3d07e48a38655bb10abfc134b": {
      "model_module": "@jupyter-widgets/controls",
      "model_module_version": "1.5.0",
      "model_name": "HTMLModel",
      "state": {
       "layout": "IPY_MODEL_5a9d29f9dec040858b71ec003c2f0620",
       "style": "IPY_MODEL_32b12d3beec7401c98397b581429a9e1",
       "value": "\n        <head>\n            <style>\n                th, td {\n                    padding: 2px 2px;\n                }\n                th {\n                    background-color: transparent;\n                    text-align: center;\n                }\n            </style>\n        </head>\n    <table border=\"1\" class=\"dataframe\">\n  <thead>\n    <tr style=\"text-align: right;\">\n    </tr>\n  </thead>\n  <tbody>\n  </tbody>\n</table>"
      }
     },
     "47889e7437d14ac59648d7de7852be98": {
      "model_module": "@jupyter-widgets/controls",
      "model_module_version": "1.5.0",
      "model_name": "VBoxModel",
      "state": {
       "children": [
        "IPY_MODEL_5b08a9559a534324ad5711c1ec167d99",
        "IPY_MODEL_fed52acc95b740af922d29564b70769f",
        "IPY_MODEL_347e1e24bc924c829fe89c5bd93e92f6"
       ],
       "layout": "IPY_MODEL_b0875ea01a8643ddb5d4dc4385d1b0e6"
      }
     },
     "49771e8906f14cba8c781c4e26f0745e": {
      "model_module": "@jupyter-widgets/controls",
      "model_module_version": "1.5.0",
      "model_name": "TextModel",
      "state": {
       "description": "Save plot as:",
       "layout": "IPY_MODEL_954e35c67c8948648e90b696d23f1d02",
       "style": "IPY_MODEL_ca85192fc17a4b03a95ef1593856a1b3"
      }
     },
     "4b7e301cb3bf434e8026acc658f0c950": {
      "model_module": "@jupyter-widgets/base",
      "model_module_version": "1.2.0",
      "model_name": "LayoutModel",
      "state": {}
     },
     "4d5755b772814010a85117da3917a92f": {
      "model_module": "@jupyter-widgets/base",
      "model_module_version": "1.2.0",
      "model_name": "LayoutModel",
      "state": {}
     },
     "4f3bb3cb73b249c992fd7159778701e9": {
      "model_module": "@jupyter-widgets/base",
      "model_module_version": "1.2.0",
      "model_name": "LayoutModel",
      "state": {}
     },
     "4fede8d1211d48be9ec000ddb5bc0c44": {
      "model_module": "@jupyter-widgets/base",
      "model_module_version": "1.2.0",
      "model_name": "LayoutModel",
      "state": {
       "width": "-240.84955752212397px"
      }
     },
     "523afef04e2d43f0833edd9207f1d7e2": {
      "model_module": "@jupyter-widgets/controls",
      "model_module_version": "1.5.0",
      "model_name": "DescriptionStyleModel",
      "state": {
       "description_width": "initial"
      }
     },
     "52c227f3992843569daa4e852ca51545": {
      "model_module": "@jupyter-widgets/controls",
      "model_module_version": "1.5.0",
      "model_name": "DescriptionStyleModel",
      "state": {
       "description_width": ""
      }
     },
     "542282a80ecf4062a283424eaccfd5ef": {
      "model_module": "@jupyter-widgets/controls",
      "model_module_version": "1.5.0",
      "model_name": "DescriptionStyleModel",
      "state": {
       "description_width": ""
      }
     },
     "553224d003134ae29c56cd7c2fee5a92": {
      "model_module": "@jupyter-widgets/base",
      "model_module_version": "1.2.0",
      "model_name": "LayoutModel",
      "state": {}
     },
     "57622ac2040448998b04a8226209a225": {
      "model_module": "@jupyter-widgets/base",
      "model_module_version": "1.2.0",
      "model_name": "LayoutModel",
      "state": {}
     },
     "588dffdebdec4512a3e71839ad439261": {
      "model_module": "@jupyter-widgets/controls",
      "model_module_version": "1.5.0",
      "model_name": "ButtonStyleModel",
      "state": {}
     },
     "5906d8e5649d473aa908127f9cda318d": {
      "model_module": "@jupyter-widgets/base",
      "model_module_version": "1.2.0",
      "model_name": "LayoutModel",
      "state": {
       "height": "100%"
      }
     },
     "59072146ac214121b7b7393be10c7905": {
      "model_module": "@jupyter-widgets/base",
      "model_module_version": "1.2.0",
      "model_name": "LayoutModel",
      "state": {}
     },
     "5929f07bbfdf4d1bbc0868f7d4969fb9": {
      "model_module": "@jupyter-widgets/controls",
      "model_module_version": "1.5.0",
      "model_name": "SliderStyleModel",
      "state": {
       "description_width": "initial"
      }
     },
     "5a9d29f9dec040858b71ec003c2f0620": {
      "model_module": "@jupyter-widgets/base",
      "model_module_version": "1.2.0",
      "model_name": "LayoutModel",
      "state": {}
     },
     "5b08a9559a534324ad5711c1ec167d99": {
      "model_module": "@jupyter-widgets/controls",
      "model_module_version": "1.5.0",
      "model_name": "HBoxModel",
      "state": {
       "children": [
        "IPY_MODEL_46c648f3d07e48a38655bb10abfc134b",
        "IPY_MODEL_019f3145c432498d947e1c4a1b836631"
       ],
       "layout": "IPY_MODEL_ff70686b7c724379b2d8bfdd56e89a00"
      }
     },
     "5dd58885202d4a4cb983bdd66c4ecb58": {
      "model_module": "@jupyter-widgets/base",
      "model_module_version": "1.2.0",
      "model_name": "LayoutModel",
      "state": {}
     },
     "5e4aed4f161d43988c2ea2b21abee721": {
      "model_module": "@jupyter-widgets/controls",
      "model_module_version": "1.5.0",
      "model_name": "HTMLModel",
      "state": {
       "layout": "IPY_MODEL_7e701f0b00d2482380ff0ce3bc1be7b4",
       "style": "IPY_MODEL_390d0e661e254447b15bc03a20528d66",
       "value": "&nbsp;"
      }
     },
     "5ef8789979bf45ea96a11e7e9eec9b65": {
      "model_module": "@jupyter-widgets/base",
      "model_module_version": "1.2.0",
      "model_name": "LayoutModel",
      "state": {
       "height": "100%"
      }
     },
     "6057342da59b4494ab02ec1d811ff0b2": {
      "model_module": "@jupyter-widgets/controls",
      "model_module_version": "1.5.0",
      "model_name": "HBoxModel",
      "state": {
       "children": [
        "IPY_MODEL_eec750eaa111458cb4bf9b3d7c4f340e",
        "IPY_MODEL_39c7f035586348d098c6872e995cabdb"
       ],
       "layout": "IPY_MODEL_8ebb0e99c88f4ba7ad8a0e2db280a246"
      }
     },
     "62c84eb4217e4aa6bd6de47723d40c9d": {
      "model_module": "@jupyter-widgets/controls",
      "model_module_version": "1.5.0",
      "model_name": "FloatRangeSliderModel",
      "state": {
       "_model_name": "FloatRangeSliderModel",
       "_view_name": "FloatRangeSliderView",
       "continuous_update": false,
       "description": "Jacobian range",
       "layout": "IPY_MODEL_73a7cc3c6d80496b86078e523079a09a",
       "max": 2,
       "min": -1,
       "readout_format": ".1f",
       "step": 0.1,
       "style": "IPY_MODEL_e5c5630ae8b047eab335dc4f4524d5ae",
       "value": [
        -0.25,
        1.25
       ]
      }
     },
     "6449bdf2ec6248f9a25fa4a236a4d3b1": {
      "model_module": "@jupyter-widgets/base",
      "model_module_version": "1.2.0",
      "model_name": "LayoutModel",
      "state": {}
     },
     "64d97e065ce3453bbd8afd8b7b7717f7": {
      "model_module": "@jupyter-widgets/base",
      "model_module_version": "1.2.0",
      "model_name": "LayoutModel",
      "state": {}
     },
     "652cc0b43a854ae6845a837daf9dd154": {
      "model_module": "@jupyter-widgets/controls",
      "model_module_version": "1.5.0",
      "model_name": "DropdownModel",
      "state": {
       "_options_labels": [
        "contour",
        "mask",
        "filled",
        "centroid",
        "filled centroid",
        "none"
       ],
       "description": "ROI plotting",
       "index": 0,
       "layout": "IPY_MODEL_70b816eae4284a4fa6c0d7385bad3ed3",
       "style": "IPY_MODEL_b1fa6e15bf804daebda5369a85a7bc9b"
      }
     },
     "663eb34512044e7dbcffbde18a5205b1": {
      "model_module": "@jupyter-widgets/controls",
      "model_module_version": "1.5.0",
      "model_name": "DescriptionStyleModel",
      "state": {
       "description_width": ""
      }
     },
     "66a0ebfc89df4df89d88c1e5c9195642": {
      "model_module": "@jupyter-widgets/base",
      "model_module_version": "1.2.0",
      "model_name": "LayoutModel",
      "state": {}
     },
     "66b36b74f02442e3b2801246719539c3": {
      "model_module": "@jupyter-widgets/controls",
      "model_module_version": "1.5.0",
      "model_name": "IntRangeSliderModel",
      "state": {
       "_model_name": "IntRangeSliderModel",
       "_view_name": "IntRangeSliderView",
       "continuous_update": false,
       "description": "Intensity range",
       "layout": "IPY_MODEL_82a0cc2bd8154049b985c4ca8d49805a",
       "max": 2000,
       "min": -2000,
       "style": "IPY_MODEL_2bb809dbb7f649d9b3771399478bd32d",
       "value": [
        -300,
        100
       ]
      }
     },
     "67f70d9a4b424696bc8bd36753b6939e": {
      "model_module": "@jupyter-widgets/base",
      "model_module_version": "1.2.0",
      "model_name": "LayoutModel",
      "state": {}
     },
     "6e312640132d4b2e897bfabda96b190c": {
      "model_module": "@jupyter-widgets/controls",
      "model_module_version": "1.5.0",
      "model_name": "IntSliderModel",
      "state": {
       "continuous_update": false,
       "description": "Linewidth",
       "layout": "IPY_MODEL_8ea81e2ed8224030a496d3ba629fda57",
       "max": 8,
       "min": 1,
       "style": "IPY_MODEL_188c0350d0114bfa930072580094689c",
       "value": 2
      }
     },
     "70b816eae4284a4fa6c0d7385bad3ed3": {
      "model_module": "@jupyter-widgets/base",
      "model_module_version": "1.2.0",
      "model_name": "LayoutModel",
      "state": {}
     },
     "72602382d7d64b50a4df113342e57316": {
      "model_module": "@jupyter-widgets/base",
      "model_module_version": "1.2.0",
      "model_name": "LayoutModel",
      "state": {}
     },
     "72f191af26ee492d8b878d4c80a06345": {
      "model_module": "@jupyter-widgets/controls",
      "model_module_version": "1.5.0",
      "model_name": "FloatSliderModel",
      "state": {
       "continuous_update": false,
       "description": "Jacobian opacity",
       "layout": "IPY_MODEL_85cc49fae5e641678f5426e80feb7de5",
       "max": 1,
       "step": 0.05,
       "style": "IPY_MODEL_f6d5ca33377342eab64a17b23460bc40",
       "value": 0.8
      }
     },
     "73a7cc3c6d80496b86078e523079a09a": {
      "model_module": "@jupyter-widgets/base",
      "model_module_version": "1.2.0",
      "model_name": "LayoutModel",
      "state": {}
     },
     "74182d3db8314162b84a98cbd86c20be": {
      "model_module": "@jupyter-widgets/controls",
      "model_module_version": "1.5.0",
      "model_name": "CheckboxModel",
      "state": {
       "disabled": false,
       "indent": false,
       "layout": "IPY_MODEL_5906d8e5649d473aa908127f9cda318d",
       "style": "IPY_MODEL_a879be8d862e4c4080b0337f52975874",
       "value": true
      }
     },
     "743bdcc4abea44bfa96f5085a72aa17a": {
      "model_module": "@jupyter-widgets/base",
      "model_module_version": "1.2.0",
      "model_name": "LayoutModel",
      "state": {}
     },
     "7571994edb774da685ba8e7772a2e53c": {
      "model_module": "@jupyter-widgets/controls",
      "model_module_version": "1.5.0",
      "model_name": "HTMLModel",
      "state": {
       "layout": "IPY_MODEL_3c9fba03eba44879bbdfc10c46d0e4ad",
       "style": "IPY_MODEL_bdc5ef03d11e4f0ea6acc949a8cdc73f",
       "value": "&nbsp;"
      }
     },
     "75bbe55574c94ebc97af762c685c090f": {
      "model_module": "@jupyter-widgets/controls",
      "model_module_version": "1.5.0",
      "model_name": "FloatSliderModel",
      "state": {
       "continuous_update": false,
       "description": "Grid opacity",
       "layout": "IPY_MODEL_939dc0304b264b62966f1658f6c1b18c",
       "max": 1,
       "step": 0.05,
       "style": "IPY_MODEL_839ce03a6d9740908f399d35a010a295",
       "value": 1
      }
     },
     "75e98283354347b89c14493f1dc2d9e4": {
      "model_module": "@jupyter-widgets/controls",
      "model_module_version": "1.5.0",
      "model_name": "FloatSliderModel",
      "state": {
       "continuous_update": false,
       "description": "x centre  (mm)",
       "layout": "IPY_MODEL_86cdb9c25ff647ea80f782760cecdcf9",
       "max": 160.1689453125,
       "min": -178.1689453125,
       "readout_format": ".1f",
       "style": "IPY_MODEL_d3bc68fde4904438aae35f1ac0712163",
       "value": -9
      }
     },
     "7798b6743cdd4296a921122cf312e7b6": {
      "model_module": "@jupyter-widgets/controls",
      "model_module_version": "1.5.0",
      "model_name": "DescriptionStyleModel",
      "state": {
       "description_width": "initial"
      }
     },
     "77e0690c16e040dea4032da117ee6d55": {
      "model_module": "@jupyter-widgets/output",
      "model_module_version": "1.0.0",
      "model_name": "OutputModel",
      "state": {
       "layout": "IPY_MODEL_7de2840b9f9948fbb1b7f35259699d66",
       "outputs": [
        {
         "data": {
          "image/png": "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\n",
          "text/plain": "<Figure size 2270.87x432 with 3 Axes>"
         },
         "metadata": {
          "needs_background": "light"
         },
         "output_type": "display_data"
        }
       ]
      }
     },
     "79029bdd7b714b82bb2e7a4b437f0cf8": {
      "model_module": "@jupyter-widgets/controls",
      "model_module_version": "1.5.0",
      "model_name": "ButtonStyleModel",
      "state": {}
     },
     "7cd31bda458549ab80b9a6a36becce59": {
      "model_module": "@jupyter-widgets/controls",
      "model_module_version": "1.5.0",
      "model_name": "CheckboxModel",
      "state": {
       "disabled": false,
       "indent": false,
       "layout": "IPY_MODEL_1781a80a70f64c81a61cbb94735df5ef",
       "style": "IPY_MODEL_4619ca55f4014be6975a81f7a502daa8",
       "value": true
      }
     },
     "7de2840b9f9948fbb1b7f35259699d66": {
      "model_module": "@jupyter-widgets/base",
      "model_module_version": "1.2.0",
      "model_name": "LayoutModel",
      "state": {}
     },
     "7e701f0b00d2482380ff0ce3bc1be7b4": {
      "model_module": "@jupyter-widgets/base",
      "model_module_version": "1.2.0",
      "model_name": "LayoutModel",
      "state": {}
     },
     "7f2e15b9d8b54bc2bcd71d2aa2ac0b93": {
      "model_module": "@jupyter-widgets/controls",
      "model_module_version": "1.5.0",
      "model_name": "FloatSliderModel",
      "state": {
       "continuous_update": false,
       "description": "y centre  (mm)",
       "layout": "IPY_MODEL_4f3bb3cb73b249c992fd7159778701e9",
       "max": 37.1689453125,
       "min": -301.1689453125,
       "readout_format": ".1f",
       "style": "IPY_MODEL_428d7a66867048db80a62cbf00be0a09",
       "value": -132
      }
     },
     "81fc04e999714400a553ac474adece73": {
      "model_module": "@jupyter-widgets/controls",
      "model_module_version": "1.5.0",
      "model_name": "DescriptionStyleModel",
      "state": {
       "description_width": ""
      }
     },
     "826899a2dd2e4b4c81d8ce617a99350a": {
      "model_module": "@jupyter-widgets/base",
      "model_module_version": "1.2.0",
      "model_name": "LayoutModel",
      "state": {}
     },
     "82a0cc2bd8154049b985c4ca8d49805a": {
      "model_module": "@jupyter-widgets/base",
      "model_module_version": "1.2.0",
      "model_name": "LayoutModel",
      "state": {}
     },
     "839ce03a6d9740908f399d35a010a295": {
      "model_module": "@jupyter-widgets/controls",
      "model_module_version": "1.5.0",
      "model_name": "SliderStyleModel",
      "state": {
       "description_width": "initial"
      }
     },
     "84e0f734372c45d4803a70039c44adb6": {
      "model_module": "@jupyter-widgets/controls",
      "model_module_version": "1.5.0",
      "model_name": "ToggleButtonModel",
      "state": {
       "description": "Hide all ROIs",
       "layout": "IPY_MODEL_1bc91c50c24f4967b0b3ed1e1d2b7bbe",
       "style": "IPY_MODEL_a35c70553ad34b1dbbef5c81e7f0a18f"
      }
     },
     "8551592d1d0c49d9ae5efdab604daf89": {
      "model_module": "@jupyter-widgets/base",
      "model_module_version": "1.2.0",
      "model_name": "LayoutModel",
      "state": {}
     },
     "85cc49fae5e641678f5426e80feb7de5": {
      "model_module": "@jupyter-widgets/base",
      "model_module_version": "1.2.0",
      "model_name": "LayoutModel",
      "state": {}
     },
     "86cdb9c25ff647ea80f782760cecdcf9": {
      "model_module": "@jupyter-widgets/base",
      "model_module_version": "1.2.0",
      "model_name": "LayoutModel",
      "state": {}
     },
     "88efd14039114afcacf0dd9fb1f1daac": {
      "model_module": "@jupyter-widgets/controls",
      "model_module_version": "1.5.0",
      "model_name": "SliderStyleModel",
      "state": {
       "description_width": "initial"
      }
     },
     "899ff3f522194017b4b3c63c6c30065f": {
      "model_module": "@jupyter-widgets/base",
      "model_module_version": "1.2.0",
      "model_name": "LayoutModel",
      "state": {
       "height": "100%"
      }
     },
     "8a6611611d1a4ec289a138f168b668f7": {
      "model_module": "@jupyter-widgets/controls",
      "model_module_version": "1.5.0",
      "model_name": "DescriptionStyleModel",
      "state": {
       "description_width": "initial"
      }
     },
     "8b1499ca6705446ab1432b2602455456": {
      "model_module": "@jupyter-widgets/controls",
      "model_module_version": "1.5.0",
      "model_name": "DropdownModel",
      "state": {
       "_options_labels": [
        "",
        "relapse_carina",
        "relapse_spinal_canal",
        "relapse_sternum",
        "recurrence"
       ],
       "description": "Jump to",
       "index": 0,
       "layout": "IPY_MODEL_e95e7e0ffa654fac8cb3c1489d26dfd0",
       "style": "IPY_MODEL_523afef04e2d43f0833edd9207f1d7e2"
      }
     },
     "8d7aa38cbab148ecbd7792eef3bf2b55": {
      "model_module": "@jupyter-widgets/controls",
      "model_module_version": "1.5.0",
      "model_name": "VBoxModel",
      "state": {
       "children": [
        "IPY_MODEL_43c5bc00bbec4721874a8dbf883b84c8",
        "IPY_MODEL_66b36b74f02442e3b2801246719539c3",
        "IPY_MODEL_251e8cc8b89b4354aa9a64be6c516ed3",
        "IPY_MODEL_75e98283354347b89c14493f1dc2d9e4",
        "IPY_MODEL_7f2e15b9d8b54bc2bcd71d2aa2ac0b93",
        "IPY_MODEL_3be5f0b79f29460c830b778abf2499fb",
        "IPY_MODEL_fe57371cd57c4f3cad70979f83fbf2da"
       ],
       "layout": "IPY_MODEL_a4b8f15431e74037848cf1f61529fd2d"
      }
     },
     "8ea81e2ed8224030a496d3ba629fda57": {
      "model_module": "@jupyter-widgets/base",
      "model_module_version": "1.2.0",
      "model_name": "LayoutModel",
      "state": {}
     },
     "8ebb0e99c88f4ba7ad8a0e2db280a246": {
      "model_module": "@jupyter-widgets/base",
      "model_module_version": "1.2.0",
      "model_name": "LayoutModel",
      "state": {}
     },
     "8f300f3081dc43dbb145426619e76c94": {
      "model_module": "@jupyter-widgets/controls",
      "model_module_version": "1.5.0",
      "model_name": "CheckboxModel",
      "state": {
       "disabled": false,
       "layout": "IPY_MODEL_4d5755b772814010a85117da3917a92f",
       "style": "IPY_MODEL_52c227f3992843569daa4e852ca51545",
       "value": true
      }
     },
     "939dc0304b264b62966f1658f6c1b18c": {
      "model_module": "@jupyter-widgets/base",
      "model_module_version": "1.2.0",
      "model_name": "LayoutModel",
      "state": {}
     },
     "954e35c67c8948648e90b696d23f1d02": {
      "model_module": "@jupyter-widgets/base",
      "model_module_version": "1.2.0",
      "model_name": "LayoutModel",
      "state": {}
     },
     "959dc0e2b9014a839bbf1ea981f91caf": {
      "model_module": "@jupyter-widgets/base",
      "model_module_version": "1.2.0",
      "model_name": "LayoutModel",
      "state": {}
     },
     "96329706a5f449c089b34f941262d424": {
      "model_module": "@jupyter-widgets/base",
      "model_module_version": "1.2.0",
      "model_name": "LayoutModel",
      "state": {}
     },
     "96370dd966ba4ed3a00bb06be3545fbe": {
      "model_module": "@jupyter-widgets/base",
      "model_module_version": "1.2.0",
      "model_name": "LayoutModel",
      "state": {}
     },
     "963c8aa67d2b4bbfbc06f44a834585e6": {
      "model_module": "@jupyter-widgets/controls",
      "model_module_version": "1.5.0",
      "model_name": "CheckboxModel",
      "state": {
       "description": "Invert comparison",
       "disabled": false,
       "layout": "IPY_MODEL_cc0bc15f95954545a3a52edfd3c47275",
       "style": "IPY_MODEL_f1e076c93e0146afaaa92ceaeed7d3c3",
       "value": false
      }
     },
     "9a1e73612f06402e88b9868cbe322655": {
      "model_module": "@jupyter-widgets/controls",
      "model_module_version": "1.5.0",
      "model_name": "VBoxModel",
      "state": {
       "children": [
        "IPY_MODEL_7571994edb774da685ba8e7772a2e53c",
        "IPY_MODEL_e3c79acaa3fe4546a8dbb220cf1c82bd",
        "IPY_MODEL_74182d3db8314162b84a98cbd86c20be",
        "IPY_MODEL_7cd31bda458549ab80b9a6a36becce59",
        "IPY_MODEL_d176c93701ae44668c65d49d8123179c"
       ],
       "layout": "IPY_MODEL_bc0ccf8989bc4f5fb22d408081385cb3"
      }
     },
     "9f2a51ace02e4f8bb7b1a8c534e5ac84": {
      "model_module": "@jupyter-widgets/controls",
      "model_module_version": "1.5.0",
      "model_name": "HTMLModel",
      "state": {
       "layout": "IPY_MODEL_ffedf4cb164a4f489cad0c12bf6e9e54",
       "style": "IPY_MODEL_a015758127864c9fa57843faa2928c54",
       "value": "\n        <head>\n            <style>\n                th, td {\n                    padding: 2px 2px;\n                }\n                th {\n                    background-color: transparent;\n                    text-align: center;\n                }\n            </style>\n        </head>\n    <table border=\"1\" class=\"dataframe\">\n  <thead>\n    <tr style=\"text-align: right;\">\n      <th>ROI</th>\n    </tr>\n  </thead>\n  <tbody>\n    <tr>\n      <td><p style=\"background-color: rgb(0.0, 0.0, 255.0); color: white;\">&nbsp;relapse_carina&nbsp;</p></td>\n    </tr>\n    <tr>\n      <td><p style=\"background-color: rgb(255.0, 255.0, 0.0); color: black;\">&nbsp;relapse_spinal_canal&nbsp;</p></td>\n    </tr>\n    <tr>\n      <td><p style=\"background-color: rgb(255.0, 0.0, 151.0); color: white;\">&nbsp;relapse_sternum&nbsp;</p></td>\n    </tr>\n    <tr>\n      <td><p style=\"background-color: rgb(255.0, 0.0, 0.0); color: white;\">&nbsp;recurrence&nbsp;</p></td>\n    </tr>\n  </tbody>\n</table>"
      }
     },
     "a015758127864c9fa57843faa2928c54": {
      "model_module": "@jupyter-widgets/controls",
      "model_module_version": "1.5.0",
      "model_name": "DescriptionStyleModel",
      "state": {
       "description_width": ""
      }
     },
     "a2b17ed7bf46453bb4eabb68f8623e97": {
      "model_module": "@jupyter-widgets/base",
      "model_module_version": "1.2.0",
      "model_name": "LayoutModel",
      "state": {}
     },
     "a35c70553ad34b1dbbef5c81e7f0a18f": {
      "model_module": "@jupyter-widgets/controls",
      "model_module_version": "1.5.0",
      "model_name": "DescriptionStyleModel",
      "state": {
       "description_width": ""
      }
     },
     "a3a7e2a69abc4c23a224b536d3826532": {
      "model_module": "@jupyter-widgets/controls",
      "model_module_version": "1.5.0",
      "model_name": "DescriptionStyleModel",
      "state": {
       "description_width": ""
      }
     },
     "a420a2ba39284b96ab017d7deafd2ec7": {
      "model_module": "@jupyter-widgets/base",
      "model_module_version": "1.2.0",
      "model_name": "LayoutModel",
      "state": {
       "width": "-111.72493716837137px"
      }
     },
     "a4b8f15431e74037848cf1f61529fd2d": {
      "model_module": "@jupyter-widgets/base",
      "model_module_version": "1.2.0",
      "model_name": "LayoutModel",
      "state": {}
     },
     "a6401cde34674d73b21db56342b09e55": {
      "model_module": "@jupyter-widgets/controls",
      "model_module_version": "1.5.0",
      "model_name": "VBoxModel",
      "state": {
       "layout": "IPY_MODEL_c16765d3cdc3447ea689fe1d7152093a"
      }
     },
     "a6c71df118f2453d9d03d83e75f377fb": {
      "model_module": "@jupyter-widgets/controls",
      "model_module_version": "1.5.0",
      "model_name": "HBoxModel",
      "state": {
       "children": [
        "IPY_MODEL_14be6acc45f84061a05fbf400bfccd5d",
        "IPY_MODEL_4023393667234fc186109a4ba437a1fb",
        "IPY_MODEL_a6401cde34674d73b21db56342b09e55",
        "IPY_MODEL_edfe909c9ad7465a8252171eddf37f14"
       ],
       "layout": "IPY_MODEL_5dd58885202d4a4cb983bdd66c4ecb58"
      }
     },
     "a803d850e9924625b7e7dc61524f0fe6": {
      "model_module": "@jupyter-widgets/controls",
      "model_module_version": "1.5.0",
      "model_name": "SliderStyleModel",
      "state": {
       "description_width": "initial"
      }
     },
     "a879be8d862e4c4080b0337f52975874": {
      "model_module": "@jupyter-widgets/controls",
      "model_module_version": "1.5.0",
      "model_name": "DescriptionStyleModel",
      "state": {
       "description_width": ""
      }
     },
     "b0875ea01a8643ddb5d4dc4385d1b0e6": {
      "model_module": "@jupyter-widgets/base",
      "model_module_version": "1.2.0",
      "model_name": "LayoutModel",
      "state": {}
     },
     "b17bde2fe4d8413eb64f223ca599febc": {
      "model_module": "@jupyter-widgets/controls",
      "model_module_version": "1.5.0",
      "model_name": "DescriptionStyleModel",
      "state": {
       "description_width": ""
      }
     },
     "b1fa6e15bf804daebda5369a85a7bc9b": {
      "model_module": "@jupyter-widgets/controls",
      "model_module_version": "1.5.0",
      "model_name": "DescriptionStyleModel",
      "state": {
       "description_width": "initial"
      }
     },
     "b22b73bc44b14fe884b9672254eeb67f": {
      "model_module": "@jupyter-widgets/controls",
      "model_module_version": "1.5.0",
      "model_name": "CheckboxModel",
      "state": {
       "disabled": false,
       "layout": "IPY_MODEL_6449bdf2ec6248f9a25fa4a236a4d3b1",
       "style": "IPY_MODEL_2517463af7944fc39a2d46a81b5e7da9",
       "value": true
      }
     },
     "b4645e26d97144a59448ad4bb92206b2": {
      "model_module": "@jupyter-widgets/controls",
      "model_module_version": "1.5.0",
      "model_name": "SliderStyleModel",
      "state": {
       "description_width": "initial"
      }
     },
     "b69d25ccda734703abf133a22cc94492": {
      "model_module": "@jupyter-widgets/controls",
      "model_module_version": "1.5.0",
      "model_name": "HBoxModel",
      "state": {
       "children": [
        "IPY_MODEL_d0b559bf33bb4cbb8538acf4ad09c385",
        "IPY_MODEL_8d7aa38cbab148ecbd7792eef3bf2b55"
       ],
       "layout": "IPY_MODEL_186607bbc7084215b52e6005a81a8eda"
      }
     },
     "b7a472b187ea4588a66af5906a36e010": {
      "model_module": "@jupyter-widgets/base",
      "model_module_version": "1.2.0",
      "model_name": "LayoutModel",
      "state": {}
     },
     "b80074ff7aa74884bd50acc7b3dd1131": {
      "model_module": "@jupyter-widgets/base",
      "model_module_version": "1.2.0",
      "model_name": "LayoutModel",
      "state": {}
     },
     "b9f17071b66146e286e2d2dbe1ae44f3": {
      "model_module": "@jupyter-widgets/controls",
      "model_module_version": "1.5.0",
      "model_name": "SliderStyleModel",
      "state": {
       "description_width": "initial"
      }
     },
     "bc0ccf8989bc4f5fb22d408081385cb3": {
      "model_module": "@jupyter-widgets/base",
      "model_module_version": "1.2.0",
      "model_name": "LayoutModel",
      "state": {}
     },
     "bdc5ef03d11e4f0ea6acc949a8cdc73f": {
      "model_module": "@jupyter-widgets/controls",
      "model_module_version": "1.5.0",
      "model_name": "DescriptionStyleModel",
      "state": {
       "description_width": ""
      }
     },
     "c16765d3cdc3447ea689fe1d7152093a": {
      "model_module": "@jupyter-widgets/base",
      "model_module_version": "1.2.0",
      "model_name": "LayoutModel",
      "state": {}
     },
     "c72295f1c5a34c2cbd2528abb3265b60": {
      "model_module": "@jupyter-widgets/controls",
      "model_module_version": "1.5.0",
      "model_name": "ButtonStyleModel",
      "state": {}
     },
     "ca4b37bedda043f598deb0c27e25f4c3": {
      "model_module": "@jupyter-widgets/base",
      "model_module_version": "1.2.0",
      "model_name": "LayoutModel",
      "state": {}
     },
     "ca85192fc17a4b03a95ef1593856a1b3": {
      "model_module": "@jupyter-widgets/controls",
      "model_module_version": "1.5.0",
      "model_name": "DescriptionStyleModel",
      "state": {
       "description_width": "initial"
      }
     },
     "cae23a79cd4f4a9e9b3b2c678fb3f858": {
      "model_module": "@jupyter-widgets/base",
      "model_module_version": "1.2.0",
      "model_name": "LayoutModel",
      "state": {}
     },
     "cc0bc15f95954545a3a52edfd3c47275": {
      "model_module": "@jupyter-widgets/base",
      "model_module_version": "1.2.0",
      "model_name": "LayoutModel",
      "state": {}
     },
     "cd6e17b1b3144326a60f871fc2ef5ee3": {
      "model_module": "@jupyter-widgets/controls",
      "model_module_version": "1.5.0",
      "model_name": "IntSliderModel",
      "state": {
       "continuous_update": false,
       "description": "Chequerboard splits",
       "layout": "IPY_MODEL_743bdcc4abea44bfa96f5085a72aa17a",
       "max": 15,
       "min": 2,
       "style": "IPY_MODEL_0ac247078b7048729db377a7ab174895",
       "value": 8
      }
     },
     "cdf75a59a981460c9a40fd8a866abb2d": {
      "model_module": "@jupyter-widgets/base",
      "model_module_version": "1.2.0",
      "model_name": "LayoutModel",
      "state": {}
     },
     "d0b559bf33bb4cbb8538acf4ad09c385": {
      "model_module": "@jupyter-widgets/controls",
      "model_module_version": "1.5.0",
      "model_name": "VBoxModel",
      "state": {
       "children": [
        "IPY_MODEL_d473c1f9359c46298d634a3f4531a014",
        "IPY_MODEL_33781068cd914cbca560b3a198b22144",
        "IPY_MODEL_e4e7556333784cb393caad84ea56891f"
       ],
       "layout": "IPY_MODEL_4fede8d1211d48be9ec000ddb5bc0c44"
      }
     },
     "d176c93701ae44668c65d49d8123179c": {
      "model_module": "@jupyter-widgets/controls",
      "model_module_version": "1.5.0",
      "model_name": "CheckboxModel",
      "state": {
       "disabled": false,
       "indent": false,
       "layout": "IPY_MODEL_5ef8789979bf45ea96a11e7e9eec9b65",
       "style": "IPY_MODEL_81fc04e999714400a553ac474adece73",
       "value": true
      }
     },
     "d3bc68fde4904438aae35f1ac0712163": {
      "model_module": "@jupyter-widgets/controls",
      "model_module_version": "1.5.0",
      "model_name": "SliderStyleModel",
      "state": {
       "description_width": ""
      }
     },
     "d473c1f9359c46298d634a3f4531a014": {
      "model_module": "@jupyter-widgets/controls",
      "model_module_version": "1.5.0",
      "model_name": "LabelModel",
      "state": {
       "layout": "IPY_MODEL_0d9102e828fe463fac809ef22c3ef230",
       "style": "IPY_MODEL_25b7f8522bfe491da113c5a7cf6b8ffe"
      }
     },
     "d5ff270aa186412295f739c5370ae4ec": {
      "model_module": "@jupyter-widgets/base",
      "model_module_version": "1.2.0",
      "model_name": "LayoutModel",
      "state": {}
     },
     "d603ad3273af4ad2940cdaff8521ffd2": {
      "model_module": "@jupyter-widgets/base",
      "model_module_version": "1.2.0",
      "model_name": "LayoutModel",
      "state": {}
     },
     "d88bdbaf126f47d59019a57c07ea017b": {
      "model_module": "@jupyter-widgets/controls",
      "model_module_version": "1.5.0",
      "model_name": "SliderStyleModel",
      "state": {
       "description_width": "initial"
      }
     },
     "d9a4c0d5cef4437f96acc4863ba350dd": {
      "model_module": "@jupyter-widgets/controls",
      "model_module_version": "1.5.0",
      "model_name": "DescriptionStyleModel",
      "state": {
       "description_width": ""
      }
     },
     "df9d76f14e5544848b83fc0ad6b37f51": {
      "model_module": "@jupyter-widgets/controls",
      "model_module_version": "1.5.0",
      "model_name": "CheckboxModel",
      "state": {
       "description": "Invert mask",
       "disabled": false,
       "indent": false,
       "layout": "IPY_MODEL_cae23a79cd4f4a9e9b3b2c678fb3f858",
       "style": "IPY_MODEL_542282a80ecf4062a283424eaccfd5ef",
       "value": false
      }
     },
     "e3c79acaa3fe4546a8dbb220cf1c82bd": {
      "model_module": "@jupyter-widgets/controls",
      "model_module_version": "1.5.0",
      "model_name": "CheckboxModel",
      "state": {
       "disabled": false,
       "indent": false,
       "layout": "IPY_MODEL_899ff3f522194017b4b3c63c6c30065f",
       "style": "IPY_MODEL_f301b1a9e09f41479a507ae0befd72b7",
       "value": true
      }
     },
     "e4e7556333784cb393caad84ea56891f": {
      "model_module": "@jupyter-widgets/controls",
      "model_module_version": "1.5.0",
      "model_name": "FloatSliderModel",
      "state": {
       "continuous_update": false,
       "description": "z (mm)",
       "layout": "IPY_MODEL_8551592d1d0c49d9ae5efdab604daf89",
       "max": 175,
       "min": -155,
       "readout_format": ".1f",
       "step": 5,
       "style": "IPY_MODEL_88efd14039114afcacf0dd9fb1f1daac",
       "value": 30
      }
     },
     "e5929de85a8e4e2ab965bdb6ccc348e4": {
      "model_module": "@jupyter-widgets/base",
      "model_module_version": "1.2.0",
      "model_name": "LayoutModel",
      "state": {}
     },
     "e5c5630ae8b047eab335dc4f4524d5ae": {
      "model_module": "@jupyter-widgets/controls",
      "model_module_version": "1.5.0",
      "model_name": "SliderStyleModel",
      "state": {
       "description_width": "initial"
      }
     },
     "e5c99fd253d74d33bd9032720774c264": {
      "model_module": "@jupyter-widgets/base",
      "model_module_version": "1.2.0",
      "model_name": "LayoutModel",
      "state": {}
     },
     "e69a9ce6f10f4977bfa3b7464ada02fa": {
      "model_module": "@jupyter-widgets/controls",
      "model_module_version": "1.5.0",
      "model_name": "ButtonModel",
      "state": {
       "description": "Save",
       "layout": "IPY_MODEL_27006ffab69a4ef58cf985c7de342550",
       "style": "IPY_MODEL_79029bdd7b714b82bb2e7a4b437f0cf8",
       "tooltip": "Save figure to a file. Filetype automatically determined from filename."
      }
     },
     "e761cf4fc72f4431884fa53645c98740": {
      "model_module": "@jupyter-widgets/controls",
      "model_module_version": "1.5.0",
      "model_name": "CheckboxModel",
      "state": {
       "description": "Apply mask",
       "disabled": false,
       "indent": false,
       "layout": "IPY_MODEL_2f4671ef5a5d43dc925d9c298b4b5c22",
       "style": "IPY_MODEL_a3a7e2a69abc4c23a224b536d3826532",
       "value": true
      }
     },
     "e7a77d5dd914450abeba0d61f09e8041": {
      "model_module": "@jupyter-widgets/base",
      "model_module_version": "1.2.0",
      "model_name": "LayoutModel",
      "state": {}
     },
     "e7de36fca0b6411999005e296c76db38": {
      "model_module": "@jupyter-widgets/controls",
      "model_module_version": "1.5.0",
      "model_name": "ButtonModel",
      "state": {
       "description": "Save",
       "layout": "IPY_MODEL_36fefca4b44f46ea9b349230f251e7ae",
       "style": "IPY_MODEL_c72295f1c5a34c2cbd2528abb3265b60",
       "tooltip": "Save figure to a file. Filetype automatically determined from filename."
      }
     },
     "e95e7e0ffa654fac8cb3c1489d26dfd0": {
      "model_module": "@jupyter-widgets/base",
      "model_module_version": "1.2.0",
      "model_name": "LayoutModel",
      "state": {}
     },
     "ea6d601cf17a47e7ad290f046f23e3f1": {
      "model_module": "@jupyter-widgets/base",
      "model_module_version": "1.2.0",
      "model_name": "LayoutModel",
      "state": {}
     },
     "ead0be8dab094394be28c5ba5a506375": {
      "model_module": "@jupyter-widgets/controls",
      "model_module_version": "1.5.0",
      "model_name": "FloatSliderModel",
      "state": {
       "continuous_update": false,
       "description": "Overlay opacity",
       "layout": "IPY_MODEL_59072146ac214121b7b7393be10c7905",
       "max": 1,
       "readout_format": ".1f",
       "step": 0.1,
       "style": "IPY_MODEL_3342e35cafe8488bb6b0a3437e72b071",
       "value": 0.5
      }
     },
     "ed2d21ef8ad34c60be2c05a59db37d1b": {
      "model_module": "@jupyter-widgets/controls",
      "model_module_version": "1.5.0",
      "model_name": "SliderStyleModel",
      "state": {
       "description_width": "initial"
      }
     },
     "edfe909c9ad7465a8252171eddf37f14": {
      "model_module": "@jupyter-widgets/controls",
      "model_module_version": "1.5.0",
      "model_name": "VBoxModel",
      "state": {
       "layout": "IPY_MODEL_179b3350bd4c47fdaa980715d4158ac1"
      }
     },
     "eec750eaa111458cb4bf9b3d7c4f340e": {
      "model_module": "@jupyter-widgets/controls",
      "model_module_version": "1.5.0",
      "model_name": "VBoxModel",
      "state": {
       "children": [
        "IPY_MODEL_43c5bc00bbec4721874a8dbf883b84c8",
        "IPY_MODEL_66b36b74f02442e3b2801246719539c3",
        "IPY_MODEL_251e8cc8b89b4354aa9a64be6c516ed3",
        "IPY_MODEL_75e98283354347b89c14493f1dc2d9e4",
        "IPY_MODEL_7f2e15b9d8b54bc2bcd71d2aa2ac0b93",
        "IPY_MODEL_3be5f0b79f29460c830b778abf2499fb",
        "IPY_MODEL_fe57371cd57c4f3cad70979f83fbf2da"
       ],
       "layout": "IPY_MODEL_e5929de85a8e4e2ab965bdb6ccc348e4"
      }
     },
     "f09b0411ebce4d079ede39bbba73e7a5": {
      "model_module": "@jupyter-widgets/controls",
      "model_module_version": "1.5.0",
      "model_name": "DescriptionStyleModel",
      "state": {
       "description_width": ""
      }
     },
     "f18c81a8d2194239b346287e60273f9e": {
      "model_module": "@jupyter-widgets/controls",
      "model_module_version": "1.5.0",
      "model_name": "RadioButtonsModel",
      "state": {
       "_options_labels": [
        "x-y",
        "y-z",
        "x-z"
       ],
       "description": "Slice plane selection:",
       "index": 0,
       "layout": "IPY_MODEL_e7a77d5dd914450abeba0d61f09e8041",
       "style": "IPY_MODEL_7798b6743cdd4296a921122cf312e7b6"
      }
     },
     "f1e076c93e0146afaaa92ceaeed7d3c3": {
      "model_module": "@jupyter-widgets/controls",
      "model_module_version": "1.5.0",
      "model_name": "DescriptionStyleModel",
      "state": {
       "description_width": ""
      }
     },
     "f26bf362e9fd4192be80edc02746f6d1": {
      "model_module": "@jupyter-widgets/controls",
      "model_module_version": "1.5.0",
      "model_name": "VBoxModel",
      "state": {
       "children": [
        "IPY_MODEL_a6c71df118f2453d9d03d83e75f377fb",
        "IPY_MODEL_b69d25ccda734703abf133a22cc94492"
       ],
       "layout": "IPY_MODEL_cdf75a59a981460c9a40fd8a866abb2d"
      }
     },
     "f301b1a9e09f41479a507ae0befd72b7": {
      "model_module": "@jupyter-widgets/controls",
      "model_module_version": "1.5.0",
      "model_name": "DescriptionStyleModel",
      "state": {
       "description_width": ""
      }
     },
     "f3f83af1ded9440b8edac335ec8401c1": {
      "model_module": "@jupyter-widgets/controls",
      "model_module_version": "1.5.0",
      "model_name": "DescriptionStyleModel",
      "state": {
       "description_width": "initial"
      }
     },
     "f57f25bd9e364817860a1a5c320d6b5f": {
      "model_module": "@jupyter-widgets/controls",
      "model_module_version": "1.5.0",
      "model_name": "DropdownModel",
      "state": {
       "_options_labels": [
        "majority",
        "sum",
        "overlap",
        "staple"
       ],
       "description": "Consensus type",
       "index": 0,
       "layout": "IPY_MODEL_012ceccb49c84bdfa97d983617d4eff5",
       "style": "IPY_MODEL_facea43c60a44a49b1e1a7c0ea614449"
      }
     },
     "f5ed0f0efef54994b679bb9926284ea5": {
      "model_module": "@jupyter-widgets/base",
      "model_module_version": "1.2.0",
      "model_name": "LayoutModel",
      "state": {}
     },
     "f6d5ca33377342eab64a17b23460bc40": {
      "model_module": "@jupyter-widgets/controls",
      "model_module_version": "1.5.0",
      "model_name": "SliderStyleModel",
      "state": {
       "description_width": "initial"
      }
     },
     "f76cb646e12248d0aa128f49b778e19c": {
      "model_module": "@jupyter-widgets/base",
      "model_module_version": "1.2.0",
      "model_name": "LayoutModel",
      "state": {}
     },
     "facea43c60a44a49b1e1a7c0ea614449": {
      "model_module": "@jupyter-widgets/controls",
      "model_module_version": "1.5.0",
      "model_name": "DescriptionStyleModel",
      "state": {
       "description_width": "initial"
      }
     },
     "fe57371cd57c4f3cad70979f83fbf2da": {
      "model_module": "@jupyter-widgets/controls",
      "model_module_version": "1.5.0",
      "model_name": "FloatSliderModel",
      "state": {
       "continuous_update": false,
       "description": "z (mm)",
       "layout": "IPY_MODEL_64d97e065ce3453bbd8afd8b7b7717f7",
       "max": 6.5,
       "min": -388.5,
       "readout_format": ".1f",
       "step": 5,
       "style": "IPY_MODEL_ed2d21ef8ad34c60be2c05a59db37d1b",
       "value": -168.5
      }
     },
     "fe61a4992d8c4ae7a8e1ec3f96f4c3e0": {
      "model_module": "@jupyter-widgets/controls",
      "model_module_version": "1.5.0",
      "model_name": "CheckboxModel",
      "state": {
       "disabled": false,
       "layout": "IPY_MODEL_67f70d9a4b424696bc8bd36753b6939e",
       "style": "IPY_MODEL_d9a4c0d5cef4437f96acc4863ba350dd",
       "value": true
      }
     },
     "fed52acc95b740af922d29564b70769f": {
      "model_module": "@jupyter-widgets/controls",
      "model_module_version": "1.5.0",
      "model_name": "HBoxModel",
      "state": {
       "children": [
        "IPY_MODEL_9f2a51ace02e4f8bb7b1a8c534e5ac84",
        "IPY_MODEL_9a1e73612f06402e88b9868cbe322655"
       ],
       "layout": "IPY_MODEL_4b7e301cb3bf434e8026acc658f0c950"
      }
     },
     "fed91f2006d6488f8e3b5655a0726896": {
      "model_module": "@jupyter-widgets/controls",
      "model_module_version": "1.5.0",
      "model_name": "VBoxModel",
      "state": {
       "children": [
        "IPY_MODEL_42a99a9a4cc94afab9728953522ac65d"
       ],
       "layout": "IPY_MODEL_ea6d601cf17a47e7ad290f046f23e3f1"
      }
     },
     "ff1777a02d334a248ebf0ce3fe04705c": {
      "model_module": "@jupyter-widgets/controls",
      "model_module_version": "1.5.0",
      "model_name": "DescriptionStyleModel",
      "state": {
       "description_width": "initial"
      }
     },
     "ff70686b7c724379b2d8bfdd56e89a00": {
      "model_module": "@jupyter-widgets/base",
      "model_module_version": "1.2.0",
      "model_name": "LayoutModel",
      "state": {}
     },
     "ffedf4cb164a4f489cad0c12bf6e9e54": {
      "model_module": "@jupyter-widgets/base",
      "model_module_version": "1.2.0",
      "model_name": "LayoutModel",
      "state": {}
     }
    },
    "version_major": 2,
    "version_minor": 0
   }
  }
 },
 "nbformat": 4,
 "nbformat_minor": 5
}
