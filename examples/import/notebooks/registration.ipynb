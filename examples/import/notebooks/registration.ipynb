{
 "cells": [
  {
   "cell_type": "code",
   "execution_count": null,
   "id": "ec921908-b157-4fc0-9a9b-c4e0967cd423",
   "metadata": {},
   "outputs": [],
   "source": [
    "from itertools import chain\n",
    "from pathlib import Path\n",
    "from random import sample\n",
    "\n",
    "from import_analysis import ImportPatient\n",
    "from skrt.registration import get_default_pfiles_dir, Registration, set_elastix_dir\n",
    "\n",
    "# Define paths to patient data.\n",
    "data_dir = Path(\"~/data/20220331_import_data_selection\").expanduser()\n",
    "paths = sorted(list(chain(data_dir.glob('import_high/H*'),\n",
    "                          data_dir.glob('import_low/L*'))))\n",
    "\n",
    "# Set path to Elastix installation.\n",
    "elastix_dir = Path('~/sw/elastix-5.0.1').expanduser()\n",
    "set_elastix_dir(elastix_dir)\n",
    "\n",
    "# Obtain path to default Elastix parameter files.\n",
    "pfiles_dir = get_default_pfiles_dir() "
   ]
  },
  {
   "cell_type": "code",
   "execution_count": null,
   "id": "6e16a774-4070-4a20-b789-86cbabbc0253",
   "metadata": {},
   "outputs": [],
   "source": [
    "# Load data.\n",
    "patients = []\n",
    "for path in paths[0:1]:\n",
    "    patients.append(ImportPatient(path, load_dose_sum=False, load_masks=True))\n",
    "    print(f\"{patients[-1].id} - initialisation; {patients[-1]._init_time:.2f} s; \")"
   ]
  },
  {
   "cell_type": "code",
   "execution_count": null,
   "id": "ab924690-8e1e-4809-9af3-5f2fc94d0d5d",
   "metadata": {},
   "outputs": [],
   "source": [
    "# For selected patient, create registration with planning as fixed image\n",
    "idx = 0\n",
    "p = patients[idx]\n",
    "reg = Registration(\n",
    "    Path(\"results/planning_fixed\") / p.id,\n",
    "    fixed=p.get_ct_plan(),\n",
    "    moving=p.get_ct_relapse(),\n",
    "    fixed_mask=p.get_mask_plan(),\n",
    "    initial_alignment = p.get_centroid_translation(\"spinal_canal\"),\n",
    "    pfiles={\n",
    "        #\"translation\": pfiles_dir / \"MI_Translation.txt\",\n",
    "        \"rigid\": pfiles_dir / \"MI_Rigid.txt\",\n",
    "        \"bspline\": pfiles_dir / \"MI_BSpline30.txt\"\n",
    "    },\n",
    "    overwrite=True,\n",
    "    capture_output=True\n",
    ")"
   ]
  },
  {
   "cell_type": "code",
   "execution_count": null,
   "id": "982ee39c-4c64-4293-98b6-7936b853cf92",
   "metadata": {},
   "outputs": [],
   "source": [
    "reg.register()"
   ]
  },
  {
   "cell_type": "code",
   "execution_count": null,
   "id": "20785e50-0575-4f84-a13e-7d2c03a6e93c",
   "metadata": {},
   "outputs": [],
   "source": [
    "for step in reg.steps:\n",
    "    print(step)\n",
    "    reg.view_result(step)"
   ]
  },
  {
   "cell_type": "code",
   "execution_count": null,
   "id": "c9f9470c-c7fc-4205-ae02-e9cf2d892c1e",
   "metadata": {},
   "outputs": [],
   "source": []
  }
 ],
 "metadata": {
  "kernelspec": {
   "display_name": "Python 3 (ipykernel)",
   "language": "python",
   "name": "python3"
  },
  "language_info": {
   "codemirror_mode": {
    "name": "ipython",
    "version": 3
   },
   "file_extension": ".py",
   "mimetype": "text/x-python",
   "name": "python",
   "nbconvert_exporter": "python",
   "pygments_lexer": "ipython3",
   "version": "3.8.13"
  }
 },
 "nbformat": 4,
 "nbformat_minor": 5
}
