{
 "cells": [
  {
   "cell_type": "code",
   "execution_count": null,
   "id": "ec921908-b157-4fc0-9a9b-c4e0967cd423",
   "metadata": {},
   "outputs": [],
   "source": [
    "from itertools import chain\n",
    "from pathlib import Path\n",
    "from random import sample\n",
    "\n",
    "from import_analysis import ImportPatient\n",
    "from skrt.registration import get_default_pfiles_dir, Registration, set_elastix_dir\n",
    "\n",
    "# Define paths to patient data.\n",
    "data_dir = Path(\"~/data/20220331_import_data_selection\").expanduser()\n",
    "paths = sorted(list(chain(data_dir.glob('import_high/H*'),\n",
    "                          data_dir.glob('import_low/L*'))))\n",
    "\n",
    "# Set path to Elastix installation.\n",
    "elastix_dir = Path('~/sw/elastix-5.0.1').expanduser()\n",
    "set_elastix_dir(elastix_dir)\n",
    "\n",
    "# Obtain path to default Elastix parameter files.\n",
    "pfiles_dir = get_default_pfiles_dir() "
   ]
  },
  {
   "cell_type": "code",
   "execution_count": null,
   "id": "6e16a774-4070-4a20-b789-86cbabbc0253",
   "metadata": {},
   "outputs": [],
   "source": [
    "# Load data.\n",
    "patients = []\n",
    "id = None\n",
    "for path in paths[0: 1]:\n",
    "    if id and not path.match(f\"*{id}*\"):\n",
    "        continue\n",
    "    patients.append(ImportPatient(path, load_dose_sum=False, load_masks=True))\n",
    "    print(f\"{patients[-1].id} - initialisation; {patients[-1]._init_time:.2f} s; \")"
   ]
  },
  {
   "cell_type": "code",
   "execution_count": null,
   "id": "ab924690-8e1e-4809-9af3-5f2fc94d0d5d",
   "metadata": {},
   "outputs": [],
   "source": [
    "# For selected patient, create registration with relapse scan as fixed image\n",
    "idx = 0\n",
    "p = patients[idx]\n",
    "\n",
    "# Crop relapse scan to include structure-set ROIs plus margin.\n",
    "ct_relapse = p.get_ct_relapse().clone()\n",
    "ct_relapse.crop_to_roi(p.get_ss_relapse() + p.get_ss_recurrence(), buffer=100)\n",
    "\n",
    "# Crop planning scan to size of cropped relapse scan.\n",
    "ct_plan = p.get_ct_plan().clone()\n",
    "ct_plan.crop_to_image(ct_relapse, alignment=\"spinal_canal\")\n",
    "\n",
    "# Define registration strategy.\n",
    "reg = Registration(\n",
    "    Path(\"results/relapse_fixed\") / p.id,\n",
    "    fixed=ct_relapse,\n",
    "    moving=ct_plan,\n",
    "    fixed_mask=None,\n",
    "    initial_alignment = None,\n",
    "    pfiles={\n",
    "        #\"translation\": pfiles_dir / \"MI_Translation.txt\",\n",
    "        \"rigid\": pfiles_dir / \"MI_Rigid.txt\",\n",
    "        \"affine\": pfiles_dir / \"MI_Affine.txt\",\n",
    "        #\"bspline\": pfiles_dir / \"MI_BSpline30.txt\"\n",
    "    },\n",
    "    overwrite=True,\n",
    "    capture_output=True\n",
    ")"
   ]
  },
  {
   "cell_type": "code",
   "execution_count": null,
   "id": "982ee39c-4c64-4293-98b6-7936b853cf92",
   "metadata": {},
   "outputs": [],
   "source": [
    "# Perform registration.\n",
    "reg.register()"
   ]
  },
  {
   "cell_type": "code",
   "execution_count": null,
   "id": "20785e50-0575-4f84-a13e-7d2c03a6e93c",
   "metadata": {},
   "outputs": [],
   "source": [
    "# Show results at each step of registration.\n",
    "for step in reg.steps:\n",
    "    print(step)\n",
    "    reg.view_result(step)"
   ]
  },
  {
   "cell_type": "code",
   "execution_count": null,
   "id": "cbf737e5-84fd-4a61-a3b3-1952723f4ca1",
   "metadata": {},
   "outputs": [],
   "source": [
    "# Push ROI contours from relapse frame to planning frame.\n",
    "ss_relapse_transformed = reg.transform(p.get_ss_relapse(), transform_points=True)\n",
    "ss_recurrence_transformed = reg.transform(p.get_ss_recurrence(), transform_points=True)\n",
    "ss_recurrence_transformed[\"recurrence\"].name = \"Transformed_recurrence\""
   ]
  },
  {
   "cell_type": "code",
   "execution_count": null,
   "id": "b4f9f219-8802-4bb8-a83c-346035dc300e",
   "metadata": {},
   "outputs": [],
   "source": [
    "# Show relapse scan with ROI contours outlined on scan,\n",
    "# and ROI contours pushed from planning scan.\n",
    "reg.moving_image.view(rois=ss_relapse_transformed + p.get_ss_plan())"
   ]
  },
  {
   "cell_type": "code",
   "execution_count": null,
   "id": "84b79dea-79d0-4dda-aa60-b2a2f8f28ce6",
   "metadata": {},
   "outputs": [],
   "source": [
    "# Show recurrence mapped to planning scan and on relapse scan.\n",
    "ct_plan.view(images=ct_relapse, rois=[ss_recurrence_transformed, p.get_ss_recurrence()])"
   ]
  },
  {
   "cell_type": "code",
   "execution_count": null,
   "id": "b080e7de-6ffe-4fd2-85dd-8961f0872fb0",
   "metadata": {},
   "outputs": [],
   "source": []
  }
 ],
 "metadata": {
  "kernelspec": {
   "display_name": "Python 3 (ipykernel)",
   "language": "python",
   "name": "python3"
  },
  "language_info": {
   "codemirror_mode": {
    "name": "ipython",
    "version": 3
   },
   "file_extension": ".py",
   "mimetype": "text/x-python",
   "name": "python",
   "nbconvert_exporter": "python",
   "pygments_lexer": "ipython3",
   "version": "3.8.13"
  }
 },
 "nbformat": 4,
 "nbformat_minor": 5
}
