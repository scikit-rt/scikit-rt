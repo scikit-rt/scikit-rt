{
 "cells": [
  {
   "cell_type": "markdown",
   "id": "0c1fbdb4-6117-43e8-a2af-c8e728a32779",
   "metadata": {},
   "source": [
    "# Single-atlas segmentation of cardiac substructures.\n",
    "\n",
    "This notebook demonstrates single-atlas segmentation of cardiact substructures.\n",
    "\n",
    "The data used are from the CASSCADE study."
   ]
  },
  {
   "cell_type": "code",
   "execution_count": null,
   "id": "71858b46-dada-4fab-8b1b-de34791fa484",
   "metadata": {},
   "outputs": [],
   "source": [
    "from pathlib import Path\n",
    "\n",
    "from skrt import Patient, set_viewer_options\n",
    "from skrt.registration import get_default_pfiles\n",
    "from skrt.segmentation import SingleAtlasSegmentation\n",
    "\n",
    "# Define paths to patient data.\n",
    "# Each dataset consists of the CT image used in treatment planning, and an associated structure set.\n",
    "# The structure set for each target dataset includes contours for the heart.\n",
    "# The structure set for each atlas dataset includes contours for multiple cardiac substructures.\n",
    "data_dir = Path(\"~/data\").expanduser()\n",
    "# Paths to target datasets.\n",
    "paths1 = sorted(list((data_dir / \"casscade\").glob('casscade*/[!.]*')))\n",
    "# Paths to atlas datasets.\n",
    "paths2 = sorted(list((data_dir / \"casscade2\").glob(\"*Atlas_1*\")))\n",
    "\n",
    "# Set paths to directories containing registration software.\n",
    "engine_dirs = {\n",
    "    \"elastix\": \"~/sw/elastix-5.0.1-mac\",\n",
    "    \"niftyreg\": \"~/sw/niftyreg\",\n",
    "}\n",
    "\n",
    "# Make plots interactive (\"no_ui\": False) or non-interactive (\"no_ui\": True).\n",
    "no_ui = False\n",
    "\n",
    "# Set Matplotlib runtime configuration, and obtain dictionary of BetterViewer options.\n",
    "options = set_viewer_options(to_exclude=\"figsize\", usetex=True, no_ui=no_ui)"
   ]
  },
  {
   "cell_type": "code",
   "execution_count": null,
   "id": "6e16a774-4070-4a20-b789-86cbabbc0253",
   "metadata": {},
   "outputs": [],
   "source": [
    "def load_data(paths, idx=0, to_keep=None, to_remove=None, names=None):\n",
    "    \"\"\"\n",
    "    Return objects for patient, patient's CT image, and associated structure set.\n",
    "    \n",
    "    **Parameters:**\n",
    "    \n",
    "    paths: list\n",
    "        List of paths to patient datasets.\n",
    "        \n",
    "    idx : int, default=0\n",
    "        Index in <paths> list of dataset to be considered.\n",
    "        \n",
    "    to_keep : list, default=None\n",
    "        List of names of ROIs to be kept in patient's structure set.\n",
    "        \n",
    "    to_remove : list, default=None\n",
    "        List of names of ROIs to remove from patient's structure set.\n",
    "        \n",
    "    name : dict, default=None\n",
    "        Dictionary for renaming ROIs: a key is a name to be used; the associated\n",
    "        value is a list of names that may have been assigned.\n",
    "    \"\"\"\n",
    "    # Obtain references to patient, study, CT image and structure set. \n",
    "    p = Patient(paths[idx], unsorted_dicom=True)\n",
    "    s = p.studies[0]\n",
    "    ct = s.ct_images[0]\n",
    "    ss = s.ct_structure_sets[0]\n",
    "    \n",
    "    # Filter structure set, renaming ROIs as needed.\n",
    "    ss.filter_rois(to_keep=to_keep, to_remove=to_remove)\n",
    "    ss.rename_rois(names=names)\n",
    "    \n",
    "    return (p, ct, ss)\n",
    "\n",
    "# ROIs to remove from atlas structure sets.\n",
    "to_remove = [\"*ptv*\", \"*skin*\", \"*lung*\", \"d50\"]\n",
    "# ROIs to keep in target structure sets.\n",
    "to_keep = [\"heart\"]\n",
    "# Ensure that ROI name is always capitalised. \n",
    "names = {\"Heart\" : \"heart\"}"
   ]
  },
  {
   "cell_type": "code",
   "execution_count": null,
   "id": "c77375f3-66fa-42f7-8848-35d0af972b50",
   "metadata": {},
   "outputs": [],
   "source": [
    "# Load target data.\n",
    "idx1 = 0\n",
    "p1, ct1, ss1 = load_data(paths1, idx1, to_keep=to_keep, names=names)"
   ]
  },
  {
   "cell_type": "code",
   "execution_count": null,
   "id": "672990d9-13e3-4097-9a64-dd7943545803",
   "metadata": {},
   "outputs": [],
   "source": [
    "# Load atlas data.\n",
    "idx2 = 0\n",
    "p2, ct2, ss2 = load_data(paths2, idx2, to_remove=to_remove, names=names)"
   ]
  },
  {
   "cell_type": "code",
   "execution_count": null,
   "id": "c64bab9d-99cd-4a6b-b403-427c79d55d7d",
   "metadata": {},
   "outputs": [],
   "source": [
    "# Define and run single-atlas segmentation.\n",
    "\n",
    "# ROI for initial alignment, and to define cropping.\n",
    "roi_to_align = \"Heart\"\n",
    "# Margin (mm) to be placed around ROI to befine crop region.\n",
    "crop_margins = 30\n",
    "# Define segmentation strategy (\"pull\" or \"push\" for elastix, \"pull\" only for niftyreg).\n",
    "strategy = \"pull\"\n",
    "# Define vosel size.\n",
    "voxel_size = ct2.get_voxel_size()\n",
    "\n",
    "# Define and run segmenation for each registration engine.\n",
    "sass = {}\n",
    "for engine, engine_dir in engine_dirs.items():\n",
    "    sass[engine] = SingleAtlasSegmentation(\n",
    "        engine=engine,\n",
    "        engine_dir=engine_dir,\n",
    "        im1=ct1,\n",
    "        im2=ct2,\n",
    "        workdir=Path(f\"results/{p1.id}_{p2.id}/{engine}\"),\n",
    "        initial_crop_focus=roi_to_align,\n",
    "        initial_crop_margins=crop_margins,\n",
    "        initial_alignment=roi_to_align,\n",
    "        voxel_size1=voxel_size,\n",
    "        pfiles1={\"bspline\": get_default_pfiles(\"*BSpline05*\", engine)[0]},\n",
    "        default_roi_crop_margins=(20, 20, 20),\n",
    "        voxel_size2=voxel_size,\n",
    "        auto=True,\n",
    "        default_step=0,\n",
    "        default_strategy=strategy,\n",
    "        overwrite=True,\n",
    "        capture_output=True,\n",
    "        keep_tmp_dir = True,\n",
    "        log_level=\"INFO\",\n",
    "    )"
   ]
  },
  {
   "cell_type": "code",
   "execution_count": null,
   "id": "bfc02566-76b7-42a3-8279-c326d65d6d3d",
   "metadata": {},
   "outputs": [],
   "source": [
    "# Obtain structure sets for final segmentations.\n",
    "rois = {}\n",
    "for engine, sas in sass.items():\n",
    "    rois[engine] = sas.get_segmentation().interpolate_points(\n",
    "        dxy=2, smoothness_per_point=0.3)\n",
    "    rois[engine].name = f\"{engine}_{rois[engine].name}\""
   ]
  },
  {
   "cell_type": "code",
   "execution_count": null,
   "id": "9126131c-9b2e-4f9f-ab71-6d5853f63383",
   "metadata": {},
   "outputs": [],
   "source": [
    "# Display initial images.\n",
    "sas.get_registration().view_init(overlay_legend=True, **options);"
   ]
  },
  {
   "cell_type": "code",
   "execution_count": null,
   "id": "dde2547b-fe13-4443-a3f8-2b4cf7a5c0db",
   "metadata": {},
   "outputs": [],
   "source": [
    "# Display results of final registrations.\n",
    "for engine, sas in sass.items():\n",
    "    titles = [f\"{engine}: {title}\" for title in [\"fixed\", \"transformed moving\"]]\n",
    "    sas.get_registration().view_result(overlay_legend=True, title=titles, **options);"
   ]
  },
  {
   "cell_type": "code",
   "execution_count": null,
   "id": "e8a6f7b5-962c-405b-aa57-327369ca7b69",
   "metadata": {},
   "outputs": [],
   "source": [
    "# Display segmentations.\n",
    "sas.im1.view(images=sas.im1, rois=list(rois.values()), title=list(sass.keys()),\n",
    "             zoom=4, init_roi=\"Heart\", annotate_slice={\"color\": 'yellow', \"fontsize\": 20},\n",
    "             **options);"
   ]
  },
  {
   "cell_type": "code",
   "execution_count": null,
   "id": "549a162f-7675-4c11-82be-0efc18db87f0",
   "metadata": {},
   "outputs": [],
   "source": [
    "# Display Jacobian determinants.\n",
    "images = []\n",
    "jacobians = []\n",
    "titles = []\n",
    "for engine, sas in sass.items():\n",
    "    reg = sas.get_registration()\n",
    "    step = reg.steps[-1]\n",
    "    images.append(reg.transformed_images[step])\n",
    "    jacobians.append(reg.get_jacobian(step))\n",
    "    titles.append(f\"{engine}: {step}\")\n",
    "    \n",
    "images[0].view(images=images[1:], jacobian=jacobians, title=titles, colorbar=-1, figsize=(21, 6),\n",
    "               annotate_slice={\"color\": 'yellow', \"fontsize\": 20}, **options);"
   ]
  },
  {
   "cell_type": "code",
   "execution_count": null,
   "id": "5ffea673-7f4a-4c39-b9e6-de4afba0d3ff",
   "metadata": {},
   "outputs": [],
   "source": [
    "# Display atlas segmentation alongside target segmentation.\n",
    "ct2.view(images=ct1, rois=[ss2, rois[\"niftyreg\"]], title=[\"manual segmentation\", \"single-atlas segmentation\"],\n",
    "             zoom=4, init_roi=\"Heart\", annotate_slice={\"color\": 'yellow', \"fontsize\": 20},\n",
    "             **options);"
   ]
  }
 ],
 "metadata": {
  "kernelspec": {
   "display_name": "Python 3 (ipykernel)",
   "language": "python",
   "name": "python3"
  },
  "language_info": {
   "codemirror_mode": {
    "name": "ipython",
    "version": 3
   },
   "file_extension": ".py",
   "mimetype": "text/x-python",
   "name": "python",
   "nbconvert_exporter": "python",
   "pygments_lexer": "ipython3",
   "version": "3.8.15"
  }
 },
 "nbformat": 4,
 "nbformat_minor": 5
}
