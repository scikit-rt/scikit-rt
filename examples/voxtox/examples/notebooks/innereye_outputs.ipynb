{
 "cells": [
  {
   "cell_type": "code",
   "execution_count": null,
   "id": "6bec035a-6f46-4796-9ecd-91499955e380",
   "metadata": {},
   "outputs": [],
   "source": [
    "from pathlib import Path\n",
    "\n",
    "from matplotlib.pyplot import rc\n",
    "\n",
    "from skrt import Dose, Patient\n",
    "from skrt.core import get_data_by_filename, relative_path\n",
    "from voxtox.roi_names import head_and_neck_plan"
   ]
  },
  {
   "cell_type": "code",
   "execution_count": null,
   "id": "49db2621-072f-4d1c-96da-3ba891f16091",
   "metadata": {},
   "outputs": [],
   "source": [
    "# Set Matplotlib runtime configuration.\n",
    "# For details of Matplotlib configuration, see:\n",
    "# https://matplotlib.org/stable/tutorials/introductory/customizing.html\n",
    "# Sizes are in points.\n",
    "\n",
    "# For axes, set spacing (pad) and size of label and title\n",
    "rc(\"axes\", labelpad=0, labelsize=25, titlepad=17, titlesize=25);\n",
    "\n",
    "# Set default text charactieristics.\n",
    "# Possible weight values are:\n",
    "# 100, 200, 300, 400 / \"normal\", 500, 600, 700 / \"bold\", 800, 900.\n",
    "rc(\"font\", family=\"serif\", serif=[\"Times\"], size=20, weight=400);\n",
    "\n",
    "# Set font size for legends.\n",
    "rc(\"legend\", fontsize=20)\n",
    "\n",
    "# Set mathematics typeface when using matplotlib's built-in fonts.\n",
    "rc(\"mathtext\", fontset=\"dejavuserif\");\n",
    "\n",
    "# Use TeX/LaTeX for typesetting.  (This requires working TeX/LaTeX installation.)\n",
    "rc(\"text\", usetex=True)\n",
    "\n",
    "# For ticks, set label size and direction (\"in\", \"out\", \"inout\").\n",
    "rc((\"xtick\", \"ytick\"), labelsize=25, direction=\"out\");\n",
    "\n",
    "# For major and minor ticks, set size and width.\n",
    "# For major ticks, set spacing (pad) of label.\n",
    "rc((\"xtick.major\"), pad=3);\n",
    "rc((\"xtick.major\", \"ytick.major\"), size=9, width=1.0);\n",
    "rc((\"xtick.minor\", \"ytick.minor\"), size=4.5, width=1.0);\n",
    "rc((\"ytick.major\"), pad=2);\n",
    "\n",
    "# Create dictionary of BetterViewer image-display options.\n",
    "view_opts = {\n",
    "    # Set figure size in inches.\n",
    "    \"figsize\": (18, 8),\n",
    "    # Show major ticks at specified interval (axis units).\n",
    "    \"major_ticks\": 60,\n",
    "    # Show minor ticks for specified number of intervals between major ticks.\n",
    "    \"minor_ticks\": 5,\n",
    "    # Indicate whether axis units should be mm or numbers of voxels.\n",
    "    \"scale_in_mm\" : True,\n",
    "    # Indicate whether ticks should be shown on all sides.\n",
    "    \"ticks_all_sides\": True,\n",
    "    # Include y-tick labels for all plots, not only the first.\n",
    "    \"ytick_labels_first_only\": False,\n",
    "    # Specify zoom factor.\n",
    "    \"zoom\": 1.5,\n",
    "    # Set grey-level minimum and maximum (Hounsfield units).\n",
    "    \"intensity\": (-200, 300),\n",
    "    # Show probability scale.\n",
    "    \"colorbar\": -2,\n",
    "    # Overlay default image annotation (slice z-coordinate), in white, at default position (top left or image).\n",
    "    \"annotate_slice\": {\"color\": \"white\", \"fontsize\": 28},\n",
    "    # Make display interactive (\"no_ui\": False) or non-interactive (\"no_ui\": True).\n",
    "    \"no_ui\": False,\n",
    "    # Set title.\n",
    "    \"title\": \"\",\n",
    "};"
   ]
  },
  {
   "cell_type": "code",
   "execution_count": null,
   "id": "aeb80ca6-b890-41fd-a38e-48429f93d968",
   "metadata": {},
   "outputs": [],
   "source": [
    "# Define data locations.\n",
    "dcm_dir = Path('~/data/InnerEye/demo/project_data_2022_test_dicom').expanduser()\n",
    "nii_dir = Path('~/data/InnerEye/demo/innereye_results/head_and_neck_pg_sc_dice').expanduser()\n",
    "patient_dirs = sorted([patient_dir for patient_dir in nii_dir.glob('V*') if (dcm_dir / patient_dir.name).exists()])\n",
    "print(f\"Number of patient directories: {len(patient_dirs)}\")"
   ]
  },
  {
   "cell_type": "code",
   "execution_count": null,
   "id": "3526279b-95df-4059-b743-48593306a6d8",
   "metadata": {},
   "outputs": [],
   "source": [
    "# Set index of patient directory to be considered.\n",
    "idx = 0\n",
    "# Create patient object, and extract structure set, from NIfTI data (InnerEye output).\n",
    "p1 = Patient(patient_dirs[idx])\n",
    "ss1 = p1.studies[0].cthd_structure_sets[0]\n",
    "# Create patient object, and extract structure set, from DICOM data.\n",
    "p2 = Patient(dcm_dir / p1.id)\n",
    "ss2 = p2.studies[0].ct_structure_sets[0].filtered_copy(names=head_and_neck_plan, keep_renamed_only=True)\n",
    "ss2.name = \"plan\"\n",
    "# Create combined structure set.\n",
    "ss3 = ss1 + ss2"
   ]
  },
  {
   "cell_type": "code",
   "execution_count": null,
   "id": "8f385727-f674-4ec8-9f94-b9a38d7cb1f5",
   "metadata": {},
   "outputs": [],
   "source": [
    "# Not part of the workflow - just to show the different source types...\n",
    "print(relative_path(ss1.get_rois()[0].path))\n",
    "print(relative_path(ss2.path))"
   ]
  },
  {
   "cell_type": "code",
   "execution_count": null,
   "id": "09ad6078-e9a3-4c8d-96fe-2bfcbd04b5f1",
   "metadata": {},
   "outputs": [],
   "source": [
    "# Compare ROIs.\n",
    "ss1.get_comparison(ss2, metrics=['dice', 'jaccard', 'centroid', 'volume_ratio',\n",
    "                                 'mean_surface_distance', 'hausdorff_distance'])"
   ]
  },
  {
   "cell_type": "code",
   "execution_count": null,
   "id": "d10fa713-b08b-4c18-a4fc-d86a8029a406",
   "metadata": {},
   "outputs": [],
   "source": [
    "# Obtain dictionary of InnerEye posterior probabilities and uncertainty (Shannon entropy).\n",
    "# Cast to doses to allow overlay.\n",
    "innereye_images = get_data_by_filename(p1.studies[0].innereye_images)\n",
    "for key in innereye_images:\n",
    "    image = innereye_images[key]\n",
    "    innereye_images[key] = Dose(image.get_data(standardise=True) / 255,\n",
    "                                affine=image.get_affine(standardise=True))\n",
    "    if \"posterior\" in key:\n",
    "        innereye_images[key]._default_colorbar_label = \"Probability\"\n",
    "    elif \"uncertainty\" in key:\n",
    "        innereye_images[key]._default_colorbar_label = \"Shannon entropy\"\n",
    "\n",
    "print(innereye_images.keys())"
   ]
  },
  {
   "cell_type": "code",
   "execution_count": null,
   "id": "dfae179d-fa1c-4dd8-801b-6cf78d5f654f",
   "metadata": {},
   "outputs": [],
   "source": [
    "# Overlay posterior probability for spinal cord on CT image.\n",
    "ss2.image.view(dose=innereye_images['001_posterior_spinal_cord'],\n",
    "               rois=ss3, dose_kwargs={\"vmin\": 0, \"vmax\": 1},\n",
    "               legend=True, legend_loc=\"center left\", legend_bbox_to_anchor=(1.5, 0.5),\n",
    "               **view_opts);"
   ]
  },
  {
   "cell_type": "code",
   "execution_count": null,
   "id": "ea1d6a1f-1541-4251-9bbe-50fbcbf8f1fd",
   "metadata": {},
   "outputs": [],
   "source": []
  }
 ],
 "metadata": {
  "kernelspec": {
   "display_name": "Python 3 (ipykernel)",
   "language": "python",
   "name": "python3"
  },
  "language_info": {
   "codemirror_mode": {
    "name": "ipython",
    "version": 3
   },
   "file_extension": ".py",
   "mimetype": "text/x-python",
   "name": "python",
   "nbconvert_exporter": "python",
   "pygments_lexer": "ipython3",
   "version": "3.8.13"
  }
 },
 "nbformat": 4,
 "nbformat_minor": 5
}
