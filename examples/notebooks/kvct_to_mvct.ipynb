{
 "cells": [
  {
   "cell_type": "markdown",
   "id": "0d764625-7193-4e61-bb70-fbe948421cce",
   "metadata": {},
   "source": [
    "# Generating synthetic MV CT image from kV CT image\n",
    "\n",
    "This notebook demonstrates the steps for generating an image with the characteristics of a megavoltage (MV) computed-tomography (CT) scan, starting from a (downsampled) kilovoltage (kV) CT scan, used in radiotherapy planning."
   ]
  },
  {
   "cell_type": "code",
   "execution_count": null,
   "id": "52e37d21-173d-4d5f-8efc-5b25433ebdf0",
   "metadata": {},
   "outputs": [],
   "source": [
    "# Import relevant modules, and perform initial setup.\n",
    "\n",
    "from random import randint, shuffle\n",
    "from pathlib import Path\n",
    "\n",
    "from matplotlib.pyplot import rc\n",
    "\n",
    "from skrt import Image, Patient\n",
    "from skrt.better_viewer import BetterViewer\n",
    "\n",
    "# Define paths to data.\n",
    "patient_dir = Path('~/data/head_and_neck/vspecial/3_patients__multiple_structures__all_mv').expanduser();\n",
    "patient_paths = list(patient_dir.glob('VT*'));\n",
    "\n",
    "# Set Matplotlib runtime configuration.\n",
    "# For details of Matplotlib configuration, see:\n",
    "# https://matplotlib.org/stable/tutorials/introductory/customizing.html\n",
    "# Sizes are in points.\n",
    "\n",
    "# For axes, set spacing (pad) and size of label and title\n",
    "rc(\"axes\", labelpad=0, labelsize=25, titlepad=17, titlesize=25);\n",
    "\n",
    "# Set default text charactieristics.\n",
    "# Possible weight values are:\n",
    "# 100, 200, 300, 400 / \"normal\", 500, 600, 700 / \"bold\", 800, 900.\n",
    "rc(\"font\", family=\"serif\", serif=[\"Times\"], size=20, weight=400);\n",
    "\n",
    "# Set mathematics typeface when using matplotlib's built-in fonts.\n",
    "rc(\"mathtext\", fontset=\"dejavuserif\");\n",
    "\n",
    "# Use TeX/LaTeX for typesetting.  (This requires working TeX/LaTeX installation.)\n",
    "rc(\"text\", usetex=True)\n",
    "\n",
    "# For ticks, set label size and direction (\"in\", \"out\", \"inout\").\n",
    "rc((\"xtick\", \"ytick\"), labelsize=25, direction=\"out\");\n",
    "\n",
    "# For major and minor ticks, set size and width.\n",
    "# For major ticks, set spacing (pad) of label.\n",
    "rc((\"xtick.major\"), pad=3);\n",
    "rc((\"xtick.major\", \"ytick.major\"), size=9, width=1.0);\n",
    "rc((\"xtick.minor\", \"ytick.minor\"), size=4.5, width=1.0);\n",
    "rc((\"ytick.major\"), pad=2);\n",
    "\n",
    "# Create dictionary of BetterViewer image-display options.\n",
    "view_opts = {\n",
    "    # Set figure size in inches.\n",
    "    \"figsize\": (18, 8),\n",
    "    # Show major ticks at specified interval (axis units).\n",
    "    \"major_ticks\": 60,\n",
    "    # Show minor ticks for specified number of intervals between major ticks.\n",
    "    \"minor_ticks\": 5,\n",
    "    # Indicate whether axis units should be mm or numbers of voxels.\n",
    "    \"scale_in_mm\" : True,\n",
    "    # Indicate whether ticks should be shown on all sides.\n",
    "    \"ticks_all_sides\": True,\n",
    "    # Include y-tick labels for all plots, not only the first.\n",
    "    \"ytick_labels_first_only\": False,\n",
    "    # Specify zoom factor.\n",
    "    \"zoom\": 1.5,\n",
    "    # Set grey-level minimum and maximum (Hounsfield units).\n",
    "    \"intensity\": (-200, 300),\n",
    "    # Show grey-level scale.\n",
    "    \"colorbar\": True,\n",
    "    # Overlay default image annotation (slice z-coordinate), in white, at default position (top left or image).\n",
    "    \"annotate_slice\": {\"color\": \"white\", \"fontsize\": 28},\n",
    "    # Make display interactive (\"no_ui\": False) or non-interactive (\"no_ui\": True).\n",
    "    \"no_ui\": True,\n",
    "    # Set titles.\n",
    "    \"title\": [\"kV CT\", \"MV CT\"],\n",
    "};"
   ]
  },
  {
   "cell_type": "markdown",
   "id": "6b75f520-b846-49d6-9c75-b95d2e2bacf8",
   "metadata": {},
   "source": [
    "Load patient data."
   ]
  },
  {
   "cell_type": "code",
   "execution_count": null,
   "id": "eadb3ecb-6a6c-4e13-9523-49b0999449b6",
   "metadata": {},
   "outputs": [],
   "source": [
    "p = Patient(patient_paths[0]);"
   ]
  },
  {
   "cell_type": "markdown",
   "id": "18409362-702c-4a69-95df-63e128cd3672",
   "metadata": {},
   "source": [
    "Access Image objects for kV CT scan and MV CT scan, print out image geometries, different for the two CT scans, and display the images as loaded.  The centre slice is shown in each case, so that the slice coordinate and anatomical location are different. "
   ]
  },
  {
   "cell_type": "code",
   "execution_count": null,
   "id": "46caba2b-6896-4772-b784-fe0f3be56257",
   "metadata": {},
   "outputs": [],
   "source": [
    "ct = p.studies[0].ct_images[0];\n",
    "mvct = p.studies[0].mvct_images[0];\n",
    "\n",
    "ct.print_geometry();\n",
    "print();\n",
    "mvct.print_geometry();\n",
    "\n",
    "BetterViewer(images=[ct, mvct], **view_opts);"
   ]
  },
  {
   "cell_type": "markdown",
   "id": "bef414e7-4b6b-4d79-8740-550d1e81795f",
   "metadata": {},
   "source": [
    "Remove from the kV CT scan the virtual bolus added at the time of treatment planning to influence the treatment optimisation."
   ]
  },
  {
   "cell_type": "code",
   "execution_count": null,
   "id": "8495f981-9345-421b-a30c-4c47facd4cfa",
   "metadata": {},
   "outputs": [],
   "source": [
    "ct.remove_bolus();\n",
    "BetterViewer(images=[ct, mvct], **view_opts);"
   ]
  },
  {
   "cell_type": "markdown",
   "id": "48418e53-f31d-40db-bf4e-380693c02a11",
   "metadata": {},
   "source": [
    "Apply masks to select only the foregrounds of the two images."
   ]
  },
  {
   "cell_type": "code",
   "execution_count": null,
   "id": "cba329e8-ddfd-4726-83a0-390ffedfb2c6",
   "metadata": {},
   "outputs": [],
   "source": [
    "ct.select_foreground();\n",
    "mvct.select_foreground();\n",
    "BetterViewer(images=[ct, mvct], **view_opts);"
   ]
  },
  {
   "cell_type": "markdown",
   "id": "7816e9c1-798c-4611-8986-5eb47bb5075a",
   "metadata": {},
   "source": [
    "Resize the kV CT image, so as to match the geometry of the MV CT image.  The centre slices of the two images now have the same coordinate, and correspond to approximately the same anatomical location."
   ]
  },
  {
   "cell_type": "code",
   "execution_count": null,
   "id": "89982451-2390-434e-add9-63b480f7b90e",
   "metadata": {},
   "outputs": [],
   "source": [
    "ct.match_size(mvct);\n",
    "\n",
    "ct.print_geometry();\n",
    "print();\n",
    "mvct.print_geometry();\n",
    "\n",
    "BetterViewer(images=[ct, mvct], **view_opts);"
   ]
  },
  {
   "cell_type": "markdown",
   "id": "68ee9ef5-28f4-459f-b92d-519e05d22105",
   "metadata": {},
   "source": [
    "Map from radiodensities for kV X-rays to radiodensities for MV X-rays."
   ]
  },
  {
   "cell_type": "code",
   "execution_count": null,
   "id": "e030d8bd-8e6f-4139-a14f-11e474a8d370",
   "metadata": {},
   "outputs": [],
   "source": [
    "ct.map_hu('kv_to_mv');\n",
    "BetterViewer(images=[ct, mvct], **view_opts)"
   ]
  },
  {
   "cell_type": "markdown",
   "id": "23fd0f72-0903-4311-9e9d-09fb0347259c",
   "metadata": {},
   "source": [
    "Add noise at the level of image sinograms."
   ]
  },
  {
   "cell_type": "code",
   "execution_count": null,
   "id": "44d1db79-1152-43ae-aa80-e5951ffda707",
   "metadata": {},
   "outputs": [],
   "source": [
    "ct.add_sinogram_noise();"
   ]
  },
  {
   "cell_type": "markdown",
   "id": "908ac0dd-9175-4817-a55c-89729a43c11b",
   "metadata": {},
   "source": [
    "Display image slice selected at random, randomising also the order of transformed kV CT image and MV CT image."
   ]
  },
  {
   "cell_type": "code",
   "execution_count": null,
   "id": "937c326e-442b-4cc4-952d-b02bf98f60b8",
   "metadata": {},
   "outputs": [],
   "source": [
    "images = [ct, mvct];\n",
    "init_slice = randint(1, ct.get_n_voxels()[2]);\n",
    "shuffle(images);\n",
    "view_opts[\"title\"] = [\"\", \"\"]\n",
    "BetterViewer(images=images, init_slice=init_slice, **view_opts);"
   ]
  },
  {
   "cell_type": "markdown",
   "id": "5f115fec-24af-4334-8900-733d3653c49e",
   "metadata": {},
   "source": [
    "Reveal which is the transformed kV CT image and which is the MV CT image."
   ]
  },
  {
   "cell_type": "code",
   "execution_count": null,
   "id": "b638a3f9-8c0f-4309-8d04-cbc1a8cd91f3",
   "metadata": {},
   "outputs": [],
   "source": [
    "print(f'left: {images[0].image_type}; right: {images[1].image_type}');"
   ]
  },
  {
   "cell_type": "markdown",
   "id": "db160a9e-6eaa-449d-9415-99e8f26f8b69",
   "metadata": {},
   "source": [
    "The result is an image that has the characteristics of an MV CT image, and for which regions of interest were outlined at planning time."
   ]
  },
  {
   "cell_type": "code",
   "execution_count": null,
   "id": "06451ce4-100c-4cd1-9172-2876ad5ab81f",
   "metadata": {},
   "outputs": [],
   "source": [
    "view_opts[\"title\"] = [\"Transformed kV CT\"]\n",
    "ct.structure_sets[0].view(**view_opts);"
   ]
  }
 ],
 "metadata": {
  "kernelspec": {
   "display_name": "Python 3 (ipykernel)",
   "language": "python",
   "name": "python3"
  },
  "language_info": {
   "codemirror_mode": {
    "name": "ipython",
    "version": 3
   },
   "file_extension": ".py",
   "mimetype": "text/x-python",
   "name": "python",
   "nbconvert_exporter": "python",
   "pygments_lexer": "ipython3",
   "version": "3.8.13"
  }
 },
 "nbformat": 4,
 "nbformat_minor": 5
}
