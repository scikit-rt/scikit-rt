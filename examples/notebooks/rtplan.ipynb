{
 "cells": [
  {
   "cell_type": "markdown",
   "id": "d95fb53c-1a16-498b-8968-5dabdc62a739",
   "metadata": {},
   "source": [
    "## Accessing plan information\n",
    "\n",
    "This notebook demonstrates how to access some of the information in a radiotherapy plan."
   ]
  },
  {
   "cell_type": "code",
   "execution_count": null,
   "id": "e11f9724-f9b0-4920-8810-70c2213058d2",
   "metadata": {},
   "outputs": [],
   "source": [
    "# import required classes\n",
    "from pathlib import Path\n",
    "\n",
    "from skrt import Patient\n",
    "from skrt.better_viewer import BetterViewer"
   ]
  },
  {
   "cell_type": "markdown",
   "id": "931d762b-0560-4f67-a4ed-4b5463d0bcbb",
   "metadata": {},
   "source": [
    "## Define references to data of interest."
   ]
  },
  {
   "cell_type": "code",
   "execution_count": null,
   "id": "a07a19ff-e402-4f62-a06d-5acff38a5418",
   "metadata": {},
   "outputs": [],
   "source": [
    "# Define paths to patient data.\n",
    "data_dir = Path('~/data/head_and_neck/vspecial/3_patients__multiple_structures__all_mv').expanduser()\n",
    "paths = list(data_dir.glob('VT*'))\n",
    "\n",
    "# Load patient dataset.\n",
    "patient = Patient(paths[0])\n",
    "\n",
    "# Load (earliest) radiotherapy plan.\n",
    "plan = patient.combined_objs('plan_types')[0]\n",
    "plan.load()"
   ]
  },
  {
   "cell_type": "markdown",
   "id": "2a0c2814-ac6f-498d-947f-ca7be8f6012c",
   "metadata": {},
   "source": [
    "## Print attributes of patient and study."
   ]
  },
  {
   "cell_type": "code",
   "execution_count": null,
   "id": "eadb3ecb-6a6c-4e13-9523-49b0999449b6",
   "metadata": {},
   "outputs": [],
   "source": [
    "patient.print(depth=1)"
   ]
  },
  {
   "cell_type": "markdown",
   "id": "95638e93-d2b0-4da4-a168-2fa1859d8254",
   "metadata": {},
   "source": [
    "## Print plan attributes"
   ]
  },
  {
   "cell_type": "code",
   "execution_count": null,
   "id": "4526dbab-6d54-45e3-b7fb-5d95a1fa29fc",
   "metadata": {},
   "outputs": [],
   "source": [
    "plan.print(depth=0)"
   ]
  },
  {
   "cell_type": "markdown",
   "id": "26f038c2-d3a4-4e3d-b868-84e7824edd9f",
   "metadata": {},
   "source": [
    "## Print names and dose constraints for organs at risk."
   ]
  },
  {
   "cell_type": "code",
   "execution_count": null,
   "id": "e42512ac-5701-4c26-b8c2-1dceef5b96d3",
   "metadata": {},
   "outputs": [],
   "source": [
    "for roi in plan.get_organs_at_risk():\n",
    "    print(roi.get_name())\n",
    "    print(roi.constraint)"
   ]
  },
  {
   "cell_type": "markdown",
   "id": "b2286048-5e79-4da0-bc6c-5b91366feb42",
   "metadata": {},
   "source": [
    "## Display dose constraints and dose plan"
   ]
  },
  {
   "cell_type": "code",
   "execution_count": null,
   "id": "5118c1a0-05ad-4518-adc2-2ab718b640d5",
   "metadata": {},
   "outputs": [],
   "source": [
    "BetterViewer(images=[plan.image, plan.image],\n",
    "             dose=[plan.get_dose_objective(), plan.doses[0]],\n",
    "             title=[\"\", \"\"], intensity=(-200, 300), colorbar=-1, zoom_ui=True,\n",
    "             zoom=2)"
   ]
  }
 ],
 "metadata": {
  "kernelspec": {
   "display_name": "Python 3 (ipykernel)",
   "language": "python",
   "name": "python3"
  },
  "language_info": {
   "codemirror_mode": {
    "name": "ipython",
    "version": 3
   },
   "file_extension": ".py",
   "mimetype": "text/x-python",
   "name": "python",
   "nbconvert_exporter": "python",
   "pygments_lexer": "ipython3",
   "version": "3.8.13"
  }
 },
 "nbformat": 4,
 "nbformat_minor": 5
}
