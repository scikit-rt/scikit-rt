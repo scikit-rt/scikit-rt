{
 "cells": [
  {
   "cell_type": "markdown",
   "id": "12fc2715-f229-4619-bc82-a936fa66e175",
   "metadata": {},
   "source": [
    "# ROIs corresponding to dose volumes\n",
    "\n",
    "This notebook demonstrates how to create Scikit-rt ROI object corresponding to volume receiving a specified dose.  It uses the dataset:\n",
    "\n",
    "Peihan Li, \"SPECT_CT_data.zip\", Figshare dataset (2020)<br/>\n",
    "https://doi.org/10.6084/m9.figshare.12579707.v1\n",
    "\n",
    "**Note:** If not already present on the computer where this notebook is run, the dataset will be downloaded to the directory specified by `topdir` in the\n",
    "first code cell below.  The download file has a size of 1.6 GB, so download may\n",
    "take a while."
   ]
  },
  {
   "cell_type": "markdown",
   "id": "d8df90fa-d864-4640-a04f-ac027e928234",
   "metadata": {},
   "source": [
    "## Module import and data download\n",
    "\n",
    "The following imports modules needed for this demo, defines the path\n",
    "to the data directory, and downloads the demo dataset if not already present, and sets some viewer options."
   ]
  },
  {
   "cell_type": "code",
   "execution_count": 1,
   "id": "31618b89-bf40-494a-b103-3c90b0462480",
   "metadata": {},
   "outputs": [],
   "source": [
    "from pathlib import Path\n",
    "\n",
    "import matplotlib.pyplot as plt\n",
    "import pandas as pd\n",
    "\n",
    "from skrt import Patient, set_viewer_options, ROI, StructureSet\n",
    "from skrt.core import download\n",
    "from skrt.dose import sum_doses\n",
    "\n",
    "# Define URL of source dataset, and local data directory.\n",
    "url = \"https://figshare.com/ndownloader/files/23528954/SPECT_CT_data.zip\"\n",
    "topdir = Path(\"~/data/spect_ct\").expanduser()\n",
    "datadir = topdir / Path(url).stem\n",
    "\n",
    "# Download dataset if not already present.\n",
    "if not datadir.exists():\n",
    "    download(url, topdir, unzip=True)\n",
    "    \n",
    "# Set Matplotlib runtime configuration (optional).\n",
    "set_viewer_options()\n",
    "\n",
    "# Indicate whether to show user interface for image viewer.\n",
    "no_ui = False"
   ]
  },
  {
   "cell_type": "markdown",
   "id": "0b80426e-16e5-4505-9a84-07be30eea9b1",
   "metadata": {},
   "source": [
    "## Reading patient data\n",
    "\n",
    "The following demonstrates creation of a sorted list of paths to patient folders, reading of the data for a single [Patient](https://scikit-rt.github.io/scikit-rt/skrt.patient.html#skrt.patient.Patient), and identification of the [Study](https://scikit-rt.github.io/scikit-rt/skrt.patient.html#skrt.patient.Study) containing data of interest here: CT image and dose from radiotherapy planning."
   ]
  },
  {
   "cell_type": "code",
   "execution_count": 2,
   "id": "af89bc10-2757-47da-81e1-98dc9118d625",
   "metadata": {},
   "outputs": [],
   "source": [
    "# Obtain sorted list of paths to patient folders.\n",
    "paths = sorted(list(datadir.glob(\"0*\")))\n",
    "\n",
    "# Define index for path to patient folder of interest.\n",
    "idx = 0\n",
    "\n",
    "# Read patient data.\n",
    "patient = Patient(paths[idx], unsorted_dicom=True)\n",
    "\n",
    "# Identify study containing ct_image, ct_structure_set, ct_dose.\n",
    "# If no study contains all of these data types,\n",
    "# an exception will be raised.\n",
    "for study in patient.studies + [None]:\n",
    "    if all([\"ct\" in getattr(study, f\"{dtype}_types\", [])\n",
    "            for dtype in [\"image\", \"dose\"]]):\n",
    "        break\n",
    "\n",
    "if study is None:\n",
    "    raise RuntimeError(\"No study found with required data types\")"
   ]
  },
  {
   "cell_type": "markdown",
   "id": "31b0ef1a-2a96-4621-96b9-ed13649706c3",
   "metadata": {},
   "source": [
    "## Obtaining references to CT image and dose\n",
    "\n",
    "The following demonstrates how to obtain references to data objects.  Printing an object will list the object's attributes, and their values."
   ]
  },
  {
   "cell_type": "code",
   "execution_count": 3,
   "id": "448471b7-35d9-4d96-8c07-c15ab705b094",
   "metadata": {},
   "outputs": [],
   "source": [
    "# Obtain reference to earliest CT image. \n",
    "im = study.ct_images[0]\n",
    "\n",
    "# Obtain sum of image-associated doses.\n",
    "dose = sum_doses(im.doses)\n",
    "\n",
    "# Ensure that the dose array has the same geometry as the image array.\n",
    "dose.match_size(im)\n",
    "dose.image = im"
   ]
  },
  {
   "cell_type": "markdown",
   "id": "54894e01-bbd4-42b7-9d65-0eb14274caa3",
   "metadata": {},
   "source": [
    "## Creating and plotting ROIs corresponding to dose volumes\n",
    "\n",
    "The following demonstrates creation of ROIs corresponding to volumes receiving specified doses, creation of a StructureSet from these ROIs."
   ]
  },
  {
   "cell_type": "code",
   "execution_count": 4,
   "id": "60562a27-973e-4f04-a444-a77702fbfba2",
   "metadata": {},
   "outputs": [
    {
     "data": {
      "application/vnd.jupyter.widget-view+json": {
       "model_id": "c8aef7ac23fb4afe9a84cbcc947fc228",
       "version_major": 2,
       "version_minor": 0
      },
      "text/plain": [
       "VBox(children=(HBox(children=(VBox(children=(RadioButtons(description='Slice plane selection:', options=('x-y'…"
      ]
     },
     "metadata": {},
     "output_type": "display_data"
    },
    {
     "data": {
      "application/vnd.jupyter.widget-view+json": {
       "model_id": "35c933c32211496d8b21366e555187c3",
       "version_major": 2,
       "version_minor": 0
      },
      "text/plain": [
       "Output()"
      ]
     },
     "metadata": {},
     "output_type": "display_data"
    },
    {
     "data": {
      "application/vnd.jupyter.widget-view+json": {
       "model_id": "6ffce3fc6e5c46b5991a42a2f490550f",
       "version_major": 2,
       "version_minor": 0
      },
      "text/plain": [
       "VBox(children=(HBox(children=(HTML(value='\\n        <head>\\n            <style>\\n                th, td {\\n   …"
      ]
     },
     "metadata": {},
     "output_type": "display_data"
    }
   ],
   "source": [
    "# Create ROI corresponding to dose between 40 Gy and 50 Gy.\n",
    "dose_40_50 = ROI(dose.get_intensity_mask(40, 50), color=\"gold\", name=\"dose_40_50\")\n",
    "\n",
    "# Create ROI corresponding to dose greater than 50 Gy.\n",
    "dose_50 = ROI(dose.get_intensity_mask(50), color=\"crimson\", name=\"dose_50+\")\n",
    "\n",
    "# Create StructureSet object.\n",
    "ss = StructureSet([dose_40_50, dose_50], name=\"dose_volumes\")\n",
    "\n",
    "# Display images with (left) dose ROIs and (right) dose overain.\n",
    "im.view(images=im, dose=[None, dose], rois=ss, roi_plot_type=\"filled\",\n",
    "        roi_opacity=0.8, legend=True, colorbar=-1, figsize=(18, 7), no_ui=no_ui);"
   ]
  }
 ],
 "metadata": {
  "kernelspec": {
   "display_name": "Python 3 (ipykernel)",
   "language": "python",
   "name": "python3"
  },
  "language_info": {
   "codemirror_mode": {
    "name": "ipython",
    "version": 3
   },
   "file_extension": ".py",
   "mimetype": "text/x-python",
   "name": "python",
   "nbconvert_exporter": "python",
   "pygments_lexer": "ipython3",
   "version": "3.8.15"
  }
 },
 "nbformat": 4,
 "nbformat_minor": 5
}
