{
 "cells": [
  {
   "cell_type": "markdown",
   "id": "12fc2715-f229-4619-bc82-a936fa66e175",
   "metadata": {},
   "source": [
    "# Scikit-rt plotting demo\n",
    "\n",
    "This notebook demonstrates some scikit-rt plotting capabilities, using the dataset:\n",
    "\n",
    "Peihan Li, \"SPECT_CT_data.zip\", Figshare dataset (2020)<br/>\n",
    "https://doi.org/10.6084/m9.figshare.12579707.v1\n",
    "\n",
    "If not alread present on the computer where this notebook is run, the dataset will be downloaded to the directory specified by `topdir` below."
   ]
  },
  {
   "cell_type": "code",
   "execution_count": 1,
   "id": "31618b89-bf40-494a-b103-3c90b0462480",
   "metadata": {},
   "outputs": [],
   "source": [
    "from pathlib import Path\n",
    "\n",
    "import matplotlib.pyplot as plt\n",
    "\n",
    "from skrt import Patient\n",
    "from skrt.core import download\n",
    "from skrt.dose import sum_doses\n",
    "\n",
    "# Define URL of source dataset, and local data directory.\n",
    "url = \"https://figshare.com/ndownloader/files/23528954/SPECT_CT_data.zip\"\n",
    "topdir = Path(\"~/data/spect_ct\").expanduser()\n",
    "datadir = topdir / Path(url).stem\n",
    "\n",
    "# Download dataset if not already present.\n",
    "if not datadir.exists():\n",
    "    download(url, topdir, unzip=True)"
   ]
  },
  {
   "cell_type": "code",
   "execution_count": 2,
   "id": "959c6721-22ce-44f4-8dad-80241c9dab8c",
   "metadata": {},
   "outputs": [],
   "source": [
    "# Set Matplotlib runtime configuration.\n",
    "# For details of Matplotlib configuration, see:\n",
    "# https://matplotlib.org/stable/tutorials/introductory/customizing.html\n",
    "# Sizes are in points.\n",
    "\n",
    "# For axes, set spacing (pad) and size of label and title\n",
    "plt.rc(\"axes\", labelpad=0, labelsize=25, titlepad=17, titlesize=25)\n",
    "\n",
    "# Set default text charactieristics.\n",
    "# Possible weight values are:\n",
    "# 100, 200, 300, 400 / \"normal\", 500, 600, 700 / \"bold\", 800, 900.\n",
    "plt.rc(\"font\", family=\"serif\", serif=[\"Times\"], size=20, weight=400)\n",
    "\n",
    "# Set mathematics typeface when using matplotlib's built-in fonts.\n",
    "plt.rc(\"mathtext\", fontset=\"dejavuserif\")\n",
    "\n",
    "# Use TeX/LaTeX for typesetting.  (This requires working TeX/LaTeX installation.)\n",
    "plt.rc(\"text\", usetex=True)\n",
    "\n",
    "# Set fontsize for legend labels.\n",
    "plt.rc(\"legend\", fontsize=17)\n",
    "\n",
    "# For ticks, set label size and direction (\"in\", \"out\", \"inout\").\n",
    "plt.rc((\"xtick\", \"ytick\"), labelsize=25, direction=\"out\")\n",
    "\n",
    "# For major and minor ticks, set size and width.\n",
    "# For major ticks, set spacing (pad) of label.\n",
    "plt.rc((\"xtick.major\"), pad=3)\n",
    "plt.rc((\"xtick.major\", \"ytick.major\"), size=9, width=1.0)\n",
    "plt.rc((\"xtick.minor\", \"ytick.minor\"), size=4.5, width=1.0)\n",
    "plt.rc((\"ytick.major\"), pad=2)"
   ]
  },
  {
   "cell_type": "code",
   "execution_count": 3,
   "id": "c6f9638e-e02a-4c42-9011-37093fdc96df",
   "metadata": {},
   "outputs": [],
   "source": [
    "# Create dictionary of default plotting options.\n",
    "kwargs = {\n",
    "    # Make plots interactive (\"no_ui\": False) or non-interactive (\"no_ui\": True).\n",
    "    \"no_ui\": False,\n",
    "    # Set figure size in inches.\n",
    "    \"figsize\": (10, 6),\n",
    "    # Show major ticks at specified interval (axis units).\n",
    "    \"major_ticks\": 60,\n",
    "    # Show minor ticks for specified number of intervals between major ticks.\n",
    "    \"minor_ticks\": 5,\n",
    "    # Indicate whether axis units should be mm or numbers of voxels.\n",
    "    \"scale_in_mm\" : True,\n",
    "    # Indicate whether ticks should be shown on all sides.\n",
    "    \"ticks_all_sides\": True,\n",
    "    # Specify zoom factor.\n",
    "    \"zoom\": 2.0,\n",
    "}\n",
    "\n",
    "# Set fontsize for annotations.\n",
    "# Value set via plt.rc(\"font\", size=20) seems not to be applied consistently.\n",
    "annotation_fontsize = 20"
   ]
  },
  {
   "cell_type": "code",
   "execution_count": 4,
   "id": "401fc2fc-374b-4416-9160-a219185a38eb",
   "metadata": {},
   "outputs": [],
   "source": [
    "# Obtain sorted list of paths to patient folders.\n",
    "paths = sorted(list(datadir.glob(\"0*\")))"
   ]
  },
  {
   "cell_type": "code",
   "execution_count": 5,
   "id": "af89bc10-2757-47da-81e1-98dc9118d625",
   "metadata": {},
   "outputs": [],
   "source": [
    "# Define index for path to patient folder of interest.\n",
    "idx = 0\n",
    "\n",
    "# Read patient data.\n",
    "patient = Patient(paths[idx], unsorted_dicom=True)"
   ]
  },
  {
   "cell_type": "code",
   "execution_count": 6,
   "id": "804ce0f2-9bff-4264-9eea-85e9f0bae99e",
   "metadata": {},
   "outputs": [],
   "source": [
    "# Identify study containing ct_image, ct_structure_set, ct_dose.\n",
    "# If no study contains all of these data types,\n",
    "# an exception will be raised.\n",
    "for study in patient.studies + [None]:\n",
    "    if all([\"ct\" in getattr(study, f\"{dtype}_types\", [])\n",
    "            for dtype in [\"image\", \"structure_set\", \"dose\"]]):\n",
    "        break\n",
    "\n",
    "if study is None:\n",
    "    raise RuntimeError(\"No study found with required data types\")"
   ]
  },
  {
   "cell_type": "code",
   "execution_count": 7,
   "id": "448471b7-35d9-4d96-8c07-c15ab705b094",
   "metadata": {},
   "outputs": [],
   "source": [
    "# Obtain reference to earliest CT image. \n",
    "im = study.ct_images[0]\n",
    "\n",
    "# Obtain reference to earliest structure set associated with CT image.\n",
    "ss = im.structure_sets[0]\n",
    "\n",
    "# Obtain sum of image-associated doses.\n",
    "dose = sum_doses(im.doses)\n",
    "\n",
    "# Ensure that dose has same geometry as image.\n",
    "dose.match_size(im)\n",
    "dose.image = im"
   ]
  },
  {
   "cell_type": "code",
   "execution_count": 8,
   "id": "d4a5532a-afb8-4fbd-a022-da4516804b96",
   "metadata": {},
   "outputs": [
    {
     "data": {
      "application/vnd.jupyter.widget-view+json": {
       "model_id": "3320973cfbb14e2c80762266106d0951",
       "version_major": 2,
       "version_minor": 0
      },
      "text/plain": [
       "VBox(children=(HBox(children=(VBox(children=(RadioButtons(description='Slice plane selection:', options=('x-y'…"
      ]
     },
     "metadata": {},
     "output_type": "display_data"
    },
    {
     "data": {
      "application/vnd.jupyter.widget-view+json": {
       "model_id": "62093600262e4379b0705520e71122a0",
       "version_major": 2,
       "version_minor": 0
      },
      "text/plain": [
       "Output()"
      ]
     },
     "metadata": {},
     "output_type": "display_data"
    },
    {
     "data": {
      "application/vnd.jupyter.widget-view+json": {
       "model_id": "a5faf904dfe44d2faf248633cc45fc8b",
       "version_major": 2,
       "version_minor": 0
      },
      "text/plain": [
       "VBox(children=(HBox(children=(HTML(value='\\n        <head>\\n            <style>\\n                th, td {\\n   …"
      ]
     },
     "metadata": {},
     "output_type": "display_data"
    }
   ],
   "source": [
    "# Plot image with structure set overlain, and with off-image legend.\n",
    "\n",
    "# Overlay default annotation, in black, at default position.\n",
    "# For list of named colours, see:\n",
    "#     https://matplotlib.org/stable/gallery/color/named_colors.html\n",
    "kwargs[\"annotate_slice\"] = {\"color\": 'yellow', \"fontsize\": annotation_fontsize}\n",
    "\n",
    "# Plot image:\n",
    "# sl=70 : plot slice 70;\n",
    "# title=\"\" : omit title;\n",
    "# rois=ss : overlay structure set;\n",
    "# colorbar=1 : show colour bar for image.\n",
    "# legend=True : show legend identifying ROIs of structure set.\n",
    "# legend_loc=\"center left\" : Use centre left of legend as reference point for fixing its location.\n",
    "# legend_bbox_to_anchor=(1.5, 0.5) : Coordinates of legend reference point, in system where image axes extend from 0 to 1.\n",
    "\n",
    "im.view(init_sl=70, title=\"\", rois=ss, colorbar=1,\n",
    "        legend=True, legend_loc=\"center left\", legend_bbox_to_anchor=(1.5, 0.5), **kwargs);"
   ]
  },
  {
   "cell_type": "code",
   "execution_count": 9,
   "id": "d262b303-cc23-493e-b09f-8a8567de2f40",
   "metadata": {},
   "outputs": [
    {
     "data": {
      "application/vnd.jupyter.widget-view+json": {
       "model_id": "2ad08c9b4c674ce19f37a1441d861d62",
       "version_major": 2,
       "version_minor": 0
      },
      "text/plain": [
       "VBox(children=(HBox(children=(VBox(children=(RadioButtons(description='Slice plane selection:', options=('x-y'…"
      ]
     },
     "metadata": {},
     "output_type": "display_data"
    },
    {
     "data": {
      "application/vnd.jupyter.widget-view+json": {
       "model_id": "980dc58b80bc48509f9ca6d3e4b39387",
       "version_major": 2,
       "version_minor": 0
      },
      "text/plain": [
       "Output()"
      ]
     },
     "metadata": {},
     "output_type": "display_data"
    },
    {
     "data": {
      "application/vnd.jupyter.widget-view+json": {
       "model_id": "86ec926f7f454320a92bd55f8cbede47",
       "version_major": 2,
       "version_minor": 0
      },
      "text/plain": [
       "VBox(children=(HBox(children=(HTML(value='\\n        <head>\\n            <style>\\n                th, td {\\n   …"
      ]
     },
     "metadata": {},
     "output_type": "display_data"
    }
   ],
   "source": [
    "# Plot image with dose and structure set overlain, and with colour bars.\n",
    "\n",
    "# Overlay user-defined annotation, in black, at default position.\n",
    "# For list of named colours, see:\n",
    "#     https://matplotlib.org/stable/gallery/color/named_colors.html\n",
    "kwargs[\"annotate_slice\"] = {\"text\": \"(a)\", \"color\": 'yellow', \"fontsize\": annotation_fontsize}\n",
    "\n",
    "# Plot image:\n",
    "# sl=60 : plot slice 60;\n",
    "# title=\"\" : omit title;\n",
    "# dose=dose : olverlay dose;\n",
    "# rois=ss : overlay structure set;\n",
    "# colorbar=2 : show colour bars for image and overlay.\n",
    "im.view(init_sl=60, title=\"\", dose=dose, rois=ss, colorbar=2, **kwargs);"
   ]
  },
  {
   "cell_type": "code",
   "execution_count": 10,
   "id": "e10ddb9f-0e2c-44e3-8786-212cf6822d8f",
   "metadata": {},
   "outputs": [
    {
     "data": {
      "application/vnd.jupyter.widget-view+json": {
       "model_id": "c9e3218b41ae4571abe6edf052bf272d",
       "version_major": 2,
       "version_minor": 0
      },
      "text/plain": [
       "VBox(children=(HBox(children=(VBox(children=(RadioButtons(description='Slice plane selection:', options=('x-y'…"
      ]
     },
     "metadata": {},
     "output_type": "display_data"
    },
    {
     "data": {
      "application/vnd.jupyter.widget-view+json": {
       "model_id": "b6f4e539a1684bf3b3597273dbce32ed",
       "version_major": 2,
       "version_minor": 0
      },
      "text/plain": [
       "Output()"
      ]
     },
     "metadata": {},
     "output_type": "display_data"
    },
    {
     "data": {
      "application/vnd.jupyter.widget-view+json": {
       "model_id": "9345ea03e2d5479d843da9e275a3963b",
       "version_major": 2,
       "version_minor": 0
      },
      "text/plain": [
       "VBox(children=(HBox(children=(HTML(value='\\n        <head>\\n            <style>\\n                th, td {\\n   …"
      ]
     },
     "metadata": {},
     "output_type": "display_data"
    }
   ],
   "source": [
    "# Plot single slice without axis annotations.\n",
    "# In contrast with plotting for no_axis_labels=True, the axes themselves are shown.\n",
    "\n",
    "# Set tick marks to have zero size.\n",
    "plt.rc((\"xtick.major\", \"ytick.major\"), size=0)\n",
    "plt.rc((\"xtick.minor\", \"ytick.minor\"), size=0)\n",
    "\n",
    "# Suppress axis and tick labels.\n",
    "kwargs[\"no_xlabel\"] = True\n",
    "kwargs[\"no_xtick_labels\"] = True\n",
    "kwargs[\"no_ylabel\"] = True\n",
    "kwargs[\"no_ytick_labels\"] = True\n",
    "\n",
    "# Overlay default slice information, in azure, at user-defined position.\n",
    "# For list of named colours, see:\n",
    "#     https://matplotlib.org/stable/gallery/color/named_colors.html\n",
    "kwargs[\"annotate_slice\"] = {'text': None, 'color': 'azure', 'xy': (0.63, 0.93),\n",
    "                            \"fontsize\": annotation_fontsize}\n",
    "\n",
    "# Plot image:\n",
    "# pos=-15 : plot slice at z=-15 mm;\n",
    "# title=\"\" : omit title;\n",
    "# dose=dose : olverlay dose;\n",
    "# rois=ss : overlay structure set;\n",
    "im.view(init_pos=105, title=\"\", dose=dose, rois=ss, **kwargs);"
   ]
  },
  {
   "cell_type": "code",
   "execution_count": 11,
   "id": "f9af860a-cccd-4ad0-adc7-8f797eaef6a7",
   "metadata": {},
   "outputs": [
    {
     "data": {
      "application/vnd.jupyter.widget-view+json": {
       "model_id": "092385b9626c4aa5aa853b2571a3673a",
       "version_major": 2,
       "version_minor": 0
      },
      "text/plain": [
       "VBox(children=(HBox(children=(VBox(children=(RadioButtons(description='Slice plane selection:', options=('x-y'…"
      ]
     },
     "metadata": {},
     "output_type": "display_data"
    },
    {
     "data": {
      "application/vnd.jupyter.widget-view+json": {
       "model_id": "8f9620bf85b144d6b7c059e78951b1c4",
       "version_major": 2,
       "version_minor": 0
      },
      "text/plain": [
       "Output()"
      ]
     },
     "metadata": {},
     "output_type": "display_data"
    },
    {
     "data": {
      "application/vnd.jupyter.widget-view+json": {
       "model_id": "100a48e1df6b4f44b3fdd156f60d63ca",
       "version_major": 2,
       "version_minor": 0
      },
      "text/plain": [
       "VBox(children=(HBox(children=(HTML(value='\\n        <head>\\n            <style>\\n                th, td {\\n   …"
      ]
     },
     "metadata": {},
     "output_type": "display_data"
    }
   ],
   "source": [
    "# Filter rois:\n",
    "rois = ss.filtered_copy({\"ctv\": \"ctv\", \"spinal cord\": \"cord*\", \"left lung\" : \"lung_l1\", \"right lung\": \"lung_r1\"}, keep_renamed_only=True)\n",
    "roi_colours = {\"ctv\": \"lightpink\", \"spinal cord\": \"cyan\", \"left lung\": \"lime\", \"right lung\": \"yellow\"}\n",
    "for roi in rois:    \n",
    "    roi.set_color(roi_colours[roi.name])\n",
    "\n",
    "# For major and minor ticks, set size and width.\n",
    "plt.rc((\"xtick.major\", \"ytick.major\"), size=9, width=1.0)\n",
    "plt.rc((\"xtick.minor\", \"ytick.minor\"), size=4.5, width=1.0)\n",
    "    \n",
    "# Set default font size - small enough that legend doesn't obscure image.\n",
    "plt.rc(\"font\", size=17)\n",
    "    \n",
    "# Suppress axis and tick labels for y axis.\n",
    "kwargs[\"no_xlabel\"] = False\n",
    "kwargs[\"no_xtick_labels\"] = False\n",
    "kwargs[\"no_ylabel\"] = True\n",
    "kwargs[\"no_ytick_labels\"] = True\n",
    "\n",
    "# Show major ticks at specified interval (axis units).\n",
    "kwargs[\"major_ticks\"] = 120\n",
    "# Show minor ticks at specified interval (axis units).\n",
    "kwargs[\"minor_ticks\"] = 6\n",
    "\n",
    "# Specify zoom factor.\n",
    "kwargs[\"zoom\"] = 1.0\n",
    "\n",
    "# Overlay default annotation, in black, at default position.\n",
    "# For list of named colours, see:\n",
    "#     https://matplotlib.org/stable/gallery/color/named_colors.html\n",
    "kwargs[\"annotate_slice\"] = {\"color\": 'yellow', \"fontsize\": annotation_fontsize}\n",
    "\n",
    "# Plot dose:\n",
    "# pos=18 : plot slice at z=18;\n",
    "# title=\"\" : omit title;\n",
    "# include_image=True : underlay associated image;\n",
    "# rois=rois : overlay filtered structure set;\n",
    "# colorbar=2 : show colour bars for dose and underlay.\n",
    "#     => Note that when plotting a dose with image underlay the order of the colour bars is reversed\n",
    "#        with resect to plotting an image with dose overlay.\n",
    "# legend=True : show legend identifying ROIs of structure set.\n",
    "dose.view(init_pos=125, title=\"\", include_image=True, rois=rois, colorbar=2, legend=True, **kwargs);"
   ]
  },
  {
   "cell_type": "code",
   "execution_count": 12,
   "id": "2c05799f-461e-4e10-9acd-bfdfa8632e1f",
   "metadata": {},
   "outputs": [
    {
     "data": {
      "application/vnd.jupyter.widget-view+json": {
       "model_id": "5fda6baeab8e4f34b3fbb47b820d876b",
       "version_major": 2,
       "version_minor": 0
      },
      "text/plain": [
       "VBox(children=(HBox(children=(VBox(children=(RadioButtons(description='Slice plane selection:', index=1, optio…"
      ]
     },
     "metadata": {},
     "output_type": "display_data"
    },
    {
     "data": {
      "application/vnd.jupyter.widget-view+json": {
       "model_id": "9f8000824fc846eda8f8f103286b0d5c",
       "version_major": 2,
       "version_minor": 0
      },
      "text/plain": [
       "Output()"
      ]
     },
     "metadata": {},
     "output_type": "display_data"
    },
    {
     "data": {
      "application/vnd.jupyter.widget-view+json": {
       "model_id": "7a294b96e09542faa9dcd23a61dbf613",
       "version_major": 2,
       "version_minor": 0
      },
      "text/plain": [
       "VBox(children=(HBox(children=(HTML(value='\\n        <head>\\n            <style>\\n                th, td {\\n   …"
      ]
     },
     "metadata": {},
     "output_type": "display_data"
    }
   ],
   "source": [
    "# Include axis and tick labels for both axes.\n",
    "kwargs[\"no_xlabel\"] = False\n",
    "kwargs[\"no_xtick_labels\"] = False\n",
    "kwargs[\"no_ylabel\"] = False\n",
    "kwargs[\"no_ytick_labels\"] = False\n",
    "\n",
    "# Plot image in y-z plane:\n",
    "# pos=9.1 : plot slice at x=57.6;\n",
    "# title=\"\" : omit title;\n",
    "# dose=dose : olverlay dose;\n",
    "# rois=rois : overlay filtered structure set;\n",
    "# colorbar=0 : omit colour bars.\n",
    "im.view(init_view=\"y-z\", init_pos=57.6, title=\"\", dose=dose, rois=rois, colorbar=0, **kwargs);"
   ]
  },
  {
   "cell_type": "code",
   "execution_count": 13,
   "id": "51cb8b6b-7dfa-48b2-933b-3b9d02b2fcd7",
   "metadata": {},
   "outputs": [
    {
     "data": {
      "application/vnd.jupyter.widget-view+json": {
       "model_id": "9234e7ee06a849a6b37e3fd6f2e51584",
       "version_major": 2,
       "version_minor": 0
      },
      "text/plain": [
       "VBox(children=(HBox(children=(VBox(children=(RadioButtons(description='Slice plane selection:', index=2, optio…"
      ]
     },
     "metadata": {},
     "output_type": "display_data"
    },
    {
     "data": {
      "application/vnd.jupyter.widget-view+json": {
       "model_id": "e9a20d51414840a693b53c853a26763b",
       "version_major": 2,
       "version_minor": 0
      },
      "text/plain": [
       "Output()"
      ]
     },
     "metadata": {},
     "output_type": "display_data"
    },
    {
     "data": {
      "application/vnd.jupyter.widget-view+json": {
       "model_id": "1ff276bae08d4016881f850d5e66a18c",
       "version_major": 2,
       "version_minor": 0
      },
      "text/plain": [
       "VBox(children=(HBox(children=(HTML(value='\\n        <head>\\n            <style>\\n                th, td {\\n   …"
      ]
     },
     "metadata": {},
     "output_type": "display_data"
    }
   ],
   "source": [
    "# Make this plot interactive.\n",
    "kwargs[\"no_ui\"] = False\n",
    "\n",
    "# Plot image in x-z plane:\n",
    "# pos=9.1 : plot slice at y=-10.7;\n",
    "# title=\"\" : omit title;\n",
    "# dose=dose : olverlay dose;\n",
    "# rois=rois : overlay filtered structure set;\n",
    "# colorbar=0 : omit colour bars.\n",
    "im.view(init_view=\"x-z\", pos=-10.7, title=\"\", dose=dose, rois=rois, colorbar=0, **kwargs);"
   ]
  },
  {
   "cell_type": "code",
   "execution_count": 14,
   "id": "f700c2a1-03ee-4cc4-b587-e417dd533c43",
   "metadata": {},
   "outputs": [
    {
     "data": {
      "image/png": "[encoded data removed]",
      "text/plain": [
       "<Figure size 576x288 with 1 Axes>"
      ]
     },
     "metadata": {
      "needs_background": "light"
     },
     "output_type": "display_data"
    }
   ],
   "source": [
    "# Plot dose-volume histograms for ROIs.\n",
    "dose.plot_dvh(rois=rois, bins=500);"
   ]
  }
 ],
 "metadata": {
  "kernelspec": {
   "display_name": "Python 3 (ipykernel)",
   "language": "python",
   "name": "python3"
  },
  "language_info": {
   "codemirror_mode": {
    "name": "ipython",
    "version": 3
   },
   "file_extension": ".py",
   "mimetype": "text/x-python",
   "name": "python",
   "nbconvert_exporter": "python",
   "pygments_lexer": "ipython3",
   "version": "3.8.15"
  }
 },
 "nbformat": 4,
 "nbformat_minor": 5
}
