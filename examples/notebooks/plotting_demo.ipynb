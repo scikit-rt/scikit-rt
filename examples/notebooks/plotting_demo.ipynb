{
 "cells": [
  {
   "cell_type": "code",
   "execution_count": null,
   "id": "ddb9c8b4-6a1a-4a0b-846c-19eeda882a77",
   "metadata": {},
   "outputs": [],
   "source": [
    "from pathlib import Path\n",
    "\n",
    "import matplotlib.pyplot as plt\n",
    "\n",
    "from skrt import Patient\n",
    "\n",
    "path = Path(\"~/data/head_and_neck/consolidation/VT1_H_00BE02K1\").expanduser()\n",
    "p = Patient(path)"
   ]
  },
  {
   "cell_type": "code",
   "execution_count": null,
   "id": "448471b7-35d9-4d96-8c07-c15ab705b094",
   "metadata": {},
   "outputs": [],
   "source": [
    "# Extract earliest image of type \"ct\". \n",
    "im = p.combined_objs(\"ct_images\")[0]\n",
    "\n",
    "# Estract earliest structure set associated with CT image.\n",
    "ss = im.structure_sets[0]\n",
    "\n",
    "# Extract earliest LA3 dose.\n",
    "dose = p.combined_objs(\"la3_doses\")[0]"
   ]
  },
  {
   "cell_type": "code",
   "execution_count": null,
   "id": "501b7103-a972-431d-8dfd-87a58374b4d8",
   "metadata": {},
   "outputs": [],
   "source": [
    "# Set Matplotlib runtime configuration.\n",
    "# For details of Matplotlib configuration, see:\n",
    "# https://matplotlib.org/stable/tutorials/introductory/customizing.html\n",
    "# Sizes are in points.\n",
    "\n",
    "# For axes, set spacing (pad) and size of label and title\n",
    "plt.rc(\"axes\", labelpad=0, labelsize=25, titlepad=17, titlesize=25)\n",
    "\n",
    "# Set default text charactieristics.\n",
    "# Possible weight values are:\n",
    "# 100, 200, 300, 400 / \"normal\", 500, 600, 700 / \"bold\", 800, 900.\n",
    "plt.rc(\"font\", family=\"serif\", serif=[\"Times\"], size=20, weight=400)\n",
    "\n",
    "# Set mathematics typeface when using matplotlib's built-in fonts.\n",
    "plt.rc(\"mathtext\", fontset=\"dejavuserif\")\n",
    "\n",
    "# Use TeX/LaTeX for typesetting.  (This requires working TeX/LaTeX installation.)\n",
    "plt.rc(\"text\", usetex=True)\n",
    "\n",
    "# Set fontsize for legend labels.\n",
    "plt.rc(\"legend\", fontsize=17)\n",
    "\n",
    "# For ticks, set label size and direction (\"in\", \"out\", \"inout\").\n",
    "plt.rc((\"xtick\", \"ytick\"), labelsize=25, direction=\"out\")\n",
    "\n",
    "# For major and minor ticks, set size and width.\n",
    "# For major ticks, set spacing (pad) of label.\n",
    "plt.rc((\"xtick.major\"), pad=3)\n",
    "plt.rc((\"xtick.major\", \"ytick.major\"), size=9, width=1.0)\n",
    "plt.rc((\"xtick.minor\", \"ytick.minor\"), size=4.5, width=1.0)\n",
    "plt.rc((\"ytick.major\"), pad=2)\n",
    "\n",
    "# Create dictionary of BetterViewer image-display options.\n",
    "kwargs = {\n",
    "    # Set figure size in inches.\n",
    "    \"figsize\": (10, 6),\n",
    "    # Show major ticks at specified interval (axis units).\n",
    "    \"major_ticks\": 60,\n",
    "    # Show minor ticks for specified number of intervals between major ticks.\n",
    "    \"minor_ticks\": 5,\n",
    "    # Indicate whether axis units should be mm or numbers of voxels.\n",
    "    \"scale_in_mm\" : True,\n",
    "    # Indicate whether ticks should be shown on all sides.\n",
    "    \"ticks_all_sides\": True,\n",
    "    # Specify zoom factor.\n",
    "    \"zoom\": 2.0,\n",
    "}\n",
    "\n",
    "# Set fontsize for annotations.\n",
    "# Value set via plt.rc(\"font\", size=20) seems not to be applied consistently.\n",
    "annotation_fontsize = 20\n",
    "\n",
    "# Set default colour map and opacity for dose.\n",
    "# Use inverted greyscale, so that denser material is darker.\n",
    "dose.image._default_cmap = \"binary\"\n",
    "dose._default_opacity = 0.5"
   ]
  },
  {
   "cell_type": "code",
   "execution_count": null,
   "id": "d4a5532a-afb8-4fbd-a022-da4516804b96",
   "metadata": {},
   "outputs": [],
   "source": [
    "# Plot image with structure set overlain, and with off-image legend.\n",
    "\n",
    "# Overlay default annotation, in black, at default position.\n",
    "# For list of named colours, see:\n",
    "#     https://matplotlib.org/stable/gallery/color/named_colors.html\n",
    "kwargs[\"annotate_slice\"] = {\"color\": 'black', \"fontsize\": annotation_fontsize}\n",
    "\n",
    "# Plot image:\n",
    "# sl=70 : plot slice 70;\n",
    "# title=\"\" : omit title;\n",
    "# rois=ss : overlay structure set;\n",
    "# colorbar=1 : show colour bar for image.\n",
    "# legend=True : show legend identifying ROIs of structure set.\n",
    "# legend_loc=\"center left\" : Use centre left of legend as reference point for fixing its location.\n",
    "# legend_bbox_to_anchor=(1.5, 0.5) : Coordinates of legend reference point, in system where image axes extend from 0 to 1.\n",
    "\n",
    "im.view(init_sl=70, title=\"\", rois=ss, colorbar=1,\n",
    "        legend=True, legend_loc=\"center left\", legend_bbox_to_anchor=(1.5, 0.5), **kwargs)"
   ]
  },
  {
   "cell_type": "code",
   "execution_count": null,
   "id": "d262b303-cc23-493e-b09f-8a8567de2f40",
   "metadata": {},
   "outputs": [],
   "source": [
    "# Plot image with dose and structure set overlain, and with colour bars.\n",
    "\n",
    "# Overlay user-defined annotation, in black, at default position.\n",
    "# For list of named colours, see:\n",
    "#     https://matplotlib.org/stable/gallery/color/named_colors.html\n",
    "kwargs[\"annotate_slice\"] = {\"text\": \"(a)\", \"color\": 'black', \"fontsize\": annotation_fontsize}\n",
    "\n",
    "# Plot image:\n",
    "# sl=60 : plot slice 60;\n",
    "# title=\"\" : omit title;\n",
    "# dose=dose : olverlay dose;\n",
    "# rois=ss : overlay structure set;\n",
    "# colorbar=2 : show colour bars for image and overlay.\n",
    "im.view(init_sl=60, title=\"\", dose=dose, rois=ss, colorbar=2, **kwargs)"
   ]
  },
  {
   "cell_type": "code",
   "execution_count": null,
   "id": "e10ddb9f-0e2c-44e3-8786-212cf6822d8f",
   "metadata": {},
   "outputs": [],
   "source": [
    "# Plot single slice without axis annotations.\n",
    "# In contrast with plotting for no_axis_labels=True, the axes themselves are shown.\n",
    "\n",
    "# Set tick marks to have zero size.\n",
    "plt.rc((\"xtick.major\", \"ytick.major\"), size=0)\n",
    "plt.rc((\"xtick.minor\", \"ytick.minor\"), size=0)\n",
    "\n",
    "# Suppress axis and tick labels.\n",
    "kwargs[\"no_xlabel\"] = True\n",
    "kwargs[\"no_xtick_labels\"] = True\n",
    "kwargs[\"no_ylabel\"] = True\n",
    "kwargs[\"no_ytick_labels\"] = True\n",
    "\n",
    "# Overlay default slice information, in azure, at user-defined position.\n",
    "# For list of named colours, see:\n",
    "#     https://matplotlib.org/stable/gallery/color/named_colors.html\n",
    "kwargs[\"annotate_slice\"] = {'text': None, 'color': 'azure', 'xy': (0.63, 0.93),\n",
    "                            \"fontsize\": annotation_fontsize}\n",
    "\n",
    "# Plot image:\n",
    "# pos=-15 : plot slice at z=-15 mm;\n",
    "# title=\"\" : omit title;\n",
    "# dose=dose : olverlay dose;\n",
    "# rois=ss : overlay structure set;\n",
    "im.view(init_pos=-15, title=\"\", dose=dose, rois=ss, **kwargs)"
   ]
  },
  {
   "cell_type": "code",
   "execution_count": null,
   "id": "f9af860a-cccd-4ad0-adc7-8f797eaef6a7",
   "metadata": {},
   "outputs": [],
   "source": [
    "# Filter rois:\n",
    "rois = ss.filtered_copy({\"ctv65\": \"ctv65\", \"spinal cord\": \"cord\", \"left parotid\" : \"L parotid\", \"right parotid\": \"R parotid\"}, keep_renamed_only=True)\n",
    "roi_colours = {\"ctv65\": \"lightpink\", \"spinal cord\": \"cyan\", \"left parotid\": \"lime\", \"right parotid\": \"yellow\"}\n",
    "for roi in rois:    \n",
    "    roi.set_color(roi_colours[roi.name])\n",
    "\n",
    "# For major and minor ticks, set size and width.\n",
    "plt.rc((\"xtick.major\", \"ytick.major\"), size=9, width=1.0)\n",
    "plt.rc((\"xtick.minor\", \"ytick.minor\"), size=4.5, width=1.0)\n",
    "    \n",
    "# Set default font size - small enough that legend doesn't obscure image.\n",
    "plt.rc(\"font\", size=17)\n",
    "    \n",
    "# Suppress axis and tick labels for y axis.\n",
    "kwargs[\"no_xlabel\"] = False\n",
    "kwargs[\"no_xtick_labels\"] = False\n",
    "kwargs[\"no_ylabel\"] = True\n",
    "kwargs[\"no_ytick_labels\"] = True\n",
    "\n",
    "# Show major ticks at specified interval (axis units).\n",
    "kwargs[\"major_ticks\"] = 120\n",
    "# Show minor ticks at specified interval (axis units).\n",
    "kwargs[\"minor_ticks\"] = 6\n",
    "\n",
    "# Specify zoom factor.\n",
    "kwargs[\"zoom\"] = 1.0\n",
    "\n",
    "# Overlay default annotation, in black, at default position.\n",
    "# For list of named colours, see:\n",
    "#     https://matplotlib.org/stable/gallery/color/named_colors.html\n",
    "kwargs[\"annotate_slice\"] = {\"color\": 'black', \"fontsize\": annotation_fontsize}\n",
    "\n",
    "# Plot dose:\n",
    "# pos=18 : plot slice at z=18;\n",
    "# title=\"\" : omit title;\n",
    "# include_image=True : underlay associated image;\n",
    "# rois=rois : overlay filtered structure set;\n",
    "# colorbar=2 : show colour bars for dose and underlay.\n",
    "#     => Note that when plotting a dose with image underlay the order of the colour bars is reversed\n",
    "#        with resect to plotting an image with dose overlay.\n",
    "# legend=True : show legend identifying ROIs of structure set.\n",
    "dose.view(init_pos=18, title=\"\", include_image=True, rois=rois, colorbar=2, legend=True, **kwargs)"
   ]
  },
  {
   "cell_type": "code",
   "execution_count": null,
   "id": "2c05799f-461e-4e10-9acd-bfdfa8632e1f",
   "metadata": {},
   "outputs": [],
   "source": [
    "# Include axis and tick labels for both axes\n",
    "kwargs[\"no_xlabel\"] = False\n",
    "kwargs[\"no_xtick_labels\"] = False\n",
    "kwargs[\"no_ylabel\"] = False\n",
    "kwargs[\"no_ytick_labels\"] = False\n",
    "\n",
    "# Plot image in y-z plane:\n",
    "# pos=9.1 : plot slice at x=9.1;\n",
    "# title=\"\" : omit title;\n",
    "# dose=dose : olverlay dose;\n",
    "# rois=rois : overlay filtered structure set;\n",
    "# colorbar=0 : omit colour bars.\n",
    "im.plot(view=\"y-z\", pos=9.1, title=\"\", dose=dose, rois=rois, colorbar=0, **kwargs)"
   ]
  },
  {
   "cell_type": "code",
   "execution_count": null,
   "id": "51cb8b6b-7dfa-48b2-933b-3b9d02b2fcd7",
   "metadata": {},
   "outputs": [],
   "source": [
    "# Plot image in x-z plane:\n",
    "# pos=9.1 : plot slice at y=9.1;\n",
    "# title=\"\" : omit title;\n",
    "# dose=dose : olverlay dose;\n",
    "# rois=rois : overlay filtered structure set;\n",
    "# colorbar=0 : omit colour bars.\n",
    "im.plot(view=\"x-z\", pos=9.1, title=\"\", dose=dose, rois=rois, colorbar=0, **kwargs)"
   ]
  },
  {
   "cell_type": "code",
   "execution_count": null,
   "id": "f700c2a1-03ee-4cc4-b587-e417dd533c43",
   "metadata": {},
   "outputs": [],
   "source": []
  }
 ],
 "metadata": {
  "kernelspec": {
   "display_name": "Python 3 (ipykernel)",
   "language": "python",
   "name": "python3"
  },
  "language_info": {
   "codemirror_mode": {
    "name": "ipython",
    "version": 3
   },
   "file_extension": ".py",
   "mimetype": "text/x-python",
   "name": "python",
   "nbconvert_exporter": "python",
   "pygments_lexer": "ipython3",
   "version": "3.8.13"
  },
  "widgets": {
   "application/vnd.jupyter.widget-state+json": {
    "state": {
     "0027074e33fc40a2bcea2fcbf4343da9": {
      "model_module": "@jupyter-widgets/controls",
      "model_module_version": "1.5.0",
      "model_name": "CheckboxModel",
      "state": {
       "disabled": false,
       "indent": false,
       "layout": "IPY_MODEL_b8421482e5a34936a0f0b848e1a5e8b3",
       "style": "IPY_MODEL_fd7ce7758ec0488da25819ca96f34494",
       "value": true
      }
     },
     "00d1a52b4e274e98a309c4432cac260e": {
      "model_module": "@jupyter-widgets/controls",
      "model_module_version": "1.5.0",
      "model_name": "VBoxModel",
      "state": {
       "children": [
        "IPY_MODEL_7a4b847b8d8b4c90a99d89425706a018"
       ],
       "layout": "IPY_MODEL_0158967a2a7c4f9f82dc1f5a39786f36"
      }
     },
     "00eb9d62ba394655a4e53a24057308d1": {
      "model_module": "@jupyter-widgets/base",
      "model_module_version": "1.2.0",
      "model_name": "LayoutModel",
      "state": {
       "height": "100%"
      }
     },
     "0158967a2a7c4f9f82dc1f5a39786f36": {
      "model_module": "@jupyter-widgets/base",
      "model_module_version": "1.2.0",
      "model_name": "LayoutModel",
      "state": {}
     },
     "01bec2e70de0406aa24114d9c97b0c39": {
      "model_module": "@jupyter-widgets/controls",
      "model_module_version": "1.5.0",
      "model_name": "FloatSliderModel",
      "state": {
       "continuous_update": false,
       "description": "Opacity",
       "disabled": true,
       "layout": "IPY_MODEL_c0e223b97f4c4b38a98de7b2f3eed649",
       "max": 1,
       "step": 0.1,
       "style": "IPY_MODEL_3b71139eb1cc45fbbfe86393ce31da28"
      }
     },
     "01c57629a34642e08c5fee5ef37f228f": {
      "model_module": "@jupyter-widgets/base",
      "model_module_version": "1.2.0",
      "model_name": "LayoutModel",
      "state": {}
     },
     "024e4a450ae0429f9ac202450c9cfa13": {
      "model_module": "@jupyter-widgets/controls",
      "model_module_version": "1.5.0",
      "model_name": "DescriptionStyleModel",
      "state": {
       "description_width": ""
      }
     },
     "02f4064c9fda4b918d51da37080855a7": {
      "model_module": "@jupyter-widgets/controls",
      "model_module_version": "1.5.0",
      "model_name": "DescriptionStyleModel",
      "state": {
       "description_width": ""
      }
     },
     "02f5359ac0974bb6bd0d3e5ea35061bc": {
      "model_module": "@jupyter-widgets/base",
      "model_module_version": "1.2.0",
      "model_name": "LayoutModel",
      "state": {
       "height": "100%"
      }
     },
     "03fc45415b94478d8bbcae24642c7e9e": {
      "model_module": "@jupyter-widgets/output",
      "model_module_version": "1.0.0",
      "model_name": "OutputModel",
      "state": {
       "layout": "IPY_MODEL_1b2504855bc6422f979b998cdb133a8a",
       "outputs": [
        {
         "data": {
          "image/png": "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\n",
          "text/plain": "<Figure size 720x432 with 2 Axes>"
         },
         "metadata": {
          "needs_background": "light"
         },
         "output_type": "display_data"
        }
       ]
      }
     },
     "0429daf6515b41dd898d311327095aef": {
      "model_module": "@jupyter-widgets/base",
      "model_module_version": "1.2.0",
      "model_name": "LayoutModel",
      "state": {}
     },
     "046ee60d191641298ec71ead7189e1fa": {
      "model_module": "@jupyter-widgets/base",
      "model_module_version": "1.2.0",
      "model_name": "LayoutModel",
      "state": {}
     },
     "0482b5becc4447e0855ce622304e194f": {
      "model_module": "@jupyter-widgets/controls",
      "model_module_version": "1.5.0",
      "model_name": "FloatSliderModel",
      "state": {
       "continuous_update": false,
       "description": "Zoom",
       "layout": "IPY_MODEL_673c58e4676249958bf41ebfbf48ac12",
       "max": 8,
       "min": 1,
       "readout_format": ".1f",
       "step": 0.1,
       "style": "IPY_MODEL_b5874cb3f7484d388f9ee9049a7f39c4",
       "value": 2
      }
     },
     "049ee073c83d48cf9687e98da273c9ad": {
      "model_module": "@jupyter-widgets/base",
      "model_module_version": "1.2.0",
      "model_name": "LayoutModel",
      "state": {}
     },
     "04a66242e80144598dc5c1a4d9cd0f05": {
      "model_module": "@jupyter-widgets/controls",
      "model_module_version": "1.5.0",
      "model_name": "DescriptionStyleModel",
      "state": {
       "description_width": "initial"
      }
     },
     "04bcf26a2157401c803f7620a41fedaf": {
      "model_module": "@jupyter-widgets/controls",
      "model_module_version": "1.5.0",
      "model_name": "DescriptionStyleModel",
      "state": {
       "description_width": ""
      }
     },
     "04c1879733d1439b9f134ae00dd1719c": {
      "model_module": "@jupyter-widgets/base",
      "model_module_version": "1.2.0",
      "model_name": "LayoutModel",
      "state": {}
     },
     "04e147977e684774af8aa6395d7c5dc3": {
      "model_module": "@jupyter-widgets/controls",
      "model_module_version": "1.5.0",
      "model_name": "FloatSliderModel",
      "state": {
       "continuous_update": false,
       "description": "x centre  (mm)",
       "layout": "IPY_MODEL_c764ab9088b14150855a89e44d4ceb14",
       "max": 273.27698730469,
       "min": -274.46301269531,
       "readout_format": ".1f",
       "style": "IPY_MODEL_6cbcd1f5fbb7416a8a10bc046e48cce2",
       "value": -0.5930126953099943
      }
     },
     "05013910d68b44b8b5f3a4c8bb186daf": {
      "model_module": "@jupyter-widgets/controls",
      "model_module_version": "1.5.0",
      "model_name": "DescriptionStyleModel",
      "state": {
       "description_width": ""
      }
     },
     "054fb385a5db4ac0a8c6fafd2690808c": {
      "model_module": "@jupyter-widgets/base",
      "model_module_version": "1.2.0",
      "model_name": "LayoutModel",
      "state": {
       "height": "100%"
      }
     },
     "0582ae34351a4d3da4ca951c7ea27110": {
      "model_module": "@jupyter-widgets/base",
      "model_module_version": "1.2.0",
      "model_name": "LayoutModel",
      "state": {}
     },
     "05be0783401a47e48c2a20801e3f203a": {
      "model_module": "@jupyter-widgets/controls",
      "model_module_version": "1.5.0",
      "model_name": "SliderStyleModel",
      "state": {
       "description_width": "initial"
      }
     },
     "0613a7307a2e47f4a46b32388dd58480": {
      "model_module": "@jupyter-widgets/controls",
      "model_module_version": "1.5.0",
      "model_name": "DropdownModel",
      "state": {
       "_options_labels": [
        "contour",
        "mask",
        "filled",
        "centroid",
        "filled centroid",
        "none"
       ],
       "description": "ROI plotting",
       "index": 0,
       "layout": "IPY_MODEL_b88ef98971cb40208f96a26f4fcde75a",
       "style": "IPY_MODEL_198d93e864684b78a96c1c8fa6871808"
      }
     },
     "064126517616491e987289bf667e87b1": {
      "model_module": "@jupyter-widgets/controls",
      "model_module_version": "1.5.0",
      "model_name": "CheckboxModel",
      "state": {
       "disabled": false,
       "indent": false,
       "layout": "IPY_MODEL_2ddbcfcf5de84e66b5a5cf84c4406951",
       "style": "IPY_MODEL_0d9347aac0494572b3dce1ab894baa16",
       "value": true
      }
     },
     "073587f9d8384e3c90302821492a7570": {
      "model_module": "@jupyter-widgets/base",
      "model_module_version": "1.2.0",
      "model_name": "LayoutModel",
      "state": {}
     },
     "077a57eaecda4f4f93822698734be484": {
      "model_module": "@jupyter-widgets/controls",
      "model_module_version": "1.5.0",
      "model_name": "CheckboxModel",
      "state": {
       "description": "Invert comparison",
       "disabled": false,
       "layout": "IPY_MODEL_1d842d33720649478ea51aba4033c35e",
       "style": "IPY_MODEL_3983936d406841009d0020e0b4f145b7",
       "value": false
      }
     },
     "0792478321184405a43480181e13ace3": {
      "model_module": "@jupyter-widgets/controls",
      "model_module_version": "1.5.0",
      "model_name": "CheckboxModel",
      "state": {
       "disabled": false,
       "indent": false,
       "layout": "IPY_MODEL_bd8295c31f1a436c9a867118b0364c6b",
       "style": "IPY_MODEL_f265d091d5a3466399ae220edf72a656",
       "value": true
      }
     },
     "089af6d29e854f8cb51f8128cf003392": {
      "model_module": "@jupyter-widgets/controls",
      "model_module_version": "1.5.0",
      "model_name": "HBoxModel",
      "state": {
       "children": [
        "IPY_MODEL_d914a24a875c4885bcb4e7313b516e44",
        "IPY_MODEL_b87166d0127f4d0f861eb10f294dade4"
       ],
       "layout": "IPY_MODEL_4e7087719e774c73ab8b26c0d524445f"
      }
     },
     "08c6530bee7049608af8da3ca4982cb0": {
      "model_module": "@jupyter-widgets/controls",
      "model_module_version": "1.5.0",
      "model_name": "CheckboxModel",
      "state": {
       "disabled": false,
       "layout": "IPY_MODEL_12806c0b11704e6ba1b02a112a6289cb",
       "style": "IPY_MODEL_024e4a450ae0429f9ac202450c9cfa13",
       "value": true
      }
     },
     "093ced667b6f4a8c973495468856981d": {
      "model_module": "@jupyter-widgets/controls",
      "model_module_version": "1.5.0",
      "model_name": "CheckboxModel",
      "state": {
       "disabled": false,
       "indent": false,
       "layout": "IPY_MODEL_3e4ee3ee6b4442719cde39d4b33d5a31",
       "style": "IPY_MODEL_6332f1794b324ba1a510813a85276702",
       "value": true
      }
     },
     "09b2aead2aa74484b0ab16243f313528": {
      "model_module": "@jupyter-widgets/controls",
      "model_module_version": "1.5.0",
      "model_name": "VBoxModel",
      "state": {
       "children": [
        "IPY_MODEL_ee74b69d6d65430296b6e7ca8d6ff3c1",
        "IPY_MODEL_f032a6aaf0f44a17849109438d5bf548"
       ],
       "layout": "IPY_MODEL_3e3512b030d0405faa3996d8f0f327e2"
      }
     },
     "0ac4bd65a8d649c18ce6df9e7430e16b": {
      "model_module": "@jupyter-widgets/controls",
      "model_module_version": "1.5.0",
      "model_name": "CheckboxModel",
      "state": {
       "disabled": false,
       "indent": false,
       "layout": "IPY_MODEL_ac58d95208b24154894e88e8cd614523",
       "style": "IPY_MODEL_997ecfd166b845f7aa5792f0ee85f489",
       "value": true
      }
     },
     "0b613ee6400441c1bb82e363a6dafe54": {
      "model_module": "@jupyter-widgets/controls",
      "model_module_version": "1.5.0",
      "model_name": "DescriptionStyleModel",
      "state": {
       "description_width": ""
      }
     },
     "0b813a68c7bb4c828d5eef31dbd92161": {
      "model_module": "@jupyter-widgets/base",
      "model_module_version": "1.2.0",
      "model_name": "LayoutModel",
      "state": {
       "height": "100%"
      }
     },
     "0bd61645d7144f639210d9f907bafd19": {
      "model_module": "@jupyter-widgets/base",
      "model_module_version": "1.2.0",
      "model_name": "LayoutModel",
      "state": {}
     },
     "0c0a80b4bf2c4c358b60b49c6d92e740": {
      "model_module": "@jupyter-widgets/controls",
      "model_module_version": "1.5.0",
      "model_name": "CheckboxModel",
      "state": {
       "disabled": false,
       "indent": false,
       "layout": "IPY_MODEL_7431858caac54f34a680baf0b4f3a697",
       "style": "IPY_MODEL_293f2ad7dea441c3b995deb01e4a699d",
       "value": true
      }
     },
     "0c6564603a824c2794e486670bdfcde8": {
      "model_module": "@jupyter-widgets/controls",
      "model_module_version": "1.5.0",
      "model_name": "IntSliderModel",
      "state": {
       "continuous_update": false,
       "description": "Linewidth",
       "layout": "IPY_MODEL_282851a2522b4664b5b4a9b10f1cf1bb",
       "max": 8,
       "min": 1,
       "style": "IPY_MODEL_2433160f875d42488317708eb5c40ab7",
       "value": 2
      }
     },
     "0cf21363e5004149b249220b2455ebac": {
      "model_module": "@jupyter-widgets/base",
      "model_module_version": "1.2.0",
      "model_name": "LayoutModel",
      "state": {}
     },
     "0d721c5c57c744a49db9f15e2fac52d9": {
      "model_module": "@jupyter-widgets/controls",
      "model_module_version": "1.5.0",
      "model_name": "CheckboxModel",
      "state": {
       "disabled": false,
       "indent": false,
       "layout": "IPY_MODEL_44488fd6576a46fb91215fb12b5054f7",
       "style": "IPY_MODEL_9cbd51dc99f043ba8895674b275676ee",
       "value": true
      }
     },
     "0d7c33475c994663a44321f21489f086": {
      "model_module": "@jupyter-widgets/controls",
      "model_module_version": "1.5.0",
      "model_name": "DescriptionStyleModel",
      "state": {
       "description_width": ""
      }
     },
     "0d9347aac0494572b3dce1ab894baa16": {
      "model_module": "@jupyter-widgets/controls",
      "model_module_version": "1.5.0",
      "model_name": "DescriptionStyleModel",
      "state": {
       "description_width": ""
      }
     },
     "0efd1bd28d014680a6945d92348cd52b": {
      "model_module": "@jupyter-widgets/controls",
      "model_module_version": "1.5.0",
      "model_name": "HTMLModel",
      "state": {
       "layout": "IPY_MODEL_1bfe280bd20a493e9d749521131529c7",
       "style": "IPY_MODEL_2e32741342bc42c2a1f22452b4c75b56",
       "value": "&nbsp;"
      }
     },
     "0f3a93403f9e4b18ae72796aa87848ac": {
      "model_module": "@jupyter-widgets/controls",
      "model_module_version": "1.5.0",
      "model_name": "CheckboxModel",
      "state": {
       "disabled": false,
       "indent": false,
       "layout": "IPY_MODEL_0b813a68c7bb4c828d5eef31dbd92161",
       "style": "IPY_MODEL_4bebf1f75fc343289b5526edc5b3f68f",
       "value": true
      }
     },
     "0f9e4c3d920e4b35888a6286df15162d": {
      "model_module": "@jupyter-widgets/controls",
      "model_module_version": "1.5.0",
      "model_name": "CheckboxModel",
      "state": {
       "description": "Invert comparison",
       "disabled": false,
       "layout": "IPY_MODEL_9197cd222f81470893784309f4fd3da4",
       "style": "IPY_MODEL_2d61eaa4c1fb4c61b892034ae6821b1e",
       "value": false
      }
     },
     "0fffde451b4044e093d1466a20ddd109": {
      "model_module": "@jupyter-widgets/controls",
      "model_module_version": "1.5.0",
      "model_name": "FloatSliderModel",
      "state": {
       "continuous_update": false,
       "description": "Grid opacity",
       "layout": "IPY_MODEL_5a84bd5d657746cba84b264edd19ee3b",
       "max": 1,
       "step": 0.05,
       "style": "IPY_MODEL_55ff214eb8e5425e9f79cfe59d02b375",
       "value": 1
      }
     },
     "1068bfe97fe645f3b13825e40550b436": {
      "model_module": "@jupyter-widgets/controls",
      "model_module_version": "1.5.0",
      "model_name": "DescriptionStyleModel",
      "state": {
       "description_width": ""
      }
     },
     "106c6da4f4e84e319cc41f4897fbaf3d": {
      "model_module": "@jupyter-widgets/controls",
      "model_module_version": "1.5.0",
      "model_name": "FloatSliderModel",
      "state": {
       "continuous_update": false,
       "description": "Jacobian opacity",
       "layout": "IPY_MODEL_4044a0a4b7a64c6a92e4d16d2173a19d",
       "max": 1,
       "step": 0.05,
       "style": "IPY_MODEL_91ed2716aab24eb490c6843d9d72aec8",
       "value": 0.8
      }
     },
     "12806c0b11704e6ba1b02a112a6289cb": {
      "model_module": "@jupyter-widgets/base",
      "model_module_version": "1.2.0",
      "model_name": "LayoutModel",
      "state": {}
     },
     "12984ce50ccc4c0f9c5d095c4c40b8b7": {
      "model_module": "@jupyter-widgets/controls",
      "model_module_version": "1.5.0",
      "model_name": "IntRangeSliderModel",
      "state": {
       "_model_name": "IntRangeSliderModel",
       "_view_name": "IntRangeSliderView",
       "continuous_update": false,
       "description": "Intensity range",
       "layout": "IPY_MODEL_9587176bfbbd47e7bd31124cbae47c7f",
       "max": 2000,
       "min": -2000,
       "style": "IPY_MODEL_36315c152f5e4c0a9beda9316d93e737",
       "value": [
        -200,
        300
       ]
      }
     },
     "137055026fdf42a2b8c700e17036b68d": {
      "model_module": "@jupyter-widgets/controls",
      "model_module_version": "1.5.0",
      "model_name": "DropdownModel",
      "state": {
       "_options_labels": [
        "",
        "ctv65",
        "spinal cord",
        "left parotid",
        "right parotid"
       ],
       "description": "Jump to",
       "index": 0,
       "layout": "IPY_MODEL_6d95d1dcbe8e48aa8edaf1da9a46cb8e",
       "style": "IPY_MODEL_3eb0f879cdac4c0caa10dda1228b39bd"
      }
     },
     "139c9346a456406287a1334ba17a1819": {
      "model_module": "@jupyter-widgets/controls",
      "model_module_version": "1.5.0",
      "model_name": "CheckboxModel",
      "state": {
       "disabled": false,
       "layout": "IPY_MODEL_58ac0c0c580e4df2905f0b3f608b7223",
       "style": "IPY_MODEL_05013910d68b44b8b5f3a4c8bb186daf",
       "value": true
      }
     },
     "13d865a8ba2142f28c852effd9cc281e": {
      "model_module": "@jupyter-widgets/controls",
      "model_module_version": "1.5.0",
      "model_name": "ButtonModel",
      "state": {
       "description": "Save",
       "layout": "IPY_MODEL_56b04133d0b442b4968df03d23f927cf",
       "style": "IPY_MODEL_c780b5c9558b4ddd8f5ae02ebf5a9f11",
       "tooltip": "Save figure to a file. Filetype automatically determined from filename."
      }
     },
     "1446642d42e24dcbb99d0bf1e7bc9426": {
      "model_module": "@jupyter-widgets/base",
      "model_module_version": "1.2.0",
      "model_name": "LayoutModel",
      "state": {
       "height": "100%"
      }
     },
     "149c308a013a4d61a7bc00d925575917": {
      "model_module": "@jupyter-widgets/controls",
      "model_module_version": "1.5.0",
      "model_name": "DropdownModel",
      "state": {
       "_options_labels": [
        "quiver",
        "grid",
        "x-displacement",
        "y-displacement",
        "z-displacement",
        "3d-displacement",
        "none"
       ],
       "description": "Deformation field",
       "index": 0,
       "layout": "IPY_MODEL_afe9482c0e4e4370b9d3562b2f312f98",
       "style": "IPY_MODEL_04a66242e80144598dc5c1a4d9cd0f05"
      }
     },
     "14d244f1092442a590322a85f8d5fce9": {
      "model_module": "@jupyter-widgets/base",
      "model_module_version": "1.2.0",
      "model_name": "LayoutModel",
      "state": {}
     },
     "14fe1875d196441699fedceae4f46298": {
      "model_module": "@jupyter-widgets/controls",
      "model_module_version": "1.5.0",
      "model_name": "DescriptionStyleModel",
      "state": {
       "description_width": ""
      }
     },
     "15154f2df9be4b669c8ad271ce7b27a4": {
      "model_module": "@jupyter-widgets/base",
      "model_module_version": "1.2.0",
      "model_name": "LayoutModel",
      "state": {}
     },
     "1529fea4ae9c49aea76b6814eec80dc7": {
      "model_module": "@jupyter-widgets/base",
      "model_module_version": "1.2.0",
      "model_name": "LayoutModel",
      "state": {}
     },
     "15b4b2cf5fc44fb29edcca24864bd9cc": {
      "model_module": "@jupyter-widgets/controls",
      "model_module_version": "1.5.0",
      "model_name": "CheckboxModel",
      "state": {
       "disabled": false,
       "indent": false,
       "layout": "IPY_MODEL_22528cdd772d49998d8b908dfe6f6a97",
       "style": "IPY_MODEL_ff0181ccc40b4da49e48e462173c7e62",
       "value": true
      }
     },
     "16a25ba8fde3496cb91ff71344628b30": {
      "model_module": "@jupyter-widgets/base",
      "model_module_version": "1.2.0",
      "model_name": "LayoutModel",
      "state": {}
     },
     "17697a0028384217b1d17bef18706a01": {
      "model_module": "@jupyter-widgets/controls",
      "model_module_version": "1.5.0",
      "model_name": "CheckboxModel",
      "state": {
       "disabled": false,
       "indent": false,
       "layout": "IPY_MODEL_3be7d0febd844d7fa7eaeb14124b6f68",
       "style": "IPY_MODEL_7b4c6d6e245c49ea97f692e091979f30",
       "value": true
      }
     },
     "1799b521bb58408bbcda35d3b57312c9": {
      "model_module": "@jupyter-widgets/controls",
      "model_module_version": "1.5.0",
      "model_name": "IntRangeSliderModel",
      "state": {
       "_model_name": "IntRangeSliderModel",
       "_view_name": "IntRangeSliderView",
       "continuous_update": false,
       "description": "Intensity range",
       "layout": "IPY_MODEL_1fb70258e599475e96c3d45701dd1877",
       "max": 66,
       "style": "IPY_MODEL_42a8742e720542619551bcc69fe5c7bb",
       "value": [
        0,
        66
       ]
      }
     },
     "1969c1fbe3844db7a8b3fe320527c74d": {
      "model_module": "@jupyter-widgets/controls",
      "model_module_version": "1.5.0",
      "model_name": "DescriptionStyleModel",
      "state": {
       "description_width": ""
      }
     },
     "198a30f672df40989d89f72b5a315b33": {
      "model_module": "@jupyter-widgets/controls",
      "model_module_version": "1.5.0",
      "model_name": "DescriptionStyleModel",
      "state": {
       "description_width": ""
      }
     },
     "198d93e864684b78a96c1c8fa6871808": {
      "model_module": "@jupyter-widgets/controls",
      "model_module_version": "1.5.0",
      "model_name": "DescriptionStyleModel",
      "state": {
       "description_width": "initial"
      }
     },
     "1992b98201c942088f43b8c79ea00ef9": {
      "model_module": "@jupyter-widgets/base",
      "model_module_version": "1.2.0",
      "model_name": "LayoutModel",
      "state": {}
     },
     "1a9f3d085dd24b3c90b9c82e9c76ac0f": {
      "model_module": "@jupyter-widgets/base",
      "model_module_version": "1.2.0",
      "model_name": "LayoutModel",
      "state": {
       "height": "100%"
      }
     },
     "1b1c9d99ce834c29b1024a30ee91d0f4": {
      "model_module": "@jupyter-widgets/controls",
      "model_module_version": "1.5.0",
      "model_name": "FloatSliderModel",
      "state": {
       "continuous_update": false,
       "description": "Zoom",
       "layout": "IPY_MODEL_ac5d4bd0dbd645aca91a9d4745841835",
       "max": 8,
       "min": 1,
       "readout_format": ".1f",
       "step": 0.1,
       "style": "IPY_MODEL_2a54673d171742f286860f8422d95935",
       "value": 2
      }
     },
     "1b2504855bc6422f979b998cdb133a8a": {
      "model_module": "@jupyter-widgets/base",
      "model_module_version": "1.2.0",
      "model_name": "LayoutModel",
      "state": {}
     },
     "1b447ba161a5413e90bb7c14eca8f537": {
      "model_module": "@jupyter-widgets/base",
      "model_module_version": "1.2.0",
      "model_name": "LayoutModel",
      "state": {}
     },
     "1b801c35199749e6b69c770892310583": {
      "model_module": "@jupyter-widgets/controls",
      "model_module_version": "1.5.0",
      "model_name": "HBoxModel",
      "state": {
       "children": [
        "IPY_MODEL_a61bb9e682954cb686730a74ce760df3",
        "IPY_MODEL_378f94abe8be4047a073c1c5d5a1641c",
        "IPY_MODEL_dcaac14e6bc243698e7c9477d0faad14",
        "IPY_MODEL_c92875db523c469e91acdac044cd6a19"
       ],
       "layout": "IPY_MODEL_268b3500f0c54e86849824d963471238"
      }
     },
     "1b8f7e6a94504d099fbc71ab08151461": {
      "model_module": "@jupyter-widgets/controls",
      "model_module_version": "1.5.0",
      "model_name": "SliderStyleModel",
      "state": {
       "description_width": "initial"
      }
     },
     "1bc8483af05f4dbcba224b5279b5cdba": {
      "model_module": "@jupyter-widgets/base",
      "model_module_version": "1.2.0",
      "model_name": "LayoutModel",
      "state": {}
     },
     "1bf093faf8134362aa8d38d4855c4619": {
      "model_module": "@jupyter-widgets/controls",
      "model_module_version": "1.5.0",
      "model_name": "DropdownModel",
      "state": {
       "_options_labels": [
        "majority",
        "sum",
        "overlap",
        "staple"
       ],
       "description": "Consensus type",
       "index": 0,
       "layout": "IPY_MODEL_bdf89b4472d740e18c0b27c80a33127a",
       "style": "IPY_MODEL_cde82008a31748e5a45f4606e94766b3"
      }
     },
     "1bfe280bd20a493e9d749521131529c7": {
      "model_module": "@jupyter-widgets/base",
      "model_module_version": "1.2.0",
      "model_name": "LayoutModel",
      "state": {}
     },
     "1c37ff94787445e482abeb8c5f11c046": {
      "model_module": "@jupyter-widgets/base",
      "model_module_version": "1.2.0",
      "model_name": "LayoutModel",
      "state": {}
     },
     "1c3b754510d14206aa398c6c52e3593c": {
      "model_module": "@jupyter-widgets/controls",
      "model_module_version": "1.5.0",
      "model_name": "DescriptionStyleModel",
      "state": {
       "description_width": "initial"
      }
     },
     "1cbd69a3bef84a708c1838f5eb4c2445": {
      "model_module": "@jupyter-widgets/controls",
      "model_module_version": "1.5.0",
      "model_name": "VBoxModel",
      "state": {
       "layout": "IPY_MODEL_907fda59669941afb70b2f4e91bb0752"
      }
     },
     "1d4a461f7cad426ab2d0cd095dbbe8ad": {
      "model_module": "@jupyter-widgets/controls",
      "model_module_version": "1.5.0",
      "model_name": "DescriptionStyleModel",
      "state": {
       "description_width": ""
      }
     },
     "1d842d33720649478ea51aba4033c35e": {
      "model_module": "@jupyter-widgets/base",
      "model_module_version": "1.2.0",
      "model_name": "LayoutModel",
      "state": {}
     },
     "1e2b0a0d6bd64569914123c03c60df2e": {
      "model_module": "@jupyter-widgets/controls",
      "model_module_version": "1.5.0",
      "model_name": "TextModel",
      "state": {
       "description": "Save plot as:",
       "layout": "IPY_MODEL_b0070c866e8846818a50a069faf02124",
       "style": "IPY_MODEL_be74b1420c0b49b09bd8a2a8f0b4434a"
      }
     },
     "1eea6fb41f79446f8c3c1d724c9b2e39": {
      "model_module": "@jupyter-widgets/controls",
      "model_module_version": "1.5.0",
      "model_name": "ButtonStyleModel",
      "state": {}
     },
     "1f878482586344e2b440fc7ae328a76f": {
      "model_module": "@jupyter-widgets/base",
      "model_module_version": "1.2.0",
      "model_name": "LayoutModel",
      "state": {}
     },
     "1fb70258e599475e96c3d45701dd1877": {
      "model_module": "@jupyter-widgets/base",
      "model_module_version": "1.2.0",
      "model_name": "LayoutModel",
      "state": {}
     },
     "1fe7d12af1934263b7c73382d0db9ac3": {
      "model_module": "@jupyter-widgets/controls",
      "model_module_version": "1.5.0",
      "model_name": "FloatSliderModel",
      "state": {
       "continuous_update": false,
       "description": "x centre  (mm)",
       "layout": "IPY_MODEL_46cf661b61444f99abbda70d45ae1d78",
       "max": 273.27698730469,
       "min": -274.46301269531,
       "readout_format": ".1f",
       "style": "IPY_MODEL_29dd5b4da48b48e1855279e62ccab4c4",
       "value": -0.5930126953099943
      }
     },
     "2046dd806d944eaf89dfdd12c7770832": {
      "model_module": "@jupyter-widgets/controls",
      "model_module_version": "1.5.0",
      "model_name": "DescriptionStyleModel",
      "state": {
       "description_width": ""
      }
     },
     "21bc12e2a31a4ee3896c2e31d540dad9": {
      "model_module": "@jupyter-widgets/base",
      "model_module_version": "1.2.0",
      "model_name": "LayoutModel",
      "state": {
       "height": "100%"
      }
     },
     "2217431fd3d641ef98b1c9d23324f423": {
      "model_module": "@jupyter-widgets/controls",
      "model_module_version": "1.5.0",
      "model_name": "CheckboxModel",
      "state": {
       "description": "Plot consensus",
       "disabled": false,
       "layout": "IPY_MODEL_04c1879733d1439b9f134ae00dd1719c",
       "style": "IPY_MODEL_7a11ddb37e704c0d8e2d18114c986b93",
       "value": true
      }
     },
     "22528cdd772d49998d8b908dfe6f6a97": {
      "model_module": "@jupyter-widgets/base",
      "model_module_version": "1.2.0",
      "model_name": "LayoutModel",
      "state": {
       "height": "100%"
      }
     },
     "227c234510f84216867f2f526f36d4f5": {
      "model_module": "@jupyter-widgets/controls",
      "model_module_version": "1.5.0",
      "model_name": "IntRangeSliderModel",
      "state": {
       "_model_name": "IntRangeSliderModel",
       "_view_name": "IntRangeSliderView",
       "continuous_update": false,
       "description": "Intensity range",
       "layout": "IPY_MODEL_f1a1f575776e405a9c565618c3f79725",
       "max": 2000,
       "min": -2000,
       "style": "IPY_MODEL_85df3db127874221948535a39ca41dc1",
       "value": [
        -200,
        300
       ]
      }
     },
     "229f15b2e68041b8abe39a71d98d7942": {
      "model_module": "@jupyter-widgets/controls",
      "model_module_version": "1.5.0",
      "model_name": "DescriptionStyleModel",
      "state": {
       "description_width": ""
      }
     },
     "22b4745de5194773bf450f9bd7465b25": {
      "model_module": "@jupyter-widgets/controls",
      "model_module_version": "1.5.0",
      "model_name": "DescriptionStyleModel",
      "state": {
       "description_width": "initial"
      }
     },
     "2304ca97746e4f1e90b70bad620268ae": {
      "model_module": "@jupyter-widgets/controls",
      "model_module_version": "1.5.0",
      "model_name": "FloatSliderModel",
      "state": {
       "continuous_update": false,
       "description": "Grid opacity",
       "layout": "IPY_MODEL_812749e756b7495385236e4087624e8a",
       "max": 1,
       "step": 0.05,
       "style": "IPY_MODEL_c3cdb8db926540f4b7cd52f0bc59e1df",
       "value": 1
      }
     },
     "23381b0c45144b11a0a5c0690519ce20": {
      "model_module": "@jupyter-widgets/controls",
      "model_module_version": "1.5.0",
      "model_name": "DescriptionStyleModel",
      "state": {
       "description_width": ""
      }
     },
     "239aedc8d65940e2a82aeb9ddb89597a": {
      "model_module": "@jupyter-widgets/controls",
      "model_module_version": "1.5.0",
      "model_name": "CheckboxModel",
      "state": {
       "disabled": false,
       "indent": false,
       "layout": "IPY_MODEL_f0e5ad799dbf42959395f4e10e14b434",
       "style": "IPY_MODEL_f890c24c789a493588fd966681175aba",
       "value": true
      }
     },
     "23a4b3eec15941139a7b125b8e3bc6d3": {
      "model_module": "@jupyter-widgets/controls",
      "model_module_version": "1.5.0",
      "model_name": "CheckboxModel",
      "state": {
       "disabled": false,
       "indent": false,
       "layout": "IPY_MODEL_ba6dff5155884055b9aaceb89eb26f06",
       "style": "IPY_MODEL_9278b073163a44fcba21b8328b276c8f",
       "value": true
      }
     },
     "2433160f875d42488317708eb5c40ab7": {
      "model_module": "@jupyter-widgets/controls",
      "model_module_version": "1.5.0",
      "model_name": "SliderStyleModel",
      "state": {
       "description_width": "initial"
      }
     },
     "24b987d09ac74c61b26f54d04ef0c1df": {
      "model_module": "@jupyter-widgets/base",
      "model_module_version": "1.2.0",
      "model_name": "LayoutModel",
      "state": {}
     },
     "24e133b5ede44dab93be8d30ee82fded": {
      "model_module": "@jupyter-widgets/controls",
      "model_module_version": "1.5.0",
      "model_name": "VBoxModel",
      "state": {
       "children": [
        "IPY_MODEL_a0ac41cd82774f79a890e1196ad5d6a8",
        "IPY_MODEL_0613a7307a2e47f4a46b32388dd58480",
        "IPY_MODEL_0c6564603a824c2794e486670bdfcde8",
        "IPY_MODEL_a5120e7a4dfd4717aed31a45ec0422f3",
        "IPY_MODEL_40a5725f50754e23a1502e51078172cb",
        "IPY_MODEL_43cbb0fed4714c098eaa481f09d2bbda"
       ],
       "layout": "IPY_MODEL_48d69c3063b44a6cb5c0be8c040d348d"
      }
     },
     "24f015cb33f4480fb4692e10fc2efac3": {
      "model_module": "@jupyter-widgets/base",
      "model_module_version": "1.2.0",
      "model_name": "LayoutModel",
      "state": {}
     },
     "254150d8ec2e42f69a680ea8b8937545": {
      "model_module": "@jupyter-widgets/controls",
      "model_module_version": "1.5.0",
      "model_name": "CheckboxModel",
      "state": {
       "disabled": false,
       "layout": "IPY_MODEL_1529fea4ae9c49aea76b6814eec80dc7",
       "style": "IPY_MODEL_5e8caf1fc4bd4b92ad9d9d0df3d35436",
       "value": true
      }
     },
     "2571f59e66dc456980dc4f25640303e3": {
      "model_module": "@jupyter-widgets/base",
      "model_module_version": "1.2.0",
      "model_name": "LayoutModel",
      "state": {}
     },
     "2573059109834284830e6675b2637f0c": {
      "model_module": "@jupyter-widgets/controls",
      "model_module_version": "1.5.0",
      "model_name": "CheckboxModel",
      "state": {
       "disabled": false,
       "indent": false,
       "layout": "IPY_MODEL_6463102f5bef44ffa331466506b42cd4",
       "style": "IPY_MODEL_63495ee1aef74747a64696d6bc0f1915",
       "value": true
      }
     },
     "268b3500f0c54e86849824d963471238": {
      "model_module": "@jupyter-widgets/base",
      "model_module_version": "1.2.0",
      "model_name": "LayoutModel",
      "state": {}
     },
     "26bc5587e1894a60a922f158bdc830fa": {
      "model_module": "@jupyter-widgets/controls",
      "model_module_version": "1.5.0",
      "model_name": "DescriptionStyleModel",
      "state": {
       "description_width": ""
      }
     },
     "26c9f8a60b834b47a7b9a14879847197": {
      "model_module": "@jupyter-widgets/controls",
      "model_module_version": "1.5.0",
      "model_name": "HBoxModel",
      "state": {
       "children": [
        "IPY_MODEL_8ef9cecc80a043f596a1713555987e0b",
        "IPY_MODEL_4399cffe32b24cf7a1c88d7ea6316227",
        "IPY_MODEL_5a540b01dc974422a7e93b49a587065a",
        "IPY_MODEL_51e175d4f0a24ce9be897f6a116e2889"
       ],
       "layout": "IPY_MODEL_77f54c0f18904b23812ac23ee1089b9f"
      }
     },
     "27148fa02df548ea88476dbf74e0b59b": {
      "model_module": "@jupyter-widgets/controls",
      "model_module_version": "1.5.0",
      "model_name": "DescriptionStyleModel",
      "state": {
       "description_width": ""
      }
     },
     "274a75ef155c4e9ca197759e1a5efd9d": {
      "model_module": "@jupyter-widgets/base",
      "model_module_version": "1.2.0",
      "model_name": "LayoutModel",
      "state": {}
     },
     "27b44d8da15f4244afe8eeffdf402d1b": {
      "model_module": "@jupyter-widgets/controls",
      "model_module_version": "1.5.0",
      "model_name": "SliderStyleModel",
      "state": {
       "description_width": "initial"
      }
     },
     "27ca5968bbf7451f944cc1e2f061396e": {
      "model_module": "@jupyter-widgets/base",
      "model_module_version": "1.2.0",
      "model_name": "LayoutModel",
      "state": {}
     },
     "282851a2522b4664b5b4a9b10f1cf1bb": {
      "model_module": "@jupyter-widgets/base",
      "model_module_version": "1.2.0",
      "model_name": "LayoutModel",
      "state": {}
     },
     "282a22e802de42b7a3212e7c9bcd792c": {
      "model_module": "@jupyter-widgets/base",
      "model_module_version": "1.2.0",
      "model_name": "LayoutModel",
      "state": {}
     },
     "28c64171d0d84b4cb3851777defcfd56": {
      "model_module": "@jupyter-widgets/controls",
      "model_module_version": "1.5.0",
      "model_name": "DescriptionStyleModel",
      "state": {
       "description_width": ""
      }
     },
     "293f2ad7dea441c3b995deb01e4a699d": {
      "model_module": "@jupyter-widgets/controls",
      "model_module_version": "1.5.0",
      "model_name": "DescriptionStyleModel",
      "state": {
       "description_width": ""
      }
     },
     "29bf80af2d334fa6b7f3e0472b6e4ced": {
      "model_module": "@jupyter-widgets/controls",
      "model_module_version": "1.5.0",
      "model_name": "DescriptionStyleModel",
      "state": {
       "description_width": ""
      }
     },
     "29d8bc215d654b65a9890208b155c133": {
      "model_module": "@jupyter-widgets/controls",
      "model_module_version": "1.5.0",
      "model_name": "CheckboxModel",
      "state": {
       "disabled": false,
       "indent": false,
       "layout": "IPY_MODEL_ec734825ca0b4507bfe544941cd8fa6d",
       "style": "IPY_MODEL_48b7ff7aedd947599d8247948f76a2e9",
       "value": true
      }
     },
     "29dd5b4da48b48e1855279e62ccab4c4": {
      "model_module": "@jupyter-widgets/controls",
      "model_module_version": "1.5.0",
      "model_name": "SliderStyleModel",
      "state": {
       "description_width": ""
      }
     },
     "29ebf3eae23e4a729e1877e48e3062c3": {
      "model_module": "@jupyter-widgets/controls",
      "model_module_version": "1.5.0",
      "model_name": "DescriptionStyleModel",
      "state": {
       "description_width": ""
      }
     },
     "29fe12e935a54946bce01010337f0727": {
      "model_module": "@jupyter-widgets/base",
      "model_module_version": "1.2.0",
      "model_name": "LayoutModel",
      "state": {}
     },
     "2a2c85724df846bc8c7674df6d8ca60f": {
      "model_module": "@jupyter-widgets/controls",
      "model_module_version": "1.5.0",
      "model_name": "DropdownModel",
      "state": {
       "_options_labels": [
        "overlay",
        "chequerboard",
        "difference",
        "absolute difference",
        "distance to agreement",
        "gamma index"
       ],
       "description": "Comparison",
       "index": 0,
       "layout": "IPY_MODEL_5b262d5d74f547dfa2991176ecbe0964",
       "style": "IPY_MODEL_ccac065bda0e4a9b8446cddae9dda69d"
      }
     },
     "2a54673d171742f286860f8422d95935": {
      "model_module": "@jupyter-widgets/controls",
      "model_module_version": "1.5.0",
      "model_name": "SliderStyleModel",
      "state": {
       "description_width": "initial"
      }
     },
     "2b11cc72dfb146338922d746c88509da": {
      "model_module": "@jupyter-widgets/controls",
      "model_module_version": "1.5.0",
      "model_name": "FloatSliderModel",
      "state": {
       "continuous_update": false,
       "description": "Opacity",
       "disabled": true,
       "layout": "IPY_MODEL_aca2b7bc63c54d118e6e2cbeec5b8dc9",
       "max": 1,
       "step": 0.1,
       "style": "IPY_MODEL_53b0b4f6c32f45afa1d25e5b4be94d0e"
      }
     },
     "2b4dd1a7a1874a4a9c1107b83f0e7466": {
      "model_module": "@jupyter-widgets/controls",
      "model_module_version": "1.5.0",
      "model_name": "DescriptionStyleModel",
      "state": {
       "description_width": ""
      }
     },
     "2b8f5caeb51940fb9232896bca24297c": {
      "model_module": "@jupyter-widgets/base",
      "model_module_version": "1.2.0",
      "model_name": "LayoutModel",
      "state": {}
     },
     "2b985195f44f4b64968f2e670b1846f2": {
      "model_module": "@jupyter-widgets/controls",
      "model_module_version": "1.5.0",
      "model_name": "DescriptionStyleModel",
      "state": {
       "description_width": ""
      }
     },
     "2c75d85061d24deb838d55d8a922e427": {
      "model_module": "@jupyter-widgets/controls",
      "model_module_version": "1.5.0",
      "model_name": "FloatSliderModel",
      "state": {
       "continuous_update": false,
       "description": "y centre  (mm)",
       "layout": "IPY_MODEL_f3059aaa5021451194b88a0cfe669ee9",
       "max": 273.277,
       "min": -274.463,
       "readout_format": ".1f",
       "style": "IPY_MODEL_c39694ebefe24d6cbd5bc196969dbaea",
       "value": -0.5930000000000177
      }
     },
     "2cff300d9adc4fa3b595182108cb3c31": {
      "model_module": "@jupyter-widgets/controls",
      "model_module_version": "1.5.0",
      "model_name": "CheckboxModel",
      "state": {
       "disabled": false,
       "indent": false,
       "layout": "IPY_MODEL_f1eaf33f6fb34edb85e4eb40ff231543",
       "style": "IPY_MODEL_a63204f94839421bab136671c09ce1e3",
       "value": true
      }
     },
     "2d468e9d040342d7a8fcad1c1b6b3aa7": {
      "model_module": "@jupyter-widgets/controls",
      "model_module_version": "1.5.0",
      "model_name": "FloatSliderModel",
      "state": {
       "continuous_update": false,
       "description": "x centre  (mm)",
       "layout": "IPY_MODEL_1c37ff94787445e482abeb8c5f11c046",
       "max": 273.277,
       "min": -274.463,
       "readout_format": ".1f",
       "style": "IPY_MODEL_66656791bd9b4bb7ae8bc91e65695874",
       "value": -0.5930000000000177
      }
     },
     "2d61eaa4c1fb4c61b892034ae6821b1e": {
      "model_module": "@jupyter-widgets/controls",
      "model_module_version": "1.5.0",
      "model_name": "DescriptionStyleModel",
      "state": {
       "description_width": ""
      }
     },
     "2d6ec6dc79aa47309644885a49642a0e": {
      "model_module": "@jupyter-widgets/base",
      "model_module_version": "1.2.0",
      "model_name": "LayoutModel",
      "state": {}
     },
     "2d7a9829fa0a4a1992648506277493db": {
      "model_module": "@jupyter-widgets/controls",
      "model_module_version": "1.5.0",
      "model_name": "CheckboxModel",
      "state": {
       "disabled": false,
       "indent": false,
       "layout": "IPY_MODEL_bb32ec6007c24122a352914ef09ef1b9",
       "style": "IPY_MODEL_63923a8b94a0495cb5709729590c1cf7",
       "value": true
      }
     },
     "2d86c289ff8c45fc87a138e36ed81323": {
      "model_module": "@jupyter-widgets/controls",
      "model_module_version": "1.5.0",
      "model_name": "SliderStyleModel",
      "state": {
       "description_width": "initial"
      }
     },
     "2ddbcfcf5de84e66b5a5cf84c4406951": {
      "model_module": "@jupyter-widgets/base",
      "model_module_version": "1.2.0",
      "model_name": "LayoutModel",
      "state": {
       "height": "100%"
      }
     },
     "2e32741342bc42c2a1f22452b4c75b56": {
      "model_module": "@jupyter-widgets/controls",
      "model_module_version": "1.5.0",
      "model_name": "DescriptionStyleModel",
      "state": {
       "description_width": ""
      }
     },
     "2e4acb5083aa40dc8e875c2c188ea157": {
      "model_module": "@jupyter-widgets/controls",
      "model_module_version": "1.5.0",
      "model_name": "CheckboxModel",
      "state": {
       "description": "Plot consensus",
       "disabled": false,
       "layout": "IPY_MODEL_a90fc848bf4c46369f289720684578df",
       "style": "IPY_MODEL_a6bc751674f640258e58a3cc4632d4af",
       "value": true
      }
     },
     "2e5ece67a46044ceb5ab4957d3af2dac": {
      "model_module": "@jupyter-widgets/base",
      "model_module_version": "1.2.0",
      "model_name": "LayoutModel",
      "state": {
       "height": "100%"
      }
     },
     "2e608f0e86304ce8b2f5bf0e2eb0f8fe": {
      "model_module": "@jupyter-widgets/controls",
      "model_module_version": "1.5.0",
      "model_name": "FloatRangeSliderModel",
      "state": {
       "_model_name": "FloatRangeSliderModel",
       "_view_name": "FloatRangeSliderView",
       "continuous_update": false,
       "description": "Jacobian range",
       "layout": "IPY_MODEL_3db0f6a48786468f8a2f1ea8cec80b17",
       "max": 2,
       "min": -1,
       "readout_format": ".1f",
       "step": 0.1,
       "style": "IPY_MODEL_3337cd5f16cd4e07b41b754785c7a657",
       "value": [
        -0.25,
        1.25
       ]
      }
     },
     "2ed9bb5c4f2741bfb9973c033f2a4439": {
      "model_module": "@jupyter-widgets/base",
      "model_module_version": "1.2.0",
      "model_name": "LayoutModel",
      "state": {}
     },
     "2f3ca1e7f77b4623943522b39cde3fcb": {
      "model_module": "@jupyter-widgets/base",
      "model_module_version": "1.2.0",
      "model_name": "LayoutModel",
      "state": {}
     },
     "2f58b825d13845b1b7d6092f3e6eb47a": {
      "model_module": "@jupyter-widgets/base",
      "model_module_version": "1.2.0",
      "model_name": "LayoutModel",
      "state": {}
     },
     "2f6514eae5914d4b9670e797d0d2ca3a": {
      "model_module": "@jupyter-widgets/base",
      "model_module_version": "1.2.0",
      "model_name": "LayoutModel",
      "state": {}
     },
     "2fffed562f804cff9a521e3c4923293e": {
      "model_module": "@jupyter-widgets/controls",
      "model_module_version": "1.5.0",
      "model_name": "CheckboxModel",
      "state": {
       "description": "Invert comparison",
       "disabled": false,
       "layout": "IPY_MODEL_bf101d6a04d843db9b02a14f379b800f",
       "style": "IPY_MODEL_1d4a461f7cad426ab2d0cd095dbbe8ad",
       "value": false
      }
     },
     "3085f95d967c4917b7e9a223a1b99bdf": {
      "model_module": "@jupyter-widgets/controls",
      "model_module_version": "1.5.0",
      "model_name": "TextModel",
      "state": {
       "description": "Save plot as:",
       "layout": "IPY_MODEL_1f878482586344e2b440fc7ae328a76f",
       "style": "IPY_MODEL_977bb23aed1d4bf9b2976b9e992f5cb6"
      }
     },
     "32910c6a575346ecad8308dae0d7a9aa": {
      "model_module": "@jupyter-widgets/controls",
      "model_module_version": "1.5.0",
      "model_name": "DropdownModel",
      "state": {
       "_options_labels": [
        "quiver",
        "grid",
        "x-displacement",
        "y-displacement",
        "z-displacement",
        "3d-displacement",
        "none"
       ],
       "description": "Deformation field",
       "index": 0,
       "layout": "IPY_MODEL_de7d2d279ebf416aaaaf00b2af5e2655",
       "style": "IPY_MODEL_7fb8c090a8af4f76a140343aca73cb05"
      }
     },
     "3292008a839f422c9eda7f6d660baf1a": {
      "model_module": "@jupyter-widgets/controls",
      "model_module_version": "1.5.0",
      "model_name": "VBoxModel",
      "state": {
       "children": [
        "IPY_MODEL_6ddd708f265444ba8855c10e0206a15a",
        "IPY_MODEL_137055026fdf42a2b8c700e17036b68d",
        "IPY_MODEL_1799b521bb58408bbcda35d3b57312c9",
        "IPY_MODEL_eae84650cb8c42fc922c1410cfe917dc",
        "IPY_MODEL_2d468e9d040342d7a8fcad1c1b6b3aa7",
        "IPY_MODEL_2c75d85061d24deb838d55d8a922e427",
        "IPY_MODEL_5bfbc4f31ebb45bca4f2ab7b5d7f1a21",
        "IPY_MODEL_a1a0b8b4db6143d0843e69ed60ac87f2"
       ],
       "layout": "IPY_MODEL_b5e63ec642fd46cb91461b41eea79c94"
      }
     },
     "331dfb38480b4384b4942ad1f2c004c4": {
      "model_module": "@jupyter-widgets/controls",
      "model_module_version": "1.5.0",
      "model_name": "CheckboxModel",
      "state": {
       "disabled": false,
       "indent": false,
       "layout": "IPY_MODEL_6d44279d87fb4285a914a1e67cc348fc",
       "style": "IPY_MODEL_85d82d51f503485fbc9fb619e64df77a",
       "value": true
      }
     },
     "3337cd5f16cd4e07b41b754785c7a657": {
      "model_module": "@jupyter-widgets/controls",
      "model_module_version": "1.5.0",
      "model_name": "SliderStyleModel",
      "state": {
       "description_width": "initial"
      }
     },
     "33703e5fdd284aa79d9261ec33359259": {
      "model_module": "@jupyter-widgets/base",
      "model_module_version": "1.2.0",
      "model_name": "LayoutModel",
      "state": {}
     },
     "339cf317acc141548ebc1fdbb7d4de17": {
      "model_module": "@jupyter-widgets/base",
      "model_module_version": "1.2.0",
      "model_name": "LayoutModel",
      "state": {}
     },
     "33bc8045d25644da8fbb69d96127cdd9": {
      "model_module": "@jupyter-widgets/controls",
      "model_module_version": "1.5.0",
      "model_name": "HTMLModel",
      "state": {
       "layout": "IPY_MODEL_463dbd35011f4ebdbf1234ef0344cf39",
       "style": "IPY_MODEL_58a9cb808255469daba2d9e2dfc60dd6",
       "value": "\n        <head>\n            <style>\n                th, td {\n                    padding: 2px 2px;\n                }\n                th {\n                    background-color: transparent;\n                    text-align: center;\n                }\n            </style>\n        </head>\n    <table border=\"1\" class=\"dataframe\">\n  <thead>\n    <tr style=\"text-align: right;\">\n      <th>ROI</th>\n    </tr>\n  </thead>\n  <tbody>\n    <tr>\n      <td><p style=\"background-color: rgb(255.0, 0.0, 0.0); color: white;\">&nbsp;ctv65&nbsp;</p></td>\n    </tr>\n    <tr>\n      <td><p style=\"background-color: rgb(255.0, 128.0, 128.0); color: white;\">&nbsp;ctv60&nbsp;</p></td>\n    </tr>\n    <tr>\n      <td><p style=\"background-color: rgb(255.0, 128.0, 64.0); color: white;\">&nbsp;ctv54&nbsp;</p></td>\n    </tr>\n    <tr>\n      <td><p style=\"background-color: rgb(255.0, 255.0, 0.0); color: black;\">&nbsp;cord&nbsp;</p></td>\n    </tr>\n    <tr>\n      <td><p style=\"background-color: rgb(0.0, 255.0, 255.0); color: white;\">&nbsp;R parotid&nbsp;</p></td>\n    </tr>\n    <tr>\n      <td><p style=\"background-color: rgb(255.0, 0.0, 255.0); color: white;\">&nbsp;L parotid&nbsp;</p></td>\n    </tr>\n    <tr>\n      <td><p style=\"background-color: rgb(128.0, 64.0, 64.0); color: white;\">&nbsp;Mandible&nbsp;</p></td>\n    </tr>\n    <tr>\n      <td><p style=\"background-color: rgb(255.0, 0.0, 0.0); color: white;\">&nbsp;skin&nbsp;</p></td>\n    </tr>\n    <tr>\n      <td><p style=\"background-color: rgb(0.0, 0.0, 255.0); color: white;\">&nbsp;PTV65&nbsp;</p></td>\n    </tr>\n    <tr>\n      <td><p style=\"background-color: rgb(0.0, 128.0, 255.0); color: white;\">&nbsp;PTV60&nbsp;</p></td>\n    </tr>\n    <tr>\n      <td><p style=\"background-color: rgb(0.0, 255.0, 255.0); color: white;\">&nbsp;PTV54&nbsp;</p></td>\n    </tr>\n    <tr>\n      <td><p style=\"background-color: rgb(255.0, 128.0, 0.0); color: white;\">&nbsp;cordPRV&nbsp;</p></td>\n    </tr>\n    <tr>\n      <td><p style=\"background-color: rgb(127.0, 255.0, 127.0); color: black;\">&nbsp;R parotid - PTV&nbsp;</p></td>\n    </tr>\n    <tr>\n      <td><p style=\"background-color: rgb(39.0, 199.0, 0.0); color: white;\">&nbsp;L parotid - PTV&nbsp;</p></td>\n    </tr>\n    <tr>\n      <td><p style=\"background-color: rgb(128.0, 128.0, 255.0); color: white;\">&nbsp;Ring65&nbsp;</p></td>\n    </tr>\n    <tr>\n      <td><p style=\"background-color: rgb(128.0, 0.0, 255.0); color: white;\">&nbsp;Ring60&nbsp;</p></td>\n    </tr>\n    <tr>\n      <td><p style=\"background-color: rgb(255.0, 0.0, 128.0); color: white;\">&nbsp;Ring54&nbsp;</p></td>\n    </tr>\n    <tr>\n      <td><p style=\"background-color: rgb(255.0, 0.0, 0.0); color: white;\">&nbsp;post avoid&nbsp;</p></td>\n    </tr>\n    <tr>\n      <td><p style=\"background-color: rgb(255.0, 0.0, 0.0); color: white;\">&nbsp;spine block&nbsp;</p></td>\n    </tr>\n    <tr>\n      <td><p style=\"background-color: rgb(255.0, 0.0, 0.0); color: white;\">&nbsp;optics block&nbsp;</p></td>\n    </tr>\n    <tr>\n      <td><p style=\"background-color: rgb(144.0, 0.0, 115.0); color: white;\">&nbsp;shoulder blocks&nbsp;</p></td>\n    </tr>\n    <tr>\n      <td><p style=\"background-color: rgb(255.0, 127.0, 0.0); color: white;\">&nbsp;planning bolus&nbsp;</p></td>\n    </tr>\n    <tr>\n      <td><p style=\"background-color: rgb(51.0, 0.0, 255.0); color: white;\">&nbsp;AVOID&nbsp;</p></td>\n    </tr>\n  </tbody>\n</table>"
      }
     },
     "33eb3f09cd6d4d2cbbf934a36d8bbd4f": {
      "model_module": "@jupyter-widgets/controls",
      "model_module_version": "1.5.0",
      "model_name": "HTMLModel",
      "state": {
       "layout": "IPY_MODEL_f55ef80609d64b928d89745a9393b70d",
       "style": "IPY_MODEL_2046dd806d944eaf89dfdd12c7770832",
       "value": "\n        <head>\n            <style>\n                th, td {\n                    padding: 2px 2px;\n                }\n                th {\n                    background-color: transparent;\n                    text-align: center;\n                }\n            </style>\n        </head>\n    <table border=\"1\" class=\"dataframe\">\n  <thead>\n    <tr style=\"text-align: right;\">\n      <th>ROI</th>\n    </tr>\n  </thead>\n  <tbody>\n    <tr>\n      <td><p style=\"background-color: rgb(255.0, 182.0, 193.0); color: black;\">&nbsp;ctv65&nbsp;</p></td>\n    </tr>\n    <tr>\n      <td><p style=\"background-color: rgb(0.0, 255.0, 255.0); color: white;\">&nbsp;spinal cord&nbsp;</p></td>\n    </tr>\n    <tr>\n      <td><p style=\"background-color: rgb(0.0, 255.0, 0.0); color: white;\">&nbsp;left parotid&nbsp;</p></td>\n    </tr>\n    <tr>\n      <td><p style=\"background-color: rgb(255.0, 255.0, 0.0); color: black;\">&nbsp;right parotid&nbsp;</p></td>\n    </tr>\n  </tbody>\n</table>"
      }
     },
     "3472fd41f1b94e73a4134786438f7edb": {
      "model_module": "@jupyter-widgets/base",
      "model_module_version": "1.2.0",
      "model_name": "LayoutModel",
      "state": {}
     },
     "34986ee5fddc4d2aa3eeba9c494ac29b": {
      "model_module": "@jupyter-widgets/base",
      "model_module_version": "1.2.0",
      "model_name": "LayoutModel",
      "state": {
       "height": "100%"
      }
     },
     "352058859a31495893ff0e983e67b9f6": {
      "model_module": "@jupyter-widgets/base",
      "model_module_version": "1.2.0",
      "model_name": "LayoutModel",
      "state": {}
     },
     "359c19895e834e3f855c9a0d8471a589": {
      "model_module": "@jupyter-widgets/base",
      "model_module_version": "1.2.0",
      "model_name": "LayoutModel",
      "state": {}
     },
     "35d0af24e2234796a317121c92f72546": {
      "model_module": "@jupyter-widgets/controls",
      "model_module_version": "1.5.0",
      "model_name": "CheckboxModel",
      "state": {
       "disabled": false,
       "layout": "IPY_MODEL_d4e57d79c10644de9fc537b2e96c8fb0",
       "style": "IPY_MODEL_23381b0c45144b11a0a5c0690519ce20",
       "value": true
      }
     },
     "3622d54eaf804978830989d41a57a4be": {
      "model_module": "@jupyter-widgets/controls",
      "model_module_version": "1.5.0",
      "model_name": "CheckboxModel",
      "state": {
       "disabled": false,
       "layout": "IPY_MODEL_e2e52d263c9045abbedbd93bab13d387",
       "style": "IPY_MODEL_b872b92c9fd147afa7bac0ee4b01b23b",
       "value": true
      }
     },
     "36315c152f5e4c0a9beda9316d93e737": {
      "model_module": "@jupyter-widgets/controls",
      "model_module_version": "1.5.0",
      "model_name": "SliderStyleModel",
      "state": {
       "description_width": "initial"
      }
     },
     "3689414eb18549ea91b7afc3b197a13d": {
      "model_module": "@jupyter-widgets/controls",
      "model_module_version": "1.5.0",
      "model_name": "DropdownModel",
      "state": {
       "_options_labels": [
        "overlay",
        "chequerboard",
        "difference",
        "absolute difference",
        "distance to agreement",
        "gamma index"
       ],
       "description": "Comparison",
       "index": 0,
       "layout": "IPY_MODEL_7d8e9410dde54c839e1eea25e5ac6389",
       "style": "IPY_MODEL_6d5a5ec4bac54213bceb240854d5ebb7"
      }
     },
     "369cab6e07094b1788cb3339d75ce823": {
      "model_module": "@jupyter-widgets/base",
      "model_module_version": "1.2.0",
      "model_name": "LayoutModel",
      "state": {
       "height": "100%"
      }
     },
     "36aa0a0f3bb04f22a30cb4453cd2ee47": {
      "model_module": "@jupyter-widgets/base",
      "model_module_version": "1.2.0",
      "model_name": "LayoutModel",
      "state": {}
     },
     "37732687fefd49c5bd552bd5cef58d7c": {
      "model_module": "@jupyter-widgets/controls",
      "model_module_version": "1.5.0",
      "model_name": "VBoxModel",
      "state": {
       "children": [
        "IPY_MODEL_e8d5df250e754b31a658d48156699638",
        "IPY_MODEL_c8e00f6c53f343b0ac639ea75687cf5c"
       ],
       "layout": "IPY_MODEL_a23f8c8e81564f14a1ac38651909c41b"
      }
     },
     "378f94abe8be4047a073c1c5d5a1641c": {
      "model_module": "@jupyter-widgets/controls",
      "model_module_version": "1.5.0",
      "model_name": "VBoxModel",
      "state": {
       "children": [
        "IPY_MODEL_f561fd377c0640599bb7d2bf300c1897",
        "IPY_MODEL_6f9147a012c5462f924ffccd76c4926b",
        "IPY_MODEL_9aba1911191f4e719f2dbd16411177d3",
        "IPY_MODEL_7b7b018fdb4a4a72a8122b2d8d4486d5",
        "IPY_MODEL_ca54c9986e3b4d2f8ceccc04f7f44b92"
       ],
       "layout": "IPY_MODEL_9bd17740efcd4c48b2441f7c8dcf6191"
      }
     },
     "379a907e2427478f8c6f8c0874fb785c": {
      "model_module": "@jupyter-widgets/base",
      "model_module_version": "1.2.0",
      "model_name": "LayoutModel",
      "state": {}
     },
     "37e1004b55634615aa1460eaaa663d03": {
      "model_module": "@jupyter-widgets/base",
      "model_module_version": "1.2.0",
      "model_name": "LayoutModel",
      "state": {}
     },
     "3877df3b981d4a1fac74f550213052ee": {
      "model_module": "@jupyter-widgets/base",
      "model_module_version": "1.2.0",
      "model_name": "LayoutModel",
      "state": {}
     },
     "39161c8e30ab4f7db831cb626862691c": {
      "model_module": "@jupyter-widgets/controls",
      "model_module_version": "1.5.0",
      "model_name": "CheckboxModel",
      "state": {
       "disabled": false,
       "indent": false,
       "layout": "IPY_MODEL_6632232b9920499297aaeab1a124c607",
       "style": "IPY_MODEL_ae7cd575767449b1811a6434eea7d804",
       "value": true
      }
     },
     "3983936d406841009d0020e0b4f145b7": {
      "model_module": "@jupyter-widgets/controls",
      "model_module_version": "1.5.0",
      "model_name": "DescriptionStyleModel",
      "state": {
       "description_width": ""
      }
     },
     "39b07215044f4965abfc58093a382f1b": {
      "model_module": "@jupyter-widgets/controls",
      "model_module_version": "1.5.0",
      "model_name": "CheckboxModel",
      "state": {
       "disabled": false,
       "indent": false,
       "layout": "IPY_MODEL_8a730268f5a9472f8ce80724e0e1f213",
       "style": "IPY_MODEL_3ceab7ed797d4646a10252e7e402b0b4",
       "value": true
      }
     },
     "3a58d910d29a4c7aa7fd07ca1b151ed0": {
      "model_module": "@jupyter-widgets/controls",
      "model_module_version": "1.5.0",
      "model_name": "DescriptionStyleModel",
      "state": {
       "description_width": ""
      }
     },
     "3abacee7d37349e7a23bbbd311fd4b75": {
      "model_module": "@jupyter-widgets/base",
      "model_module_version": "1.2.0",
      "model_name": "LayoutModel",
      "state": {
       "height": "100%"
      }
     },
     "3ace49faffe24061b465a584bdddb7cc": {
      "model_module": "@jupyter-widgets/controls",
      "model_module_version": "1.5.0",
      "model_name": "DropdownModel",
      "state": {
       "_options_labels": [
        "majority",
        "sum",
        "overlap",
        "staple"
       ],
       "description": "Consensus type",
       "index": 0,
       "layout": "IPY_MODEL_3faeb7f220044fc0bb447eefb3f5a998",
       "style": "IPY_MODEL_7d07e06484104f41b948d1e1fadbce48"
      }
     },
     "3af53a10df32417e9d3ce85d80becbc4": {
      "model_module": "@jupyter-widgets/base",
      "model_module_version": "1.2.0",
      "model_name": "LayoutModel",
      "state": {
       "height": "100%"
      }
     },
     "3b169186e71d4396823cb217eef0aabe": {
      "model_module": "@jupyter-widgets/controls",
      "model_module_version": "1.5.0",
      "model_name": "CheckboxModel",
      "state": {
       "disabled": false,
       "indent": false,
       "layout": "IPY_MODEL_4eadf84653214325b9bc6733aff96a68",
       "style": "IPY_MODEL_d39f65b951f5434e9e01563473183492",
       "value": true
      }
     },
     "3b71139eb1cc45fbbfe86393ce31da28": {
      "model_module": "@jupyter-widgets/controls",
      "model_module_version": "1.5.0",
      "model_name": "SliderStyleModel",
      "state": {
       "description_width": "initial"
      }
     },
     "3baf0e51fbdd453094d76395cdfea177": {
      "model_module": "@jupyter-widgets/controls",
      "model_module_version": "1.5.0",
      "model_name": "SliderStyleModel",
      "state": {
       "description_width": "initial"
      }
     },
     "3be7d0febd844d7fa7eaeb14124b6f68": {
      "model_module": "@jupyter-widgets/base",
      "model_module_version": "1.2.0",
      "model_name": "LayoutModel",
      "state": {
       "height": "100%"
      }
     },
     "3c6d68c006a3422cb2d97821ea8e4ed5": {
      "model_module": "@jupyter-widgets/controls",
      "model_module_version": "1.5.0",
      "model_name": "DescriptionStyleModel",
      "state": {
       "description_width": ""
      }
     },
     "3c9730733a174971ac2803406f6a7878": {
      "model_module": "@jupyter-widgets/base",
      "model_module_version": "1.2.0",
      "model_name": "LayoutModel",
      "state": {
       "height": "100%"
      }
     },
     "3c9df09655fb429f8f18ca7652624da1": {
      "model_module": "@jupyter-widgets/controls",
      "model_module_version": "1.5.0",
      "model_name": "CheckboxModel",
      "state": {
       "disabled": false,
       "indent": false,
       "layout": "IPY_MODEL_7ccb56bf25b3448bb587f453df2cdd04",
       "style": "IPY_MODEL_68f663361dbf48a3b89e63edb920fb16",
       "value": true
      }
     },
     "3cb68b72e1ec40f7888819046abfb685": {
      "model_module": "@jupyter-widgets/controls",
      "model_module_version": "1.5.0",
      "model_name": "HTMLModel",
      "state": {
       "layout": "IPY_MODEL_4c6905d4081d49ea8961e23dde998856",
       "style": "IPY_MODEL_94dc7548389a45c5a2693e7b3b347039",
       "value": "&nbsp;"
      }
     },
     "3cd10ea8fb29418bb99fa214181cdae4": {
      "model_module": "@jupyter-widgets/base",
      "model_module_version": "1.2.0",
      "model_name": "LayoutModel",
      "state": {
       "height": "100%"
      }
     },
     "3ceab7ed797d4646a10252e7e402b0b4": {
      "model_module": "@jupyter-widgets/controls",
      "model_module_version": "1.5.0",
      "model_name": "DescriptionStyleModel",
      "state": {
       "description_width": ""
      }
     },
     "3d407dcef10b451482fd320232ffd702": {
      "model_module": "@jupyter-widgets/controls",
      "model_module_version": "1.5.0",
      "model_name": "ToggleButtonModel",
      "state": {
       "description": "Show all ROIs",
       "layout": "IPY_MODEL_dc722bf0d95e433184cf5f653231fd4c",
       "style": "IPY_MODEL_57529bf38b494d2596ded30f5acc30f6"
      }
     },
     "3d600c05e1b64653a4ccc9aea5684dc2": {
      "model_module": "@jupyter-widgets/controls",
      "model_module_version": "1.5.0",
      "model_name": "FloatSliderModel",
      "state": {
       "continuous_update": false,
       "description": "Dose opacity",
       "layout": "IPY_MODEL_27ca5968bbf7451f944cc1e2f061396e",
       "max": 1,
       "step": 0.05,
       "style": "IPY_MODEL_9bea3ab80eec483088bb8f2f0c962782",
       "value": 0.5
      }
     },
     "3db0f6a48786468f8a2f1ea8cec80b17": {
      "model_module": "@jupyter-widgets/base",
      "model_module_version": "1.2.0",
      "model_name": "LayoutModel",
      "state": {}
     },
     "3df06571e0dd44e49ae270b399ddb66e": {
      "model_module": "@jupyter-widgets/base",
      "model_module_version": "1.2.0",
      "model_name": "LayoutModel",
      "state": {}
     },
     "3e04f6a8737a4dd9bebaabe9bf0fa2b5": {
      "model_module": "@jupyter-widgets/base",
      "model_module_version": "1.2.0",
      "model_name": "LayoutModel",
      "state": {}
     },
     "3e3512b030d0405faa3996d8f0f327e2": {
      "model_module": "@jupyter-widgets/base",
      "model_module_version": "1.2.0",
      "model_name": "LayoutModel",
      "state": {}
     },
     "3e4ee3ee6b4442719cde39d4b33d5a31": {
      "model_module": "@jupyter-widgets/base",
      "model_module_version": "1.2.0",
      "model_name": "LayoutModel",
      "state": {
       "height": "100%"
      }
     },
     "3e63acce39534a20b7b00af7c51481fc": {
      "model_module": "@jupyter-widgets/controls",
      "model_module_version": "1.5.0",
      "model_name": "SliderStyleModel",
      "state": {
       "description_width": ""
      }
     },
     "3eb0f879cdac4c0caa10dda1228b39bd": {
      "model_module": "@jupyter-widgets/controls",
      "model_module_version": "1.5.0",
      "model_name": "DescriptionStyleModel",
      "state": {
       "description_width": "initial"
      }
     },
     "3f00b14c2440462a87cb45f1ac358c27": {
      "model_module": "@jupyter-widgets/controls",
      "model_module_version": "1.5.0",
      "model_name": "DescriptionStyleModel",
      "state": {
       "description_width": ""
      }
     },
     "3f23555ebd594bb0bd7cfa551d9566fc": {
      "model_module": "@jupyter-widgets/base",
      "model_module_version": "1.2.0",
      "model_name": "LayoutModel",
      "state": {}
     },
     "3faeb7f220044fc0bb447eefb3f5a998": {
      "model_module": "@jupyter-widgets/base",
      "model_module_version": "1.2.0",
      "model_name": "LayoutModel",
      "state": {}
     },
     "3fbea5d78eb34c319b9e8f58bc4dd59c": {
      "model_module": "@jupyter-widgets/controls",
      "model_module_version": "1.5.0",
      "model_name": "RadioButtonsModel",
      "state": {
       "_options_labels": [
        "x-y",
        "y-z",
        "x-z"
       ],
       "description": "Slice plane selection:",
       "index": 0,
       "layout": "IPY_MODEL_48dd8848ff8549138d3b725e46a9d845",
       "style": "IPY_MODEL_d8d93bfaa31d436f9881ae37040b7f70"
      }
     },
     "3ff11a1294ff43ae9a9af80178651373": {
      "model_module": "@jupyter-widgets/base",
      "model_module_version": "1.2.0",
      "model_name": "LayoutModel",
      "state": {
       "height": "100%"
      }
     },
     "3ff81463c31d43efa0b8792ebac04f13": {
      "model_module": "@jupyter-widgets/controls",
      "model_module_version": "1.5.0",
      "model_name": "CheckboxModel",
      "state": {
       "disabled": false,
       "indent": false,
       "layout": "IPY_MODEL_1a9f3d085dd24b3c90b9c82e9c76ac0f",
       "style": "IPY_MODEL_a31309412722410e8127af85b3fbd851",
       "value": true
      }
     },
     "4000ed2a2c0d41d18ae64281ea967d69": {
      "model_module": "@jupyter-widgets/base",
      "model_module_version": "1.2.0",
      "model_name": "LayoutModel",
      "state": {}
     },
     "4044a0a4b7a64c6a92e4d16d2173a19d": {
      "model_module": "@jupyter-widgets/base",
      "model_module_version": "1.2.0",
      "model_name": "LayoutModel",
      "state": {}
     },
     "405bf558ef4d4d3a89a83504e8c88390": {
      "model_module": "@jupyter-widgets/controls",
      "model_module_version": "1.5.0",
      "model_name": "CheckboxModel",
      "state": {
       "disabled": false,
       "indent": false,
       "layout": "IPY_MODEL_651049d9504a42219348874104cd5638",
       "style": "IPY_MODEL_c47dcb9e634e48618b216a1fbc471776",
       "value": true
      }
     },
     "40a5725f50754e23a1502e51078172cb": {
      "model_module": "@jupyter-widgets/controls",
      "model_module_version": "1.5.0",
      "model_name": "ToggleButtonModel",
      "state": {
       "description": "Show all ROIs",
       "layout": "IPY_MODEL_5678969873c1414c99f1890137ec70b9",
       "style": "IPY_MODEL_540f875d30bd46108ec1e3f1f500265f"
      }
     },
     "40d9ac93410c4f16984c01bb45c64292": {
      "model_module": "@jupyter-widgets/controls",
      "model_module_version": "1.5.0",
      "model_name": "DescriptionStyleModel",
      "state": {
       "description_width": ""
      }
     },
     "4154d62c65cc42b79076e420d8b06237": {
      "model_module": "@jupyter-widgets/controls",
      "model_module_version": "1.5.0",
      "model_name": "VBoxModel",
      "state": {
       "children": [
        "IPY_MODEL_c8b2f76bc3654cf598ae5db893d84748",
        "IPY_MODEL_5d3d17f01ad541d79ef8615ec749902d",
        "IPY_MODEL_a770dc52a92d4b099ed28eebab0ca20f",
        "IPY_MODEL_2b11cc72dfb146338922d746c88509da",
        "IPY_MODEL_b6477b2a3dd44dbfa8778d892919fec2",
        "IPY_MODEL_e0b9e53f76e24ab7b2d1037cc778f5ce"
       ],
       "layout": "IPY_MODEL_dd1987392ca5429697d752b731020664"
      }
     },
     "4294c8d580fc4144827005f240bf6f26": {
      "model_module": "@jupyter-widgets/controls",
      "model_module_version": "1.5.0",
      "model_name": "HBoxModel",
      "state": {
       "layout": "IPY_MODEL_f9779047bd8c4535b25fd7b7ff2ce1a6"
      }
     },
     "42a8742e720542619551bcc69fe5c7bb": {
      "model_module": "@jupyter-widgets/controls",
      "model_module_version": "1.5.0",
      "model_name": "SliderStyleModel",
      "state": {
       "description_width": "initial"
      }
     },
     "430fbbef8ada4e029b70fdc5ad185cf5": {
      "model_module": "@jupyter-widgets/controls",
      "model_module_version": "1.5.0",
      "model_name": "FloatSliderModel",
      "state": {
       "continuous_update": false,
       "description": "z (mm)",
       "layout": "IPY_MODEL_c8c33786b0a24c1e8638c0c4f538c9c2",
       "max": 123,
       "min": -228,
       "readout_format": ".1f",
       "step": 3,
       "style": "IPY_MODEL_dac460fd83474b46a6f7f8f8cf11c5d3",
       "value": -51
      }
     },
     "435fcb2233ac4551bfa4321b173a2ef8": {
      "model_module": "@jupyter-widgets/output",
      "model_module_version": "1.0.0",
      "model_name": "OutputModel",
      "state": {
       "layout": "IPY_MODEL_5b541f9663ca467aad1979becf69cdeb",
       "outputs": [
        {
         "data": {
          "image/png": "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\n",
          "text/plain": "<Figure size 720x432 with 3 Axes>"
         },
         "metadata": {
          "needs_background": "light"
         },
         "output_type": "display_data"
        }
       ]
      }
     },
     "43646314552e41378fd71fc64d39efb5": {
      "model_module": "@jupyter-widgets/controls",
      "model_module_version": "1.5.0",
      "model_name": "DescriptionStyleModel",
      "state": {
       "description_width": ""
      }
     },
     "4399cffe32b24cf7a1c88d7ea6316227": {
      "model_module": "@jupyter-widgets/controls",
      "model_module_version": "1.5.0",
      "model_name": "VBoxModel",
      "state": {
       "children": [
        "IPY_MODEL_c8b2f76bc3654cf598ae5db893d84748",
        "IPY_MODEL_5d3d17f01ad541d79ef8615ec749902d",
        "IPY_MODEL_a770dc52a92d4b099ed28eebab0ca20f",
        "IPY_MODEL_2b11cc72dfb146338922d746c88509da",
        "IPY_MODEL_b6477b2a3dd44dbfa8778d892919fec2",
        "IPY_MODEL_e0b9e53f76e24ab7b2d1037cc778f5ce"
       ],
       "layout": "IPY_MODEL_d967b98656df4742b827e867cd9d6e5e"
      }
     },
     "43cbb0fed4714c098eaa481f09d2bbda": {
      "model_module": "@jupyter-widgets/controls",
      "model_module_version": "1.5.0",
      "model_name": "ToggleButtonModel",
      "state": {
       "description": "Hide all ROIs",
       "layout": "IPY_MODEL_4f1a2dd129f9458587487c48babb2dcc",
       "style": "IPY_MODEL_4ff54690612f481dac1b7637e0ab6d69"
      }
     },
     "4407e976ad014d6f938a87ab85bd4f30": {
      "model_module": "@jupyter-widgets/controls",
      "model_module_version": "1.5.0",
      "model_name": "VBoxModel",
      "state": {
       "children": [
        "IPY_MODEL_e4482a55b0f5447a899dbee5d973f593"
       ],
       "layout": "IPY_MODEL_4da071957f0242f3a9f1bbb6e8c363aa"
      }
     },
     "44488fd6576a46fb91215fb12b5054f7": {
      "model_module": "@jupyter-widgets/base",
      "model_module_version": "1.2.0",
      "model_name": "LayoutModel",
      "state": {
       "height": "100%"
      }
     },
     "4505aad86b034a9a84d19991cd1cfb8a": {
      "model_module": "@jupyter-widgets/base",
      "model_module_version": "1.2.0",
      "model_name": "LayoutModel",
      "state": {}
     },
     "452fbb7d67904ccaa18d74f31e96cd21": {
      "model_module": "@jupyter-widgets/controls",
      "model_module_version": "1.5.0",
      "model_name": "SliderStyleModel",
      "state": {
       "description_width": "initial"
      }
     },
     "460437b7460141c899abe39d06160131": {
      "model_module": "@jupyter-widgets/base",
      "model_module_version": "1.2.0",
      "model_name": "LayoutModel",
      "state": {}
     },
     "462b580c51444805a3698770457b59a0": {
      "model_module": "@jupyter-widgets/controls",
      "model_module_version": "1.5.0",
      "model_name": "SliderStyleModel",
      "state": {
       "description_width": ""
      }
     },
     "463dbd35011f4ebdbf1234ef0344cf39": {
      "model_module": "@jupyter-widgets/base",
      "model_module_version": "1.2.0",
      "model_name": "LayoutModel",
      "state": {}
     },
     "46cf661b61444f99abbda70d45ae1d78": {
      "model_module": "@jupyter-widgets/base",
      "model_module_version": "1.2.0",
      "model_name": "LayoutModel",
      "state": {}
     },
     "46fe1c04b54645cea3c787f2ac1ab90e": {
      "model_module": "@jupyter-widgets/controls",
      "model_module_version": "1.5.0",
      "model_name": "SliderStyleModel",
      "state": {
       "description_width": "initial"
      }
     },
     "471954e07d3d4054b03c69ca759c7aab": {
      "model_module": "@jupyter-widgets/base",
      "model_module_version": "1.2.0",
      "model_name": "LayoutModel",
      "state": {}
     },
     "48b7ff7aedd947599d8247948f76a2e9": {
      "model_module": "@jupyter-widgets/controls",
      "model_module_version": "1.5.0",
      "model_name": "DescriptionStyleModel",
      "state": {
       "description_width": ""
      }
     },
     "48d69c3063b44a6cb5c0be8c040d348d": {
      "model_module": "@jupyter-widgets/base",
      "model_module_version": "1.2.0",
      "model_name": "LayoutModel",
      "state": {}
     },
     "48dd8848ff8549138d3b725e46a9d845": {
      "model_module": "@jupyter-widgets/base",
      "model_module_version": "1.2.0",
      "model_name": "LayoutModel",
      "state": {}
     },
     "48e6c1a8d12d4b9b9e5c352ced8c9721": {
      "model_module": "@jupyter-widgets/controls",
      "model_module_version": "1.5.0",
      "model_name": "VBoxModel",
      "state": {
       "children": [
        "IPY_MODEL_ee5488987c3d449dbcdb38cc5c8784f1",
        "IPY_MODEL_5d421b49c3e74922b57e5ac9ce3ae1aa",
        "IPY_MODEL_9f093392aa414877affd588f7d6248b2",
        "IPY_MODEL_1b1c9d99ce834c29b1024a30ee91d0f4",
        "IPY_MODEL_90276e7fd42f4b3d9ac66641a0bddcfb",
        "IPY_MODEL_5c7457660b954d16b453857a3a474a2a",
        "IPY_MODEL_d333fdd4ad1747b39cb0fe4cf8ff507d",
        "IPY_MODEL_430fbbef8ada4e029b70fdc5ad185cf5"
       ],
       "layout": "IPY_MODEL_8c919de00f6748e2b533573251fa0a66"
      }
     },
     "4942b6684f794b9ab303eef522d4c2a7": {
      "model_module": "@jupyter-widgets/controls",
      "model_module_version": "1.5.0",
      "model_name": "CheckboxModel",
      "state": {
       "disabled": false,
       "indent": false,
       "layout": "IPY_MODEL_85e137c5c48742e8bf3a4074ab774433",
       "style": "IPY_MODEL_820ed6e12b054b11b9742b6f6fb8a5bf",
       "value": true
      }
     },
     "4a0a8083025f42dcbb0890095cfcf3e1": {
      "model_module": "@jupyter-widgets/controls",
      "model_module_version": "1.5.0",
      "model_name": "VBoxModel",
      "state": {
       "children": [
        "IPY_MODEL_f561fd377c0640599bb7d2bf300c1897",
        "IPY_MODEL_6f9147a012c5462f924ffccd76c4926b",
        "IPY_MODEL_9aba1911191f4e719f2dbd16411177d3",
        "IPY_MODEL_7b7b018fdb4a4a72a8122b2d8d4486d5",
        "IPY_MODEL_ca54c9986e3b4d2f8ceccc04f7f44b92"
       ],
       "layout": "IPY_MODEL_36aa0a0f3bb04f22a30cb4453cd2ee47"
      }
     },
     "4a6d28e6e9844e7f97d849b358ad54ae": {
      "model_module": "@jupyter-widgets/controls",
      "model_module_version": "1.5.0",
      "model_name": "DescriptionStyleModel",
      "state": {
       "description_width": ""
      }
     },
     "4ac79e73eb614381a0269c638bcb2c24": {
      "model_module": "@jupyter-widgets/controls",
      "model_module_version": "1.5.0",
      "model_name": "CheckboxModel",
      "state": {
       "disabled": false,
       "indent": false,
       "layout": "IPY_MODEL_921a56fd48ea451980ac8a1483603f80",
       "style": "IPY_MODEL_0d7c33475c994663a44321f21489f086",
       "value": true
      }
     },
     "4bebf1f75fc343289b5526edc5b3f68f": {
      "model_module": "@jupyter-widgets/controls",
      "model_module_version": "1.5.0",
      "model_name": "DescriptionStyleModel",
      "state": {
       "description_width": ""
      }
     },
     "4c65dd4631f14f23a69341a7be86fa10": {
      "model_module": "@jupyter-widgets/base",
      "model_module_version": "1.2.0",
      "model_name": "LayoutModel",
      "state": {}
     },
     "4c6905d4081d49ea8961e23dde998856": {
      "model_module": "@jupyter-widgets/base",
      "model_module_version": "1.2.0",
      "model_name": "LayoutModel",
      "state": {}
     },
     "4ce1f3d6ae2342e89fd9d059b9c29894": {
      "model_module": "@jupyter-widgets/controls",
      "model_module_version": "1.5.0",
      "model_name": "CheckboxModel",
      "state": {
       "disabled": false,
       "indent": false,
       "layout": "IPY_MODEL_fe0bbe1bcbb446ed835cf1dd1f58ef58",
       "style": "IPY_MODEL_9499427763ec409abc540232f38c6665",
       "value": true
      }
     },
     "4da071957f0242f3a9f1bbb6e8c363aa": {
      "model_module": "@jupyter-widgets/base",
      "model_module_version": "1.2.0",
      "model_name": "LayoutModel",
      "state": {}
     },
     "4e10ce1d30274c7e8fdc3109a7a964a0": {
      "model_module": "@jupyter-widgets/base",
      "model_module_version": "1.2.0",
      "model_name": "LayoutModel",
      "state": {
       "height": "100%"
      }
     },
     "4e7087719e774c73ab8b26c0d524445f": {
      "model_module": "@jupyter-widgets/base",
      "model_module_version": "1.2.0",
      "model_name": "LayoutModel",
      "state": {}
     },
     "4eadf84653214325b9bc6733aff96a68": {
      "model_module": "@jupyter-widgets/base",
      "model_module_version": "1.2.0",
      "model_name": "LayoutModel",
      "state": {
       "height": "100%"
      }
     },
     "4f1a2dd129f9458587487c48babb2dcc": {
      "model_module": "@jupyter-widgets/base",
      "model_module_version": "1.2.0",
      "model_name": "LayoutModel",
      "state": {}
     },
     "4f6ab4ec474449fcab095c6e3fd8a7c1": {
      "model_module": "@jupyter-widgets/base",
      "model_module_version": "1.2.0",
      "model_name": "LayoutModel",
      "state": {
       "height": "100%"
      }
     },
     "4fc3c6b1493c47beb4ed667016500ec2": {
      "model_module": "@jupyter-widgets/controls",
      "model_module_version": "1.5.0",
      "model_name": "DropdownModel",
      "state": {
       "_options_labels": [
        "majority",
        "sum",
        "overlap",
        "staple"
       ],
       "description": "Consensus type",
       "index": 0,
       "layout": "IPY_MODEL_5ed3d680d0994faeafb51fe18372394d",
       "style": "IPY_MODEL_fb43f1eb37d44f039c86bec5ccb610ae"
      }
     },
     "4ff54690612f481dac1b7637e0ab6d69": {
      "model_module": "@jupyter-widgets/controls",
      "model_module_version": "1.5.0",
      "model_name": "DescriptionStyleModel",
      "state": {
       "description_width": ""
      }
     },
     "500cd514f33543c281c45464c67488d1": {
      "model_module": "@jupyter-widgets/controls",
      "model_module_version": "1.5.0",
      "model_name": "DescriptionStyleModel",
      "state": {
       "description_width": ""
      }
     },
     "503838c5ad1347ff92532bd56bb63989": {
      "model_module": "@jupyter-widgets/controls",
      "model_module_version": "1.5.0",
      "model_name": "CheckboxModel",
      "state": {
       "disabled": false,
       "indent": false,
       "layout": "IPY_MODEL_3cd10ea8fb29418bb99fa214181cdae4",
       "style": "IPY_MODEL_e09affd007d6472f9935c7d50f7755f1",
       "value": true
      }
     },
     "50650652e522463e8fd8a9acc84ac7c0": {
      "model_module": "@jupyter-widgets/controls",
      "model_module_version": "1.5.0",
      "model_name": "CheckboxModel",
      "state": {
       "disabled": false,
       "indent": false,
       "layout": "IPY_MODEL_deea54e67ff640999377924b0b4bdcb3",
       "style": "IPY_MODEL_e8869c41148b4538aacab380077b676e",
       "value": true
      }
     },
     "50793815ecfc4f34902f63fc5bbd7c55": {
      "model_module": "@jupyter-widgets/base",
      "model_module_version": "1.2.0",
      "model_name": "LayoutModel",
      "state": {
       "height": "100%"
      }
     },
     "51cb880922ed4f6397dbeb5fc595185c": {
      "model_module": "@jupyter-widgets/base",
      "model_module_version": "1.2.0",
      "model_name": "LayoutModel",
      "state": {
       "height": "100%"
      }
     },
     "51e175d4f0a24ce9be897f6a116e2889": {
      "model_module": "@jupyter-widgets/controls",
      "model_module_version": "1.5.0",
      "model_name": "VBoxModel",
      "state": {
       "layout": "IPY_MODEL_735c7f5225804368bdb27e1df3134329"
      }
     },
     "52d3b82690694d578695d16f7d9982c1": {
      "model_module": "@jupyter-widgets/controls",
      "model_module_version": "1.5.0",
      "model_name": "SliderStyleModel",
      "state": {
       "description_width": ""
      }
     },
     "5395f0843abf47c1acc19d29112c2565": {
      "model_module": "@jupyter-widgets/base",
      "model_module_version": "1.2.0",
      "model_name": "LayoutModel",
      "state": {}
     },
     "53a4b56d565c43069f5477889b8d52d6": {
      "model_module": "@jupyter-widgets/base",
      "model_module_version": "1.2.0",
      "model_name": "LayoutModel",
      "state": {}
     },
     "53b0b4f6c32f45afa1d25e5b4be94d0e": {
      "model_module": "@jupyter-widgets/controls",
      "model_module_version": "1.5.0",
      "model_name": "SliderStyleModel",
      "state": {
       "description_width": "initial"
      }
     },
     "540f875d30bd46108ec1e3f1f500265f": {
      "model_module": "@jupyter-widgets/controls",
      "model_module_version": "1.5.0",
      "model_name": "DescriptionStyleModel",
      "state": {
       "description_width": ""
      }
     },
     "54587b9908774594873524c8a236cb45": {
      "model_module": "@jupyter-widgets/controls",
      "model_module_version": "1.5.0",
      "model_name": "DescriptionStyleModel",
      "state": {
       "description_width": ""
      }
     },
     "545d2bf8e23d45e48ea3de66443ed1bb": {
      "model_module": "@jupyter-widgets/controls",
      "model_module_version": "1.5.0",
      "model_name": "DescriptionStyleModel",
      "state": {
       "description_width": "initial"
      }
     },
     "548c530bfda94695a71e2e80b4e31fe6": {
      "model_module": "@jupyter-widgets/controls",
      "model_module_version": "1.5.0",
      "model_name": "FloatSliderModel",
      "state": {
       "continuous_update": false,
       "description": "y centre  (mm)",
       "layout": "IPY_MODEL_282a22e802de42b7a3212e7c9bcd792c",
       "max": 273.27698730469,
       "min": -274.46301269531,
       "readout_format": ".1f",
       "style": "IPY_MODEL_3e63acce39534a20b7b00af7c51481fc",
       "value": -0.5930126953099943
      }
     },
     "5499e65dc882494ba541383b8a8385bb": {
      "model_module": "@jupyter-widgets/controls",
      "model_module_version": "1.5.0",
      "model_name": "FloatSliderModel",
      "state": {
       "continuous_update": false,
       "description": "Deformation-field opacity",
       "layout": "IPY_MODEL_88c2797b682040a39cef5ef0266d26bc",
       "max": 1,
       "step": 0.05,
       "style": "IPY_MODEL_c646a517d0a2411e86cb77ba214813e7",
       "value": 0.5
      }
     },
     "549ef4b697114a7f8c75df86428a0d33": {
      "model_module": "@jupyter-widgets/controls",
      "model_module_version": "1.5.0",
      "model_name": "SliderStyleModel",
      "state": {
       "description_width": "initial"
      }
     },
     "54e7bcfa79ff44b6acf2d768e36079c8": {
      "model_module": "@jupyter-widgets/base",
      "model_module_version": "1.2.0",
      "model_name": "LayoutModel",
      "state": {}
     },
     "5585645c217d48db9661f87b939b8da7": {
      "model_module": "@jupyter-widgets/controls",
      "model_module_version": "1.5.0",
      "model_name": "DropdownModel",
      "state": {
       "_options_labels": [
        "",
        "ctv65",
        "ctv60",
        "ctv54",
        "cord",
        "R parotid",
        "L parotid",
        "Mandible",
        "skin",
        "PTV65",
        "PTV60",
        "PTV54",
        "cordPRV",
        "R parotid - PTV",
        "L parotid - PTV",
        "Ring65",
        "Ring60",
        "Ring54",
        "post avoid",
        "spine block",
        "optics block",
        "shoulder blocks",
        "planning bolus",
        "AVOID"
       ],
       "description": "Jump to",
       "index": 0,
       "layout": "IPY_MODEL_fc7bff0798e34c69ad15b822a870751a",
       "style": "IPY_MODEL_22b4745de5194773bf450f9bd7465b25"
      }
     },
     "55ff214eb8e5425e9f79cfe59d02b375": {
      "model_module": "@jupyter-widgets/controls",
      "model_module_version": "1.5.0",
      "model_name": "SliderStyleModel",
      "state": {
       "description_width": "initial"
      }
     },
     "563ba5b6c73043d887dd895b61e77b29": {
      "model_module": "@jupyter-widgets/base",
      "model_module_version": "1.2.0",
      "model_name": "LayoutModel",
      "state": {}
     },
     "566fa715cb6f4529882d350b1bf4240f": {
      "model_module": "@jupyter-widgets/controls",
      "model_module_version": "1.5.0",
      "model_name": "SliderStyleModel",
      "state": {
       "description_width": "initial"
      }
     },
     "5678969873c1414c99f1890137ec70b9": {
      "model_module": "@jupyter-widgets/base",
      "model_module_version": "1.2.0",
      "model_name": "LayoutModel",
      "state": {}
     },
     "56a0826a9f1c4f31ba0ac371889a3862": {
      "model_module": "@jupyter-widgets/controls",
      "model_module_version": "1.5.0",
      "model_name": "VBoxModel",
      "state": {
       "layout": "IPY_MODEL_0429daf6515b41dd898d311327095aef"
      }
     },
     "56ab16aa7d204b578ecd9d9a55edab76": {
      "model_module": "@jupyter-widgets/controls",
      "model_module_version": "1.5.0",
      "model_name": "SliderStyleModel",
      "state": {
       "description_width": ""
      }
     },
     "56b04133d0b442b4968df03d23f927cf": {
      "model_module": "@jupyter-widgets/base",
      "model_module_version": "1.2.0",
      "model_name": "LayoutModel",
      "state": {}
     },
     "5742125231f34eae92a7234ca21ae53e": {
      "model_module": "@jupyter-widgets/base",
      "model_module_version": "1.2.0",
      "model_name": "LayoutModel",
      "state": {}
     },
     "57529bf38b494d2596ded30f5acc30f6": {
      "model_module": "@jupyter-widgets/controls",
      "model_module_version": "1.5.0",
      "model_name": "DescriptionStyleModel",
      "state": {
       "description_width": ""
      }
     },
     "5814d7e1aa7d420ca77cca54db3da945": {
      "model_module": "@jupyter-widgets/base",
      "model_module_version": "1.2.0",
      "model_name": "LayoutModel",
      "state": {
       "height": "100%"
      }
     },
     "5875addf8aa84cc3bbc0a6c14b171aa7": {
      "model_module": "@jupyter-widgets/controls",
      "model_module_version": "1.5.0",
      "model_name": "VBoxModel",
      "state": {
       "children": [
        "IPY_MODEL_a0ac41cd82774f79a890e1196ad5d6a8",
        "IPY_MODEL_0613a7307a2e47f4a46b32388dd58480",
        "IPY_MODEL_0c6564603a824c2794e486670bdfcde8",
        "IPY_MODEL_a5120e7a4dfd4717aed31a45ec0422f3",
        "IPY_MODEL_40a5725f50754e23a1502e51078172cb",
        "IPY_MODEL_43cbb0fed4714c098eaa481f09d2bbda"
       ],
       "layout": "IPY_MODEL_4505aad86b034a9a84d19991cd1cfb8a"
      }
     },
     "58a9cb808255469daba2d9e2dfc60dd6": {
      "model_module": "@jupyter-widgets/controls",
      "model_module_version": "1.5.0",
      "model_name": "DescriptionStyleModel",
      "state": {
       "description_width": ""
      }
     },
     "58ac0c0c580e4df2905f0b3f608b7223": {
      "model_module": "@jupyter-widgets/base",
      "model_module_version": "1.2.0",
      "model_name": "LayoutModel",
      "state": {}
     },
     "596a947b80da4bcea92f8dce5e1cacd8": {
      "model_module": "@jupyter-widgets/controls",
      "model_module_version": "1.5.0",
      "model_name": "DescriptionStyleModel",
      "state": {
       "description_width": "initial"
      }
     },
     "5a540b01dc974422a7e93b49a587065a": {
      "model_module": "@jupyter-widgets/controls",
      "model_module_version": "1.5.0",
      "model_name": "VBoxModel",
      "state": {
       "layout": "IPY_MODEL_6dd76fadc2c34f22a2f18b60954e7ffa"
      }
     },
     "5a77602e1a224b1aa1025b78de3762a2": {
      "model_module": "@jupyter-widgets/controls",
      "model_module_version": "1.5.0",
      "model_name": "IntSliderModel",
      "state": {
       "continuous_update": false,
       "description": "Chequerboard splits",
       "layout": "IPY_MODEL_7e542e2158304de3be19dee29fa8bbe1",
       "max": 15,
       "min": 2,
       "style": "IPY_MODEL_a0cbce592f8740ce9c0789a612fdbc9d",
       "value": 8
      }
     },
     "5a84bd5d657746cba84b264edd19ee3b": {
      "model_module": "@jupyter-widgets/base",
      "model_module_version": "1.2.0",
      "model_name": "LayoutModel",
      "state": {}
     },
     "5a9aff45a2a44609b8bdad0ed6eff4d2": {
      "model_module": "@jupyter-widgets/controls",
      "model_module_version": "1.5.0",
      "model_name": "CheckboxModel",
      "state": {
       "disabled": false,
       "indent": false,
       "layout": "IPY_MODEL_02f5359ac0974bb6bd0d3e5ea35061bc",
       "style": "IPY_MODEL_dd2547418fbd4f1bb1bc27caf69971ef",
       "value": true
      }
     },
     "5ab9e8bf7bc940569bfb82303e4a648c": {
      "model_module": "@jupyter-widgets/base",
      "model_module_version": "1.2.0",
      "model_name": "LayoutModel",
      "state": {}
     },
     "5b262d5d74f547dfa2991176ecbe0964": {
      "model_module": "@jupyter-widgets/base",
      "model_module_version": "1.2.0",
      "model_name": "LayoutModel",
      "state": {}
     },
     "5b413579383b4c508c282f7d4e43478c": {
      "model_module": "@jupyter-widgets/controls",
      "model_module_version": "1.5.0",
      "model_name": "HTMLModel",
      "state": {
       "layout": "IPY_MODEL_d307c5aa22c944ef8a9221a17df1abee",
       "style": "IPY_MODEL_d6ab2291f020404d93e28358645a3ae8",
       "value": "&nbsp;"
      }
     },
     "5b541f9663ca467aad1979becf69cdeb": {
      "model_module": "@jupyter-widgets/base",
      "model_module_version": "1.2.0",
      "model_name": "LayoutModel",
      "state": {}
     },
     "5ba4e5d1ab90428d9b651fc4dbbdc3ea": {
      "model_module": "@jupyter-widgets/base",
      "model_module_version": "1.2.0",
      "model_name": "LayoutModel",
      "state": {}
     },
     "5bfbc4f31ebb45bca4f2ab7b5d7f1a21": {
      "model_module": "@jupyter-widgets/controls",
      "model_module_version": "1.5.0",
      "model_name": "ButtonModel",
      "state": {
       "description": "Reset zoom",
       "layout": "IPY_MODEL_c97a0b2581c74f27a8e625ae2d0f133f",
       "style": "IPY_MODEL_8aabf938c9c0422c8b3a7bc79dec0e1b"
      }
     },
     "5c1a34af0121491cba746d75a6f99595": {
      "model_module": "@jupyter-widgets/controls",
      "model_module_version": "1.5.0",
      "model_name": "CheckboxModel",
      "state": {
       "disabled": false,
       "indent": false,
       "layout": "IPY_MODEL_7fb2b94b6a7a4d92bf0485f4cf18ede6",
       "style": "IPY_MODEL_26bc5587e1894a60a922f158bdc830fa",
       "value": true
      }
     },
     "5c7457660b954d16b453857a3a474a2a": {
      "model_module": "@jupyter-widgets/controls",
      "model_module_version": "1.5.0",
      "model_name": "FloatSliderModel",
      "state": {
       "continuous_update": false,
       "description": "y centre  (mm)",
       "layout": "IPY_MODEL_5742125231f34eae92a7234ca21ae53e",
       "max": 273.27698730469,
       "min": -274.46301269531,
       "readout_format": ".1f",
       "style": "IPY_MODEL_52d3b82690694d578695d16f7d9982c1",
       "value": -0.5930126953099943
      }
     },
     "5c85ad6c41fe4ac88633e56e7f388023": {
      "model_module": "@jupyter-widgets/controls",
      "model_module_version": "1.5.0",
      "model_name": "VBoxModel",
      "state": {
       "children": [
        "IPY_MODEL_e92b6a89f11d4837867adc767b3c75e1",
        "IPY_MODEL_ae2816ef15af421d9a9f11fa98d33cfd",
        "IPY_MODEL_12984ce50ccc4c0f9c5d095c4c40b8b7",
        "IPY_MODEL_5f437a06375046a8a59ff502da653df0",
        "IPY_MODEL_04e147977e684774af8aa6395d7c5dc3",
        "IPY_MODEL_548c530bfda94695a71e2e80b4e31fe6",
        "IPY_MODEL_b4f63d632b9e443391c61bec50705039",
        "IPY_MODEL_f861dafc4f73408bb03681074ef5d0f9"
       ],
       "layout": "IPY_MODEL_c7d450ab8a5f40f8bbc37888f7d58858"
      }
     },
     "5d0255477fcc4c43a15049a6c16e0ee5": {
      "model_module": "@jupyter-widgets/controls",
      "model_module_version": "1.5.0",
      "model_name": "SliderStyleModel",
      "state": {
       "description_width": "initial"
      }
     },
     "5d18b671370b4a248111b8f14abee9b8": {
      "model_module": "@jupyter-widgets/base",
      "model_module_version": "1.2.0",
      "model_name": "LayoutModel",
      "state": {}
     },
     "5d3d17f01ad541d79ef8615ec749902d": {
      "model_module": "@jupyter-widgets/controls",
      "model_module_version": "1.5.0",
      "model_name": "DropdownModel",
      "state": {
       "_options_labels": [
        "contour",
        "mask",
        "filled",
        "centroid",
        "filled centroid",
        "none"
       ],
       "description": "ROI plotting",
       "index": 0,
       "layout": "IPY_MODEL_82032fd7c685440188d2f7934dff16b1",
       "style": "IPY_MODEL_6ccfc68762a5496091f552fdb66febaa"
      }
     },
     "5d421b49c3e74922b57e5ac9ce3ae1aa": {
      "model_module": "@jupyter-widgets/controls",
      "model_module_version": "1.5.0",
      "model_name": "DropdownModel",
      "state": {
       "_options_labels": [
        "",
        "ctv65",
        "ctv60",
        "ctv54",
        "cord",
        "R parotid",
        "L parotid",
        "Mandible",
        "skin",
        "PTV65",
        "PTV60",
        "PTV54",
        "cordPRV",
        "R parotid - PTV",
        "L parotid - PTV",
        "Ring65",
        "Ring60",
        "Ring54",
        "post avoid",
        "spine block",
        "optics block",
        "shoulder blocks",
        "planning bolus",
        "AVOID"
       ],
       "description": "Jump to",
       "index": 0,
       "layout": "IPY_MODEL_53a4b56d565c43069f5477889b8d52d6",
       "style": "IPY_MODEL_a03a70e08ac34f9ca9873fa125d3f7a8"
      }
     },
     "5d6229425ade46749a6d5f090d2188a9": {
      "model_module": "@jupyter-widgets/controls",
      "model_module_version": "1.5.0",
      "model_name": "CheckboxModel",
      "state": {
       "disabled": false,
       "layout": "IPY_MODEL_073587f9d8384e3c90302821492a7570",
       "style": "IPY_MODEL_988a8e2ef407445f84a0c7016c80dde4",
       "value": true
      }
     },
     "5e2d9b561ba64fb68b18ad10e1857cff": {
      "model_module": "@jupyter-widgets/controls",
      "model_module_version": "1.5.0",
      "model_name": "CheckboxModel",
      "state": {
       "disabled": false,
       "indent": false,
       "layout": "IPY_MODEL_80f85033df4f49ca820633263723852e",
       "style": "IPY_MODEL_c884914560504d38b36eedf6914f0083",
       "value": true
      }
     },
     "5e2f1e7d69024440ae94b4aef5b148a7": {
      "model_module": "@jupyter-widgets/controls",
      "model_module_version": "1.5.0",
      "model_name": "FloatSliderModel",
      "state": {
       "continuous_update": false,
       "description": "Overlay opacity",
       "layout": "IPY_MODEL_d1bc3e1d038744d2adf95eeeebb86eb4",
       "max": 1,
       "readout_format": ".1f",
       "step": 0.1,
       "style": "IPY_MODEL_899b7aed33674349a8845043d8aab0c8",
       "value": 0.5
      }
     },
     "5e8caf1fc4bd4b92ad9d9d0df3d35436": {
      "model_module": "@jupyter-widgets/controls",
      "model_module_version": "1.5.0",
      "model_name": "DescriptionStyleModel",
      "state": {
       "description_width": ""
      }
     },
     "5e9750f366134e2c8414a22cb3831727": {
      "model_module": "@jupyter-widgets/controls",
      "model_module_version": "1.5.0",
      "model_name": "DropdownModel",
      "state": {
       "_options_labels": [
        "quiver",
        "grid",
        "x-displacement",
        "y-displacement",
        "z-displacement",
        "3d-displacement",
        "none"
       ],
       "description": "Deformation field",
       "index": 0,
       "layout": "IPY_MODEL_8879070e8792479cb76ba0df2bc915b6",
       "style": "IPY_MODEL_596a947b80da4bcea92f8dce5e1cacd8"
      }
     },
     "5ed3d680d0994faeafb51fe18372394d": {
      "model_module": "@jupyter-widgets/base",
      "model_module_version": "1.2.0",
      "model_name": "LayoutModel",
      "state": {}
     },
     "5efd1e63d84f4be889fca91aaa87a0eb": {
      "model_module": "@jupyter-widgets/controls",
      "model_module_version": "1.5.0",
      "model_name": "IntSliderModel",
      "state": {
       "continuous_update": false,
       "description": "Chequerboard splits",
       "layout": "IPY_MODEL_5ba4e5d1ab90428d9b651fc4dbbdc3ea",
       "max": 15,
       "min": 2,
       "style": "IPY_MODEL_a303581f43444d5ca8097b208e3bf424",
       "value": 8
      }
     },
     "5f0b8d6d861f422db7bc8255e3fb50ba": {
      "model_module": "@jupyter-widgets/controls",
      "model_module_version": "1.5.0",
      "model_name": "CheckboxModel",
      "state": {
       "disabled": false,
       "indent": false,
       "layout": "IPY_MODEL_9cf61e5b467b434d96216d7fc4857a59",
       "style": "IPY_MODEL_7028e2c433f74754b17b5de0055187f4",
       "value": true
      }
     },
     "5f437a06375046a8a59ff502da653df0": {
      "model_module": "@jupyter-widgets/controls",
      "model_module_version": "1.5.0",
      "model_name": "FloatSliderModel",
      "state": {
       "continuous_update": false,
       "description": "Zoom",
       "layout": "IPY_MODEL_6589161a460143e89adbad34d703626f",
       "max": 8,
       "min": 1,
       "readout_format": ".1f",
       "step": 0.1,
       "style": "IPY_MODEL_bc19a3090a7b4c6bab465371b3452bef",
       "value": 2
      }
     },
     "6141efdd11fa49f3bebbbb0c902ecd5a": {
      "model_module": "@jupyter-widgets/controls",
      "model_module_version": "1.5.0",
      "model_name": "CheckboxModel",
      "state": {
       "disabled": false,
       "indent": false,
       "layout": "IPY_MODEL_3c9730733a174971ac2803406f6a7878",
       "style": "IPY_MODEL_14fe1875d196441699fedceae4f46298",
       "value": true
      }
     },
     "6184a904dbeb4541853126f802d7ccd4": {
      "model_module": "@jupyter-widgets/base",
      "model_module_version": "1.2.0",
      "model_name": "LayoutModel",
      "state": {}
     },
     "61ec8fc2db3c4dd9ab36a79f3b493e5a": {
      "model_module": "@jupyter-widgets/base",
      "model_module_version": "1.2.0",
      "model_name": "LayoutModel",
      "state": {}
     },
     "6289f33266d9448b9af4da738d323868": {
      "model_module": "@jupyter-widgets/base",
      "model_module_version": "1.2.0",
      "model_name": "LayoutModel",
      "state": {}
     },
     "62a21f53554b4f0ba23b418718320321": {
      "model_module": "@jupyter-widgets/controls",
      "model_module_version": "1.5.0",
      "model_name": "DescriptionStyleModel",
      "state": {
       "description_width": ""
      }
     },
     "6332f1794b324ba1a510813a85276702": {
      "model_module": "@jupyter-widgets/controls",
      "model_module_version": "1.5.0",
      "model_name": "DescriptionStyleModel",
      "state": {
       "description_width": ""
      }
     },
     "63495ee1aef74747a64696d6bc0f1915": {
      "model_module": "@jupyter-widgets/controls",
      "model_module_version": "1.5.0",
      "model_name": "DescriptionStyleModel",
      "state": {
       "description_width": ""
      }
     },
     "6375b47748c545c991473a0cc16a11af": {
      "model_module": "@jupyter-widgets/base",
      "model_module_version": "1.2.0",
      "model_name": "LayoutModel",
      "state": {}
     },
     "63923a8b94a0495cb5709729590c1cf7": {
      "model_module": "@jupyter-widgets/controls",
      "model_module_version": "1.5.0",
      "model_name": "DescriptionStyleModel",
      "state": {
       "description_width": ""
      }
     },
     "639a338e4e094829b2388661780e813d": {
      "model_module": "@jupyter-widgets/controls",
      "model_module_version": "1.5.0",
      "model_name": "SliderStyleModel",
      "state": {
       "description_width": "initial"
      }
     },
     "63b8149174214dbcadd46d875a105c52": {
      "model_module": "@jupyter-widgets/base",
      "model_module_version": "1.2.0",
      "model_name": "LayoutModel",
      "state": {}
     },
     "6463102f5bef44ffa331466506b42cd4": {
      "model_module": "@jupyter-widgets/base",
      "model_module_version": "1.2.0",
      "model_name": "LayoutModel",
      "state": {
       "height": "100%"
      }
     },
     "6502592d67ec45e3abdc2022cd70f471": {
      "model_module": "@jupyter-widgets/base",
      "model_module_version": "1.2.0",
      "model_name": "LayoutModel",
      "state": {}
     },
     "651049d9504a42219348874104cd5638": {
      "model_module": "@jupyter-widgets/base",
      "model_module_version": "1.2.0",
      "model_name": "LayoutModel",
      "state": {
       "height": "100%"
      }
     },
     "6562458e62004a0283b814bdb4e62217": {
      "model_module": "@jupyter-widgets/base",
      "model_module_version": "1.2.0",
      "model_name": "LayoutModel",
      "state": {}
     },
     "6583693034a444d7b77df8021f8f9213": {
      "model_module": "@jupyter-widgets/controls",
      "model_module_version": "1.5.0",
      "model_name": "HBoxModel",
      "state": {
       "children": [
        "IPY_MODEL_48e6c1a8d12d4b9b9e5c352ced8c9721",
        "IPY_MODEL_4154d62c65cc42b79076e420d8b06237"
       ],
       "layout": "IPY_MODEL_6289f33266d9448b9af4da738d323868"
      }
     },
     "6589161a460143e89adbad34d703626f": {
      "model_module": "@jupyter-widgets/base",
      "model_module_version": "1.2.0",
      "model_name": "LayoutModel",
      "state": {}
     },
     "6613234ad3ac4274b9e64a4c4df889d8": {
      "model_module": "@jupyter-widgets/controls",
      "model_module_version": "1.5.0",
      "model_name": "CheckboxModel",
      "state": {
       "disabled": false,
       "indent": false,
       "layout": "IPY_MODEL_50793815ecfc4f34902f63fc5bbd7c55",
       "style": "IPY_MODEL_4a6d28e6e9844e7f97d849b358ad54ae",
       "value": true
      }
     },
     "662b4d3f64bf4987ad4ec87bc527c364": {
      "model_module": "@jupyter-widgets/controls",
      "model_module_version": "1.5.0",
      "model_name": "SliderStyleModel",
      "state": {
       "description_width": "initial"
      }
     },
     "6632232b9920499297aaeab1a124c607": {
      "model_module": "@jupyter-widgets/base",
      "model_module_version": "1.2.0",
      "model_name": "LayoutModel",
      "state": {
       "height": "100%"
      }
     },
     "663baaa2ba414626a8dfc63873d43beb": {
      "model_module": "@jupyter-widgets/base",
      "model_module_version": "1.2.0",
      "model_name": "LayoutModel",
      "state": {}
     },
     "66656791bd9b4bb7ae8bc91e65695874": {
      "model_module": "@jupyter-widgets/controls",
      "model_module_version": "1.5.0",
      "model_name": "SliderStyleModel",
      "state": {
       "description_width": ""
      }
     },
     "66b33395770c49a899a485ac534a994b": {
      "model_module": "@jupyter-widgets/controls",
      "model_module_version": "1.5.0",
      "model_name": "CheckboxModel",
      "state": {
       "disabled": false,
       "indent": false,
       "layout": "IPY_MODEL_00eb9d62ba394655a4e53a24057308d1",
       "style": "IPY_MODEL_28c64171d0d84b4cb3851777defcfd56",
       "value": true
      }
     },
     "66f16b5776b9427d8a1503aaf775e8ad": {
      "model_module": "@jupyter-widgets/base",
      "model_module_version": "1.2.0",
      "model_name": "LayoutModel",
      "state": {
       "height": "100%"
      }
     },
     "673c58e4676249958bf41ebfbf48ac12": {
      "model_module": "@jupyter-widgets/base",
      "model_module_version": "1.2.0",
      "model_name": "LayoutModel",
      "state": {}
     },
     "67c42f6d00eb40ad9eae0added0ab76f": {
      "model_module": "@jupyter-widgets/controls",
      "model_module_version": "1.5.0",
      "model_name": "DescriptionStyleModel",
      "state": {
       "description_width": "initial"
      }
     },
     "67e3b61bec8b4970800ced346ebaa8a6": {
      "model_module": "@jupyter-widgets/controls",
      "model_module_version": "1.5.0",
      "model_name": "CheckboxModel",
      "state": {
       "disabled": false,
       "indent": false,
       "layout": "IPY_MODEL_87f1e5ce1c9f41d3b7302cd2fb0b263a",
       "style": "IPY_MODEL_6a6900dc6a1a448fa1e911e41e363981",
       "value": true
      }
     },
     "68682d4f9ec74aa38067196e34fbd98d": {
      "model_module": "@jupyter-widgets/controls",
      "model_module_version": "1.5.0",
      "model_name": "DescriptionStyleModel",
      "state": {
       "description_width": ""
      }
     },
     "68dcf49bf8c24aa98a25312e99348c6a": {
      "model_module": "@jupyter-widgets/controls",
      "model_module_version": "1.5.0",
      "model_name": "CheckboxModel",
      "state": {
       "description": "Invert mask",
       "disabled": false,
       "indent": false,
       "layout": "IPY_MODEL_460437b7460141c899abe39d06160131",
       "style": "IPY_MODEL_27148fa02df548ea88476dbf74e0b59b",
       "value": false
      }
     },
     "68f663361dbf48a3b89e63edb920fb16": {
      "model_module": "@jupyter-widgets/controls",
      "model_module_version": "1.5.0",
      "model_name": "DescriptionStyleModel",
      "state": {
       "description_width": ""
      }
     },
     "6a6900dc6a1a448fa1e911e41e363981": {
      "model_module": "@jupyter-widgets/controls",
      "model_module_version": "1.5.0",
      "model_name": "DescriptionStyleModel",
      "state": {
       "description_width": ""
      }
     },
     "6acaadb82c7a470fa34361acfd84b342": {
      "model_module": "@jupyter-widgets/controls",
      "model_module_version": "1.5.0",
      "model_name": "FloatSliderModel",
      "state": {
       "continuous_update": false,
       "description": "Deformation-field spacing",
       "layout": "IPY_MODEL_2571f59e66dc456980dc4f25640303e3",
       "max": 30,
       "min": 5,
       "readout_format": ".0f",
       "style": "IPY_MODEL_c84e043b1d3d412da8d61a1dcc4e9bf7",
       "value": 30
      }
     },
     "6b1abedd47424cc08675bcff6c2fb465": {
      "model_module": "@jupyter-widgets/controls",
      "model_module_version": "1.5.0",
      "model_name": "FloatSliderModel",
      "state": {
       "continuous_update": false,
       "description": "Deformation-field opacity",
       "layout": "IPY_MODEL_339cf317acc141548ebc1fdbb7d4de17",
       "max": 1,
       "step": 0.05,
       "style": "IPY_MODEL_b9a9330760d24703b216ef5bfc3bc48b",
       "value": 0.5
      }
     },
     "6bbab9335d464bc09fc2f633e47f367e": {
      "model_module": "@jupyter-widgets/controls",
      "model_module_version": "1.5.0",
      "model_name": "HBoxModel",
      "state": {
       "children": [
        "IPY_MODEL_d43be81fa28c4442a27eb4d9150e701d",
        "IPY_MODEL_f002360ae49d46ac8c0c2ac89aeb21d5"
       ],
       "layout": "IPY_MODEL_33703e5fdd284aa79d9261ec33359259"
      }
     },
     "6be81a75333c41b595037a3ebcffb0d3": {
      "model_module": "@jupyter-widgets/controls",
      "model_module_version": "1.5.0",
      "model_name": "DescriptionStyleModel",
      "state": {
       "description_width": ""
      }
     },
     "6c457bdc3e3747e497275ded54bfddbf": {
      "model_module": "@jupyter-widgets/controls",
      "model_module_version": "1.5.0",
      "model_name": "VBoxModel",
      "state": {
       "children": [
        "IPY_MODEL_1b801c35199749e6b69c770892310583",
        "IPY_MODEL_4294c8d580fc4144827005f240bf6f26"
       ],
       "layout": "IPY_MODEL_7aadd63561cf4c7883572c2a446759aa"
      }
     },
     "6cbcd1f5fbb7416a8a10bc046e48cce2": {
      "model_module": "@jupyter-widgets/controls",
      "model_module_version": "1.5.0",
      "model_name": "SliderStyleModel",
      "state": {
       "description_width": ""
      }
     },
     "6ccfc68762a5496091f552fdb66febaa": {
      "model_module": "@jupyter-widgets/controls",
      "model_module_version": "1.5.0",
      "model_name": "DescriptionStyleModel",
      "state": {
       "description_width": "initial"
      }
     },
     "6d08da73b8fe40f3b81fc653625c7e44": {
      "model_module": "@jupyter-widgets/controls",
      "model_module_version": "1.5.0",
      "model_name": "FloatSliderModel",
      "state": {
       "continuous_update": false,
       "description": "Deformation-field opacity",
       "layout": "IPY_MODEL_e1021991d1b54b96a95fa8362514a884",
       "max": 1,
       "step": 0.05,
       "style": "IPY_MODEL_c41766e2c3b4468e9f645cff86468b28",
       "value": 0.5
      }
     },
     "6d3252511c5547de911c823b82e41bc8": {
      "model_module": "@jupyter-widgets/controls",
      "model_module_version": "1.5.0",
      "model_name": "HBoxModel",
      "state": {
       "children": [
        "IPY_MODEL_3292008a839f422c9eda7f6d660baf1a",
        "IPY_MODEL_4a0a8083025f42dcbb0890095cfcf3e1"
       ],
       "layout": "IPY_MODEL_b0a368952ec34e87be347ef58336f570"
      }
     },
     "6d44279d87fb4285a914a1e67cc348fc": {
      "model_module": "@jupyter-widgets/base",
      "model_module_version": "1.2.0",
      "model_name": "LayoutModel",
      "state": {
       "height": "100%"
      }
     },
     "6d5a5ec4bac54213bceb240854d5ebb7": {
      "model_module": "@jupyter-widgets/controls",
      "model_module_version": "1.5.0",
      "model_name": "DescriptionStyleModel",
      "state": {
       "description_width": ""
      }
     },
     "6d95d1dcbe8e48aa8edaf1da9a46cb8e": {
      "model_module": "@jupyter-widgets/base",
      "model_module_version": "1.2.0",
      "model_name": "LayoutModel",
      "state": {}
     },
     "6dcca82a7ddd4332b356e6d55d21d9fd": {
      "model_module": "@jupyter-widgets/base",
      "model_module_version": "1.2.0",
      "model_name": "LayoutModel",
      "state": {
       "height": "100%"
      }
     },
     "6dd76fadc2c34f22a2f18b60954e7ffa": {
      "model_module": "@jupyter-widgets/base",
      "model_module_version": "1.2.0",
      "model_name": "LayoutModel",
      "state": {}
     },
     "6ddd708f265444ba8855c10e0206a15a": {
      "model_module": "@jupyter-widgets/controls",
      "model_module_version": "1.5.0",
      "model_name": "RadioButtonsModel",
      "state": {
       "_options_labels": [
        "x-y",
        "y-z",
        "x-z"
       ],
       "description": "Slice plane selection:",
       "index": 0,
       "layout": "IPY_MODEL_c5ed9044a4a6464cb7c68c76a1437b93",
       "style": "IPY_MODEL_545d2bf8e23d45e48ea3de66443ed1bb"
      }
     },
     "6df3e6d0f7634163ad697ebfc541d9f1": {
      "model_module": "@jupyter-widgets/controls",
      "model_module_version": "1.5.0",
      "model_name": "DescriptionStyleModel",
      "state": {
       "description_width": ""
      }
     },
     "6f3ffa68667441f08d7947ca03b7469b": {
      "model_module": "@jupyter-widgets/controls",
      "model_module_version": "1.5.0",
      "model_name": "SliderStyleModel",
      "state": {
       "description_width": "initial"
      }
     },
     "6f88e902c1e544e5a6cbc0087b4b8ecb": {
      "model_module": "@jupyter-widgets/controls",
      "model_module_version": "1.5.0",
      "model_name": "DescriptionStyleModel",
      "state": {
       "description_width": "initial"
      }
     },
     "6f9147a012c5462f924ffccd76c4926b": {
      "model_module": "@jupyter-widgets/controls",
      "model_module_version": "1.5.0",
      "model_name": "IntSliderModel",
      "state": {
       "continuous_update": false,
       "description": "Linewidth",
       "layout": "IPY_MODEL_d362ab3093304636b7c23cfe3d37a298",
       "max": 8,
       "min": 1,
       "style": "IPY_MODEL_1b8f7e6a94504d099fbc71ab08151461",
       "value": 2
      }
     },
     "6fb4e3e100b6421ca4c61ad893429c26": {
      "model_module": "@jupyter-widgets/controls",
      "model_module_version": "1.5.0",
      "model_name": "DescriptionStyleModel",
      "state": {
       "description_width": "initial"
      }
     },
     "6ff7191bbcf44b21b55c0fed0bcb569e": {
      "model_module": "@jupyter-widgets/output",
      "model_module_version": "1.0.0",
      "model_name": "OutputModel",
      "state": {
       "layout": "IPY_MODEL_63b8149174214dbcadd46d875a105c52",
       "outputs": [
        {
         "data": {
          "image/png": "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\n",
          "text/plain": "<Figure size 720x432 with 3 Axes>"
         },
         "metadata": {
          "needs_background": "light"
         },
         "output_type": "display_data"
        }
       ]
      }
     },
     "7028e2c433f74754b17b5de0055187f4": {
      "model_module": "@jupyter-widgets/controls",
      "model_module_version": "1.5.0",
      "model_name": "DescriptionStyleModel",
      "state": {
       "description_width": ""
      }
     },
     "7040e06cca754654b6c7048f2c8985b5": {
      "model_module": "@jupyter-widgets/base",
      "model_module_version": "1.2.0",
      "model_name": "LayoutModel",
      "state": {}
     },
     "7076e0aaca88434d96db6ba870d41bde": {
      "model_module": "@jupyter-widgets/controls",
      "model_module_version": "1.5.0",
      "model_name": "DescriptionStyleModel",
      "state": {
       "description_width": ""
      }
     },
     "707fff7b894a4b06b52e4ba9c1c321e0": {
      "model_module": "@jupyter-widgets/controls",
      "model_module_version": "1.5.0",
      "model_name": "FloatSliderModel",
      "state": {
       "continuous_update": false,
       "description": "y centre  (mm)",
       "layout": "IPY_MODEL_379a907e2427478f8c6f8c0874fb785c",
       "max": 273.27698730469,
       "min": -274.46301269531,
       "readout_format": ".1f",
       "style": "IPY_MODEL_462b580c51444805a3698770457b59a0",
       "value": -0.5930126953099943
      }
     },
     "709b3d9a89c0413fb3c5b782deea7eb0": {
      "model_module": "@jupyter-widgets/controls",
      "model_module_version": "1.5.0",
      "model_name": "VBoxModel",
      "state": {
       "children": [
        "IPY_MODEL_ee74b69d6d65430296b6e7ca8d6ff3c1"
       ],
       "layout": "IPY_MODEL_29fe12e935a54946bce01010337f0727"
      }
     },
     "71532799ca7447ac8ebfa0b820079ff3": {
      "model_module": "@jupyter-widgets/controls",
      "model_module_version": "1.5.0",
      "model_name": "DescriptionStyleModel",
      "state": {
       "description_width": ""
      }
     },
     "717aefd8ece945fdbfc88db7904bd254": {
      "model_module": "@jupyter-widgets/controls",
      "model_module_version": "1.5.0",
      "model_name": "CheckboxModel",
      "state": {
       "disabled": false,
       "indent": false,
       "layout": "IPY_MODEL_5814d7e1aa7d420ca77cca54db3da945",
       "style": "IPY_MODEL_99575634669f4e2bba58aacaf23bfd28",
       "value": true
      }
     },
     "7217ac62f6714055a767b02978c23a50": {
      "model_module": "@jupyter-widgets/base",
      "model_module_version": "1.2.0",
      "model_name": "LayoutModel",
      "state": {
       "height": "100%"
      }
     },
     "72bacaa282694ad7b9d7c5ec41eb66cd": {
      "model_module": "@jupyter-widgets/controls",
      "model_module_version": "1.5.0",
      "model_name": "CheckboxModel",
      "state": {
       "disabled": false,
       "indent": false,
       "layout": "IPY_MODEL_21bc12e2a31a4ee3896c2e31d540dad9",
       "style": "IPY_MODEL_daf35dbae4da4a499e513e7c6d47f011",
       "value": true
      }
     },
     "72c55809d66943d387dcf4250231daec": {
      "model_module": "@jupyter-widgets/base",
      "model_module_version": "1.2.0",
      "model_name": "LayoutModel",
      "state": {
       "height": "100%"
      }
     },
     "735c7f5225804368bdb27e1df3134329": {
      "model_module": "@jupyter-widgets/base",
      "model_module_version": "1.2.0",
      "model_name": "LayoutModel",
      "state": {}
     },
     "7383e7075ead499598a59830ff833a97": {
      "model_module": "@jupyter-widgets/base",
      "model_module_version": "1.2.0",
      "model_name": "LayoutModel",
      "state": {}
     },
     "73b841060da44814bd9cad459c4807fe": {
      "model_module": "@jupyter-widgets/controls",
      "model_module_version": "1.5.0",
      "model_name": "ButtonStyleModel",
      "state": {}
     },
     "7431858caac54f34a680baf0b4f3a697": {
      "model_module": "@jupyter-widgets/base",
      "model_module_version": "1.2.0",
      "model_name": "LayoutModel",
      "state": {
       "height": "100%"
      }
     },
     "755bd3c65b284c2fb64143e5d7bd2560": {
      "model_module": "@jupyter-widgets/base",
      "model_module_version": "1.2.0",
      "model_name": "LayoutModel",
      "state": {
       "height": "100%"
      }
     },
     "7582407a05924c66bfb1df34550d47fd": {
      "model_module": "@jupyter-widgets/controls",
      "model_module_version": "1.5.0",
      "model_name": "CheckboxModel",
      "state": {
       "disabled": false,
       "indent": false,
       "layout": "IPY_MODEL_cce609ed18a04f498ce6bda81a91f530",
       "style": "IPY_MODEL_0b613ee6400441c1bb82e363a6dafe54",
       "value": true
      }
     },
     "761e8907273f48d2aa6180a296c783bf": {
      "model_module": "@jupyter-widgets/controls",
      "model_module_version": "1.5.0",
      "model_name": "CheckboxModel",
      "state": {
       "description": "Apply mask",
       "disabled": false,
       "indent": false,
       "layout": "IPY_MODEL_5ab9e8bf7bc940569bfb82303e4a648c",
       "style": "IPY_MODEL_dbeca86266ff4fbbb3cd9dddf0f9d6e2",
       "value": true
      }
     },
     "77bdc791d7bf4cb2a42e7df2b4a4f736": {
      "model_module": "@jupyter-widgets/controls",
      "model_module_version": "1.5.0",
      "model_name": "SliderStyleModel",
      "state": {
       "description_width": "initial"
      }
     },
     "77f54c0f18904b23812ac23ee1089b9f": {
      "model_module": "@jupyter-widgets/base",
      "model_module_version": "1.2.0",
      "model_name": "LayoutModel",
      "state": {}
     },
     "781d582031144ee895012664d2f65c7f": {
      "model_module": "@jupyter-widgets/base",
      "model_module_version": "1.2.0",
      "model_name": "LayoutModel",
      "state": {
       "height": "100%"
      }
     },
     "789b0d2a870a41b29cc7664a73e41270": {
      "model_module": "@jupyter-widgets/controls",
      "model_module_version": "1.5.0",
      "model_name": "SliderStyleModel",
      "state": {
       "description_width": "initial"
      }
     },
     "78d48f085bfd4750a27ad3b989bfff73": {
      "model_module": "@jupyter-widgets/controls",
      "model_module_version": "1.5.0",
      "model_name": "SliderStyleModel",
      "state": {
       "description_width": "initial"
      }
     },
     "78f6485e83974793914065b0b57e5762": {
      "model_module": "@jupyter-widgets/controls",
      "model_module_version": "1.5.0",
      "model_name": "CheckboxModel",
      "state": {
       "disabled": false,
       "indent": false,
       "layout": "IPY_MODEL_3af53a10df32417e9d3ce85d80becbc4",
       "style": "IPY_MODEL_40d9ac93410c4f16984c01bb45c64292",
       "value": true
      }
     },
     "78f9b42e66264348a455899fd3097ac5": {
      "model_module": "@jupyter-widgets/controls",
      "model_module_version": "1.5.0",
      "model_name": "DescriptionStyleModel",
      "state": {
       "description_width": ""
      }
     },
     "795f303ec94647f8a38a80697150ed1d": {
      "model_module": "@jupyter-widgets/controls",
      "model_module_version": "1.5.0",
      "model_name": "ButtonModel",
      "state": {
       "description": "Reset zoom",
       "layout": "IPY_MODEL_5d18b671370b4a248111b8f14abee9b8",
       "style": "IPY_MODEL_89cbe2e707414e82ab05a4f31ba38bf9"
      }
     },
     "7986857adc7c4cd0b00808bb92f6729d": {
      "model_module": "@jupyter-widgets/controls",
      "model_module_version": "1.5.0",
      "model_name": "CheckboxModel",
      "state": {
       "disabled": false,
       "indent": false,
       "layout": "IPY_MODEL_72c55809d66943d387dcf4250231daec",
       "style": "IPY_MODEL_81b3ea25807240abb1a67793ad9c3ef6",
       "value": true
      }
     },
     "79a334ff9179459a8402d81cb612a300": {
      "model_module": "@jupyter-widgets/controls",
      "model_module_version": "1.5.0",
      "model_name": "VBoxModel",
      "state": {
       "children": [
        "IPY_MODEL_e4482a55b0f5447a899dbee5d973f593",
        "IPY_MODEL_c8d85e70fb5d4fddaeaf0e558adf8635"
       ],
       "layout": "IPY_MODEL_0582ae34351a4d3da4ca951c7ea27110"
      }
     },
     "79c039cf008d43c9a029f9774505c646": {
      "model_module": "@jupyter-widgets/controls",
      "model_module_version": "1.5.0",
      "model_name": "CheckboxModel",
      "state": {
       "disabled": false,
       "indent": false,
       "layout": "IPY_MODEL_96364e62af9b4546aebe13ded7fbbbcb",
       "style": "IPY_MODEL_c9772528608043a3bdac8a927114d480",
       "value": true
      }
     },
     "79de6928327f419f8b03cf3507f8382e": {
      "model_module": "@jupyter-widgets/controls",
      "model_module_version": "1.5.0",
      "model_name": "FloatSliderModel",
      "state": {
       "continuous_update": false,
       "description": "Deformation-field spacing",
       "layout": "IPY_MODEL_7ecb3bbce5384b27bb9f851a9c7635b4",
       "max": 30,
       "min": 5,
       "readout_format": ".0f",
       "style": "IPY_MODEL_549ef4b697114a7f8c75df86428a0d33",
       "value": 30
      }
     },
     "7a11ddb37e704c0d8e2d18114c986b93": {
      "model_module": "@jupyter-widgets/controls",
      "model_module_version": "1.5.0",
      "model_name": "DescriptionStyleModel",
      "state": {
       "description_width": ""
      }
     },
     "7a4b847b8d8b4c90a99d89425706a018": {
      "model_module": "@jupyter-widgets/controls",
      "model_module_version": "1.5.0",
      "model_name": "HBoxModel",
      "state": {
       "children": [
        "IPY_MODEL_33bc8045d25644da8fbb69d96127cdd9",
        "IPY_MODEL_eff8ec92290f42e981d470601ea94f49"
       ],
       "layout": "IPY_MODEL_97a06087546543868fc81fdd1b415915"
      }
     },
     "7aadd63561cf4c7883572c2a446759aa": {
      "model_module": "@jupyter-widgets/base",
      "model_module_version": "1.2.0",
      "model_name": "LayoutModel",
      "state": {}
     },
     "7b4c6d6e245c49ea97f692e091979f30": {
      "model_module": "@jupyter-widgets/controls",
      "model_module_version": "1.5.0",
      "model_name": "DescriptionStyleModel",
      "state": {
       "description_width": ""
      }
     },
     "7b71f93c15774b87840b2a8e60a81016": {
      "model_module": "@jupyter-widgets/base",
      "model_module_version": "1.2.0",
      "model_name": "LayoutModel",
      "state": {}
     },
     "7b7b018fdb4a4a72a8122b2d8d4486d5": {
      "model_module": "@jupyter-widgets/controls",
      "model_module_version": "1.5.0",
      "model_name": "ToggleButtonModel",
      "state": {
       "description": "Show all ROIs",
       "layout": "IPY_MODEL_01c57629a34642e08c5fee5ef37f228f",
       "style": "IPY_MODEL_1068bfe97fe645f3b13825e40550b436"
      }
     },
     "7bb4c80f63284eedbfdd3cbd0fa9c900": {
      "model_module": "@jupyter-widgets/controls",
      "model_module_version": "1.5.0",
      "model_name": "DropdownModel",
      "state": {
       "_options_labels": [
        "overlay",
        "chequerboard",
        "difference",
        "absolute difference",
        "distance to agreement",
        "gamma index"
       ],
       "description": "Comparison",
       "index": 0,
       "layout": "IPY_MODEL_6562458e62004a0283b814bdb4e62217",
       "style": "IPY_MODEL_8dd39ba93a2b460d872ae3a3392d1ebe"
      }
     },
     "7cb65c37ce764daa9d2cccd98f1d3943": {
      "model_module": "@jupyter-widgets/controls",
      "model_module_version": "1.5.0",
      "model_name": "DescriptionStyleModel",
      "state": {
       "description_width": "initial"
      }
     },
     "7ccb56bf25b3448bb587f453df2cdd04": {
      "model_module": "@jupyter-widgets/base",
      "model_module_version": "1.2.0",
      "model_name": "LayoutModel",
      "state": {
       "height": "100%"
      }
     },
     "7cdfca1bdaed4e02a57382c113495720": {
      "model_module": "@jupyter-widgets/controls",
      "model_module_version": "1.5.0",
      "model_name": "DescriptionStyleModel",
      "state": {
       "description_width": ""
      }
     },
     "7d07e06484104f41b948d1e1fadbce48": {
      "model_module": "@jupyter-widgets/controls",
      "model_module_version": "1.5.0",
      "model_name": "DescriptionStyleModel",
      "state": {
       "description_width": "initial"
      }
     },
     "7d8e9410dde54c839e1eea25e5ac6389": {
      "model_module": "@jupyter-widgets/base",
      "model_module_version": "1.2.0",
      "model_name": "LayoutModel",
      "state": {}
     },
     "7e542e2158304de3be19dee29fa8bbe1": {
      "model_module": "@jupyter-widgets/base",
      "model_module_version": "1.2.0",
      "model_name": "LayoutModel",
      "state": {}
     },
     "7ecb3bbce5384b27bb9f851a9c7635b4": {
      "model_module": "@jupyter-widgets/base",
      "model_module_version": "1.2.0",
      "model_name": "LayoutModel",
      "state": {}
     },
     "7edb445e2ff346dd9d4bcda20f04ae24": {
      "model_module": "@jupyter-widgets/controls",
      "model_module_version": "1.5.0",
      "model_name": "DescriptionStyleModel",
      "state": {
       "description_width": ""
      }
     },
     "7f5ff414612b4db2bf04908f2893a260": {
      "model_module": "@jupyter-widgets/controls",
      "model_module_version": "1.5.0",
      "model_name": "FloatSliderModel",
      "state": {
       "continuous_update": false,
       "description": "Deformation-field opacity",
       "layout": "IPY_MODEL_7040e06cca754654b6c7048f2c8985b5",
       "max": 1,
       "step": 0.05,
       "style": "IPY_MODEL_9bcb76782d2844b2aa0e8bcc4cba3e83",
       "value": 0.5
      }
     },
     "7fb2b94b6a7a4d92bf0485f4cf18ede6": {
      "model_module": "@jupyter-widgets/base",
      "model_module_version": "1.2.0",
      "model_name": "LayoutModel",
      "state": {
       "height": "100%"
      }
     },
     "7fb8c090a8af4f76a140343aca73cb05": {
      "model_module": "@jupyter-widgets/controls",
      "model_module_version": "1.5.0",
      "model_name": "DescriptionStyleModel",
      "state": {
       "description_width": "initial"
      }
     },
     "80108410605b4416a68e0262b004b1a5": {
      "model_module": "@jupyter-widgets/controls",
      "model_module_version": "1.5.0",
      "model_name": "FloatRangeSliderModel",
      "state": {
       "_model_name": "FloatRangeSliderModel",
       "_view_name": "FloatRangeSliderView",
       "continuous_update": false,
       "description": "Jacobian range",
       "layout": "IPY_MODEL_a8abc32a153e4fc7983c5d7421b69ceb",
       "max": 2,
       "min": -1,
       "readout_format": ".1f",
       "step": 0.1,
       "style": "IPY_MODEL_f6cc17f40eae4ca2b206393f6be4dbc9",
       "value": [
        -0.25,
        1.25
       ]
      }
     },
     "802132088ad34c60b90fb6aa7e293cef": {
      "model_module": "@jupyter-widgets/controls",
      "model_module_version": "1.5.0",
      "model_name": "FloatSliderModel",
      "state": {
       "continuous_update": false,
       "description": "Overlay opacity",
       "layout": "IPY_MODEL_a353e752c98548b5874e477565753e82",
       "max": 1,
       "readout_format": ".1f",
       "step": 0.1,
       "style": "IPY_MODEL_899c96ade55245dbac167e117ce0f256",
       "value": 0.5
      }
     },
     "80e20d84614b45b8b36e6b135b774bfd": {
      "model_module": "@jupyter-widgets/output",
      "model_module_version": "1.0.0",
      "model_name": "OutputModel",
      "state": {
       "layout": "IPY_MODEL_352058859a31495893ff0e983e67b9f6",
       "outputs": [
        {
         "data": {
          "image/png": "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\n",
          "text/plain": "<Figure size 720x432 with 1 Axes>"
         },
         "metadata": {
          "needs_background": "light"
         },
         "output_type": "display_data"
        }
       ]
      }
     },
     "80f85033df4f49ca820633263723852e": {
      "model_module": "@jupyter-widgets/base",
      "model_module_version": "1.2.0",
      "model_name": "LayoutModel",
      "state": {
       "height": "100%"
      }
     },
     "812749e756b7495385236e4087624e8a": {
      "model_module": "@jupyter-widgets/base",
      "model_module_version": "1.2.0",
      "model_name": "LayoutModel",
      "state": {}
     },
     "816ea6eb127d45a4a821256cacee63f8": {
      "model_module": "@jupyter-widgets/controls",
      "model_module_version": "1.5.0",
      "model_name": "SliderStyleModel",
      "state": {
       "description_width": "initial"
      }
     },
     "81b3ea25807240abb1a67793ad9c3ef6": {
      "model_module": "@jupyter-widgets/controls",
      "model_module_version": "1.5.0",
      "model_name": "DescriptionStyleModel",
      "state": {
       "description_width": ""
      }
     },
     "82032fd7c685440188d2f7934dff16b1": {
      "model_module": "@jupyter-widgets/base",
      "model_module_version": "1.2.0",
      "model_name": "LayoutModel",
      "state": {}
     },
     "820ed6e12b054b11b9742b6f6fb8a5bf": {
      "model_module": "@jupyter-widgets/controls",
      "model_module_version": "1.5.0",
      "model_name": "DescriptionStyleModel",
      "state": {
       "description_width": ""
      }
     },
     "8309288b958048e999b7bd7256cc5dea": {
      "model_module": "@jupyter-widgets/controls",
      "model_module_version": "1.5.0",
      "model_name": "DropdownModel",
      "state": {
       "_options_labels": [
        "contour",
        "mask",
        "filled",
        "centroid",
        "filled centroid",
        "none"
       ],
       "description": "ROI plotting",
       "index": 0,
       "layout": "IPY_MODEL_d5ddbc1c32884fb2acc9766501f19c42",
       "style": "IPY_MODEL_6fb4e3e100b6421ca4c61ad893429c26"
      }
     },
     "83f9bd7974cd428ea738131a15c7e246": {
      "model_module": "@jupyter-widgets/controls",
      "model_module_version": "1.5.0",
      "model_name": "CheckboxModel",
      "state": {
       "disabled": false,
       "indent": false,
       "layout": "IPY_MODEL_c23d4171c6fc490b8c5d7135473dd336",
       "style": "IPY_MODEL_f6d91e396d5449d7bb594c8b5baf0f39",
       "value": true
      }
     },
     "8469ac47245c45659be94ff4f43cd096": {
      "model_module": "@jupyter-widgets/controls",
      "model_module_version": "1.5.0",
      "model_name": "DescriptionStyleModel",
      "state": {
       "description_width": ""
      }
     },
     "84b1800d4cdc42f3ab87a98c632807ec": {
      "model_module": "@jupyter-widgets/controls",
      "model_module_version": "1.5.0",
      "model_name": "HBoxModel",
      "state": {
       "layout": "IPY_MODEL_8ead4c1e401e42cfbbf26d1a88221c05"
      }
     },
     "84e676ac259a4ecb98d7d3e837234216": {
      "model_module": "@jupyter-widgets/controls",
      "model_module_version": "1.5.0",
      "model_name": "FloatRangeSliderModel",
      "state": {
       "_model_name": "FloatRangeSliderModel",
       "_view_name": "FloatRangeSliderView",
       "continuous_update": false,
       "description": "Jacobian range",
       "layout": "IPY_MODEL_a65ac7de5e3d41e1af9172b1450ffa6e",
       "max": 2,
       "min": -1,
       "readout_format": ".1f",
       "step": 0.1,
       "style": "IPY_MODEL_af02f3cbf55e451bae4463d2cd758f67",
       "value": [
        -0.25,
        1.25
       ]
      }
     },
     "84fb7f3c09d54827a6f1f60b1775a32c": {
      "model_module": "@jupyter-widgets/controls",
      "model_module_version": "1.5.0",
      "model_name": "VBoxModel",
      "state": {
       "children": [
        "IPY_MODEL_3cb68b72e1ec40f7888819046abfb685",
        "IPY_MODEL_8e4e82a0cef0465c9309c44b1101fd43",
        "IPY_MODEL_f418d76d41e44efaa9822bc985fcacb3",
        "IPY_MODEL_717aefd8ece945fdbfc88db7904bd254",
        "IPY_MODEL_064126517616491e987289bf667e87b1",
        "IPY_MODEL_5f0b8d6d861f422db7bc8255e3fb50ba",
        "IPY_MODEL_e0450c0cac044c57986f77b6c31ceb6b",
        "IPY_MODEL_d849a763aae7475d88769434e58b1163",
        "IPY_MODEL_39161c8e30ab4f7db831cb626862691c",
        "IPY_MODEL_2cff300d9adc4fa3b595182108cb3c31",
        "IPY_MODEL_0027074e33fc40a2bcea2fcbf4343da9",
        "IPY_MODEL_875347d8b1e34e11ba3249ab96a730ed",
        "IPY_MODEL_15b4b2cf5fc44fb29edcca24864bd9cc",
        "IPY_MODEL_405bf558ef4d4d3a89a83504e8c88390",
        "IPY_MODEL_a0770710fc98441e8beab88bbdd4a8db",
        "IPY_MODEL_0792478321184405a43480181e13ace3",
        "IPY_MODEL_3c9df09655fb429f8f18ca7652624da1",
        "IPY_MODEL_503838c5ad1347ff92532bd56bb63989",
        "IPY_MODEL_6141efdd11fa49f3bebbbb0c902ecd5a",
        "IPY_MODEL_88111b6fdc6847d598ea69e75dd9446b",
        "IPY_MODEL_4ce1f3d6ae2342e89fd9d059b9c29894",
        "IPY_MODEL_2d7a9829fa0a4a1992648506277493db",
        "IPY_MODEL_ee7b9969a3224b2b98f26f19643fbfe7",
        "IPY_MODEL_c71ba6eb9d7344248232127c3e6d9fa1"
       ],
       "layout": "IPY_MODEL_2d6ec6dc79aa47309644885a49642a0e"
      }
     },
     "854f3706e7dc436baa4f2ce7d47a10f1": {
      "model_module": "@jupyter-widgets/controls",
      "model_module_version": "1.5.0",
      "model_name": "DescriptionStyleModel",
      "state": {
       "description_width": "initial"
      }
     },
     "857f3f9e279c4a9fac60982d6fce2c8c": {
      "model_module": "@jupyter-widgets/controls",
      "model_module_version": "1.5.0",
      "model_name": "CheckboxModel",
      "state": {
       "disabled": false,
       "indent": false,
       "layout": "IPY_MODEL_a5756941ebde4abab629e748b2443c6e",
       "style": "IPY_MODEL_fc4b94ccddd24f60b189472384ef19cb",
       "value": true
      }
     },
     "85d82d51f503485fbc9fb619e64df77a": {
      "model_module": "@jupyter-widgets/controls",
      "model_module_version": "1.5.0",
      "model_name": "DescriptionStyleModel",
      "state": {
       "description_width": ""
      }
     },
     "85df3db127874221948535a39ca41dc1": {
      "model_module": "@jupyter-widgets/controls",
      "model_module_version": "1.5.0",
      "model_name": "SliderStyleModel",
      "state": {
       "description_width": "initial"
      }
     },
     "85e137c5c48742e8bf3a4074ab774433": {
      "model_module": "@jupyter-widgets/base",
      "model_module_version": "1.2.0",
      "model_name": "LayoutModel",
      "state": {
       "height": "100%"
      }
     },
     "86d1f22ed08b41f381b63ca8c1c5e353": {
      "model_module": "@jupyter-widgets/controls",
      "model_module_version": "1.5.0",
      "model_name": "IntSliderModel",
      "state": {
       "continuous_update": false,
       "description": "Chequerboard splits",
       "layout": "IPY_MODEL_563ba5b6c73043d887dd895b61e77b29",
       "max": 15,
       "min": 2,
       "style": "IPY_MODEL_97ae7f0db7ab4f69b2366b323ce18371",
       "value": 8
      }
     },
     "875347d8b1e34e11ba3249ab96a730ed": {
      "model_module": "@jupyter-widgets/controls",
      "model_module_version": "1.5.0",
      "model_name": "CheckboxModel",
      "state": {
       "disabled": false,
       "indent": false,
       "layout": "IPY_MODEL_be4310ef52e64947877a4a5aec0eb9ea",
       "style": "IPY_MODEL_68682d4f9ec74aa38067196e34fbd98d",
       "value": true
      }
     },
     "876fe4000063459aacdcc1e2e58a1260": {
      "model_module": "@jupyter-widgets/controls",
      "model_module_version": "1.5.0",
      "model_name": "ToggleButtonModel",
      "state": {
       "description": "Hide all ROIs",
       "layout": "IPY_MODEL_cf7742276bf34dffbf6436726874c1a3",
       "style": "IPY_MODEL_e827b072a18641e89508c3c36ba83a7a"
      }
     },
     "87a9a36a73bf43869e83a8ecf984debc": {
      "model_module": "@jupyter-widgets/controls",
      "model_module_version": "1.5.0",
      "model_name": "ButtonModel",
      "state": {
       "description": "Save",
       "layout": "IPY_MODEL_3e04f6a8737a4dd9bebaabe9bf0fa2b5",
       "style": "IPY_MODEL_1eea6fb41f79446f8c3c1d724c9b2e39",
       "tooltip": "Save figure to a file. Filetype automatically determined from filename."
      }
     },
     "87b59db2ee234da8abaaaa2ef2859350": {
      "model_module": "@jupyter-widgets/base",
      "model_module_version": "1.2.0",
      "model_name": "LayoutModel",
      "state": {}
     },
     "87f1e5ce1c9f41d3b7302cd2fb0b263a": {
      "model_module": "@jupyter-widgets/base",
      "model_module_version": "1.2.0",
      "model_name": "LayoutModel",
      "state": {
       "height": "100%"
      }
     },
     "88111b6fdc6847d598ea69e75dd9446b": {
      "model_module": "@jupyter-widgets/controls",
      "model_module_version": "1.5.0",
      "model_name": "CheckboxModel",
      "state": {
       "disabled": false,
       "indent": false,
       "layout": "IPY_MODEL_6dcca82a7ddd4332b356e6d55d21d9fd",
       "style": "IPY_MODEL_29ebf3eae23e4a729e1877e48e3062c3",
       "value": true
      }
     },
     "8879070e8792479cb76ba0df2bc915b6": {
      "model_module": "@jupyter-widgets/base",
      "model_module_version": "1.2.0",
      "model_name": "LayoutModel",
      "state": {}
     },
     "88c2797b682040a39cef5ef0266d26bc": {
      "model_module": "@jupyter-widgets/base",
      "model_module_version": "1.2.0",
      "model_name": "LayoutModel",
      "state": {}
     },
     "895d19529637463eace58fc4f000fe58": {
      "model_module": "@jupyter-widgets/controls",
      "model_module_version": "1.5.0",
      "model_name": "SliderStyleModel",
      "state": {
       "description_width": "initial"
      }
     },
     "899b7aed33674349a8845043d8aab0c8": {
      "model_module": "@jupyter-widgets/controls",
      "model_module_version": "1.5.0",
      "model_name": "SliderStyleModel",
      "state": {
       "description_width": "initial"
      }
     },
     "899c96ade55245dbac167e117ce0f256": {
      "model_module": "@jupyter-widgets/controls",
      "model_module_version": "1.5.0",
      "model_name": "SliderStyleModel",
      "state": {
       "description_width": "initial"
      }
     },
     "89cbe2e707414e82ab05a4f31ba38bf9": {
      "model_module": "@jupyter-widgets/controls",
      "model_module_version": "1.5.0",
      "model_name": "ButtonStyleModel",
      "state": {}
     },
     "8a28a50a239844a0a7d5c61769868def": {
      "model_module": "@jupyter-widgets/base",
      "model_module_version": "1.2.0",
      "model_name": "LayoutModel",
      "state": {}
     },
     "8a730268f5a9472f8ce80724e0e1f213": {
      "model_module": "@jupyter-widgets/base",
      "model_module_version": "1.2.0",
      "model_name": "LayoutModel",
      "state": {
       "height": "100%"
      }
     },
     "8aabf938c9c0422c8b3a7bc79dec0e1b": {
      "model_module": "@jupyter-widgets/controls",
      "model_module_version": "1.5.0",
      "model_name": "ButtonStyleModel",
      "state": {}
     },
     "8bb4cdaab0d04c5381214c1a341beb4a": {
      "model_module": "@jupyter-widgets/controls",
      "model_module_version": "1.5.0",
      "model_name": "FloatSliderModel",
      "state": {
       "continuous_update": false,
       "description": "Deformation-field spacing",
       "layout": "IPY_MODEL_f259321155a54b9686a99ee9fc8330fa",
       "max": 30,
       "min": 5,
       "readout_format": ".0f",
       "style": "IPY_MODEL_452fbb7d67904ccaa18d74f31e96cd21",
       "value": 30
      }
     },
     "8bfdbadffc8a478cbedb3f74532c9316": {
      "model_module": "@jupyter-widgets/base",
      "model_module_version": "1.2.0",
      "model_name": "LayoutModel",
      "state": {}
     },
     "8c919de00f6748e2b533573251fa0a66": {
      "model_module": "@jupyter-widgets/base",
      "model_module_version": "1.2.0",
      "model_name": "LayoutModel",
      "state": {}
     },
     "8c9b75016bb64a78aafa69a88aa61441": {
      "model_module": "@jupyter-widgets/base",
      "model_module_version": "1.2.0",
      "model_name": "LayoutModel",
      "state": {}
     },
     "8dd39ba93a2b460d872ae3a3392d1ebe": {
      "model_module": "@jupyter-widgets/controls",
      "model_module_version": "1.5.0",
      "model_name": "DescriptionStyleModel",
      "state": {
       "description_width": ""
      }
     },
     "8e4e82a0cef0465c9309c44b1101fd43": {
      "model_module": "@jupyter-widgets/controls",
      "model_module_version": "1.5.0",
      "model_name": "CheckboxModel",
      "state": {
       "disabled": false,
       "indent": false,
       "layout": "IPY_MODEL_34986ee5fddc4d2aa3eeba9c494ac29b",
       "style": "IPY_MODEL_afd8f9b69f64496bb98aa9d2312e6fc2",
       "value": true
      }
     },
     "8e63c202d49f46d6b8cbd8d565eeddc1": {
      "model_module": "@jupyter-widgets/controls",
      "model_module_version": "1.5.0",
      "model_name": "VBoxModel",
      "state": {
       "children": [
        "IPY_MODEL_0efd1bd28d014680a6945d92348cd52b",
        "IPY_MODEL_5e2d9b561ba64fb68b18ad10e1857cff",
        "IPY_MODEL_b21f13a824554a51a910916c594facff",
        "IPY_MODEL_a7fc95c10b9d4b89bea914e8ba2e9a29",
        "IPY_MODEL_93ffcf9ea615468f83b2e0332a2c6c1c"
       ],
       "layout": "IPY_MODEL_16a25ba8fde3496cb91ff71344628b30"
      }
     },
     "8ead4c1e401e42cfbbf26d1a88221c05": {
      "model_module": "@jupyter-widgets/base",
      "model_module_version": "1.2.0",
      "model_name": "LayoutModel",
      "state": {}
     },
     "8ef9cecc80a043f596a1713555987e0b": {
      "model_module": "@jupyter-widgets/controls",
      "model_module_version": "1.5.0",
      "model_name": "VBoxModel",
      "state": {
       "children": [
        "IPY_MODEL_ee5488987c3d449dbcdb38cc5c8784f1",
        "IPY_MODEL_5d421b49c3e74922b57e5ac9ce3ae1aa",
        "IPY_MODEL_9f093392aa414877affd588f7d6248b2",
        "IPY_MODEL_1b1c9d99ce834c29b1024a30ee91d0f4",
        "IPY_MODEL_90276e7fd42f4b3d9ac66641a0bddcfb",
        "IPY_MODEL_5c7457660b954d16b453857a3a474a2a",
        "IPY_MODEL_d333fdd4ad1747b39cb0fe4cf8ff507d",
        "IPY_MODEL_430fbbef8ada4e029b70fdc5ad185cf5"
       ],
       "layout": "IPY_MODEL_2b8f5caeb51940fb9232896bca24297c"
      }
     },
     "8f50044d282645478e1d33b65979593b": {
      "model_module": "@jupyter-widgets/base",
      "model_module_version": "1.2.0",
      "model_name": "LayoutModel",
      "state": {}
     },
     "901483096dd14355a3f36d605945df72": {
      "model_module": "@jupyter-widgets/base",
      "model_module_version": "1.2.0",
      "model_name": "LayoutModel",
      "state": {}
     },
     "90276e7fd42f4b3d9ac66641a0bddcfb": {
      "model_module": "@jupyter-widgets/controls",
      "model_module_version": "1.5.0",
      "model_name": "FloatSliderModel",
      "state": {
       "continuous_update": false,
       "description": "x centre  (mm)",
       "layout": "IPY_MODEL_3df06571e0dd44e49ae270b399ddb66e",
       "max": 273.27698730469,
       "min": -274.46301269531,
       "readout_format": ".1f",
       "style": "IPY_MODEL_56ab16aa7d204b578ecd9d9a55edab76",
       "value": -0.5930126953099943
      }
     },
     "904cef4cfe304aa9afec983459ef26a4": {
      "model_module": "@jupyter-widgets/controls",
      "model_module_version": "1.5.0",
      "model_name": "CheckboxModel",
      "state": {
       "description": "Invert mask",
       "disabled": false,
       "indent": false,
       "layout": "IPY_MODEL_2f58b825d13845b1b7d6092f3e6eb47a",
       "style": "IPY_MODEL_71532799ca7447ac8ebfa0b820079ff3",
       "value": false
      }
     },
     "907fda59669941afb70b2f4e91bb0752": {
      "model_module": "@jupyter-widgets/base",
      "model_module_version": "1.2.0",
      "model_name": "LayoutModel",
      "state": {}
     },
     "9197cd222f81470893784309f4fd3da4": {
      "model_module": "@jupyter-widgets/base",
      "model_module_version": "1.2.0",
      "model_name": "LayoutModel",
      "state": {}
     },
     "91ed2716aab24eb490c6843d9d72aec8": {
      "model_module": "@jupyter-widgets/controls",
      "model_module_version": "1.5.0",
      "model_name": "SliderStyleModel",
      "state": {
       "description_width": "initial"
      }
     },
     "91ff018017924014baa93a6ea7e8785e": {
      "model_module": "@jupyter-widgets/base",
      "model_module_version": "1.2.0",
      "model_name": "LayoutModel",
      "state": {}
     },
     "921a56fd48ea451980ac8a1483603f80": {
      "model_module": "@jupyter-widgets/base",
      "model_module_version": "1.2.0",
      "model_name": "LayoutModel",
      "state": {
       "height": "100%"
      }
     },
     "924c59ba36b640aab3db8cf8c1c8de80": {
      "model_module": "@jupyter-widgets/base",
      "model_module_version": "1.2.0",
      "model_name": "LayoutModel",
      "state": {}
     },
     "927529de08e2423c9ed2d33052bb3209": {
      "model_module": "@jupyter-widgets/base",
      "model_module_version": "1.2.0",
      "model_name": "LayoutModel",
      "state": {}
     },
     "9278b073163a44fcba21b8328b276c8f": {
      "model_module": "@jupyter-widgets/controls",
      "model_module_version": "1.5.0",
      "model_name": "DescriptionStyleModel",
      "state": {
       "description_width": ""
      }
     },
     "9348127e3e33436397a3b8cdb8d662d1": {
      "model_module": "@jupyter-widgets/controls",
      "model_module_version": "1.5.0",
      "model_name": "ButtonModel",
      "state": {
       "description": "Save",
       "layout": "IPY_MODEL_91ff018017924014baa93a6ea7e8785e",
       "style": "IPY_MODEL_f22c23638035406a8f67d75fd025eff2",
       "tooltip": "Save figure to a file. Filetype automatically determined from filename."
      }
     },
     "93b2ca582eec4fd49b35b8c4134597cb": {
      "model_module": "@jupyter-widgets/base",
      "model_module_version": "1.2.0",
      "model_name": "LayoutModel",
      "state": {
       "height": "100%"
      }
     },
     "93c3ca202e84483f848d0b3689de09e0": {
      "model_module": "@jupyter-widgets/controls",
      "model_module_version": "1.5.0",
      "model_name": "HTMLModel",
      "state": {
       "layout": "IPY_MODEL_8bfdbadffc8a478cbedb3f74532c9316",
       "style": "IPY_MODEL_6be81a75333c41b595037a3ebcffb0d3",
       "value": "\n        <head>\n            <style>\n                th, td {\n                    padding: 2px 2px;\n                }\n                th {\n                    background-color: transparent;\n                    text-align: center;\n                }\n            </style>\n        </head>\n    <table border=\"1\" class=\"dataframe\">\n  <thead>\n    <tr style=\"text-align: right;\">\n      <th>ROI</th>\n    </tr>\n  </thead>\n  <tbody>\n    <tr>\n      <td><p style=\"background-color: rgb(255.0, 0.0, 0.0); color: white;\">&nbsp;ctv65&nbsp;</p></td>\n    </tr>\n    <tr>\n      <td><p style=\"background-color: rgb(255.0, 128.0, 128.0); color: white;\">&nbsp;ctv60&nbsp;</p></td>\n    </tr>\n    <tr>\n      <td><p style=\"background-color: rgb(255.0, 128.0, 64.0); color: white;\">&nbsp;ctv54&nbsp;</p></td>\n    </tr>\n    <tr>\n      <td><p style=\"background-color: rgb(255.0, 255.0, 0.0); color: black;\">&nbsp;cord&nbsp;</p></td>\n    </tr>\n    <tr>\n      <td><p style=\"background-color: rgb(0.0, 255.0, 255.0); color: white;\">&nbsp;R parotid&nbsp;</p></td>\n    </tr>\n    <tr>\n      <td><p style=\"background-color: rgb(255.0, 0.0, 255.0); color: white;\">&nbsp;L parotid&nbsp;</p></td>\n    </tr>\n    <tr>\n      <td><p style=\"background-color: rgb(128.0, 64.0, 64.0); color: white;\">&nbsp;Mandible&nbsp;</p></td>\n    </tr>\n    <tr>\n      <td><p style=\"background-color: rgb(255.0, 0.0, 0.0); color: white;\">&nbsp;skin&nbsp;</p></td>\n    </tr>\n    <tr>\n      <td><p style=\"background-color: rgb(0.0, 0.0, 255.0); color: white;\">&nbsp;PTV65&nbsp;</p></td>\n    </tr>\n    <tr>\n      <td><p style=\"background-color: rgb(0.0, 128.0, 255.0); color: white;\">&nbsp;PTV60&nbsp;</p></td>\n    </tr>\n    <tr>\n      <td><p style=\"background-color: rgb(0.0, 255.0, 255.0); color: white;\">&nbsp;PTV54&nbsp;</p></td>\n    </tr>\n    <tr>\n      <td><p style=\"background-color: rgb(255.0, 128.0, 0.0); color: white;\">&nbsp;cordPRV&nbsp;</p></td>\n    </tr>\n    <tr>\n      <td><p style=\"background-color: rgb(127.0, 255.0, 127.0); color: black;\">&nbsp;R parotid - PTV&nbsp;</p></td>\n    </tr>\n    <tr>\n      <td><p style=\"background-color: rgb(39.0, 199.0, 0.0); color: white;\">&nbsp;L parotid - PTV&nbsp;</p></td>\n    </tr>\n    <tr>\n      <td><p style=\"background-color: rgb(128.0, 128.0, 255.0); color: white;\">&nbsp;Ring65&nbsp;</p></td>\n    </tr>\n    <tr>\n      <td><p style=\"background-color: rgb(128.0, 0.0, 255.0); color: white;\">&nbsp;Ring60&nbsp;</p></td>\n    </tr>\n    <tr>\n      <td><p style=\"background-color: rgb(255.0, 0.0, 128.0); color: white;\">&nbsp;Ring54&nbsp;</p></td>\n    </tr>\n    <tr>\n      <td><p style=\"background-color: rgb(255.0, 0.0, 0.0); color: white;\">&nbsp;post avoid&nbsp;</p></td>\n    </tr>\n    <tr>\n      <td><p style=\"background-color: rgb(255.0, 0.0, 0.0); color: white;\">&nbsp;spine block&nbsp;</p></td>\n    </tr>\n    <tr>\n      <td><p style=\"background-color: rgb(255.0, 0.0, 0.0); color: white;\">&nbsp;optics block&nbsp;</p></td>\n    </tr>\n    <tr>\n      <td><p style=\"background-color: rgb(144.0, 0.0, 115.0); color: white;\">&nbsp;shoulder blocks&nbsp;</p></td>\n    </tr>\n    <tr>\n      <td><p style=\"background-color: rgb(255.0, 127.0, 0.0); color: white;\">&nbsp;planning bolus&nbsp;</p></td>\n    </tr>\n    <tr>\n      <td><p style=\"background-color: rgb(51.0, 0.0, 255.0); color: white;\">&nbsp;AVOID&nbsp;</p></td>\n    </tr>\n  </tbody>\n</table>"
      }
     },
     "93ffcf9ea615468f83b2e0332a2c6c1c": {
      "model_module": "@jupyter-widgets/controls",
      "model_module_version": "1.5.0",
      "model_name": "CheckboxModel",
      "state": {
       "disabled": false,
       "indent": false,
       "layout": "IPY_MODEL_dc52159b0c44418b8e9889694b9691d1",
       "style": "IPY_MODEL_ef94429d7bde4b8e904ed495c67c6009",
       "value": true
      }
     },
     "9499427763ec409abc540232f38c6665": {
      "model_module": "@jupyter-widgets/controls",
      "model_module_version": "1.5.0",
      "model_name": "DescriptionStyleModel",
      "state": {
       "description_width": ""
      }
     },
     "94dc7548389a45c5a2693e7b3b347039": {
      "model_module": "@jupyter-widgets/controls",
      "model_module_version": "1.5.0",
      "model_name": "DescriptionStyleModel",
      "state": {
       "description_width": ""
      }
     },
     "9587176bfbbd47e7bd31124cbae47c7f": {
      "model_module": "@jupyter-widgets/base",
      "model_module_version": "1.2.0",
      "model_name": "LayoutModel",
      "state": {}
     },
     "96364e62af9b4546aebe13ded7fbbbcb": {
      "model_module": "@jupyter-widgets/base",
      "model_module_version": "1.2.0",
      "model_name": "LayoutModel",
      "state": {
       "height": "100%"
      }
     },
     "977bb23aed1d4bf9b2976b9e992f5cb6": {
      "model_module": "@jupyter-widgets/controls",
      "model_module_version": "1.5.0",
      "model_name": "DescriptionStyleModel",
      "state": {
       "description_width": "initial"
      }
     },
     "97883dd27d944e58becfc1d2fcc36795": {
      "model_module": "@jupyter-widgets/base",
      "model_module_version": "1.2.0",
      "model_name": "LayoutModel",
      "state": {
       "height": "100%"
      }
     },
     "97a06087546543868fc81fdd1b415915": {
      "model_module": "@jupyter-widgets/base",
      "model_module_version": "1.2.0",
      "model_name": "LayoutModel",
      "state": {}
     },
     "97ae7f0db7ab4f69b2366b323ce18371": {
      "model_module": "@jupyter-widgets/controls",
      "model_module_version": "1.5.0",
      "model_name": "SliderStyleModel",
      "state": {
       "description_width": "initial"
      }
     },
     "97b8485daab54bba87e6a71694df6174": {
      "model_module": "@jupyter-widgets/base",
      "model_module_version": "1.2.0",
      "model_name": "LayoutModel",
      "state": {}
     },
     "988a8e2ef407445f84a0c7016c80dde4": {
      "model_module": "@jupyter-widgets/controls",
      "model_module_version": "1.5.0",
      "model_name": "DescriptionStyleModel",
      "state": {
       "description_width": ""
      }
     },
     "9916b6a876ff487583da62a33e5ae9f9": {
      "model_module": "@jupyter-widgets/base",
      "model_module_version": "1.2.0",
      "model_name": "LayoutModel",
      "state": {}
     },
     "99575634669f4e2bba58aacaf23bfd28": {
      "model_module": "@jupyter-widgets/controls",
      "model_module_version": "1.5.0",
      "model_name": "DescriptionStyleModel",
      "state": {
       "description_width": ""
      }
     },
     "997ecfd166b845f7aa5792f0ee85f489": {
      "model_module": "@jupyter-widgets/controls",
      "model_module_version": "1.5.0",
      "model_name": "DescriptionStyleModel",
      "state": {
       "description_width": ""
      }
     },
     "9ab00fa903154a33851981669ee3c497": {
      "model_module": "@jupyter-widgets/base",
      "model_module_version": "1.2.0",
      "model_name": "LayoutModel",
      "state": {}
     },
     "9aba1911191f4e719f2dbd16411177d3": {
      "model_module": "@jupyter-widgets/controls",
      "model_module_version": "1.5.0",
      "model_name": "FloatSliderModel",
      "state": {
       "continuous_update": false,
       "description": "Opacity",
       "disabled": true,
       "layout": "IPY_MODEL_4000ed2a2c0d41d18ae64281ea967d69",
       "max": 1,
       "step": 0.1,
       "style": "IPY_MODEL_a8d7c23ba19a44048001f88f80fbe77d"
      }
     },
     "9ad3fd66a5014200848db2eb89aa04ef": {
      "model_module": "@jupyter-widgets/controls",
      "model_module_version": "1.5.0",
      "model_name": "FloatSliderModel",
      "state": {
       "continuous_update": false,
       "description": "Jacobian opacity",
       "layout": "IPY_MODEL_6184a904dbeb4541853126f802d7ccd4",
       "max": 1,
       "step": 0.05,
       "style": "IPY_MODEL_77bdc791d7bf4cb2a42e7df2b4a4f736",
       "value": 0.8
      }
     },
     "9b030fe3dfb04cbfab4af7254d25095e": {
      "model_module": "@jupyter-widgets/base",
      "model_module_version": "1.2.0",
      "model_name": "LayoutModel",
      "state": {}
     },
     "9bcb76782d2844b2aa0e8bcc4cba3e83": {
      "model_module": "@jupyter-widgets/controls",
      "model_module_version": "1.5.0",
      "model_name": "SliderStyleModel",
      "state": {
       "description_width": "initial"
      }
     },
     "9bd17740efcd4c48b2441f7c8dcf6191": {
      "model_module": "@jupyter-widgets/base",
      "model_module_version": "1.2.0",
      "model_name": "LayoutModel",
      "state": {}
     },
     "9bea3ab80eec483088bb8f2f0c962782": {
      "model_module": "@jupyter-widgets/controls",
      "model_module_version": "1.5.0",
      "model_name": "SliderStyleModel",
      "state": {
       "description_width": "initial"
      }
     },
     "9cb31494f6f8443d83c5c8cd4e96d862": {
      "model_module": "@jupyter-widgets/controls",
      "model_module_version": "1.5.0",
      "model_name": "DescriptionStyleModel",
      "state": {
       "description_width": ""
      }
     },
     "9cbd51dc99f043ba8895674b275676ee": {
      "model_module": "@jupyter-widgets/controls",
      "model_module_version": "1.5.0",
      "model_name": "DescriptionStyleModel",
      "state": {
       "description_width": ""
      }
     },
     "9cf61e5b467b434d96216d7fc4857a59": {
      "model_module": "@jupyter-widgets/base",
      "model_module_version": "1.2.0",
      "model_name": "LayoutModel",
      "state": {
       "height": "100%"
      }
     },
     "9d026821da9b4492a34f0cb851231c89": {
      "model_module": "@jupyter-widgets/base",
      "model_module_version": "1.2.0",
      "model_name": "LayoutModel",
      "state": {}
     },
     "9e011cefe7f6448188f749146c9e6d7d": {
      "model_module": "@jupyter-widgets/controls",
      "model_module_version": "1.5.0",
      "model_name": "CheckboxModel",
      "state": {
       "disabled": false,
       "indent": false,
       "layout": "IPY_MODEL_66f16b5776b9427d8a1503aaf775e8ad",
       "style": "IPY_MODEL_229f15b2e68041b8abe39a71d98d7942",
       "value": true
      }
     },
     "9e0b5658ec2e42ce9886c26d4df7d47b": {
      "model_module": "@jupyter-widgets/base",
      "model_module_version": "1.2.0",
      "model_name": "LayoutModel",
      "state": {}
     },
     "9e33d8e86120436b80d8e53b32348d14": {
      "model_module": "@jupyter-widgets/base",
      "model_module_version": "1.2.0",
      "model_name": "LayoutModel",
      "state": {}
     },
     "9ef7a0b1048f4103845f1c41ecb8aacd": {
      "model_module": "@jupyter-widgets/controls",
      "model_module_version": "1.5.0",
      "model_name": "DescriptionStyleModel",
      "state": {
       "description_width": ""
      }
     },
     "9f093392aa414877affd588f7d6248b2": {
      "model_module": "@jupyter-widgets/controls",
      "model_module_version": "1.5.0",
      "model_name": "IntRangeSliderModel",
      "state": {
       "_model_name": "IntRangeSliderModel",
       "_view_name": "IntRangeSliderView",
       "continuous_update": false,
       "description": "Intensity range",
       "layout": "IPY_MODEL_dece71ecf355443b8349c07f99527643",
       "max": 2000,
       "min": -2000,
       "style": "IPY_MODEL_e11ac76e6b084543ad9ee106fabd27b7",
       "value": [
        -200,
        300
       ]
      }
     },
     "9f135ec1bd70405b919ea74e62bf22b1": {
      "model_module": "@jupyter-widgets/controls",
      "model_module_version": "1.5.0",
      "model_name": "CheckboxModel",
      "state": {
       "disabled": false,
       "indent": false,
       "layout": "IPY_MODEL_3ff11a1294ff43ae9a9af80178651373",
       "style": "IPY_MODEL_cb1209471bf14c2cb222360fba5b8ad5",
       "value": true
      }
     },
     "9f4ac5a2d18d4eeaa4376e21760d00f4": {
      "model_module": "@jupyter-widgets/controls",
      "model_module_version": "1.5.0",
      "model_name": "IntSliderModel",
      "state": {
       "continuous_update": false,
       "description": "Linewidth",
       "layout": "IPY_MODEL_4c65dd4631f14f23a69341a7be86fa10",
       "max": 8,
       "min": 1,
       "style": "IPY_MODEL_2d86c289ff8c45fc87a138e36ed81323",
       "value": 2
      }
     },
     "9f5620e2cc3c483a8f5e822cd81548d6": {
      "model_module": "@jupyter-widgets/base",
      "model_module_version": "1.2.0",
      "model_name": "LayoutModel",
      "state": {}
     },
     "a03a70e08ac34f9ca9873fa125d3f7a8": {
      "model_module": "@jupyter-widgets/controls",
      "model_module_version": "1.5.0",
      "model_name": "DescriptionStyleModel",
      "state": {
       "description_width": "initial"
      }
     },
     "a03c97835ce74f1f981b4519ec6b006c": {
      "model_module": "@jupyter-widgets/base",
      "model_module_version": "1.2.0",
      "model_name": "LayoutModel",
      "state": {}
     },
     "a0770710fc98441e8beab88bbdd4a8db": {
      "model_module": "@jupyter-widgets/controls",
      "model_module_version": "1.5.0",
      "model_name": "CheckboxModel",
      "state": {
       "disabled": false,
       "indent": false,
       "layout": "IPY_MODEL_781d582031144ee895012664d2f65c7f",
       "style": "IPY_MODEL_c39fbdac3b3f4f8ea7844e5093fe0459",
       "value": true
      }
     },
     "a0ac41cd82774f79a890e1196ad5d6a8": {
      "model_module": "@jupyter-widgets/controls",
      "model_module_version": "1.5.0",
      "model_name": "FloatSliderModel",
      "state": {
       "continuous_update": false,
       "description": "Dose opacity",
       "layout": "IPY_MODEL_046ee60d191641298ec71ead7189e1fa",
       "max": 1,
       "step": 0.05,
       "style": "IPY_MODEL_3baf0e51fbdd453094d76395cdfea177",
       "value": 0.5
      }
     },
     "a0cbce592f8740ce9c0789a612fdbc9d": {
      "model_module": "@jupyter-widgets/controls",
      "model_module_version": "1.5.0",
      "model_name": "SliderStyleModel",
      "state": {
       "description_width": "initial"
      }
     },
     "a0e7692985544c8b9b4faa043fff4e6b": {
      "model_module": "@jupyter-widgets/controls",
      "model_module_version": "1.5.0",
      "model_name": "DescriptionStyleModel",
      "state": {
       "description_width": ""
      }
     },
     "a17bac38b94b442184da114008541ace": {
      "model_module": "@jupyter-widgets/base",
      "model_module_version": "1.2.0",
      "model_name": "LayoutModel",
      "state": {}
     },
     "a1a0b8b4db6143d0843e69ed60ac87f2": {
      "model_module": "@jupyter-widgets/controls",
      "model_module_version": "1.5.0",
      "model_name": "FloatSliderModel",
      "state": {
       "continuous_update": false,
       "description": "z (mm)",
       "layout": "IPY_MODEL_3472fd41f1b94e73a4134786438f7edb",
       "max": 123,
       "min": -228,
       "readout_format": ".1f",
       "step": 3,
       "style": "IPY_MODEL_789b0d2a870a41b29cc7664a73e41270",
       "value": 18
      }
     },
     "a23f8c8e81564f14a1ac38651909c41b": {
      "model_module": "@jupyter-widgets/base",
      "model_module_version": "1.2.0",
      "model_name": "LayoutModel",
      "state": {}
     },
     "a303581f43444d5ca8097b208e3bf424": {
      "model_module": "@jupyter-widgets/controls",
      "model_module_version": "1.5.0",
      "model_name": "SliderStyleModel",
      "state": {
       "description_width": "initial"
      }
     },
     "a31309412722410e8127af85b3fbd851": {
      "model_module": "@jupyter-widgets/controls",
      "model_module_version": "1.5.0",
      "model_name": "DescriptionStyleModel",
      "state": {
       "description_width": ""
      }
     },
     "a317709c2470451fb0fa21ad26fb5a8b": {
      "model_module": "@jupyter-widgets/controls",
      "model_module_version": "1.5.0",
      "model_name": "CheckboxModel",
      "state": {
       "disabled": false,
       "indent": false,
       "layout": "IPY_MODEL_cc14d411e7674d7bb4914109ba836915",
       "style": "IPY_MODEL_3c6d68c006a3422cb2d97821ea8e4ed5",
       "value": true
      }
     },
     "a353e752c98548b5874e477565753e82": {
      "model_module": "@jupyter-widgets/base",
      "model_module_version": "1.2.0",
      "model_name": "LayoutModel",
      "state": {}
     },
     "a3d5c538df264995b48f2e2fdcd16823": {
      "model_module": "@jupyter-widgets/controls",
      "model_module_version": "1.5.0",
      "model_name": "VBoxModel",
      "state": {
       "layout": "IPY_MODEL_b974f71d21924a5dbfe03aa5147c6d32"
      }
     },
     "a4555c75f69b4bf2b4eb48de7b0f845c": {
      "model_module": "@jupyter-widgets/controls",
      "model_module_version": "1.5.0",
      "model_name": "CheckboxModel",
      "state": {
       "disabled": false,
       "indent": false,
       "layout": "IPY_MODEL_7217ac62f6714055a767b02978c23a50",
       "style": "IPY_MODEL_29bf80af2d334fa6b7f3e0472b6e4ced",
       "value": true
      }
     },
     "a49498da75e0473b86023f5eb6eec46d": {
      "model_module": "@jupyter-widgets/base",
      "model_module_version": "1.2.0",
      "model_name": "LayoutModel",
      "state": {}
     },
     "a5120e7a4dfd4717aed31a45ec0422f3": {
      "model_module": "@jupyter-widgets/controls",
      "model_module_version": "1.5.0",
      "model_name": "FloatSliderModel",
      "state": {
       "continuous_update": false,
       "description": "Opacity",
       "disabled": true,
       "layout": "IPY_MODEL_15154f2df9be4b669c8ad271ce7b27a4",
       "max": 1,
       "step": 0.1,
       "style": "IPY_MODEL_816ea6eb127d45a4a821256cacee63f8"
      }
     },
     "a5756941ebde4abab629e748b2443c6e": {
      "model_module": "@jupyter-widgets/base",
      "model_module_version": "1.2.0",
      "model_name": "LayoutModel",
      "state": {
       "height": "100%"
      }
     },
     "a5ae2e8d95c242b8b72a60de7abb2021": {
      "model_module": "@jupyter-widgets/controls",
      "model_module_version": "1.5.0",
      "model_name": "FloatSliderModel",
      "state": {
       "continuous_update": false,
       "description": "Deformation-field spacing",
       "layout": "IPY_MODEL_1bc8483af05f4dbcba224b5279b5cdba",
       "max": 30,
       "min": 5,
       "readout_format": ".0f",
       "style": "IPY_MODEL_78d48f085bfd4750a27ad3b989bfff73",
       "value": 30
      }
     },
     "a61bb9e682954cb686730a74ce760df3": {
      "model_module": "@jupyter-widgets/controls",
      "model_module_version": "1.5.0",
      "model_name": "VBoxModel",
      "state": {
       "children": [
        "IPY_MODEL_6ddd708f265444ba8855c10e0206a15a",
        "IPY_MODEL_137055026fdf42a2b8c700e17036b68d",
        "IPY_MODEL_1799b521bb58408bbcda35d3b57312c9",
        "IPY_MODEL_eae84650cb8c42fc922c1410cfe917dc",
        "IPY_MODEL_2d468e9d040342d7a8fcad1c1b6b3aa7",
        "IPY_MODEL_2c75d85061d24deb838d55d8a922e427",
        "IPY_MODEL_5bfbc4f31ebb45bca4f2ab7b5d7f1a21",
        "IPY_MODEL_a1a0b8b4db6143d0843e69ed60ac87f2"
       ],
       "layout": "IPY_MODEL_24f015cb33f4480fb4692e10fc2efac3"
      }
     },
     "a63204f94839421bab136671c09ce1e3": {
      "model_module": "@jupyter-widgets/controls",
      "model_module_version": "1.5.0",
      "model_name": "DescriptionStyleModel",
      "state": {
       "description_width": ""
      }
     },
     "a65ac7de5e3d41e1af9172b1450ffa6e": {
      "model_module": "@jupyter-widgets/base",
      "model_module_version": "1.2.0",
      "model_name": "LayoutModel",
      "state": {}
     },
     "a6bc751674f640258e58a3cc4632d4af": {
      "model_module": "@jupyter-widgets/controls",
      "model_module_version": "1.5.0",
      "model_name": "DescriptionStyleModel",
      "state": {
       "description_width": ""
      }
     },
     "a6eca7a0a93947a99bc09e8e3e8d0338": {
      "model_module": "@jupyter-widgets/base",
      "model_module_version": "1.2.0",
      "model_name": "LayoutModel",
      "state": {}
     },
     "a770dc52a92d4b099ed28eebab0ca20f": {
      "model_module": "@jupyter-widgets/controls",
      "model_module_version": "1.5.0",
      "model_name": "IntSliderModel",
      "state": {
       "continuous_update": false,
       "description": "Linewidth",
       "layout": "IPY_MODEL_54e7bcfa79ff44b6acf2d768e36079c8",
       "max": 8,
       "min": 1,
       "style": "IPY_MODEL_895d19529637463eace58fc4f000fe58",
       "value": 2
      }
     },
     "a7fc95c10b9d4b89bea914e8ba2e9a29": {
      "model_module": "@jupyter-widgets/controls",
      "model_module_version": "1.5.0",
      "model_name": "CheckboxModel",
      "state": {
       "disabled": false,
       "indent": false,
       "layout": "IPY_MODEL_bdae776cb1074ccb8b6dc228179b4f39",
       "style": "IPY_MODEL_02f4064c9fda4b918d51da37080855a7",
       "value": true
      }
     },
     "a87476bbd06e4a8aa7ebbe7fac15a4a2": {
      "model_module": "@jupyter-widgets/base",
      "model_module_version": "1.2.0",
      "model_name": "LayoutModel",
      "state": {
       "height": "100%"
      }
     },
     "a8abc32a153e4fc7983c5d7421b69ceb": {
      "model_module": "@jupyter-widgets/base",
      "model_module_version": "1.2.0",
      "model_name": "LayoutModel",
      "state": {}
     },
     "a8acebc71209498985108574e15631e3": {
      "model_module": "@jupyter-widgets/controls",
      "model_module_version": "1.5.0",
      "model_name": "CheckboxModel",
      "state": {
       "disabled": false,
       "indent": false,
       "layout": "IPY_MODEL_2e5ece67a46044ceb5ab4957d3af2dac",
       "style": "IPY_MODEL_9cb31494f6f8443d83c5c8cd4e96d862",
       "value": true
      }
     },
     "a8caba638a834381905289f83d8ed344": {
      "model_module": "@jupyter-widgets/controls",
      "model_module_version": "1.5.0",
      "model_name": "CheckboxModel",
      "state": {
       "disabled": false,
       "indent": false,
       "layout": "IPY_MODEL_dfc048c5b51a494bae43a0d526c7cf2f",
       "style": "IPY_MODEL_eeb22480dd8c49e7894c519fd41af14c",
       "value": true
      }
     },
     "a8d7c23ba19a44048001f88f80fbe77d": {
      "model_module": "@jupyter-widgets/controls",
      "model_module_version": "1.5.0",
      "model_name": "SliderStyleModel",
      "state": {
       "description_width": "initial"
      }
     },
     "a90fc848bf4c46369f289720684578df": {
      "model_module": "@jupyter-widgets/base",
      "model_module_version": "1.2.0",
      "model_name": "LayoutModel",
      "state": {}
     },
     "a9db482a9ff74fbda3587f56788d3527": {
      "model_module": "@jupyter-widgets/controls",
      "model_module_version": "1.5.0",
      "model_name": "CheckboxModel",
      "state": {
       "disabled": false,
       "layout": "IPY_MODEL_927529de08e2423c9ed2d33052bb3209",
       "style": "IPY_MODEL_b38174916a73434e8d75e42f80579d75",
       "value": true
      }
     },
     "ab433e444deb4cf2b8e0ecf31db0da49": {
      "model_module": "@jupyter-widgets/controls",
      "model_module_version": "1.5.0",
      "model_name": "DescriptionStyleModel",
      "state": {
       "description_width": ""
      }
     },
     "ab4a32a646f649959eaf77dd372f3e39": {
      "model_module": "@jupyter-widgets/controls",
      "model_module_version": "1.5.0",
      "model_name": "CheckboxModel",
      "state": {
       "disabled": false,
       "indent": false,
       "layout": "IPY_MODEL_51cb880922ed4f6397dbeb5fc595185c",
       "style": "IPY_MODEL_8469ac47245c45659be94ff4f43cd096",
       "value": true
      }
     },
     "abe2e27774a447bb9089f2ffe952dae0": {
      "model_module": "@jupyter-widgets/controls",
      "model_module_version": "1.5.0",
      "model_name": "VBoxModel",
      "state": {
       "layout": "IPY_MODEL_a17bac38b94b442184da114008541ace"
      }
     },
     "ac1eb83c4ee343abb93bab16ca774507": {
      "model_module": "@jupyter-widgets/base",
      "model_module_version": "1.2.0",
      "model_name": "LayoutModel",
      "state": {}
     },
     "ac58d95208b24154894e88e8cd614523": {
      "model_module": "@jupyter-widgets/base",
      "model_module_version": "1.2.0",
      "model_name": "LayoutModel",
      "state": {
       "height": "100%"
      }
     },
     "ac5d4bd0dbd645aca91a9d4745841835": {
      "model_module": "@jupyter-widgets/base",
      "model_module_version": "1.2.0",
      "model_name": "LayoutModel",
      "state": {}
     },
     "ac70dd906024400b911937cbad09afc5": {
      "model_module": "@jupyter-widgets/base",
      "model_module_version": "1.2.0",
      "model_name": "LayoutModel",
      "state": {}
     },
     "ac802ff27dff46ea8ca7e90a164e44db": {
      "model_module": "@jupyter-widgets/controls",
      "model_module_version": "1.5.0",
      "model_name": "CheckboxModel",
      "state": {
       "disabled": false,
       "layout": "IPY_MODEL_e819b7252d8f4e00b292577d239bea1e",
       "style": "IPY_MODEL_dbb346579f9149efa58029dcc7f1d799",
       "value": true
      }
     },
     "aca2b7bc63c54d118e6e2cbeec5b8dc9": {
      "model_module": "@jupyter-widgets/base",
      "model_module_version": "1.2.0",
      "model_name": "LayoutModel",
      "state": {}
     },
     "ad45ae6cddce4b678b7c161e1fda99f5": {
      "model_module": "@jupyter-widgets/controls",
      "model_module_version": "1.5.0",
      "model_name": "CheckboxModel",
      "state": {
       "description": "Plot consensus",
       "disabled": false,
       "layout": "IPY_MODEL_9ab00fa903154a33851981669ee3c497",
       "style": "IPY_MODEL_f4dba4cb563d40c0bad0731906d6d728",
       "value": true
      }
     },
     "ae2816ef15af421d9a9f11fa98d33cfd": {
      "model_module": "@jupyter-widgets/controls",
      "model_module_version": "1.5.0",
      "model_name": "DropdownModel",
      "state": {
       "_options_labels": [
        "",
        "ctv65",
        "ctv60",
        "ctv54",
        "cord",
        "R parotid",
        "L parotid",
        "Mandible",
        "skin",
        "PTV65",
        "PTV60",
        "PTV54",
        "cordPRV",
        "R parotid - PTV",
        "L parotid - PTV",
        "Ring65",
        "Ring60",
        "Ring54",
        "post avoid",
        "spine block",
        "optics block",
        "shoulder blocks",
        "planning bolus",
        "AVOID"
       ],
       "description": "Jump to",
       "index": 0,
       "layout": "IPY_MODEL_274a75ef155c4e9ca197759e1a5efd9d",
       "style": "IPY_MODEL_854f3706e7dc436baa4f2ce7d47a10f1"
      }
     },
     "ae49a028b674434982ffb32bb867946e": {
      "model_module": "@jupyter-widgets/controls",
      "model_module_version": "1.5.0",
      "model_name": "VBoxModel",
      "state": {
       "children": [
        "IPY_MODEL_e92b6a89f11d4837867adc767b3c75e1",
        "IPY_MODEL_ae2816ef15af421d9a9f11fa98d33cfd",
        "IPY_MODEL_12984ce50ccc4c0f9c5d095c4c40b8b7",
        "IPY_MODEL_5f437a06375046a8a59ff502da653df0",
        "IPY_MODEL_04e147977e684774af8aa6395d7c5dc3",
        "IPY_MODEL_548c530bfda94695a71e2e80b4e31fe6",
        "IPY_MODEL_b4f63d632b9e443391c61bec50705039",
        "IPY_MODEL_f861dafc4f73408bb03681074ef5d0f9"
       ],
       "layout": "IPY_MODEL_ede56504e20b4b658597bc589a485f63"
      }
     },
     "ae7cd575767449b1811a6434eea7d804": {
      "model_module": "@jupyter-widgets/controls",
      "model_module_version": "1.5.0",
      "model_name": "DescriptionStyleModel",
      "state": {
       "description_width": ""
      }
     },
     "af02f3cbf55e451bae4463d2cd758f67": {
      "model_module": "@jupyter-widgets/controls",
      "model_module_version": "1.5.0",
      "model_name": "SliderStyleModel",
      "state": {
       "description_width": "initial"
      }
     },
     "af7641f8747249908247e153780b5e34": {
      "model_module": "@jupyter-widgets/base",
      "model_module_version": "1.2.0",
      "model_name": "LayoutModel",
      "state": {
       "height": "100%"
      }
     },
     "afd8f9b69f64496bb98aa9d2312e6fc2": {
      "model_module": "@jupyter-widgets/controls",
      "model_module_version": "1.5.0",
      "model_name": "DescriptionStyleModel",
      "state": {
       "description_width": ""
      }
     },
     "afe9482c0e4e4370b9d3562b2f312f98": {
      "model_module": "@jupyter-widgets/base",
      "model_module_version": "1.2.0",
      "model_name": "LayoutModel",
      "state": {}
     },
     "b0070c866e8846818a50a069faf02124": {
      "model_module": "@jupyter-widgets/base",
      "model_module_version": "1.2.0",
      "model_name": "LayoutModel",
      "state": {}
     },
     "b055bb664b4b4bf78a34173fafa39dcf": {
      "model_module": "@jupyter-widgets/controls",
      "model_module_version": "1.5.0",
      "model_name": "FloatRangeSliderModel",
      "state": {
       "_model_name": "FloatRangeSliderModel",
       "_view_name": "FloatRangeSliderView",
       "continuous_update": false,
       "description": "Jacobian range",
       "layout": "IPY_MODEL_cc5571772e5944d8a4372ba5c0688007",
       "max": 2,
       "min": -1,
       "readout_format": ".1f",
       "step": 0.1,
       "style": "IPY_MODEL_46fe1c04b54645cea3c787f2ac1ab90e",
       "value": [
        -0.25,
        1.25
       ]
      }
     },
     "b0a368952ec34e87be347ef58336f570": {
      "model_module": "@jupyter-widgets/base",
      "model_module_version": "1.2.0",
      "model_name": "LayoutModel",
      "state": {}
     },
     "b1a52545f05d45b992c9fc8b571449ac": {
      "model_module": "@jupyter-widgets/controls",
      "model_module_version": "1.5.0",
      "model_name": "DescriptionStyleModel",
      "state": {
       "description_width": "initial"
      }
     },
     "b1b6b69a8841404fbe6a025cc92a25da": {
      "model_module": "@jupyter-widgets/base",
      "model_module_version": "1.2.0",
      "model_name": "LayoutModel",
      "state": {}
     },
     "b21f13a824554a51a910916c594facff": {
      "model_module": "@jupyter-widgets/controls",
      "model_module_version": "1.5.0",
      "model_name": "CheckboxModel",
      "state": {
       "disabled": false,
       "indent": false,
       "layout": "IPY_MODEL_af7641f8747249908247e153780b5e34",
       "style": "IPY_MODEL_a0e7692985544c8b9b4faa043fff4e6b",
       "value": true
      }
     },
     "b38174916a73434e8d75e42f80579d75": {
      "model_module": "@jupyter-widgets/controls",
      "model_module_version": "1.5.0",
      "model_name": "DescriptionStyleModel",
      "state": {
       "description_width": ""
      }
     },
     "b38b722b458646e5888dec6eef10fb1b": {
      "model_module": "@jupyter-widgets/controls",
      "model_module_version": "1.5.0",
      "model_name": "ButtonStyleModel",
      "state": {}
     },
     "b48fc3ef16fe413ab96a93bafe1a41d8": {
      "model_module": "@jupyter-widgets/controls",
      "model_module_version": "1.5.0",
      "model_name": "HBoxModel",
      "state": {
       "children": [
        "IPY_MODEL_5c85ad6c41fe4ac88633e56e7f388023",
        "IPY_MODEL_5875addf8aa84cc3bbc0a6c14b171aa7",
        "IPY_MODEL_1cbd69a3bef84a708c1838f5eb4c2445",
        "IPY_MODEL_a3d5c538df264995b48f2e2fdcd16823"
       ],
       "layout": "IPY_MODEL_ef7475917eef4b9693576a94218eab13"
      }
     },
     "b4f63d632b9e443391c61bec50705039": {
      "model_module": "@jupyter-widgets/controls",
      "model_module_version": "1.5.0",
      "model_name": "ButtonModel",
      "state": {
       "description": "Reset zoom",
       "layout": "IPY_MODEL_9f5620e2cc3c483a8f5e822cd81548d6",
       "style": "IPY_MODEL_b38b722b458646e5888dec6eef10fb1b"
      }
     },
     "b5874cb3f7484d388f9ee9049a7f39c4": {
      "model_module": "@jupyter-widgets/controls",
      "model_module_version": "1.5.0",
      "model_name": "SliderStyleModel",
      "state": {
       "description_width": "initial"
      }
     },
     "b5dcc619a7c7463a82d7cf70344ff7de": {
      "model_module": "@jupyter-widgets/controls",
      "model_module_version": "1.5.0",
      "model_name": "VBoxModel",
      "state": {
       "children": [
        "IPY_MODEL_b48fc3ef16fe413ab96a93bafe1a41d8",
        "IPY_MODEL_84b1800d4cdc42f3ab87a98c632807ec"
       ],
       "layout": "IPY_MODEL_0bd61645d7144f639210d9f907bafd19"
      }
     },
     "b5e63ec642fd46cb91461b41eea79c94": {
      "model_module": "@jupyter-widgets/base",
      "model_module_version": "1.2.0",
      "model_name": "LayoutModel",
      "state": {}
     },
     "b6477b2a3dd44dbfa8778d892919fec2": {
      "model_module": "@jupyter-widgets/controls",
      "model_module_version": "1.5.0",
      "model_name": "ToggleButtonModel",
      "state": {
       "description": "Show all ROIs",
       "layout": "IPY_MODEL_8c9b75016bb64a78aafa69a88aa61441",
       "style": "IPY_MODEL_2b4dd1a7a1874a4a9c1107b83f0e7466"
      }
     },
     "b6533122c20542f9945a7ad4546677f9": {
      "model_module": "@jupyter-widgets/base",
      "model_module_version": "1.2.0",
      "model_name": "LayoutModel",
      "state": {
       "height": "100%"
      }
     },
     "b67b19d85f4b45ec82da2b38371a5dde": {
      "model_module": "@jupyter-widgets/controls",
      "model_module_version": "1.5.0",
      "model_name": "HBoxModel",
      "state": {
       "children": [
        "IPY_MODEL_ae49a028b674434982ffb32bb867946e",
        "IPY_MODEL_24e133b5ede44dab93be8d30ee82fded"
       ],
       "layout": "IPY_MODEL_a49498da75e0473b86023f5eb6eec46d"
      }
     },
     "b763787200fc4ef3a1c2e957601e4922": {
      "model_module": "@jupyter-widgets/controls",
      "model_module_version": "1.5.0",
      "model_name": "DescriptionStyleModel",
      "state": {
       "description_width": ""
      }
     },
     "b7b9b2ee87794d589b7bbd7c9c2c73c3": {
      "model_module": "@jupyter-widgets/controls",
      "model_module_version": "1.5.0",
      "model_name": "CheckboxModel",
      "state": {
       "disabled": false,
       "indent": false,
       "layout": "IPY_MODEL_93b2ca582eec4fd49b35b8c4134597cb",
       "style": "IPY_MODEL_198a30f672df40989d89f72b5a315b33",
       "value": true
      }
     },
     "b8421482e5a34936a0f0b848e1a5e8b3": {
      "model_module": "@jupyter-widgets/base",
      "model_module_version": "1.2.0",
      "model_name": "LayoutModel",
      "state": {
       "height": "100%"
      }
     },
     "b87166d0127f4d0f861eb10f294dade4": {
      "model_module": "@jupyter-widgets/controls",
      "model_module_version": "1.5.0",
      "model_name": "ButtonModel",
      "state": {
       "description": "Save",
       "layout": "IPY_MODEL_e57fc1ac51c5449cb6ae8ae26e01d215",
       "style": "IPY_MODEL_73b841060da44814bd9cad459c4807fe",
       "tooltip": "Save figure to a file. Filetype automatically determined from filename."
      }
     },
     "b872b92c9fd147afa7bac0ee4b01b23b": {
      "model_module": "@jupyter-widgets/controls",
      "model_module_version": "1.5.0",
      "model_name": "DescriptionStyleModel",
      "state": {
       "description_width": ""
      }
     },
     "b88ef98971cb40208f96a26f4fcde75a": {
      "model_module": "@jupyter-widgets/base",
      "model_module_version": "1.2.0",
      "model_name": "LayoutModel",
      "state": {}
     },
     "b91beebbf79147c8a5b1aa206d6b045b": {
      "model_module": "@jupyter-widgets/base",
      "model_module_version": "1.2.0",
      "model_name": "LayoutModel",
      "state": {}
     },
     "b974f71d21924a5dbfe03aa5147c6d32": {
      "model_module": "@jupyter-widgets/base",
      "model_module_version": "1.2.0",
      "model_name": "LayoutModel",
      "state": {}
     },
     "b9a9330760d24703b216ef5bfc3bc48b": {
      "model_module": "@jupyter-widgets/controls",
      "model_module_version": "1.5.0",
      "model_name": "SliderStyleModel",
      "state": {
       "description_width": "initial"
      }
     },
     "ba6dff5155884055b9aaceb89eb26f06": {
      "model_module": "@jupyter-widgets/base",
      "model_module_version": "1.2.0",
      "model_name": "LayoutModel",
      "state": {
       "height": "100%"
      }
     },
     "bb32ec6007c24122a352914ef09ef1b9": {
      "model_module": "@jupyter-widgets/base",
      "model_module_version": "1.2.0",
      "model_name": "LayoutModel",
      "state": {
       "height": "100%"
      }
     },
     "bc19a3090a7b4c6bab465371b3452bef": {
      "model_module": "@jupyter-widgets/controls",
      "model_module_version": "1.5.0",
      "model_name": "SliderStyleModel",
      "state": {
       "description_width": "initial"
      }
     },
     "bd8295c31f1a436c9a867118b0364c6b": {
      "model_module": "@jupyter-widgets/base",
      "model_module_version": "1.2.0",
      "model_name": "LayoutModel",
      "state": {
       "height": "100%"
      }
     },
     "bd9cf9f0bd74400abfe4246eb9da4b30": {
      "model_module": "@jupyter-widgets/controls",
      "model_module_version": "1.5.0",
      "model_name": "DescriptionStyleModel",
      "state": {
       "description_width": ""
      }
     },
     "bdae776cb1074ccb8b6dc228179b4f39": {
      "model_module": "@jupyter-widgets/base",
      "model_module_version": "1.2.0",
      "model_name": "LayoutModel",
      "state": {
       "height": "100%"
      }
     },
     "bdf89b4472d740e18c0b27c80a33127a": {
      "model_module": "@jupyter-widgets/base",
      "model_module_version": "1.2.0",
      "model_name": "LayoutModel",
      "state": {}
     },
     "bdf9203dd4114d75a87ab77150158ca6": {
      "model_module": "@jupyter-widgets/controls",
      "model_module_version": "1.5.0",
      "model_name": "SliderStyleModel",
      "state": {
       "description_width": "initial"
      }
     },
     "be4310ef52e64947877a4a5aec0eb9ea": {
      "model_module": "@jupyter-widgets/base",
      "model_module_version": "1.2.0",
      "model_name": "LayoutModel",
      "state": {
       "height": "100%"
      }
     },
     "be74b1420c0b49b09bd8a2a8f0b4434a": {
      "model_module": "@jupyter-widgets/controls",
      "model_module_version": "1.5.0",
      "model_name": "DescriptionStyleModel",
      "state": {
       "description_width": "initial"
      }
     },
     "bea9252b9ebf4f0093e2863259991fe3": {
      "model_module": "@jupyter-widgets/base",
      "model_module_version": "1.2.0",
      "model_name": "LayoutModel",
      "state": {}
     },
     "bf101d6a04d843db9b02a14f379b800f": {
      "model_module": "@jupyter-widgets/base",
      "model_module_version": "1.2.0",
      "model_name": "LayoutModel",
      "state": {}
     },
     "c0e223b97f4c4b38a98de7b2f3eed649": {
      "model_module": "@jupyter-widgets/base",
      "model_module_version": "1.2.0",
      "model_name": "LayoutModel",
      "state": {}
     },
     "c23d4171c6fc490b8c5d7135473dd336": {
      "model_module": "@jupyter-widgets/base",
      "model_module_version": "1.2.0",
      "model_name": "LayoutModel",
      "state": {
       "height": "100%"
      }
     },
     "c27a708e648d40c58217319c59d73aaa": {
      "model_module": "@jupyter-widgets/base",
      "model_module_version": "1.2.0",
      "model_name": "LayoutModel",
      "state": {}
     },
     "c347673bcc394c668e8437c778e09837": {
      "model_module": "@jupyter-widgets/controls",
      "model_module_version": "1.5.0",
      "model_name": "CheckboxModel",
      "state": {
       "disabled": false,
       "indent": false,
       "layout": "IPY_MODEL_e91e92aeaad64705ac636eefd636fd76",
       "style": "IPY_MODEL_3a58d910d29a4c7aa7fd07ca1b151ed0",
       "value": true
      }
     },
     "c39694ebefe24d6cbd5bc196969dbaea": {
      "model_module": "@jupyter-widgets/controls",
      "model_module_version": "1.5.0",
      "model_name": "SliderStyleModel",
      "state": {
       "description_width": ""
      }
     },
     "c39fbdac3b3f4f8ea7844e5093fe0459": {
      "model_module": "@jupyter-widgets/controls",
      "model_module_version": "1.5.0",
      "model_name": "DescriptionStyleModel",
      "state": {
       "description_width": ""
      }
     },
     "c3cdb8db926540f4b7cd52f0bc59e1df": {
      "model_module": "@jupyter-widgets/controls",
      "model_module_version": "1.5.0",
      "model_name": "SliderStyleModel",
      "state": {
       "description_width": "initial"
      }
     },
     "c41766e2c3b4468e9f645cff86468b28": {
      "model_module": "@jupyter-widgets/controls",
      "model_module_version": "1.5.0",
      "model_name": "SliderStyleModel",
      "state": {
       "description_width": "initial"
      }
     },
     "c47dcb9e634e48618b216a1fbc471776": {
      "model_module": "@jupyter-widgets/controls",
      "model_module_version": "1.5.0",
      "model_name": "DescriptionStyleModel",
      "state": {
       "description_width": ""
      }
     },
     "c48c6d50896d406b948f31cc896fff54": {
      "model_module": "@jupyter-widgets/controls",
      "model_module_version": "1.5.0",
      "model_name": "HBoxModel",
      "state": {
       "children": [
        "IPY_MODEL_f993f5f1ef3a416c85a5296597b1be90",
        "IPY_MODEL_9348127e3e33436397a3b8cdb8d662d1"
       ],
       "layout": "IPY_MODEL_9e33d8e86120436b80d8e53b32348d14"
      }
     },
     "c4a3a852fafa4c6eaebf0f33077c46c5": {
      "model_module": "@jupyter-widgets/base",
      "model_module_version": "1.2.0",
      "model_name": "LayoutModel",
      "state": {}
     },
     "c528daff6236406f87221e496e6821db": {
      "model_module": "@jupyter-widgets/base",
      "model_module_version": "1.2.0",
      "model_name": "LayoutModel",
      "state": {}
     },
     "c5ed9044a4a6464cb7c68c76a1437b93": {
      "model_module": "@jupyter-widgets/base",
      "model_module_version": "1.2.0",
      "model_name": "LayoutModel",
      "state": {}
     },
     "c646a517d0a2411e86cb77ba214813e7": {
      "model_module": "@jupyter-widgets/controls",
      "model_module_version": "1.5.0",
      "model_name": "SliderStyleModel",
      "state": {
       "description_width": "initial"
      }
     },
     "c6ea73c42da84bcfa3e0b8fd551845e2": {
      "model_module": "@jupyter-widgets/controls",
      "model_module_version": "1.5.0",
      "model_name": "DescriptionStyleModel",
      "state": {
       "description_width": ""
      }
     },
     "c71ba6eb9d7344248232127c3e6d9fa1": {
      "model_module": "@jupyter-widgets/controls",
      "model_module_version": "1.5.0",
      "model_name": "CheckboxModel",
      "state": {
       "disabled": false,
       "indent": false,
       "layout": "IPY_MODEL_c73e2283567a433ba863d3ac0b3425b1",
       "style": "IPY_MODEL_500cd514f33543c281c45464c67488d1",
       "value": true
      }
     },
     "c73e2283567a433ba863d3ac0b3425b1": {
      "model_module": "@jupyter-widgets/base",
      "model_module_version": "1.2.0",
      "model_name": "LayoutModel",
      "state": {
       "height": "100%"
      }
     },
     "c764ab9088b14150855a89e44d4ceb14": {
      "model_module": "@jupyter-widgets/base",
      "model_module_version": "1.2.0",
      "model_name": "LayoutModel",
      "state": {}
     },
     "c780b5c9558b4ddd8f5ae02ebf5a9f11": {
      "model_module": "@jupyter-widgets/controls",
      "model_module_version": "1.5.0",
      "model_name": "ButtonStyleModel",
      "state": {}
     },
     "c7a5324e79ed4f8eaddd0ca6591e4cb6": {
      "model_module": "@jupyter-widgets/controls",
      "model_module_version": "1.5.0",
      "model_name": "CheckboxModel",
      "state": {
       "disabled": false,
       "indent": false,
       "layout": "IPY_MODEL_c8604bb238d9487587fa611318eaac28",
       "style": "IPY_MODEL_dc6e8b9bfcb04704ba3069432dbaf1f1",
       "value": true
      }
     },
     "c7d450ab8a5f40f8bbc37888f7d58858": {
      "model_module": "@jupyter-widgets/base",
      "model_module_version": "1.2.0",
      "model_name": "LayoutModel",
      "state": {}
     },
     "c84e043b1d3d412da8d61a1dcc4e9bf7": {
      "model_module": "@jupyter-widgets/controls",
      "model_module_version": "1.5.0",
      "model_name": "SliderStyleModel",
      "state": {
       "description_width": "initial"
      }
     },
     "c8604bb238d9487587fa611318eaac28": {
      "model_module": "@jupyter-widgets/base",
      "model_module_version": "1.2.0",
      "model_name": "LayoutModel",
      "state": {
       "height": "100%"
      }
     },
     "c884914560504d38b36eedf6914f0083": {
      "model_module": "@jupyter-widgets/controls",
      "model_module_version": "1.5.0",
      "model_name": "DescriptionStyleModel",
      "state": {
       "description_width": ""
      }
     },
     "c8b2f76bc3654cf598ae5db893d84748": {
      "model_module": "@jupyter-widgets/controls",
      "model_module_version": "1.5.0",
      "model_name": "FloatSliderModel",
      "state": {
       "continuous_update": false,
       "description": "Dose opacity",
       "layout": "IPY_MODEL_924c59ba36b640aab3db8cf8c1c8de80",
       "max": 1,
       "step": 0.05,
       "style": "IPY_MODEL_566fa715cb6f4529882d350b1bf4240f",
       "value": 0.5
      }
     },
     "c8c33786b0a24c1e8638c0c4f538c9c2": {
      "model_module": "@jupyter-widgets/base",
      "model_module_version": "1.2.0",
      "model_name": "LayoutModel",
      "state": {}
     },
     "c8d85e70fb5d4fddaeaf0e558adf8635": {
      "model_module": "@jupyter-widgets/controls",
      "model_module_version": "1.5.0",
      "model_name": "HBoxModel",
      "state": {
       "children": [
        "IPY_MODEL_3085f95d967c4917b7e9a223a1b99bdf",
        "IPY_MODEL_87a9a36a73bf43869e83a8ecf984debc"
       ],
       "layout": "IPY_MODEL_2f3ca1e7f77b4623943522b39cde3fcb"
      }
     },
     "c8e00f6c53f343b0ac639ea75687cf5c": {
      "model_module": "@jupyter-widgets/controls",
      "model_module_version": "1.5.0",
      "model_name": "HBoxModel",
      "state": {
       "layout": "IPY_MODEL_049ee073c83d48cf9687e98da273c9ad"
      }
     },
     "c90e042f215a42438f4fbf66ba8f2abf": {
      "model_module": "@jupyter-widgets/controls",
      "model_module_version": "1.5.0",
      "model_name": "SliderStyleModel",
      "state": {
       "description_width": "initial"
      }
     },
     "c92875db523c469e91acdac044cd6a19": {
      "model_module": "@jupyter-widgets/controls",
      "model_module_version": "1.5.0",
      "model_name": "VBoxModel",
      "state": {
       "layout": "IPY_MODEL_97b8485daab54bba87e6a71694df6174"
      }
     },
     "c9772528608043a3bdac8a927114d480": {
      "model_module": "@jupyter-widgets/controls",
      "model_module_version": "1.5.0",
      "model_name": "DescriptionStyleModel",
      "state": {
       "description_width": ""
      }
     },
     "c97a0b2581c74f27a8e625ae2d0f133f": {
      "model_module": "@jupyter-widgets/base",
      "model_module_version": "1.2.0",
      "model_name": "LayoutModel",
      "state": {}
     },
     "ca3d24ef64fb41e5b25ea11c892d89ef": {
      "model_module": "@jupyter-widgets/controls",
      "model_module_version": "1.5.0",
      "model_name": "DescriptionStyleModel",
      "state": {
       "description_width": ""
      }
     },
     "ca54c9986e3b4d2f8ceccc04f7f44b92": {
      "model_module": "@jupyter-widgets/controls",
      "model_module_version": "1.5.0",
      "model_name": "ToggleButtonModel",
      "state": {
       "description": "Hide all ROIs",
       "layout": "IPY_MODEL_9916b6a876ff487583da62a33e5ae9f9",
       "style": "IPY_MODEL_ea7ada9095244df69b5f5a45dd951d4e"
      }
     },
     "ca5f723eb4384b7c859d60a4b57e488d": {
      "model_module": "@jupyter-widgets/controls",
      "model_module_version": "1.5.0",
      "model_name": "HTMLModel",
      "state": {
       "layout": "IPY_MODEL_663baaa2ba414626a8dfc63873d43beb",
       "style": "IPY_MODEL_78f9b42e66264348a455899fd3097ac5",
       "value": "&nbsp;"
      }
     },
     "cb1209471bf14c2cb222360fba5b8ad5": {
      "model_module": "@jupyter-widgets/controls",
      "model_module_version": "1.5.0",
      "model_name": "DescriptionStyleModel",
      "state": {
       "description_width": ""
      }
     },
     "cc14d411e7674d7bb4914109ba836915": {
      "model_module": "@jupyter-widgets/base",
      "model_module_version": "1.2.0",
      "model_name": "LayoutModel",
      "state": {
       "height": "100%"
      }
     },
     "cc5571772e5944d8a4372ba5c0688007": {
      "model_module": "@jupyter-widgets/base",
      "model_module_version": "1.2.0",
      "model_name": "LayoutModel",
      "state": {}
     },
     "cc9143e904444f34af3d4afc90f4e360": {
      "model_module": "@jupyter-widgets/controls",
      "model_module_version": "1.5.0",
      "model_name": "DropdownModel",
      "state": {
       "_options_labels": [
        "majority",
        "sum",
        "overlap",
        "staple"
       ],
       "description": "Consensus type",
       "index": 0,
       "layout": "IPY_MODEL_db034a2538ff4a5ba4eb2824fc3b134e",
       "style": "IPY_MODEL_67c42f6d00eb40ad9eae0added0ab76f"
      }
     },
     "ccac065bda0e4a9b8446cddae9dda69d": {
      "model_module": "@jupyter-widgets/controls",
      "model_module_version": "1.5.0",
      "model_name": "DescriptionStyleModel",
      "state": {
       "description_width": ""
      }
     },
     "ccdc2788ed33403c82f859e2f0124fa2": {
      "model_module": "@jupyter-widgets/controls",
      "model_module_version": "1.5.0",
      "model_name": "CheckboxModel",
      "state": {
       "disabled": false,
       "indent": false,
       "layout": "IPY_MODEL_a87476bbd06e4a8aa7ebbe7fac15a4a2",
       "style": "IPY_MODEL_bd9cf9f0bd74400abfe4246eb9da4b30",
       "value": true
      }
     },
     "cce609ed18a04f498ce6bda81a91f530": {
      "model_module": "@jupyter-widgets/base",
      "model_module_version": "1.2.0",
      "model_name": "LayoutModel",
      "state": {
       "height": "100%"
      }
     },
     "cd3bafbeadc644b08fe7d31751a30ccd": {
      "model_module": "@jupyter-widgets/controls",
      "model_module_version": "1.5.0",
      "model_name": "VBoxModel",
      "state": {
       "children": [
        "IPY_MODEL_8309288b958048e999b7bd7256cc5dea",
        "IPY_MODEL_9f4ac5a2d18d4eeaa4376e21760d00f4",
        "IPY_MODEL_01bec2e70de0406aa24114d9c97b0c39",
        "IPY_MODEL_3d407dcef10b451482fd320232ffd702",
        "IPY_MODEL_876fe4000063459aacdcc1e2e58a1260"
       ],
       "layout": "IPY_MODEL_ac1eb83c4ee343abb93bab16ca774507"
      }
     },
     "cda055f710fb4b1693c008cf5016ace4": {
      "model_module": "@jupyter-widgets/controls",
      "model_module_version": "1.5.0",
      "model_name": "CheckboxModel",
      "state": {
       "description": "Plot consensus",
       "disabled": false,
       "layout": "IPY_MODEL_471954e07d3d4054b03c69ca759c7aab",
       "style": "IPY_MODEL_b763787200fc4ef3a1c2e957601e4922",
       "value": true
      }
     },
     "cde82008a31748e5a45f4606e94766b3": {
      "model_module": "@jupyter-widgets/controls",
      "model_module_version": "1.5.0",
      "model_name": "DescriptionStyleModel",
      "state": {
       "description_width": "initial"
      }
     },
     "ceb6b28eae5a4210aa2393577bd6f58f": {
      "model_module": "@jupyter-widgets/controls",
      "model_module_version": "1.5.0",
      "model_name": "VBoxModel",
      "state": {
       "children": [
        "IPY_MODEL_3fbea5d78eb34c319b9e8f58bc4dd59c",
        "IPY_MODEL_5585645c217d48db9661f87b939b8da7",
        "IPY_MODEL_227c234510f84216867f2f526f36d4f5",
        "IPY_MODEL_0482b5becc4447e0855ce622304e194f",
        "IPY_MODEL_1fe7d12af1934263b7c73382d0db9ac3",
        "IPY_MODEL_707fff7b894a4b06b52e4ba9c1c321e0",
        "IPY_MODEL_795f303ec94647f8a38a80697150ed1d",
        "IPY_MODEL_f5dda915662d42f3afde6d3760d10870"
       ],
       "layout": "IPY_MODEL_61ec8fc2db3c4dd9ab36a79f3b493e5a"
      }
     },
     "cf4e6230631541d8aedc3ab7bd8ac715": {
      "model_module": "@jupyter-widgets/controls",
      "model_module_version": "1.5.0",
      "model_name": "DescriptionStyleModel",
      "state": {
       "description_width": ""
      }
     },
     "cf746d7ef0934bd0a966f0689ba9ca3e": {
      "model_module": "@jupyter-widgets/controls",
      "model_module_version": "1.5.0",
      "model_name": "CheckboxModel",
      "state": {
       "disabled": false,
       "indent": false,
       "layout": "IPY_MODEL_4e10ce1d30274c7e8fdc3109a7a964a0",
       "style": "IPY_MODEL_62a21f53554b4f0ba23b418718320321",
       "value": true
      }
     },
     "cf7742276bf34dffbf6436726874c1a3": {
      "model_module": "@jupyter-widgets/base",
      "model_module_version": "1.2.0",
      "model_name": "LayoutModel",
      "state": {}
     },
     "cfb62fd81a444f28852b184a4ff4cdab": {
      "model_module": "@jupyter-widgets/base",
      "model_module_version": "1.2.0",
      "model_name": "LayoutModel",
      "state": {}
     },
     "d196d142b7974c4382be8bea3b759826": {
      "model_module": "@jupyter-widgets/controls",
      "model_module_version": "1.5.0",
      "model_name": "CheckboxModel",
      "state": {
       "disabled": false,
       "indent": false,
       "layout": "IPY_MODEL_054fb385a5db4ac0a8c6fafd2690808c",
       "style": "IPY_MODEL_7edb445e2ff346dd9d4bcda20f04ae24",
       "value": true
      }
     },
     "d1bc3e1d038744d2adf95eeeebb86eb4": {
      "model_module": "@jupyter-widgets/base",
      "model_module_version": "1.2.0",
      "model_name": "LayoutModel",
      "state": {}
     },
     "d1dfcc0bf686454aa2232f5c1b997564": {
      "model_module": "@jupyter-widgets/controls",
      "model_module_version": "1.5.0",
      "model_name": "CheckboxModel",
      "state": {
       "disabled": false,
       "indent": false,
       "layout": "IPY_MODEL_755bd3c65b284c2fb64143e5d7bd2560",
       "style": "IPY_MODEL_1969c1fbe3844db7a8b3fe320527c74d",
       "value": true
      }
     },
     "d29a094f30274c9b8db67cff6c431456": {
      "model_module": "@jupyter-widgets/controls",
      "model_module_version": "1.5.0",
      "model_name": "SliderStyleModel",
      "state": {
       "description_width": "initial"
      }
     },
     "d2c9a236e63f4a25941bfc0a165804cc": {
      "model_module": "@jupyter-widgets/controls",
      "model_module_version": "1.5.0",
      "model_name": "ButtonStyleModel",
      "state": {}
     },
     "d307c5aa22c944ef8a9221a17df1abee": {
      "model_module": "@jupyter-widgets/base",
      "model_module_version": "1.2.0",
      "model_name": "LayoutModel",
      "state": {}
     },
     "d333fdd4ad1747b39cb0fe4cf8ff507d": {
      "model_module": "@jupyter-widgets/controls",
      "model_module_version": "1.5.0",
      "model_name": "ButtonModel",
      "state": {
       "description": "Reset zoom",
       "layout": "IPY_MODEL_2f6514eae5914d4b9670e797d0d2ca3a",
       "style": "IPY_MODEL_d2c9a236e63f4a25941bfc0a165804cc"
      }
     },
     "d345fa3bb92f44aaa01cece889718cdc": {
      "model_module": "@jupyter-widgets/controls",
      "model_module_version": "1.5.0",
      "model_name": "FloatSliderModel",
      "state": {
       "continuous_update": false,
       "description": "Grid opacity",
       "layout": "IPY_MODEL_2ed9bb5c4f2741bfb9973c033f2a4439",
       "max": 1,
       "step": 0.05,
       "style": "IPY_MODEL_05be0783401a47e48c2a20801e3f203a",
       "value": 1
      }
     },
     "d362ab3093304636b7c23cfe3d37a298": {
      "model_module": "@jupyter-widgets/base",
      "model_module_version": "1.2.0",
      "model_name": "LayoutModel",
      "state": {}
     },
     "d3977072111149a2a719b5a162934b91": {
      "model_module": "@jupyter-widgets/controls",
      "model_module_version": "1.5.0",
      "model_name": "DescriptionStyleModel",
      "state": {
       "description_width": ""
      }
     },
     "d39f65b951f5434e9e01563473183492": {
      "model_module": "@jupyter-widgets/controls",
      "model_module_version": "1.5.0",
      "model_name": "DescriptionStyleModel",
      "state": {
       "description_width": ""
      }
     },
     "d43be81fa28c4442a27eb4d9150e701d": {
      "model_module": "@jupyter-widgets/controls",
      "model_module_version": "1.5.0",
      "model_name": "VBoxModel",
      "state": {
       "children": [
        "IPY_MODEL_3fbea5d78eb34c319b9e8f58bc4dd59c",
        "IPY_MODEL_5585645c217d48db9661f87b939b8da7",
        "IPY_MODEL_227c234510f84216867f2f526f36d4f5",
        "IPY_MODEL_0482b5becc4447e0855ce622304e194f",
        "IPY_MODEL_1fe7d12af1934263b7c73382d0db9ac3",
        "IPY_MODEL_707fff7b894a4b06b52e4ba9c1c321e0",
        "IPY_MODEL_795f303ec94647f8a38a80697150ed1d",
        "IPY_MODEL_f5dda915662d42f3afde6d3760d10870"
       ],
       "layout": "IPY_MODEL_ec2c0cec75744406a77a7f906d36690a"
      }
     },
     "d471f253202e40eda2c4763bc41f0eb1": {
      "model_module": "@jupyter-widgets/base",
      "model_module_version": "1.2.0",
      "model_name": "LayoutModel",
      "state": {}
     },
     "d472207b2728451e8c30d01a4c5e4ef3": {
      "model_module": "@jupyter-widgets/controls",
      "model_module_version": "1.5.0",
      "model_name": "VBoxModel",
      "state": {
       "children": [
        "IPY_MODEL_ef6a39086e6c4136b66162db014a4262"
       ],
       "layout": "IPY_MODEL_3f23555ebd594bb0bd7cfa551d9566fc"
      }
     },
     "d4d2e2598cb248969c74ef822152f53e": {
      "model_module": "@jupyter-widgets/controls",
      "model_module_version": "1.5.0",
      "model_name": "CheckboxModel",
      "state": {
       "description": "Apply mask",
       "disabled": false,
       "indent": false,
       "layout": "IPY_MODEL_9e0b5658ec2e42ce9886c26d4df7d47b",
       "style": "IPY_MODEL_ca3d24ef64fb41e5b25ea11c892d89ef",
       "value": true
      }
     },
     "d4e2fc33098b488581df839a3ee4474c": {
      "model_module": "@jupyter-widgets/controls",
      "model_module_version": "1.5.0",
      "model_name": "CheckboxModel",
      "state": {
       "description": "Invert mask",
       "disabled": false,
       "indent": false,
       "layout": "IPY_MODEL_359c19895e834e3f855c9a0d8471a589",
       "style": "IPY_MODEL_54587b9908774594873524c8a236cb45",
       "value": false
      }
     },
     "d4e57d79c10644de9fc537b2e96c8fb0": {
      "model_module": "@jupyter-widgets/base",
      "model_module_version": "1.2.0",
      "model_name": "LayoutModel",
      "state": {}
     },
     "d5ddbc1c32884fb2acc9766501f19c42": {
      "model_module": "@jupyter-widgets/base",
      "model_module_version": "1.2.0",
      "model_name": "LayoutModel",
      "state": {}
     },
     "d6778648d766402c92f6fd384d878679": {
      "model_module": "@jupyter-widgets/controls",
      "model_module_version": "1.5.0",
      "model_name": "FloatSliderModel",
      "state": {
       "continuous_update": false,
       "description": "Overlay opacity",
       "layout": "IPY_MODEL_7b71f93c15774b87840b2a8e60a81016",
       "max": 1,
       "readout_format": ".1f",
       "step": 0.1,
       "style": "IPY_MODEL_bdf9203dd4114d75a87ab77150158ca6",
       "value": 0.5
      }
     },
     "d6ab2291f020404d93e28358645a3ae8": {
      "model_module": "@jupyter-widgets/controls",
      "model_module_version": "1.5.0",
      "model_name": "DescriptionStyleModel",
      "state": {
       "description_width": ""
      }
     },
     "d849a763aae7475d88769434e58b1163": {
      "model_module": "@jupyter-widgets/controls",
      "model_module_version": "1.5.0",
      "model_name": "CheckboxModel",
      "state": {
       "disabled": false,
       "indent": false,
       "layout": "IPY_MODEL_97883dd27d944e58becfc1d2fcc36795",
       "style": "IPY_MODEL_2b985195f44f4b64968f2e670b1846f2",
       "value": true
      }
     },
     "d8d93bfaa31d436f9881ae37040b7f70": {
      "model_module": "@jupyter-widgets/controls",
      "model_module_version": "1.5.0",
      "model_name": "DescriptionStyleModel",
      "state": {
       "description_width": "initial"
      }
     },
     "d914a24a875c4885bcb4e7313b516e44": {
      "model_module": "@jupyter-widgets/controls",
      "model_module_version": "1.5.0",
      "model_name": "TextModel",
      "state": {
       "description": "Save plot as:",
       "layout": "IPY_MODEL_1992b98201c942088f43b8c79ea00ef9",
       "style": "IPY_MODEL_b1a52545f05d45b992c9fc8b571449ac"
      }
     },
     "d967b98656df4742b827e867cd9d6e5e": {
      "model_module": "@jupyter-widgets/base",
      "model_module_version": "1.2.0",
      "model_name": "LayoutModel",
      "state": {}
     },
     "dac460fd83474b46a6f7f8f8cf11c5d3": {
      "model_module": "@jupyter-widgets/controls",
      "model_module_version": "1.5.0",
      "model_name": "SliderStyleModel",
      "state": {
       "description_width": "initial"
      }
     },
     "daf35dbae4da4a499e513e7c6d47f011": {
      "model_module": "@jupyter-widgets/controls",
      "model_module_version": "1.5.0",
      "model_name": "DescriptionStyleModel",
      "state": {
       "description_width": ""
      }
     },
     "db034a2538ff4a5ba4eb2824fc3b134e": {
      "model_module": "@jupyter-widgets/base",
      "model_module_version": "1.2.0",
      "model_name": "LayoutModel",
      "state": {}
     },
     "db5952d9927340e783772d0809190d5b": {
      "model_module": "@jupyter-widgets/base",
      "model_module_version": "1.2.0",
      "model_name": "LayoutModel",
      "state": {}
     },
     "dbb346579f9149efa58029dcc7f1d799": {
      "model_module": "@jupyter-widgets/controls",
      "model_module_version": "1.5.0",
      "model_name": "DescriptionStyleModel",
      "state": {
       "description_width": ""
      }
     },
     "dbeca86266ff4fbbb3cd9dddf0f9d6e2": {
      "model_module": "@jupyter-widgets/controls",
      "model_module_version": "1.5.0",
      "model_name": "DescriptionStyleModel",
      "state": {
       "description_width": ""
      }
     },
     "dc30749eb1de40ee8aff7ea088332b7c": {
      "model_module": "@jupyter-widgets/base",
      "model_module_version": "1.2.0",
      "model_name": "LayoutModel",
      "state": {
       "height": "100%"
      }
     },
     "dc52159b0c44418b8e9889694b9691d1": {
      "model_module": "@jupyter-widgets/base",
      "model_module_version": "1.2.0",
      "model_name": "LayoutModel",
      "state": {
       "height": "100%"
      }
     },
     "dc6e8b9bfcb04704ba3069432dbaf1f1": {
      "model_module": "@jupyter-widgets/controls",
      "model_module_version": "1.5.0",
      "model_name": "DescriptionStyleModel",
      "state": {
       "description_width": ""
      }
     },
     "dc722bf0d95e433184cf5f653231fd4c": {
      "model_module": "@jupyter-widgets/base",
      "model_module_version": "1.2.0",
      "model_name": "LayoutModel",
      "state": {}
     },
     "dc7e832c8a324f539ced0e58e9f3e2ee": {
      "model_module": "@jupyter-widgets/controls",
      "model_module_version": "1.5.0",
      "model_name": "FloatSliderModel",
      "state": {
       "continuous_update": false,
       "description": "Dose opacity",
       "layout": "IPY_MODEL_f5e5b1d8677242d5ac6cf434001d5709",
       "max": 1,
       "step": 0.05,
       "style": "IPY_MODEL_27b44d8da15f4244afe8eeffdf402d1b",
       "value": 0.5
      }
     },
     "dcaac14e6bc243698e7c9477d0faad14": {
      "model_module": "@jupyter-widgets/controls",
      "model_module_version": "1.5.0",
      "model_name": "VBoxModel",
      "state": {
       "layout": "IPY_MODEL_cfb62fd81a444f28852b184a4ff4cdab"
      }
     },
     "dd1987392ca5429697d752b731020664": {
      "model_module": "@jupyter-widgets/base",
      "model_module_version": "1.2.0",
      "model_name": "LayoutModel",
      "state": {}
     },
     "dd2547418fbd4f1bb1bc27caf69971ef": {
      "model_module": "@jupyter-widgets/controls",
      "model_module_version": "1.5.0",
      "model_name": "DescriptionStyleModel",
      "state": {
       "description_width": ""
      }
     },
     "dd8da7c393ab43e99bbb9a15aa7677fb": {
      "model_module": "@jupyter-widgets/controls",
      "model_module_version": "1.5.0",
      "model_name": "SliderStyleModel",
      "state": {
       "description_width": "initial"
      }
     },
     "ddaee024215943dca4e20514ca259b7a": {
      "model_module": "@jupyter-widgets/controls",
      "model_module_version": "1.5.0",
      "model_name": "FloatSliderModel",
      "state": {
       "continuous_update": false,
       "description": "Grid opacity",
       "layout": "IPY_MODEL_fa8ccd74980145b796d84244f0cd18be",
       "max": 1,
       "step": 0.05,
       "style": "IPY_MODEL_f3df99c9c10841d2b7c2702f8fa69261",
       "value": 1
      }
     },
     "de7d2d279ebf416aaaaf00b2af5e2655": {
      "model_module": "@jupyter-widgets/base",
      "model_module_version": "1.2.0",
      "model_name": "LayoutModel",
      "state": {}
     },
     "dece71ecf355443b8349c07f99527643": {
      "model_module": "@jupyter-widgets/base",
      "model_module_version": "1.2.0",
      "model_name": "LayoutModel",
      "state": {}
     },
     "deea54e67ff640999377924b0b4bdcb3": {
      "model_module": "@jupyter-widgets/base",
      "model_module_version": "1.2.0",
      "model_name": "LayoutModel",
      "state": {
       "height": "100%"
      }
     },
     "dfc048c5b51a494bae43a0d526c7cf2f": {
      "model_module": "@jupyter-widgets/base",
      "model_module_version": "1.2.0",
      "model_name": "LayoutModel",
      "state": {
       "height": "100%"
      }
     },
     "e00a65d060b54c4ea036e77c3d506d0e": {
      "model_module": "@jupyter-widgets/controls",
      "model_module_version": "1.5.0",
      "model_name": "DropdownModel",
      "state": {
       "_options_labels": [
        "quiver",
        "grid",
        "x-displacement",
        "y-displacement",
        "z-displacement",
        "3d-displacement",
        "none"
       ],
       "description": "Deformation field",
       "index": 0,
       "layout": "IPY_MODEL_e7bece8f21b54f15bdcb0e541715616a",
       "style": "IPY_MODEL_f241b83a8e624352bb4c9f57d62f6b0c"
      }
     },
     "e0422ad4da52475e8969c2dbbcc99d06": {
      "model_module": "@jupyter-widgets/controls",
      "model_module_version": "1.5.0",
      "model_name": "DescriptionStyleModel",
      "state": {
       "description_width": ""
      }
     },
     "e0450c0cac044c57986f77b6c31ceb6b": {
      "model_module": "@jupyter-widgets/controls",
      "model_module_version": "1.5.0",
      "model_name": "CheckboxModel",
      "state": {
       "disabled": false,
       "indent": false,
       "layout": "IPY_MODEL_3abacee7d37349e7a23bbbd311fd4b75",
       "style": "IPY_MODEL_c6ea73c42da84bcfa3e0b8fd551845e2",
       "value": true
      }
     },
     "e09affd007d6472f9935c7d50f7755f1": {
      "model_module": "@jupyter-widgets/controls",
      "model_module_version": "1.5.0",
      "model_name": "DescriptionStyleModel",
      "state": {
       "description_width": ""
      }
     },
     "e0b9e53f76e24ab7b2d1037cc778f5ce": {
      "model_module": "@jupyter-widgets/controls",
      "model_module_version": "1.5.0",
      "model_name": "ToggleButtonModel",
      "state": {
       "description": "Hide all ROIs",
       "layout": "IPY_MODEL_37e1004b55634615aa1460eaaa663d03",
       "style": "IPY_MODEL_ab433e444deb4cf2b8e0ecf31db0da49"
      }
     },
     "e0c669601d5d42fd953afe1615e342a4": {
      "model_module": "@jupyter-widgets/controls",
      "model_module_version": "1.5.0",
      "model_name": "CheckboxModel",
      "state": {
       "description": "Invert mask",
       "disabled": false,
       "indent": false,
       "layout": "IPY_MODEL_9d026821da9b4492a34f0cb851231c89",
       "style": "IPY_MODEL_04bcf26a2157401c803f7620a41fedaf",
       "value": false
      }
     },
     "e1021991d1b54b96a95fa8362514a884": {
      "model_module": "@jupyter-widgets/base",
      "model_module_version": "1.2.0",
      "model_name": "LayoutModel",
      "state": {}
     },
     "e11ac76e6b084543ad9ee106fabd27b7": {
      "model_module": "@jupyter-widgets/controls",
      "model_module_version": "1.5.0",
      "model_name": "SliderStyleModel",
      "state": {
       "description_width": "initial"
      }
     },
     "e12efb5d79154262b1882f75ab65bc8b": {
      "model_module": "@jupyter-widgets/controls",
      "model_module_version": "1.5.0",
      "model_name": "CheckboxModel",
      "state": {
       "description": "Apply mask",
       "disabled": false,
       "indent": false,
       "layout": "IPY_MODEL_9b030fe3dfb04cbfab4af7254d25095e",
       "style": "IPY_MODEL_e0422ad4da52475e8969c2dbbcc99d06",
       "value": true
      }
     },
     "e1646ee1b068404a98d165a214b993d3": {
      "model_module": "@jupyter-widgets/controls",
      "model_module_version": "1.5.0",
      "model_name": "FloatSliderModel",
      "state": {
       "continuous_update": false,
       "description": "Jacobian opacity",
       "layout": "IPY_MODEL_24b987d09ac74c61b26f54d04ef0c1df",
       "max": 1,
       "step": 0.05,
       "style": "IPY_MODEL_c90e042f215a42438f4fbf66ba8f2abf",
       "value": 0.8
      }
     },
     "e2e52d263c9045abbedbd93bab13d387": {
      "model_module": "@jupyter-widgets/base",
      "model_module_version": "1.2.0",
      "model_name": "LayoutModel",
      "state": {}
     },
     "e3f3ac3a4e0c4955a7d2be5280e2c2dd": {
      "model_module": "@jupyter-widgets/controls",
      "model_module_version": "1.5.0",
      "model_name": "VBoxModel",
      "state": {
       "children": [
        "IPY_MODEL_7a4b847b8d8b4c90a99d89425706a018",
        "IPY_MODEL_089af6d29e854f8cb51f8128cf003392"
       ],
       "layout": "IPY_MODEL_1b447ba161a5413e90bb7c14eca8f537"
      }
     },
     "e4482a55b0f5447a899dbee5d973f593": {
      "model_module": "@jupyter-widgets/controls",
      "model_module_version": "1.5.0",
      "model_name": "HBoxModel",
      "state": {
       "children": [
        "IPY_MODEL_93c3ca202e84483f848d0b3689de09e0",
        "IPY_MODEL_84fb7f3c09d54827a6f1f60b1775a32c"
       ],
       "layout": "IPY_MODEL_b91beebbf79147c8a5b1aa206d6b045b"
      }
     },
     "e57fc1ac51c5449cb6ae8ae26e01d215": {
      "model_module": "@jupyter-widgets/base",
      "model_module_version": "1.2.0",
      "model_name": "LayoutModel",
      "state": {}
     },
     "e7bece8f21b54f15bdcb0e541715616a": {
      "model_module": "@jupyter-widgets/base",
      "model_module_version": "1.2.0",
      "model_name": "LayoutModel",
      "state": {}
     },
     "e819b7252d8f4e00b292577d239bea1e": {
      "model_module": "@jupyter-widgets/base",
      "model_module_version": "1.2.0",
      "model_name": "LayoutModel",
      "state": {}
     },
     "e827b072a18641e89508c3c36ba83a7a": {
      "model_module": "@jupyter-widgets/controls",
      "model_module_version": "1.5.0",
      "model_name": "DescriptionStyleModel",
      "state": {
       "description_width": ""
      }
     },
     "e8869c41148b4538aacab380077b676e": {
      "model_module": "@jupyter-widgets/controls",
      "model_module_version": "1.5.0",
      "model_name": "DescriptionStyleModel",
      "state": {
       "description_width": ""
      }
     },
     "e8ce84da25b54813b7d0dd082f2e88c3": {
      "model_module": "@jupyter-widgets/controls",
      "model_module_version": "1.5.0",
      "model_name": "DescriptionStyleModel",
      "state": {
       "description_width": "initial"
      }
     },
     "e8d5df250e754b31a658d48156699638": {
      "model_module": "@jupyter-widgets/controls",
      "model_module_version": "1.5.0",
      "model_name": "HBoxModel",
      "state": {
       "children": [
        "IPY_MODEL_ceb6b28eae5a4210aa2393577bd6f58f",
        "IPY_MODEL_cd3bafbeadc644b08fe7d31751a30ccd",
        "IPY_MODEL_abe2e27774a447bb9089f2ffe952dae0",
        "IPY_MODEL_56a0826a9f1c4f31ba0ac371889a3862"
       ],
       "layout": "IPY_MODEL_db5952d9927340e783772d0809190d5b"
      }
     },
     "e91e92aeaad64705ac636eefd636fd76": {
      "model_module": "@jupyter-widgets/base",
      "model_module_version": "1.2.0",
      "model_name": "LayoutModel",
      "state": {
       "height": "100%"
      }
     },
     "e92b6a89f11d4837867adc767b3c75e1": {
      "model_module": "@jupyter-widgets/controls",
      "model_module_version": "1.5.0",
      "model_name": "RadioButtonsModel",
      "state": {
       "_options_labels": [
        "x-y",
        "y-z",
        "x-z"
       ],
       "description": "Slice plane selection:",
       "index": 0,
       "layout": "IPY_MODEL_6375b47748c545c991473a0cc16a11af",
       "style": "IPY_MODEL_1c3b754510d14206aa398c6c52e3593c"
      }
     },
     "e9e41fea862442a1b1c751493fc5883a": {
      "model_module": "@jupyter-widgets/controls",
      "model_module_version": "1.5.0",
      "model_name": "VBoxModel",
      "state": {
       "children": [
        "IPY_MODEL_ef6a39086e6c4136b66162db014a4262",
        "IPY_MODEL_c48c6d50896d406b948f31cc896fff54"
       ],
       "layout": "IPY_MODEL_6502592d67ec45e3abdc2022cd70f471"
      }
     },
     "ea7ada9095244df69b5f5a45dd951d4e": {
      "model_module": "@jupyter-widgets/controls",
      "model_module_version": "1.5.0",
      "model_name": "DescriptionStyleModel",
      "state": {
       "description_width": ""
      }
     },
     "eae84650cb8c42fc922c1410cfe917dc": {
      "model_module": "@jupyter-widgets/controls",
      "model_module_version": "1.5.0",
      "model_name": "FloatSliderModel",
      "state": {
       "continuous_update": false,
       "description": "Zoom",
       "layout": "IPY_MODEL_b1b6b69a8841404fbe6a025cc92a25da",
       "max": 8,
       "min": 1,
       "readout_format": ".1f",
       "step": 0.1,
       "style": "IPY_MODEL_d29a094f30274c9b8db67cff6c431456",
       "value": 1
      }
     },
     "ec2c0cec75744406a77a7f906d36690a": {
      "model_module": "@jupyter-widgets/base",
      "model_module_version": "1.2.0",
      "model_name": "LayoutModel",
      "state": {}
     },
     "ec734825ca0b4507bfe544941cd8fa6d": {
      "model_module": "@jupyter-widgets/base",
      "model_module_version": "1.2.0",
      "model_name": "LayoutModel",
      "state": {
       "height": "100%"
      }
     },
     "ecc7e3e54d4542e78608a0b470807028": {
      "model_module": "@jupyter-widgets/controls",
      "model_module_version": "1.5.0",
      "model_name": "CheckboxModel",
      "state": {
       "disabled": false,
       "indent": false,
       "layout": "IPY_MODEL_b6533122c20542f9945a7ad4546677f9",
       "style": "IPY_MODEL_43646314552e41378fd71fc64d39efb5",
       "value": true
      }
     },
     "ed1ecdf2a70f44cca049bd4d619b4116": {
      "model_module": "@jupyter-widgets/base",
      "model_module_version": "1.2.0",
      "model_name": "LayoutModel",
      "state": {}
     },
     "edb36ad66ebb4bc297a4c982a872e69f": {
      "model_module": "@jupyter-widgets/controls",
      "model_module_version": "1.5.0",
      "model_name": "IntSliderModel",
      "state": {
       "continuous_update": false,
       "description": "Chequerboard splits",
       "layout": "IPY_MODEL_901483096dd14355a3f36d605945df72",
       "max": 15,
       "min": 2,
       "style": "IPY_MODEL_6f3ffa68667441f08d7947ca03b7469b",
       "value": 8
      }
     },
     "ede56504e20b4b658597bc589a485f63": {
      "model_module": "@jupyter-widgets/base",
      "model_module_version": "1.2.0",
      "model_name": "LayoutModel",
      "state": {}
     },
     "ee5488987c3d449dbcdb38cc5c8784f1": {
      "model_module": "@jupyter-widgets/controls",
      "model_module_version": "1.5.0",
      "model_name": "RadioButtonsModel",
      "state": {
       "_options_labels": [
        "x-y",
        "y-z",
        "x-z"
       ],
       "description": "Slice plane selection:",
       "index": 0,
       "layout": "IPY_MODEL_ed1ecdf2a70f44cca049bd4d619b4116",
       "style": "IPY_MODEL_7cb65c37ce764daa9d2cccd98f1d3943"
      }
     },
     "ee7083020c9147e9871db6fb5c07b018": {
      "model_module": "@jupyter-widgets/controls",
      "model_module_version": "1.5.0",
      "model_name": "VBoxModel",
      "state": {
       "children": [
        "IPY_MODEL_26c9f8a60b834b47a7b9a14879847197",
        "IPY_MODEL_ff8d7839dc53428fa2e7e52d85922e27"
       ],
       "layout": "IPY_MODEL_87b59db2ee234da8abaaaa2ef2859350"
      }
     },
     "ee74b69d6d65430296b6e7ca8d6ff3c1": {
      "model_module": "@jupyter-widgets/controls",
      "model_module_version": "1.5.0",
      "model_name": "HBoxModel",
      "state": {
       "children": [
        "IPY_MODEL_fbb9e5f3bfdd4d03be0d7e8d3fb01d74",
        "IPY_MODEL_f2d739e856144724aeec2ac60dad8594"
       ],
       "layout": "IPY_MODEL_d471f253202e40eda2c4763bc41f0eb1"
      }
     },
     "ee7b9969a3224b2b98f26f19643fbfe7": {
      "model_module": "@jupyter-widgets/controls",
      "model_module_version": "1.5.0",
      "model_name": "CheckboxModel",
      "state": {
       "disabled": false,
       "indent": false,
       "layout": "IPY_MODEL_369cab6e07094b1788cb3339d75ce823",
       "style": "IPY_MODEL_9ef7a0b1048f4103845f1c41ecb8aacd",
       "value": true
      }
     },
     "ee971be50662400398f98046551db95c": {
      "model_module": "@jupyter-widgets/controls",
      "model_module_version": "1.5.0",
      "model_name": "CheckboxModel",
      "state": {
       "disabled": false,
       "indent": false,
       "layout": "IPY_MODEL_1446642d42e24dcbb99d0bf1e7bc9426",
       "style": "IPY_MODEL_d3977072111149a2a719b5a162934b91",
       "value": true
      }
     },
     "eeb22480dd8c49e7894c519fd41af14c": {
      "model_module": "@jupyter-widgets/controls",
      "model_module_version": "1.5.0",
      "model_name": "DescriptionStyleModel",
      "state": {
       "description_width": ""
      }
     },
     "ef6a39086e6c4136b66162db014a4262": {
      "model_module": "@jupyter-widgets/controls",
      "model_module_version": "1.5.0",
      "model_name": "HBoxModel",
      "state": {
       "children": [
        "IPY_MODEL_33eb3f09cd6d4d2cbbf934a36d8bbd4f",
        "IPY_MODEL_8e63c202d49f46d6b8cbd8d565eeddc1"
       ],
       "layout": "IPY_MODEL_a03c97835ce74f1f981b4519ec6b006c"
      }
     },
     "ef7475917eef4b9693576a94218eab13": {
      "model_module": "@jupyter-widgets/base",
      "model_module_version": "1.2.0",
      "model_name": "LayoutModel",
      "state": {}
     },
     "ef94429d7bde4b8e904ed495c67c6009": {
      "model_module": "@jupyter-widgets/controls",
      "model_module_version": "1.5.0",
      "model_name": "DescriptionStyleModel",
      "state": {
       "description_width": ""
      }
     },
     "eff8ec92290f42e981d470601ea94f49": {
      "model_module": "@jupyter-widgets/controls",
      "model_module_version": "1.5.0",
      "model_name": "VBoxModel",
      "state": {
       "children": [
        "IPY_MODEL_ca5f723eb4384b7c859d60a4b57e488d",
        "IPY_MODEL_a4555c75f69b4bf2b4eb48de7b0f845c",
        "IPY_MODEL_72bacaa282694ad7b9d7c5ec41eb66cd",
        "IPY_MODEL_5c1a34af0121491cba746d75a6f99595",
        "IPY_MODEL_0d721c5c57c744a49db9f15e2fac52d9",
        "IPY_MODEL_a8caba638a834381905289f83d8ed344",
        "IPY_MODEL_239aedc8d65940e2a82aeb9ddb89597a",
        "IPY_MODEL_7986857adc7c4cd0b00808bb92f6729d",
        "IPY_MODEL_9e011cefe7f6448188f749146c9e6d7d",
        "IPY_MODEL_0ac4bd65a8d649c18ce6df9e7430e16b",
        "IPY_MODEL_093ced667b6f4a8c973495468856981d",
        "IPY_MODEL_67e3b61bec8b4970800ced346ebaa8a6",
        "IPY_MODEL_4942b6684f794b9ab303eef522d4c2a7",
        "IPY_MODEL_a8acebc71209498985108574e15631e3",
        "IPY_MODEL_cf746d7ef0934bd0a966f0689ba9ca3e",
        "IPY_MODEL_0c0a80b4bf2c4c358b60b49c6d92e740",
        "IPY_MODEL_3b169186e71d4396823cb217eef0aabe",
        "IPY_MODEL_ccdc2788ed33403c82f859e2f0124fa2",
        "IPY_MODEL_7582407a05924c66bfb1df34550d47fd",
        "IPY_MODEL_857f3f9e279c4a9fac60982d6fce2c8c",
        "IPY_MODEL_3ff81463c31d43efa0b8792ebac04f13",
        "IPY_MODEL_17697a0028384217b1d17bef18706a01",
        "IPY_MODEL_23a4b3eec15941139a7b125b8e3bc6d3",
        "IPY_MODEL_2573059109834284830e6675b2637f0c"
       ],
       "layout": "IPY_MODEL_14d244f1092442a590322a85f8d5fce9"
      }
     },
     "f002360ae49d46ac8c0c2ac89aeb21d5": {
      "model_module": "@jupyter-widgets/controls",
      "model_module_version": "1.5.0",
      "model_name": "VBoxModel",
      "state": {
       "children": [
        "IPY_MODEL_8309288b958048e999b7bd7256cc5dea",
        "IPY_MODEL_9f4ac5a2d18d4eeaa4376e21760d00f4",
        "IPY_MODEL_01bec2e70de0406aa24114d9c97b0c39",
        "IPY_MODEL_3d407dcef10b451482fd320232ffd702",
        "IPY_MODEL_876fe4000063459aacdcc1e2e58a1260"
       ],
       "layout": "IPY_MODEL_0cf21363e5004149b249220b2455ebac"
      }
     },
     "f032a6aaf0f44a17849109438d5bf548": {
      "model_module": "@jupyter-widgets/controls",
      "model_module_version": "1.5.0",
      "model_name": "HBoxModel",
      "state": {
       "children": [
        "IPY_MODEL_1e2b0a0d6bd64569914123c03c60df2e",
        "IPY_MODEL_13d865a8ba2142f28c852effd9cc281e"
       ],
       "layout": "IPY_MODEL_fe653aa62b4543cab5231a9e4fd228f7"
      }
     },
     "f0e5ad799dbf42959395f4e10e14b434": {
      "model_module": "@jupyter-widgets/base",
      "model_module_version": "1.2.0",
      "model_name": "LayoutModel",
      "state": {
       "height": "100%"
      }
     },
     "f1a1f575776e405a9c565618c3f79725": {
      "model_module": "@jupyter-widgets/base",
      "model_module_version": "1.2.0",
      "model_name": "LayoutModel",
      "state": {}
     },
     "f1eaf33f6fb34edb85e4eb40ff231543": {
      "model_module": "@jupyter-widgets/base",
      "model_module_version": "1.2.0",
      "model_name": "LayoutModel",
      "state": {
       "height": "100%"
      }
     },
     "f22c23638035406a8f67d75fd025eff2": {
      "model_module": "@jupyter-widgets/controls",
      "model_module_version": "1.5.0",
      "model_name": "ButtonStyleModel",
      "state": {}
     },
     "f241b83a8e624352bb4c9f57d62f6b0c": {
      "model_module": "@jupyter-widgets/controls",
      "model_module_version": "1.5.0",
      "model_name": "DescriptionStyleModel",
      "state": {
       "description_width": "initial"
      }
     },
     "f259321155a54b9686a99ee9fc8330fa": {
      "model_module": "@jupyter-widgets/base",
      "model_module_version": "1.2.0",
      "model_name": "LayoutModel",
      "state": {}
     },
     "f265d091d5a3466399ae220edf72a656": {
      "model_module": "@jupyter-widgets/controls",
      "model_module_version": "1.5.0",
      "model_name": "DescriptionStyleModel",
      "state": {
       "description_width": ""
      }
     },
     "f2d739e856144724aeec2ac60dad8594": {
      "model_module": "@jupyter-widgets/controls",
      "model_module_version": "1.5.0",
      "model_name": "VBoxModel",
      "state": {
       "children": [
        "IPY_MODEL_5b413579383b4c508c282f7d4e43478c",
        "IPY_MODEL_ab4a32a646f649959eaf77dd372f3e39",
        "IPY_MODEL_83f9bd7974cd428ea738131a15c7e246",
        "IPY_MODEL_5a9aff45a2a44609b8bdad0ed6eff4d2",
        "IPY_MODEL_78f6485e83974793914065b0b57e5762",
        "IPY_MODEL_79c039cf008d43c9a029f9774505c646",
        "IPY_MODEL_6613234ad3ac4274b9e64a4c4df889d8",
        "IPY_MODEL_39b07215044f4965abfc58093a382f1b",
        "IPY_MODEL_29d8bc215d654b65a9890208b155c133",
        "IPY_MODEL_ee971be50662400398f98046551db95c",
        "IPY_MODEL_c7a5324e79ed4f8eaddd0ca6591e4cb6",
        "IPY_MODEL_9f135ec1bd70405b919ea74e62bf22b1",
        "IPY_MODEL_a317709c2470451fb0fa21ad26fb5a8b",
        "IPY_MODEL_ecc7e3e54d4542e78608a0b470807028",
        "IPY_MODEL_4ac79e73eb614381a0269c638bcb2c24",
        "IPY_MODEL_50650652e522463e8fd8a9acc84ac7c0",
        "IPY_MODEL_f32a7763884345dc955136d5d3fddcbe",
        "IPY_MODEL_d1dfcc0bf686454aa2232f5c1b997564",
        "IPY_MODEL_d196d142b7974c4382be8bea3b759826",
        "IPY_MODEL_c347673bcc394c668e8437c778e09837",
        "IPY_MODEL_b7b9b2ee87794d589b7bbd7c9c2c73c3",
        "IPY_MODEL_66b33395770c49a899a485ac534a994b",
        "IPY_MODEL_0f3a93403f9e4b18ae72796aa87848ac",
        "IPY_MODEL_331dfb38480b4384b4942ad1f2c004c4"
       ],
       "layout": "IPY_MODEL_8f50044d282645478e1d33b65979593b"
      }
     },
     "f3059aaa5021451194b88a0cfe669ee9": {
      "model_module": "@jupyter-widgets/base",
      "model_module_version": "1.2.0",
      "model_name": "LayoutModel",
      "state": {}
     },
     "f32a7763884345dc955136d5d3fddcbe": {
      "model_module": "@jupyter-widgets/controls",
      "model_module_version": "1.5.0",
      "model_name": "CheckboxModel",
      "state": {
       "disabled": false,
       "indent": false,
       "layout": "IPY_MODEL_4f6ab4ec474449fcab095c6e3fd8a7c1",
       "style": "IPY_MODEL_7076e0aaca88434d96db6ba870d41bde",
       "value": true
      }
     },
     "f3df99c9c10841d2b7c2702f8fa69261": {
      "model_module": "@jupyter-widgets/controls",
      "model_module_version": "1.5.0",
      "model_name": "SliderStyleModel",
      "state": {
       "description_width": "initial"
      }
     },
     "f418d76d41e44efaa9822bc985fcacb3": {
      "model_module": "@jupyter-widgets/controls",
      "model_module_version": "1.5.0",
      "model_name": "CheckboxModel",
      "state": {
       "disabled": false,
       "indent": false,
       "layout": "IPY_MODEL_dc30749eb1de40ee8aff7ea088332b7c",
       "style": "IPY_MODEL_f857e13fa13047a899abb310f07019d2",
       "value": true
      }
     },
     "f4dba4cb563d40c0bad0731906d6d728": {
      "model_module": "@jupyter-widgets/controls",
      "model_module_version": "1.5.0",
      "model_name": "DescriptionStyleModel",
      "state": {
       "description_width": ""
      }
     },
     "f55ef80609d64b928d89745a9393b70d": {
      "model_module": "@jupyter-widgets/base",
      "model_module_version": "1.2.0",
      "model_name": "LayoutModel",
      "state": {}
     },
     "f561fd377c0640599bb7d2bf300c1897": {
      "model_module": "@jupyter-widgets/controls",
      "model_module_version": "1.5.0",
      "model_name": "DropdownModel",
      "state": {
       "_options_labels": [
        "contour",
        "mask",
        "filled",
        "centroid",
        "filled centroid",
        "none"
       ],
       "description": "ROI plotting",
       "index": 0,
       "layout": "IPY_MODEL_8a28a50a239844a0a7d5c61769868def",
       "style": "IPY_MODEL_6f88e902c1e544e5a6cbc0087b4b8ecb"
      }
     },
     "f5dda915662d42f3afde6d3760d10870": {
      "model_module": "@jupyter-widgets/controls",
      "model_module_version": "1.5.0",
      "model_name": "FloatSliderModel",
      "state": {
       "continuous_update": false,
       "description": "z (mm)",
       "layout": "IPY_MODEL_5395f0843abf47c1acc19d29112c2565",
       "max": 123,
       "min": -228,
       "readout_format": ".1f",
       "step": 3,
       "style": "IPY_MODEL_dd8da7c393ab43e99bbb9a15aa7677fb",
       "value": -51
      }
     },
     "f5e5b1d8677242d5ac6cf434001d5709": {
      "model_module": "@jupyter-widgets/base",
      "model_module_version": "1.2.0",
      "model_name": "LayoutModel",
      "state": {}
     },
     "f69276c39f1f4c00b28fc96873259dae": {
      "model_module": "@jupyter-widgets/controls",
      "model_module_version": "1.5.0",
      "model_name": "CheckboxModel",
      "state": {
       "description": "Apply mask",
       "disabled": false,
       "indent": false,
       "layout": "IPY_MODEL_c528daff6236406f87221e496e6821db",
       "style": "IPY_MODEL_3f00b14c2440462a87cb45f1ac358c27",
       "value": true
      }
     },
     "f6cc17f40eae4ca2b206393f6be4dbc9": {
      "model_module": "@jupyter-widgets/controls",
      "model_module_version": "1.5.0",
      "model_name": "SliderStyleModel",
      "state": {
       "description_width": "initial"
      }
     },
     "f6d91e396d5449d7bb594c8b5baf0f39": {
      "model_module": "@jupyter-widgets/controls",
      "model_module_version": "1.5.0",
      "model_name": "DescriptionStyleModel",
      "state": {
       "description_width": ""
      }
     },
     "f849a23714954e298bd2473cf8d7eb65": {
      "model_module": "@jupyter-widgets/controls",
      "model_module_version": "1.5.0",
      "model_name": "FloatSliderModel",
      "state": {
       "continuous_update": false,
       "description": "Jacobian opacity",
       "layout": "IPY_MODEL_ac70dd906024400b911937cbad09afc5",
       "max": 1,
       "step": 0.05,
       "style": "IPY_MODEL_662b4d3f64bf4987ad4ec87bc527c364",
       "value": 0.8
      }
     },
     "f857e13fa13047a899abb310f07019d2": {
      "model_module": "@jupyter-widgets/controls",
      "model_module_version": "1.5.0",
      "model_name": "DescriptionStyleModel",
      "state": {
       "description_width": ""
      }
     },
     "f861dafc4f73408bb03681074ef5d0f9": {
      "model_module": "@jupyter-widgets/controls",
      "model_module_version": "1.5.0",
      "model_name": "FloatSliderModel",
      "state": {
       "continuous_update": false,
       "description": "z (mm)",
       "layout": "IPY_MODEL_fb82d3521438484795a80ac96caa8181",
       "max": 123,
       "min": -228,
       "readout_format": ".1f",
       "step": 3,
       "style": "IPY_MODEL_639a338e4e094829b2388661780e813d",
       "value": -15
      }
     },
     "f890c24c789a493588fd966681175aba": {
      "model_module": "@jupyter-widgets/controls",
      "model_module_version": "1.5.0",
      "model_name": "DescriptionStyleModel",
      "state": {
       "description_width": ""
      }
     },
     "f9779047bd8c4535b25fd7b7ff2ce1a6": {
      "model_module": "@jupyter-widgets/base",
      "model_module_version": "1.2.0",
      "model_name": "LayoutModel",
      "state": {}
     },
     "f993f5f1ef3a416c85a5296597b1be90": {
      "model_module": "@jupyter-widgets/controls",
      "model_module_version": "1.5.0",
      "model_name": "TextModel",
      "state": {
       "description": "Save plot as:",
       "layout": "IPY_MODEL_a6eca7a0a93947a99bc09e8e3e8d0338",
       "style": "IPY_MODEL_e8ce84da25b54813b7d0dd082f2e88c3"
      }
     },
     "fa8ccd74980145b796d84244f0cd18be": {
      "model_module": "@jupyter-widgets/base",
      "model_module_version": "1.2.0",
      "model_name": "LayoutModel",
      "state": {}
     },
     "fae02a35946f41c49abf46f56cef0af9": {
      "model_module": "@jupyter-widgets/controls",
      "model_module_version": "1.5.0",
      "model_name": "CheckboxModel",
      "state": {
       "description": "Invert comparison",
       "disabled": false,
       "layout": "IPY_MODEL_c4a3a852fafa4c6eaebf0f33077c46c5",
       "style": "IPY_MODEL_7cdfca1bdaed4e02a57382c113495720",
       "value": false
      }
     },
     "fb43f1eb37d44f039c86bec5ccb610ae": {
      "model_module": "@jupyter-widgets/controls",
      "model_module_version": "1.5.0",
      "model_name": "DescriptionStyleModel",
      "state": {
       "description_width": "initial"
      }
     },
     "fb82d3521438484795a80ac96caa8181": {
      "model_module": "@jupyter-widgets/base",
      "model_module_version": "1.2.0",
      "model_name": "LayoutModel",
      "state": {}
     },
     "fbb9e5f3bfdd4d03be0d7e8d3fb01d74": {
      "model_module": "@jupyter-widgets/controls",
      "model_module_version": "1.5.0",
      "model_name": "HTMLModel",
      "state": {
       "layout": "IPY_MODEL_3877df3b981d4a1fac74f550213052ee",
       "style": "IPY_MODEL_6df3e6d0f7634163ad697ebfc541d9f1",
       "value": "\n        <head>\n            <style>\n                th, td {\n                    padding: 2px 2px;\n                }\n                th {\n                    background-color: transparent;\n                    text-align: center;\n                }\n            </style>\n        </head>\n    <table border=\"1\" class=\"dataframe\">\n  <thead>\n    <tr style=\"text-align: right;\">\n      <th>ROI</th>\n    </tr>\n  </thead>\n  <tbody>\n    <tr>\n      <td><p style=\"background-color: rgb(255.0, 0.0, 0.0); color: white;\">&nbsp;ctv65&nbsp;</p></td>\n    </tr>\n    <tr>\n      <td><p style=\"background-color: rgb(255.0, 128.0, 128.0); color: white;\">&nbsp;ctv60&nbsp;</p></td>\n    </tr>\n    <tr>\n      <td><p style=\"background-color: rgb(255.0, 128.0, 64.0); color: white;\">&nbsp;ctv54&nbsp;</p></td>\n    </tr>\n    <tr>\n      <td><p style=\"background-color: rgb(255.0, 255.0, 0.0); color: black;\">&nbsp;cord&nbsp;</p></td>\n    </tr>\n    <tr>\n      <td><p style=\"background-color: rgb(0.0, 255.0, 255.0); color: white;\">&nbsp;R parotid&nbsp;</p></td>\n    </tr>\n    <tr>\n      <td><p style=\"background-color: rgb(255.0, 0.0, 255.0); color: white;\">&nbsp;L parotid&nbsp;</p></td>\n    </tr>\n    <tr>\n      <td><p style=\"background-color: rgb(128.0, 64.0, 64.0); color: white;\">&nbsp;Mandible&nbsp;</p></td>\n    </tr>\n    <tr>\n      <td><p style=\"background-color: rgb(255.0, 0.0, 0.0); color: white;\">&nbsp;skin&nbsp;</p></td>\n    </tr>\n    <tr>\n      <td><p style=\"background-color: rgb(0.0, 0.0, 255.0); color: white;\">&nbsp;PTV65&nbsp;</p></td>\n    </tr>\n    <tr>\n      <td><p style=\"background-color: rgb(0.0, 128.0, 255.0); color: white;\">&nbsp;PTV60&nbsp;</p></td>\n    </tr>\n    <tr>\n      <td><p style=\"background-color: rgb(0.0, 255.0, 255.0); color: white;\">&nbsp;PTV54&nbsp;</p></td>\n    </tr>\n    <tr>\n      <td><p style=\"background-color: rgb(255.0, 128.0, 0.0); color: white;\">&nbsp;cordPRV&nbsp;</p></td>\n    </tr>\n    <tr>\n      <td><p style=\"background-color: rgb(127.0, 255.0, 127.0); color: black;\">&nbsp;R parotid - PTV&nbsp;</p></td>\n    </tr>\n    <tr>\n      <td><p style=\"background-color: rgb(39.0, 199.0, 0.0); color: white;\">&nbsp;L parotid - PTV&nbsp;</p></td>\n    </tr>\n    <tr>\n      <td><p style=\"background-color: rgb(128.0, 128.0, 255.0); color: white;\">&nbsp;Ring65&nbsp;</p></td>\n    </tr>\n    <tr>\n      <td><p style=\"background-color: rgb(128.0, 0.0, 255.0); color: white;\">&nbsp;Ring60&nbsp;</p></td>\n    </tr>\n    <tr>\n      <td><p style=\"background-color: rgb(255.0, 0.0, 128.0); color: white;\">&nbsp;Ring54&nbsp;</p></td>\n    </tr>\n    <tr>\n      <td><p style=\"background-color: rgb(255.0, 0.0, 0.0); color: white;\">&nbsp;post avoid&nbsp;</p></td>\n    </tr>\n    <tr>\n      <td><p style=\"background-color: rgb(255.0, 0.0, 0.0); color: white;\">&nbsp;spine block&nbsp;</p></td>\n    </tr>\n    <tr>\n      <td><p style=\"background-color: rgb(255.0, 0.0, 0.0); color: white;\">&nbsp;optics block&nbsp;</p></td>\n    </tr>\n    <tr>\n      <td><p style=\"background-color: rgb(144.0, 0.0, 115.0); color: white;\">&nbsp;shoulder blocks&nbsp;</p></td>\n    </tr>\n    <tr>\n      <td><p style=\"background-color: rgb(255.0, 127.0, 0.0); color: white;\">&nbsp;planning bolus&nbsp;</p></td>\n    </tr>\n    <tr>\n      <td><p style=\"background-color: rgb(51.0, 0.0, 255.0); color: white;\">&nbsp;AVOID&nbsp;</p></td>\n    </tr>\n  </tbody>\n</table>"
      }
     },
     "fbcb42a9ba5f4c01ad365bdbd5129909": {
      "model_module": "@jupyter-widgets/controls",
      "model_module_version": "1.5.0",
      "model_name": "FloatSliderModel",
      "state": {
       "continuous_update": false,
       "description": "Overlay opacity",
       "layout": "IPY_MODEL_c27a708e648d40c58217319c59d73aaa",
       "max": 1,
       "readout_format": ".1f",
       "step": 0.1,
       "style": "IPY_MODEL_5d0255477fcc4c43a15049a6c16e0ee5",
       "value": 0.5
      }
     },
     "fc4b94ccddd24f60b189472384ef19cb": {
      "model_module": "@jupyter-widgets/controls",
      "model_module_version": "1.5.0",
      "model_name": "DescriptionStyleModel",
      "state": {
       "description_width": ""
      }
     },
     "fc7bff0798e34c69ad15b822a870751a": {
      "model_module": "@jupyter-widgets/base",
      "model_module_version": "1.2.0",
      "model_name": "LayoutModel",
      "state": {}
     },
     "fcab19d5ee5647e391e3a07fb45f8291": {
      "model_module": "@jupyter-widgets/controls",
      "model_module_version": "1.5.0",
      "model_name": "DropdownModel",
      "state": {
       "_options_labels": [
        "overlay",
        "chequerboard",
        "difference",
        "absolute difference",
        "distance to agreement",
        "gamma index"
       ],
       "description": "Comparison",
       "index": 0,
       "layout": "IPY_MODEL_7383e7075ead499598a59830ff833a97",
       "style": "IPY_MODEL_cf4e6230631541d8aedc3ab7bd8ac715"
      }
     },
     "fd7ce7758ec0488da25819ca96f34494": {
      "model_module": "@jupyter-widgets/controls",
      "model_module_version": "1.5.0",
      "model_name": "DescriptionStyleModel",
      "state": {
       "description_width": ""
      }
     },
     "fe0bbe1bcbb446ed835cf1dd1f58ef58": {
      "model_module": "@jupyter-widgets/base",
      "model_module_version": "1.2.0",
      "model_name": "LayoutModel",
      "state": {
       "height": "100%"
      }
     },
     "fe653aa62b4543cab5231a9e4fd228f7": {
      "model_module": "@jupyter-widgets/base",
      "model_module_version": "1.2.0",
      "model_name": "LayoutModel",
      "state": {}
     },
     "ff0181ccc40b4da49e48e462173c7e62": {
      "model_module": "@jupyter-widgets/controls",
      "model_module_version": "1.5.0",
      "model_name": "DescriptionStyleModel",
      "state": {
       "description_width": ""
      }
     },
     "ff8d7839dc53428fa2e7e52d85922e27": {
      "model_module": "@jupyter-widgets/controls",
      "model_module_version": "1.5.0",
      "model_name": "HBoxModel",
      "state": {
       "layout": "IPY_MODEL_bea9252b9ebf4f0093e2863259991fe3"
      }
     }
    },
    "version_major": 2,
    "version_minor": 0
   }
  }
 },
 "nbformat": 4,
 "nbformat_minor": 5
}
