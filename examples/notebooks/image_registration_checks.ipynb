{
 "cells": [
  {
   "cell_type": "markdown",
   "id": "5ea79a16-b0fc-41ad-9727-db0c8611aa33",
   "metadata": {},
   "source": [
    "## Image Registration: performance checks\n",
    "\n",
    "This notebook demonstrates use of [Scikit-rt](https://github.com/scikit-rt/scikit-rt) for performing image registration with [elastix](https://elastix.lumc.nl) and [NiftyReg](http://cmictig.cs.ucl.ac.uk/wiki/index.php/NiftyReg), and for checking what the registration has done."
   ]
  },
  {
   "cell_type": "markdown",
   "id": "e73f2137-0cc7-4b6a-a318-085eb9ca07a8",
   "metadata": {},
   "source": [
    "### 1. Initial setup\n",
    "\n",
    "To run this notebook, it needs to be downloaded to a machine that\n",
    "has [Scikit-rt](https://github.com/scikit-rt/scikit-rt), and at least one\n",
    "of the registration engines [elastix](https://elastix.lumc.nl) and [NiftyReg](http://cmictig.cs.ucl.ac.uk/wiki/index.php/NiftyReg), as outlined in\n",
    "the [installation instructions](https://scikit-rt.github.io/scikit-rt/installation.html).\n",
    "\n",
    "Code in the cell below may need to be modified:\n",
    "\n",
    "- `engine_dir` should be defined so that keys identify the installed registration\n",
    "  engines (\"elastix\" and/or \"niftyreg\"), and associated values are paths to\n",
    "  the directories containing the software;\n",
    "- `outdir` should be a path to a writeable directory,\n",
    "   to be used for registration output.\n",
    "- `no_ui` is set to `False` to allow image rendering on GitHub; it may be set\n",
    "   to `True` to include user-interface elements\n",
    "   ([Jupyter widgets](https://ipywidgets.readthedocs.io/en/latest/)),\n",
    "   enabling interactive control."
   ]
  },
  {
   "cell_type": "code",
   "execution_count": 1,
   "id": "80036583-d7fc-4ec8-a9bc-d508b7899c59",
   "metadata": {},
   "outputs": [],
   "source": [
    "# Import required classes and functions.\n",
    "from skrt import Defaults, Patient, Registration, SyntheticImage\n",
    "from skrt.better_viewer.options import set_viewer_options\n",
    "from skrt.core import fullpath\n",
    "from skrt.registration import get_default_pfiles\n",
    "\n",
    "# Set path to directory containing regisgtration software.\n",
    "engine_dirs = {\n",
    "    \"elastix\": \"~/sw/elastix-5.0.1-mac\",\n",
    "    \"niftyreg\": \"~/sw/niftyreg\",\n",
    "}\n",
    "\n",
    "# Set path to directory to be used for registration output.\n",
    "outdir = \"registration_results/synthetic\"\n",
    "\n",
    "# Define whether or not to display user interface, allowing interactive view adjustment.\n",
    "no_ui = True"
   ]
  },
  {
   "cell_type": "code",
   "execution_count": 2,
   "id": "c31144e1-bbee-4873-bfd1-6cf3fa110517",
   "metadata": {},
   "outputs": [],
   "source": [
    "# Expand paths to software directories, and convert to pathlib.Path objects.\n",
    "# Raise exception if a path doesn't identify an existing directory.\n",
    "for engine in engine_dirs:\n",
    "    engine_dirs[engine] = fullpath(engine_dirs[engine], True)\n",
    "    if not engine_dirs[engine].is_dir():\n",
    "        raise(f\"Directory not found: {engine_dirs[engine]}\")\n",
    "        \n",
    "outdir = fullpath(outdir, True)"
   ]
  },
  {
   "cell_type": "markdown",
   "id": "8601a202-7e4b-4fab-9260-c0011c142d60",
   "metadata": {},
   "source": [
    "### 2. Display options\n",
    "\n",
    "Scikit-rt provides a large number of options for customising image display, both directly (see documentation for [better_viewer package](https://scikit-rt.github.io/scikit-rt/skrt.better_viewer.html#module-skrt.better_viewer), and indirectly, via Matplotlib [plot options](https://matplotlib.org/stable/api/_as_gen/matplotlib.pyplot.plot.html) and [runtime configuration](https://matplotlib.org/stable/tutorials/introductory/customizing.html).\n",
    "Some of the possibilities are demonstrated in [plotting_demo.ipynb](https://github.com/scikit-rt/scikit-rt/blob/master/examples/notebooks/plotting_demo.ipynb).\n",
    "\n",
    "Code in the cell below aims to set reasonable display options, but you can\n",
    "replace this with something different."
   ]
  },
  {
   "cell_type": "code",
   "execution_count": 3,
   "id": "29b2467e-08dd-43dd-8ee0-38ccd826d311",
   "metadata": {},
   "outputs": [],
   "source": [
    "# Set default Matplotlib runtime configuration,\n",
    "# and obtain default options that can be passed to `view()` methods.\n",
    "options = set_viewer_options(to_exclude=\"figsize\", usetex=True, no_ui=no_ui);"
   ]
  },
  {
   "cell_type": "markdown",
   "id": "316ea520-9efa-4b6d-a8dd-7b6bc5e5aeab",
   "metadata": {},
   "source": [
    "### 3. Synthetic images for registration\n",
    "\n",
    "Example synthetic images for registration are defined in the code cell below.  These may be replaced by other synthetic images (see some possibilities in: [simulation module](https://scikit-rt.github.io/scikit-rt/skrt.simulation.html)) or by [DICOM](https://www.dicomstandard.org/) or [NIfTI](https://nifti.nimh.nih.gov/) image data loaded as [Image](https://scikit-rt.github.io/scikit-rt/skrt.image.html#skrt.image.Image) objects."
   ]
  },
  {
   "cell_type": "code",
   "execution_count": 4,
   "id": "ca7ccd42-dd09-4c16-a7e1-a1b9e677aa42",
   "metadata": {},
   "outputs": [],
   "source": [
    "# Fixed image for registration, featuring sphere of radius 30 mm,\n",
    "# centred on image centre.\n",
    "fixed = SyntheticImage(shape=(101, 101, 101), origin=(-50, -50, -50))\n",
    "fixed.add_sphere(radius=30, name=\"sphere\", centre=(0, 0, 0), intensity=100)\n",
    "\n",
    "# Moving image for registration, featuring cube of side length 40 mm,\n",
    "# offset from image centre by (dx, dy, dz).\n",
    "moving = SyntheticImage(shape=(101, 101, 101), origin=(-50, -50, -50))\n",
    "dx, dy, dz = (4, -4, 2)\n",
    "moving.add_cube(side_length=40, name=\"cube\", centre=(dx, dy, dz), intensity=100)"
   ]
  },
  {
   "cell_type": "markdown",
   "id": "38f3932e-8131-4329-8623-93f2986f5bf4",
   "metadata": {
    "tags": []
   },
   "source": [
    "### 3. Define and run registrations.\n",
    "\n",
    "Registrations are run as sequences of steps.  For details of the parameters used in defining the registration steps, see documentation for the [Registration](https://scikit-rt.github.io/scikit-rt/skrt.registration.html#skrt.registration.Registration) class.\n",
    "\n",
    "The examples here use parameter files included in the scikit-rt package.  Functions have been defined for listing the predefined parameter files for a given registration engine, and for listing file contents.\n",
    "\n",
    "```\n",
    "from skrt.registration import get_default_pfiles, read_parameters\n",
    "\n",
    "# List predefined parameter files for NiftyReg.\n",
    "pfiles = get_default_pfiles(engine=\"niftyreg\")\n",
    "print(pfiles)\n",
    "\n",
    "# List contents of one of the parameter files.\n",
    "params = read_parameters(pfiles[0])\n",
    "print(params)\n",
    "```"
   ]
  },
  {
   "cell_type": "code",
   "execution_count": null,
   "id": "f7157b07-d11e-459b-a1db-37a9748aa666",
   "metadata": {},
   "outputs": [],
   "source": [
    "# Define and run registrations\n",
    "registrations = {}\n",
    "for engine in engine_dirs:\n",
    "# Create object defining registration steps.\n",
    "    registrations[engine] = Registration(\n",
    "        engine=engine,\n",
    "        engine_dir=engine_dirs[engine],\n",
    "        initial_alignment=(dx, dy, dz),\n",
    "        fixed=fixed,\n",
    "        moving=moving,\n",
    "        pfiles={\"bspline\": get_default_pfiles(\"*BSpline05*\", engine)[0]},\n",
    "        path=outdir / engine,\n",
    "        overwrite=True,\n",
    "        capture_output=True,\n",
    "        log_level='INFO',)\n",
    "\n",
    "for reg in registrations.values():\n",
    "    reg.register()\n",
    "    \n",
    "# For each registration step, obtain transformed grid, Jacobian determinant, and deformation field.\n",
    "# Results are stored with the Registration object.\n",
    "# They can subsequently be displayed, without needing to be recalculated.\n",
    "    for step in reg.steps[-1:]:\n",
    "        reg.get_transformed_grid(step, spacing=(10,10,10), thickness=(2, 2, 2), color='green', force=True)\n",
    "        reg.get_jacobian(step)\n",
    "        reg.get_deformation_field(step)"
   ]
  },
  {
   "cell_type": "markdown",
   "id": "f9d6ae70-021e-4b9a-8242-3b4c69e48aa8",
   "metadata": {},
   "source": [
    "### 4. Display initial images\n",
    "\n",
    "The pre-registration images (the same for elastix and NiftReg) are displayed and compared.  The default is to show the `x-y` slice at `z = 0`. \n"
   ]
  },
  {
   "cell_type": "code",
   "execution_count": null,
   "id": "364eded1-932b-4a23-a02a-9ac290f21071",
   "metadata": {},
   "outputs": [],
   "source": [
    "# Display initial images.\n",
    "reg.view_init(overlay_legend=True, **options)"
   ]
  },
  {
   "cell_type": "markdown",
   "id": "e118f9af-f89f-4a68-a859-6496fd27446a",
   "metadata": {
    "tags": []
   },
   "source": [
    "### 5. Display registration result\n",
    "\n",
    "The (unaltered) fixed image and transformed moving image are displayed and compared."
   ]
  },
  {
   "cell_type": "code",
   "execution_count": null,
   "id": "4614ecab-14b4-432a-b8d0-e2bdb8c9e38d",
   "metadata": {},
   "outputs": [],
   "source": [
    "for engine, reg in registrations.items():\n",
    "    titles = [f\"{engine}: {title}\" for title in [\"fixed\", \"transformed moving\"]]\n",
    "    reg.view_result(overlay_legend=True, title=titles, **options)"
   ]
  },
  {
   "cell_type": "markdown",
   "id": "53cdff6f-7f97-408c-9a7d-89dd77df3b1b",
   "metadata": {},
   "source": [
    "### 6. Transformed grid\n",
    "\n",
    "The moving image and an initially regular grid are displayed after application of the transform calculated at each step in the registration.  This show the effect of pulling grid points from the space of the moving image to the space of the fixed image."
   ]
  },
  {
   "cell_type": "code",
   "execution_count": null,
   "id": "7e91cd42-6815-4661-a19a-d6358c9ceb8a",
   "metadata": {},
   "outputs": [],
   "source": [
    "for engine, reg in registrations.items():\n",
    "    reg.transformed_images[reg.steps[0]].view(\n",
    "        images=[reg.transformed_images[step] for step in reg.steps[1:]],\n",
    "        grid=[reg.get_transformed_grid(step) for step in reg.steps],\n",
    "        title=[f\"{engine}: {step}\" for step in reg.steps],\n",
    "        colorbar=1, colorbar_label=\"Intensity (arbitrary units)\", grid_opacity=0.5, figsize=(21, 6), **options);"
   ]
  },
  {
   "cell_type": "markdown",
   "id": "9cd6f0f6-e37f-45ce-92ab-75a27ff2c902",
   "metadata": {},
   "source": [
    "### 7. Display Jacobian determinant\n",
    "\n",
    "The registration's Jacobian determinant shows how volumes change locally in mapping from the *fixed* image to the *moving* image.  Positive values define a scaling factor: values greater than 1 indicate expansion; values less than 1 indicate contraction.  Negative values indicate folding.\n",
    "\n",
    "For non-deformable registration, the Jacobian determinant is defined by elastix with a value of 1 everywhere, and is undefined by NiftyReg."
   ]
  },
  {
   "cell_type": "code",
   "execution_count": null,
   "id": "69a887eb-7f26-4d27-b7a5-638038aa961e",
   "metadata": {},
   "outputs": [],
   "source": [
    "# For axes, set spacing (pad) and size of label and title\n",
    "for engine, reg in registrations.items():\n",
    "    reg.transformed_images[reg.steps[0]].view(\n",
    "        images=[reg.transformed_images[step] for step in reg.steps[1:]],\n",
    "        jacobian=[reg.get_jacobian(step) for step in reg.steps],\n",
    "        title=[f\"{engine}: {step}\" for step in reg.steps],\n",
    "        colorbar=-1, figsize=(21, 6), **options);"
   ]
  },
  {
   "cell_type": "markdown",
   "id": "2aa40906-3ce2-4913-b68c-c881f751b0dd",
   "metadata": {},
   "source": [
    "### 8. Display information from deformation field\n",
    "\n",
    "The registration's deformation field is represented by a four-dimensional array.  For each voxel in the (three-dimensional) fixed image, this defines a (three-component) vector defining the displacement in mapping from the *fixed* image to the *moving* image.\n",
    "\n",
    "(The deformation field referred to here is as defined for elastix (see section 4.2 of [elastix: the manual](https://elastix.lumc.nl/download/elastix-5.1.0-manual.pdf).  For NiftyReg this is the displacement field (see [reg_transform documentation](http://cmictig.cs.ucl.ac.uk/wiki/index.php/Reg_transform))."
   ]
  },
  {
   "cell_type": "markdown",
   "id": "a76a7add-4a4d-43f7-ab1c-54da135af1cd",
   "metadata": {},
   "source": [
    "#### 8.1 Maximum displacements\n",
    "\n",
    "In a translation step, maximum displacements reflect offsets of image features in the moving image relative to the corresponding features in the fixed image.  In affine and b-spline steps, maximum displacements can relate to volume changes or shape changes.\n",
    "\n",
    "The initial alignment in the registration is a user-defined translation.  It has been defined here to match the known feature offset, as reflected in the results: maximum displacements for the initial-alignment step exactly match the feature offset."
   ]
  },
  {
   "cell_type": "code",
   "execution_count": null,
   "id": "4ff8325d-419f-42be-a705-32aef2dc09ff",
   "metadata": {},
   "outputs": [],
   "source": [
    "form = \".2f\"\n",
    "print(f\"Original offsets of sphere centroid relative to cube centroid: dx = {dx:{form}}, dy = {dy:{form}}, dz = {dz:{form}}\")\n",
    "\n",
    "for engine, reg in registrations.items():\n",
    "    for step in reg.steps:\n",
    "        displacements = {}\n",
    "        for xyz in [\"x\", \"y\", \"z\"]:\n",
    "            displacements[xyz] = reg.get_deformation_field(step).get_displacement_image(xyz).get_data().max()\n",
    "        print(f\"{engine} - {step}: dx = {displacements['x']:{form}}, dy = {displacements['y']:{form}}, dz = {displacements['z']:{form}}\")"
   ]
  },
  {
   "cell_type": "markdown",
   "id": "cd860cd6-6b73-42bc-8da7-f4feb6623b9f",
   "metadata": {},
   "source": [
    "#### 8.2 Quiver plots\n",
    "\n",
    "Quiver plots show the two-dimensional displacements, in the slice and orientation viewed, for mapping points from the fixed image to the moving image.  Arrow lengths and (by default) colours represent displacement magnitudes."
   ]
  },
  {
   "cell_type": "code",
   "execution_count": null,
   "id": "2117bdbf-df27-48a7-90a9-40385533c1d9",
   "metadata": {},
   "outputs": [],
   "source": [
    "for engine, reg in registrations.items():\n",
    "    reg.transformed_images[reg.steps[0]].view(\n",
    "        images=[reg.transformed_images[step] for step in reg.steps[1:]],\n",
    "        df=[reg.get_deformation_field(step) for step in reg.steps], df_spacing=10,\n",
    "        title=[f\"{engine}: {step}\" for step in reg.steps], df_plot_type=\"quiver\", df_opacity=0.8,\n",
    "        colorbar=-1, figsize=(21, 6), colorbar_last_only=False, **options);"
   ]
  },
  {
   "cell_type": "markdown",
   "id": "c4ccc67c-6b8b-435d-b0ff-2f2c12ee27eb",
   "metadata": {},
   "source": [
    "#### 8.3 Deformation grid\n",
    "\n",
    "The deformation grid at each step in the registration shows how points on a grid in the space of the fixed image are pushed to the moving image.  This means that it shows the effect of transformations in the direction opposite from the transformed grid (section 6 above)."
   ]
  },
  {
   "cell_type": "code",
   "execution_count": null,
   "id": "08d11ba8-bfde-4d37-bae2-aa1ce17a6c4d",
   "metadata": {},
   "outputs": [],
   "source": [
    "for engine, reg in registrations.items():\n",
    "    reg.transformed_images[reg.steps[0]].view(\n",
    "        images=[reg.transformed_images[step] for step in reg.steps[1:]],\n",
    "        df=[reg.get_deformation_field(step) for step in reg.steps], df_spacing=10,\n",
    "        title=[f\"{engine}: {step}\" for step in reg.steps], df_plot_type=\"grid\", df_opacity=0.8,\n",
    "        colorbar=-1, figsize=(21, 6), colorbar_last_only=False, **options);"
   ]
  },
  {
   "cell_type": "markdown",
   "id": "594ed2a2-d79e-405a-9e02-6dbd2991a07b",
   "metadata": {},
   "source": [
    "#### 8.4 One-dimensional displacements\n",
    "\n",
    "A plot of one-dimensional displacements shows the displacements along the `x`, `y`, or `z` axis in mapping from fixed image to moving image.\n",
    "\n",
    "For translations, displacements are the same everywhere, so that plots have an\n",
    "overlay of uniform colour (different depending on the direction considered).  Final displacements here are the result of the initial-alignment translation plus deformations.  The effect of the latter is that negative displacements become less negative and positive displacements become less positive: the region occupied by the sphere in the fixed image is compressed to occupy a smaller region when mapped to the moving image."
   ]
  },
  {
   "cell_type": "code",
   "execution_count": null,
   "id": "c89b2ae1-6db2-4577-a7ea-028d58a596cf",
   "metadata": {},
   "outputs": [],
   "source": [
    "options[\"clb_kwarg\"] = {\"pad\": 0.05}\n",
    "init_views = {\"x\": \"x-y\", \"y\": \"y-z\", \"z\": \"x-z\"} \n",
    "\n",
    "for xyz in [\"x\", \"y\", \"z\"]:\n",
    "    for engine, reg in registrations.items():\n",
    "        reg.transformed_images[reg.steps[0]].view(\n",
    "            images=[reg.transformed_images[step] for step in reg.steps[1:]],\n",
    "            df=[reg.get_deformation_field(step) for step in reg.steps], df_spacing=10,\n",
    "        title=[f\"{engine}: {step}\" for step in reg.steps], df_plot_type=f\"{xyz}-displacement\", df_opacity=0.8,\n",
    "            colorbar=-1, figsize=(21, 6), colorbar_last_only=False,\n",
    "            init_view=init_views[xyz], **options)"
   ]
  },
  {
   "cell_type": "markdown",
   "id": "a993de66-38ef-4b24-9e61-f35216ef3f3b",
   "metadata": {
    "tags": []
   },
   "source": [
    "#### 8.5 Three-dimensional displacement magnitudes\n",
    "\n",
    "A plot of three-dimensional displacement magnituds shows the magnitudes of the three-dimensional displacement vectors for the registration's mapping from fixed image to moving image."
   ]
  },
  {
   "cell_type": "code",
   "execution_count": null,
   "id": "dda53ff1-30df-4dc7-bbc1-6e4bba4ddd48",
   "metadata": {},
   "outputs": [],
   "source": [
    "for engine, reg in registrations.items():\n",
    "    reg.transformed_images[reg.steps[0]].view(\n",
    "        images=[reg.transformed_images[step] for step in reg.steps[1:]],\n",
    "        df=[reg.get_deformation_field(step) for step in reg.steps], df_spacing=10,\n",
    "        title=[f\"{engine}: {step}\" for step in reg.steps], df_plot_type=\"3d-displacement\",\n",
    "        df_opacity=0.8, colorbar=-1, figsize=(21, 6), colorbar_last_only=False,\n",
    "        **options, df_kwargs={\"vmin\": 0, \"cmap\": \"jet\"});"
   ]
  }
 ],
 "metadata": {
  "kernelspec": {
   "display_name": "Python 3 (ipykernel)",
   "language": "python",
   "name": "python3"
  },
  "language_info": {
   "codemirror_mode": {
    "name": "ipython",
    "version": 3
   },
   "file_extension": ".py",
   "mimetype": "text/x-python",
   "name": "python",
   "nbconvert_exporter": "python",
   "pygments_lexer": "ipython3",
   "version": "3.8.15"
  }
 },
 "nbformat": 4,
 "nbformat_minor": 5
}
