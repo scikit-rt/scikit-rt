{
 "cells": [
  {
   "cell_type": "markdown",
   "id": "26515a13-a1a0-43b5-82b7-b9f1a8774645",
   "metadata": {},
   "source": [
    "## Creation of a grid image\n",
    "\n",
    "This notebook demonstrates creation of a grid image.  A grid image can be useful, for example, for understanding the effect of applying a registration transform."
   ]
  },
  {
   "cell_type": "code",
   "execution_count": 1,
   "id": "e59dc1f9-4e67-4831-8e7e-2896a5a6e8ba",
   "metadata": {},
   "outputs": [],
   "source": [
    "# Import required class.\n",
    "from skrt.simulation import SyntheticImage\n",
    "\n",
    "# Create synthetic image.\n",
    "shape = (100, 100, 50);\n",
    "origin = (-50, -50, -50);\n",
    "voxel_size = (1, 1, 2);\n",
    "sim = SyntheticImage(shape=shape, origin=origin, voxel_size=voxel_size);\n",
    "\n",
    "# Embed grid in synthetic image.\n",
    "sim.add_grid(spacing=(10, 10, 5));"
   ]
  },
  {
   "cell_type": "markdown",
   "id": "7f0dc839-25f6-4840-89aa-01d4a2f97a74",
   "metadata": {},
   "source": [
    "## Viewing grid\n",
    "\n",
    "The 3D grid is effectively made up of a collection of uniform-intensity sheets, placed at regular intervals parallel to the planes *x* = constant, *y* = constance, *z* = constant.  The grid appears as uniform intensity for image slices that coincide with grid sheets, or otherwise appears as a lattice."
   ]
  },
  {
   "cell_type": "code",
   "execution_count": 2,
   "id": "035b6569-1900-4492-95e6-ea97a34805d4",
   "metadata": {},
   "outputs": [
    {
     "data": {
      "image/png": "[encoded data removed]",
      "text/plain": [
       "<Figure size 443.833x432 with 1 Axes>"
      ]
     },
     "metadata": {
      "needs_background": "light"
     },
     "output_type": "display_data"
    }
   ],
   "source": [
    "# Display the synthetic image with embedded grid.\n",
    "\n",
    "# Define projection in which to view image. \n",
    "init_view = \"x-y\"\n",
    "# Define position (perpendicular to view) at which to view image.\n",
    "init_pos = 2\n",
    "# Define whether to omit user interface allowing interactive image adjustment.\n",
    "no_ui = True\n",
    "\n",
    "sim.view(init_view=init_view, init_pos=init_pos, no_ui=no_ui);"
   ]
  },
  {
   "cell_type": "code",
   "execution_count": null,
   "id": "9a03fb21-7788-4f20-82da-14fa450f7926",
   "metadata": {},
   "outputs": [],
   "source": []
  }
 ],
 "metadata": {
  "kernelspec": {
   "display_name": "Python 3 (ipykernel)",
   "language": "python",
   "name": "python3"
  },
  "language_info": {
   "codemirror_mode": {
    "name": "ipython",
    "version": 3
   },
   "file_extension": ".py",
   "mimetype": "text/x-python",
   "name": "python",
   "nbconvert_exporter": "python",
   "pygments_lexer": "ipython3",
   "version": "3.8.13"
  }
 },
 "nbformat": 4,
 "nbformat_minor": 5
}
