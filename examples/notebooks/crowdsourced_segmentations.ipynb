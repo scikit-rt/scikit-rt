{
 "cells": [
  {
   "cell_type": "markdown",
   "id": "55ab1fda-3758-4f89-a2b2-eb4aa299a141",
   "metadata": {},
   "source": [
    "## Crowdsourced segmentations\n",
    "\n",
    "This is a notebook for exploring the [Large-scale crowdsourced radiotherapy segmentations across a variety of cancer sites](https://figshare.com/articles/dataset/Large-scale_crowdsourced_radiotherapy_segmentations_across_a_variety_of_cancer_sites/21074182)."
   ]
  },
  {
   "cell_type": "code",
   "execution_count": null,
   "id": "30d55cda-ba17-4927-80ba-852695c375eb",
   "metadata": {},
   "outputs": [],
   "source": [
    "from pathlib import Path\n",
    "from urllib.request import urlopen\n",
    "from zipfile import ZipFile\n",
    "\n",
    "from skrt import Patient, StructureSet\n",
    "\n",
    "top_dir = Path(\"~/data/crowdsourced_segmentations\").expanduser()\n",
    "data_dir = top_dir / \"Organized_files\"\n",
    "\n",
    "if not data_dir.exists():\n",
    "    top_dir.mkdir(parents=True, exist_ok=True)\n",
    "    data_url = \"https://figshare.com/ndownloader/files/37841118\"\n",
    "    response = urlopen(data_url)\n",
    "    data = response.read()\n",
    "    zip_path = top_dir / \"Organized_files.zip\"\n",
    "    with open(zip_path, \"wb\") as out_file:\n",
    "        out_file.write(data)\n",
    "    with ZipFile(zip_path) as zip_file:\n",
    "        zip_file.extractall(top_dir)"
   ]
  },
  {
   "cell_type": "code",
   "execution_count": null,
   "id": "8840543b-9d77-4274-86b5-9686a8077d8c",
   "metadata": {},
   "outputs": [],
   "source": [
    "paths = [path for path in sorted(list(data_dir.iterdir())) if path.is_dir()]\n",
    "\n",
    "patients = {}\n",
    "for path in paths:\n",
    "    if \"Breast\" not in str(path):\n",
    "        continue\n",
    "    patient = Patient(path, unsorted_dicom=True)\n",
    "    patient.id = path.name\n",
    "    structure_sets = patient.combined_objs(\"structure_set_types\")\n",
    "    experts = {}\n",
    "    non_experts = {}\n",
    "    for structure_set in structure_sets:\n",
    "        structure_set.name = Path(structure_set.path).parent.parent.name\n",
    "        if \"Non-Expert\" in structure_set.path:\n",
    "            non_experts[structure_set.name] = structure_set\n",
    "        else:\n",
    "            experts[structure_set.name] = structure_set\n",
    "    print(f\"Read data for {patient.id} - experts: {len(experts)}; \"\n",
    "          f\"non-experts: {len(non_experts)}; total: {len(structure_sets)}\")\n",
    "    images = patient.combined_objs(\"image_types\")\n",
    "    assert len(images) == 1\n",
    "    assert images[0].get_dicom_dataset().Modality == \"CT\"\n",
    "    patient.ct_image = images[0]\n",
    "    patient.experts = {key: value for key, value in sorted(experts.items())}\n",
    "    patient.non_experts = {key: value for key, value in sorted(non_experts.items())}\n",
    "    patients[patient.id] = patient"
   ]
  },
  {
   "cell_type": "code",
   "execution_count": null,
   "id": "5e2d22b3-0160-41c4-ae97-0b8b529d4179",
   "metadata": {},
   "outputs": [],
   "source": [
    "from skrt import StructureSet\n",
    "patient = patients[\"Breast\"]\n",
    "print(patient.experts.keys())"
   ]
  },
  {
   "cell_type": "code",
   "execution_count": null,
   "id": "b6764ded-6d55-4799-92c6-d2a16a8130b4",
   "metadata": {},
   "outputs": [],
   "source": [
    "#rois = StructureSet()\n",
    "#for expert, ss in list(patient.experts.items()):\n",
    "#    rois += StructureSet(ss[\"CTV_IMN\"], name=ss.name)\n",
    "#rois.set_image(patient.ct_image)\n",
    "roi = \"CTV_IMN\"\n",
    "rois = [StructureSet(ss[roi]) for ss in patient.experts.values()]\n",
    "imns = sum(rois, StructureSet())\n",
    "imns.set_image(patient.ct_image)"
   ]
  },
  {
   "cell_type": "code",
   "execution_count": null,
   "id": "9eb6c838-47c3-453d-8820-83dfa107a43a",
   "metadata": {},
   "outputs": [],
   "source": [
    "print(imns.get_roi_names())"
   ]
  },
  {
   "cell_type": "code",
   "execution_count": null,
   "id": "92e5ab34-23d5-4641-aa90-223c29e37ca9",
   "metadata": {},
   "outputs": [],
   "source": [
    "print(imns.name)"
   ]
  },
  {
   "cell_type": "code",
   "execution_count": null,
   "id": "e842d9d0-37a4-43d1-8870-294d74156845",
   "metadata": {},
   "outputs": [],
   "source": [
    "print(imns.summed_names)"
   ]
  },
  {
   "cell_type": "code",
   "execution_count": null,
   "id": "0c9a117b-945c-4557-8a99-4e6146d2a31b",
   "metadata": {},
   "outputs": [],
   "source": [
    "patient.ct_image.view(rois=imns)"
   ]
  }
 ],
 "metadata": {
  "kernelspec": {
   "display_name": "Python 3 (ipykernel)",
   "language": "python",
   "name": "python3"
  },
  "language_info": {
   "codemirror_mode": {
    "name": "ipython",
    "version": 3
   },
   "file_extension": ".py",
   "mimetype": "text/x-python",
   "name": "python",
   "nbconvert_exporter": "python",
   "pygments_lexer": "ipython3",
   "version": "3.8.15"
  }
 },
 "nbformat": 4,
 "nbformat_minor": 5
}
