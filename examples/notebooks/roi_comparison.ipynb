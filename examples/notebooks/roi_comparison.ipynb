{
 "cells": [
  {
   "cell_type": "markdown",
   "id": "05073322-856e-4326-bdc3-464bb331eedc",
   "metadata": {},
   "source": [
    "## Comparing ROI outlines\n",
    "\n",
    "This notebook demonstrates how to compare two outlines of a single ROI."
   ]
  },
  {
   "cell_type": "code",
   "execution_count": null,
   "id": "4fb86d8f-18c3-4e9b-8d76-fc3488ac41f8",
   "metadata": {},
   "outputs": [],
   "source": [
    "# Import required classes\n",
    "from pathlib import Path\n",
    "\n",
    "from skrt import Image, Patient, StructureSet\n",
    "from skrt.better_viewer import BetterViewer"
   ]
  },
  {
   "cell_type": "markdown",
   "id": "ef3331a2-74ed-440b-9f42-3178673fd628",
   "metadata": {},
   "source": [
    "### Define image and structure set to be considered"
   ]
  },
  {
   "cell_type": "code",
   "execution_count": null,
   "id": "eadb3ecb-6a6c-4e13-9523-49b0999449b6",
   "metadata": {},
   "outputs": [],
   "source": [
    "# Define path to patient data.\n",
    "data_dir = Path(\"~/data/voxtox_relapse\").expanduser();\n",
    "patient_path = [path for path in data_dir.iterdir() if path.match(\"*5C*\")][0];\n",
    "\n",
    "# Create Patient object, then define references to\n",
    "# CT planning scan and assoicated structure set.\n",
    "patient = Patient(patient_path)\n",
    "ct_image = patient.studies[0].ct_images[0]\n",
    "ss = patient.studies[0].ct_structure_sets[0]\n",
    "\n",
    "# Print out names of ROIs in structure set.\n",
    "print(ss.get_roi_names())"
   ]
  },
  {
   "cell_type": "markdown",
   "id": "34d45092-e2f8-4f25-9631-db59b57d76c5",
   "metadata": {},
   "source": [
    "### Create structure set for each of the ROIs to be compared\n",
    "\n",
    "The right parotid has been outlined twice - once with label `Rt Parotid`, and once with label `Rt Parotid - PTV`.  The following code create two new structure sets, each containing one version of the right parotid, renamed as \"parotid_right\".  Having the same ROI label in both structure sets makes it easy to perform the comparison."
   ]
  },
  {
   "cell_type": "code",
   "execution_count": null,
   "id": "271f1d97-c119-49c1-8bab-f719e8280cbe",
   "metadata": {},
   "outputs": [],
   "source": [
    "# Syntax 1: create the new structure set, then create a copy of this with ROI renamed.\n",
    "ss1 = StructureSet(ss[\"Rt Parotid\"].clone()).filtered_copy(\n",
    "    names={'parotid_right' : 'Rt Parotid'}, keep_renamed_only=True);\n",
    "\n",
    "# Syntax 2: create the new structure set, then rename the ROI in place.\n",
    "ss2 = StructureSet(ss[\"Rt Parotid - PTV\"].clone());\n",
    "ss2.rename_rois(names={'parotid_right' : 'Rt Parotid - PTV'}, keep_renamed_only=True);"
   ]
  },
  {
   "cell_type": "markdown",
   "id": "e05b0470-e347-43c5-9d09-71b03d3d43f3",
   "metadata": {},
   "source": [
    "### Perform the comparison"
   ]
  },
  {
   "cell_type": "code",
   "execution_count": null,
   "id": "28be9d19-ff81-4b33-844a-ac16730e7277",
   "metadata": {},
   "outputs": [],
   "source": [
    "# Show comparison, fixing the colours of the outlines,\n",
    "# and selecting the comparison metrics to be evaluated.\n",
    "ct_image.view(rois=[ss1, ss2], title='', init_roi='parotid_right', roi_plot_type='filled',\n",
    "              roi_colors={'parotid_right 1' : 'red', 'parotid_right 2' : 'blue'},\n",
    "              show_compared_rois_only=True, legend=True,\n",
    "              compare_rois=['dice', 'jaccard', 'mean_surface_distance', 'centroid'], zoom=3);"
   ]
  },
  {
   "cell_type": "code",
   "execution_count": null,
   "id": "24c01230-4d4f-4482-b755-560ecf004d76",
   "metadata": {},
   "outputs": [],
   "source": []
  }
 ],
 "metadata": {
  "kernelspec": {
   "display_name": "Python 3 (ipykernel)",
   "language": "python",
   "name": "python3"
  },
  "language_info": {
   "codemirror_mode": {
    "name": "ipython",
    "version": 3
   },
   "file_extension": ".py",
   "mimetype": "text/x-python",
   "name": "python",
   "nbconvert_exporter": "python",
   "pygments_lexer": "ipython3",
   "version": "3.8.13"
  }
 },
 "nbformat": 4,
 "nbformat_minor": 5
}
